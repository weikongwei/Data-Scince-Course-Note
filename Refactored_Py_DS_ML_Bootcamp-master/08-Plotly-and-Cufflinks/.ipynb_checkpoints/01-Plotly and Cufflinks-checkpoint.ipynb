{
 "cells": [
  {
   "cell_type": "markdown",
   "metadata": {},
   "source": [
    "___\n",
    "\n",
    "<a href='http://www.pieriandata.com'> <img src='../Pierian_Data_Logo.png' /></a>\n",
    "___\n",
    "# Plotly and Cufflinks"
   ]
  },
  {
   "cell_type": "markdown",
   "metadata": {},
   "source": [
    "Plotly is a library that allows you to create interactive plots that you can use in dashboards or websites (you can save them as html files or static images).\n",
    "\n",
    "## Installation\n",
    "\n",
    "In order for this all to work, you'll need to install plotly and cufflinks to call plots directly off of a pandas dataframe. These libraries are not currently available through **conda** but are available through **pip**. Install the libraries at your command line/terminal using:\n",
    "\n",
    "    pip install plotly\n",
    "    pip install cufflinks\n",
    "\n",
    "** NOTE: Make sure you only have one installation of Python on your computer when you do this, otherwise the installation may not work. **\n",
    "\n",
    "## Imports and Set-up"
   ]
  },
  {
   "cell_type": "code",
   "execution_count": 1,
   "metadata": {},
   "outputs": [],
   "source": [
    "import pandas as pd\n",
    "import numpy as np\n",
    "import chart_studio.plotly as py\n",
    "%matplotlib inline"
   ]
  },
  {
   "cell_type": "code",
   "execution_count": 2,
   "metadata": {
    "jupyter": {
     "outputs_hidden": false
    }
   },
   "outputs": [
    {
     "name": "stdout",
     "output_type": "stream",
     "text": [
      "4.8.2\n"
     ]
    }
   ],
   "source": [
    "from plotly import __version__\n",
    "from plotly.offline import download_plotlyjs, init_notebook_mode, plot, iplot\n",
    "\n",
    "print(__version__) # requires version >= 1.9.0"
   ]
  },
  {
   "cell_type": "code",
   "execution_count": 3,
   "metadata": {},
   "outputs": [],
   "source": [
    "import cufflinks as cf"
   ]
  },
  {
   "cell_type": "code",
   "execution_count": 4,
   "metadata": {
    "jupyter": {
     "outputs_hidden": false
    }
   },
   "outputs": [
    {
     "data": {
      "text/html": [
       "        <script type=\"text/javascript\">\n",
       "        window.PlotlyConfig = {MathJaxConfig: 'local'};\n",
       "        if (window.MathJax) {MathJax.Hub.Config({SVG: {font: \"STIX-Web\"}});}\n",
       "        if (typeof require !== 'undefined') {\n",
       "        require.undef(\"plotly\");\n",
       "        requirejs.config({\n",
       "            paths: {\n",
       "                'plotly': ['https://cdn.plot.ly/plotly-latest.min']\n",
       "            }\n",
       "        });\n",
       "        require(['plotly'], function(Plotly) {\n",
       "            window._Plotly = Plotly;\n",
       "        });\n",
       "        }\n",
       "        </script>\n",
       "        "
      ]
     },
     "metadata": {},
     "output_type": "display_data"
    }
   ],
   "source": [
    "# For Notebooks\n",
    "init_notebook_mode(connected=True)"
   ]
  },
  {
   "cell_type": "code",
   "execution_count": 5,
   "metadata": {
    "jupyter": {
     "outputs_hidden": false
    }
   },
   "outputs": [
    {
     "data": {
      "text/html": [
       "        <script type=\"text/javascript\">\n",
       "        window.PlotlyConfig = {MathJaxConfig: 'local'};\n",
       "        if (window.MathJax) {MathJax.Hub.Config({SVG: {font: \"STIX-Web\"}});}\n",
       "        if (typeof require !== 'undefined') {\n",
       "        require.undef(\"plotly\");\n",
       "        requirejs.config({\n",
       "            paths: {\n",
       "                'plotly': ['https://cdn.plot.ly/plotly-latest.min']\n",
       "            }\n",
       "        });\n",
       "        require(['plotly'], function(Plotly) {\n",
       "            window._Plotly = Plotly;\n",
       "        });\n",
       "        }\n",
       "        </script>\n",
       "        "
      ]
     },
     "metadata": {},
     "output_type": "display_data"
    }
   ],
   "source": [
    "# For offline use\n",
    "cf.go_offline()"
   ]
  },
  {
   "cell_type": "markdown",
   "metadata": {},
   "source": [
    "### Fake Data"
   ]
  },
  {
   "cell_type": "code",
   "execution_count": 6,
   "metadata": {
    "jupyter": {
     "outputs_hidden": false
    }
   },
   "outputs": [],
   "source": [
    "df = pd.DataFrame(np.random.randn(100,4),columns='A B C D'.split())"
   ]
  },
  {
   "cell_type": "code",
   "execution_count": 7,
   "metadata": {
    "jupyter": {
     "outputs_hidden": false
    }
   },
   "outputs": [
    {
     "data": {
      "text/html": [
       "<div>\n",
       "<style scoped>\n",
       "    .dataframe tbody tr th:only-of-type {\n",
       "        vertical-align: middle;\n",
       "    }\n",
       "\n",
       "    .dataframe tbody tr th {\n",
       "        vertical-align: top;\n",
       "    }\n",
       "\n",
       "    .dataframe thead th {\n",
       "        text-align: right;\n",
       "    }\n",
       "</style>\n",
       "<table border=\"1\" class=\"dataframe\">\n",
       "  <thead>\n",
       "    <tr style=\"text-align: right;\">\n",
       "      <th></th>\n",
       "      <th>A</th>\n",
       "      <th>B</th>\n",
       "      <th>C</th>\n",
       "      <th>D</th>\n",
       "    </tr>\n",
       "  </thead>\n",
       "  <tbody>\n",
       "    <tr>\n",
       "      <th>0</th>\n",
       "      <td>0.418008</td>\n",
       "      <td>-0.388514</td>\n",
       "      <td>-1.554897</td>\n",
       "      <td>1.903587</td>\n",
       "    </tr>\n",
       "    <tr>\n",
       "      <th>1</th>\n",
       "      <td>-0.312880</td>\n",
       "      <td>1.455509</td>\n",
       "      <td>0.160760</td>\n",
       "      <td>0.942477</td>\n",
       "    </tr>\n",
       "    <tr>\n",
       "      <th>2</th>\n",
       "      <td>-1.281804</td>\n",
       "      <td>-0.492504</td>\n",
       "      <td>0.383652</td>\n",
       "      <td>0.717758</td>\n",
       "    </tr>\n",
       "    <tr>\n",
       "      <th>3</th>\n",
       "      <td>-1.349956</td>\n",
       "      <td>0.512707</td>\n",
       "      <td>0.569019</td>\n",
       "      <td>0.020443</td>\n",
       "    </tr>\n",
       "    <tr>\n",
       "      <th>4</th>\n",
       "      <td>0.303928</td>\n",
       "      <td>0.040542</td>\n",
       "      <td>-0.323880</td>\n",
       "      <td>-1.127982</td>\n",
       "    </tr>\n",
       "  </tbody>\n",
       "</table>\n",
       "</div>"
      ],
      "text/plain": [
       "          A         B         C         D\n",
       "0  0.418008 -0.388514 -1.554897  1.903587\n",
       "1 -0.312880  1.455509  0.160760  0.942477\n",
       "2 -1.281804 -0.492504  0.383652  0.717758\n",
       "3 -1.349956  0.512707  0.569019  0.020443\n",
       "4  0.303928  0.040542 -0.323880 -1.127982"
      ]
     },
     "execution_count": 7,
     "metadata": {},
     "output_type": "execute_result"
    }
   ],
   "source": [
    "df.head()"
   ]
  },
  {
   "cell_type": "code",
   "execution_count": 8,
   "metadata": {},
   "outputs": [],
   "source": [
    "df2 = pd.DataFrame({'Category':['A','B','C'],'Values':[32,43,50]})"
   ]
  },
  {
   "cell_type": "code",
   "execution_count": 9,
   "metadata": {
    "jupyter": {
     "outputs_hidden": false
    }
   },
   "outputs": [
    {
     "data": {
      "text/html": [
       "<div>\n",
       "<style scoped>\n",
       "    .dataframe tbody tr th:only-of-type {\n",
       "        vertical-align: middle;\n",
       "    }\n",
       "\n",
       "    .dataframe tbody tr th {\n",
       "        vertical-align: top;\n",
       "    }\n",
       "\n",
       "    .dataframe thead th {\n",
       "        text-align: right;\n",
       "    }\n",
       "</style>\n",
       "<table border=\"1\" class=\"dataframe\">\n",
       "  <thead>\n",
       "    <tr style=\"text-align: right;\">\n",
       "      <th></th>\n",
       "      <th>Category</th>\n",
       "      <th>Values</th>\n",
       "    </tr>\n",
       "  </thead>\n",
       "  <tbody>\n",
       "    <tr>\n",
       "      <th>0</th>\n",
       "      <td>A</td>\n",
       "      <td>32</td>\n",
       "    </tr>\n",
       "    <tr>\n",
       "      <th>1</th>\n",
       "      <td>B</td>\n",
       "      <td>43</td>\n",
       "    </tr>\n",
       "    <tr>\n",
       "      <th>2</th>\n",
       "      <td>C</td>\n",
       "      <td>50</td>\n",
       "    </tr>\n",
       "  </tbody>\n",
       "</table>\n",
       "</div>"
      ],
      "text/plain": [
       "  Category  Values\n",
       "0        A      32\n",
       "1        B      43\n",
       "2        C      50"
      ]
     },
     "execution_count": 9,
     "metadata": {},
     "output_type": "execute_result"
    }
   ],
   "source": [
    "df2.head()"
   ]
  },
  {
   "cell_type": "markdown",
   "metadata": {},
   "source": [
    "## Using Cufflinks and iplot()\n",
    "\n",
    "* scatter\n",
    "* bar\n",
    "* box\n",
    "* spread\n",
    "* ratio\n",
    "* heatmap\n",
    "* surface\n",
    "* histogram\n",
    "* bubble"
   ]
  },
  {
   "cell_type": "markdown",
   "metadata": {},
   "source": [
    "## Scatter"
   ]
  },
  {
   "cell_type": "code",
   "execution_count": 10,
   "metadata": {
    "jupyter": {
     "outputs_hidden": false
    }
   },
   "outputs": [
    {
     "data": {
      "application/vnd.plotly.v1+json": {
       "config": {
        "linkText": "Export to plot.ly",
        "plotlyServerURL": "https://plot.ly",
        "showLink": true
       },
       "data": [
        {
         "line": {
          "color": "rgba(255, 153, 51, 1.0)",
          "dash": "solid",
          "shape": "linear",
          "width": 1.3
         },
         "marker": {
          "size": 10,
          "symbol": "circle"
         },
         "mode": "markers",
         "name": "B",
         "text": "",
         "type": "scatter",
         "x": [
          0.4180077677129555,
          -0.3128801845689577,
          -1.2818040073783439,
          -1.3499561265835542,
          0.3039279478452639,
          1.1863847742158518,
          1.0835583705349823,
          -0.7651009824722295,
          -0.004639367372395647,
          -1.2901800153095841,
          0.34194454457201795,
          0.2430265819302035,
          -1.239200746086747,
          0.6609179033616308,
          1.2215743606359457,
          0.22851490960072843,
          -0.14310895717634575,
          -0.7341660565469577,
          0.36739376263270695,
          -1.2263587978946202,
          1.1341530384801826,
          0.28922077570122323,
          1.4320291443559363,
          -0.029762809912246137,
          0.38843416039229095,
          -1.1576502517879128,
          1.247029680606232,
          -0.753455193611879,
          0.8454105594040022,
          -0.48863872395864744,
          2.0528279595553722,
          1.4216295566716677,
          0.3090330341207762,
          0.6300780183123109,
          0.10737093513874785,
          0.905973922917701,
          -0.2632028533845714,
          0.9603295207643638,
          1.71454912190604,
          0.30076145540589266,
          -1.158240647754955,
          -1.555770932461019,
          -0.5496394055924582,
          -0.3098464315731358,
          -0.9269172822170287,
          1.4110184848076361,
          1.0265506719696467,
          0.47315227690793843,
          2.673361746975534,
          -0.6268429927337782,
          0.7952441983109597,
          0.24673373697834614,
          0.11800304997405606,
          -0.2717307656980959,
          -1.2949623636338092,
          0.46002536031715685,
          -0.8360662796616206,
          -0.020453141860388522,
          0.09672518557631296,
          -0.25749844264543464,
          -0.19748331705545816,
          -1.67256744411012,
          0.16457940230626322,
          -0.6981315249889456,
          0.986887605344953,
          -1.0208677299390276,
          1.5248546268228698,
          -0.05730817773951274,
          -0.2809594183508312,
          0.2800640292767441,
          -0.510505088700282,
          -0.22022306767997035,
          2.561078078500293,
          0.32638871800881,
          0.4211229347119489,
          0.4209516549400868,
          -0.41142404589273535,
          -1.2027248824404886,
          -1.0516948271493292,
          -1.0425706408560913,
          0.8509036913952475,
          -0.5922630060724732,
          -0.17067372704042816,
          0.3863237902458271,
          -0.3888948052253109,
          1.4957478135781743,
          0.5039314677195023,
          -0.5050249482312905,
          -0.586667783064311,
          -0.33795302496972407,
          -0.5985714633089745,
          0.3291703972093818,
          1.3898555468856857,
          0.24688535145149937,
          -1.5197463024947038,
          -1.1415198737866825,
          0.6905109009733212,
          -0.6834054293578632,
          1.588126304796323,
          -0.5368967243521588
         ],
         "y": [
          -0.38851389542406467,
          1.4555094701878195,
          -0.49250437347962495,
          0.5127069535232905,
          0.040541718463032075,
          0.16373327279668246,
          0.17257081418050907,
          0.30546492891383126,
          0.46958784039958695,
          -0.22966083824062747,
          -2.526885600303071,
          -0.4847405925891708,
          0.45377893892101284,
          -0.8368013602100006,
          0.42772046313745377,
          -1.738150320282506,
          -0.8297097197366343,
          0.30096605858103315,
          -0.17828234826613287,
          -0.6104656125377197,
          -0.057847804501502786,
          0.8075905382876867,
          -1.0556132374879243,
          -0.9976931987763373,
          2.588386126266256,
          -0.7780244315000312,
          -0.4390279271257135,
          -0.3323260365131081,
          -0.5029687669751323,
          0.9876315856388016,
          -0.8811506763207766,
          1.1919465596099408,
          -1.3971373000747602,
          -1.3167293924560757,
          0.08151482303535279,
          -2.396012948031223,
          -1.5454554866390564,
          0.715911814485308,
          0.11306587784706669,
          0.6871377228556313,
          0.1678675167159434,
          0.35767472857090465,
          1.6343324317472023,
          0.7408556906103368,
          0.5546661006435808,
          1.1705085664132198,
          -0.1950920426807639,
          0.8072746249080459,
          0.7191339935489122,
          0.2627823994645575,
          0.2716123406664341,
          0.06509604265191297,
          0.24775972951110936,
          -0.031764637242011964,
          0.7222793010970351,
          -1.0430619181025411,
          -0.6124268425291312,
          -0.9574044874482729,
          -0.8282953516308782,
          -0.15415791161250897,
          0.07323383909711624,
          2.0322204253233855,
          -2.709345784372258,
          0.6746943139917259,
          1.6003465621504065,
          -0.5546245562644994,
          0.2361100996334074,
          0.5135461009704804,
          0.6040598602576654,
          1.1972841291220075,
          0.5364947168111209,
          0.051253270889895015,
          1.3340314363537538,
          -1.499837262081371,
          1.4553991652504519,
          1.847950398899375,
          0.1504194495906708,
          -1.590313598465302,
          0.21520617758582,
          1.02603310475097,
          0.6716755400605747,
          1.2976699163750265,
          -1.3903035976441018,
          -1.5532971064033823,
          -0.19222439095544397,
          -0.8894040710742132,
          2.232239911471498,
          -0.2188573687720621,
          -0.8279744043641107,
          -0.6654106718715332,
          -0.5045060182494511,
          -0.11565646918786261,
          -0.6563025933303193,
          -0.7169847878554301,
          -0.33206575350661677,
          -0.45730465975917006,
          -1.4019649160542775,
          0.307032042787555,
          1.2999536161020562,
          0.6743916762583729
         ]
        }
       ],
       "layout": {
        "legend": {
         "bgcolor": "#F5F6F9",
         "font": {
          "color": "#4D5663"
         }
        },
        "paper_bgcolor": "#F5F6F9",
        "plot_bgcolor": "#F5F6F9",
        "template": {
         "data": {
          "bar": [
           {
            "error_x": {
             "color": "#2a3f5f"
            },
            "error_y": {
             "color": "#2a3f5f"
            },
            "marker": {
             "line": {
              "color": "#E5ECF6",
              "width": 0.5
             }
            },
            "type": "bar"
           }
          ],
          "barpolar": [
           {
            "marker": {
             "line": {
              "color": "#E5ECF6",
              "width": 0.5
             }
            },
            "type": "barpolar"
           }
          ],
          "carpet": [
           {
            "aaxis": {
             "endlinecolor": "#2a3f5f",
             "gridcolor": "white",
             "linecolor": "white",
             "minorgridcolor": "white",
             "startlinecolor": "#2a3f5f"
            },
            "baxis": {
             "endlinecolor": "#2a3f5f",
             "gridcolor": "white",
             "linecolor": "white",
             "minorgridcolor": "white",
             "startlinecolor": "#2a3f5f"
            },
            "type": "carpet"
           }
          ],
          "choropleth": [
           {
            "colorbar": {
             "outlinewidth": 0,
             "ticks": ""
            },
            "type": "choropleth"
           }
          ],
          "contour": [
           {
            "colorbar": {
             "outlinewidth": 0,
             "ticks": ""
            },
            "colorscale": [
             [
              0,
              "#0d0887"
             ],
             [
              0.1111111111111111,
              "#46039f"
             ],
             [
              0.2222222222222222,
              "#7201a8"
             ],
             [
              0.3333333333333333,
              "#9c179e"
             ],
             [
              0.4444444444444444,
              "#bd3786"
             ],
             [
              0.5555555555555556,
              "#d8576b"
             ],
             [
              0.6666666666666666,
              "#ed7953"
             ],
             [
              0.7777777777777778,
              "#fb9f3a"
             ],
             [
              0.8888888888888888,
              "#fdca26"
             ],
             [
              1,
              "#f0f921"
             ]
            ],
            "type": "contour"
           }
          ],
          "contourcarpet": [
           {
            "colorbar": {
             "outlinewidth": 0,
             "ticks": ""
            },
            "type": "contourcarpet"
           }
          ],
          "heatmap": [
           {
            "colorbar": {
             "outlinewidth": 0,
             "ticks": ""
            },
            "colorscale": [
             [
              0,
              "#0d0887"
             ],
             [
              0.1111111111111111,
              "#46039f"
             ],
             [
              0.2222222222222222,
              "#7201a8"
             ],
             [
              0.3333333333333333,
              "#9c179e"
             ],
             [
              0.4444444444444444,
              "#bd3786"
             ],
             [
              0.5555555555555556,
              "#d8576b"
             ],
             [
              0.6666666666666666,
              "#ed7953"
             ],
             [
              0.7777777777777778,
              "#fb9f3a"
             ],
             [
              0.8888888888888888,
              "#fdca26"
             ],
             [
              1,
              "#f0f921"
             ]
            ],
            "type": "heatmap"
           }
          ],
          "heatmapgl": [
           {
            "colorbar": {
             "outlinewidth": 0,
             "ticks": ""
            },
            "colorscale": [
             [
              0,
              "#0d0887"
             ],
             [
              0.1111111111111111,
              "#46039f"
             ],
             [
              0.2222222222222222,
              "#7201a8"
             ],
             [
              0.3333333333333333,
              "#9c179e"
             ],
             [
              0.4444444444444444,
              "#bd3786"
             ],
             [
              0.5555555555555556,
              "#d8576b"
             ],
             [
              0.6666666666666666,
              "#ed7953"
             ],
             [
              0.7777777777777778,
              "#fb9f3a"
             ],
             [
              0.8888888888888888,
              "#fdca26"
             ],
             [
              1,
              "#f0f921"
             ]
            ],
            "type": "heatmapgl"
           }
          ],
          "histogram": [
           {
            "marker": {
             "colorbar": {
              "outlinewidth": 0,
              "ticks": ""
             }
            },
            "type": "histogram"
           }
          ],
          "histogram2d": [
           {
            "colorbar": {
             "outlinewidth": 0,
             "ticks": ""
            },
            "colorscale": [
             [
              0,
              "#0d0887"
             ],
             [
              0.1111111111111111,
              "#46039f"
             ],
             [
              0.2222222222222222,
              "#7201a8"
             ],
             [
              0.3333333333333333,
              "#9c179e"
             ],
             [
              0.4444444444444444,
              "#bd3786"
             ],
             [
              0.5555555555555556,
              "#d8576b"
             ],
             [
              0.6666666666666666,
              "#ed7953"
             ],
             [
              0.7777777777777778,
              "#fb9f3a"
             ],
             [
              0.8888888888888888,
              "#fdca26"
             ],
             [
              1,
              "#f0f921"
             ]
            ],
            "type": "histogram2d"
           }
          ],
          "histogram2dcontour": [
           {
            "colorbar": {
             "outlinewidth": 0,
             "ticks": ""
            },
            "colorscale": [
             [
              0,
              "#0d0887"
             ],
             [
              0.1111111111111111,
              "#46039f"
             ],
             [
              0.2222222222222222,
              "#7201a8"
             ],
             [
              0.3333333333333333,
              "#9c179e"
             ],
             [
              0.4444444444444444,
              "#bd3786"
             ],
             [
              0.5555555555555556,
              "#d8576b"
             ],
             [
              0.6666666666666666,
              "#ed7953"
             ],
             [
              0.7777777777777778,
              "#fb9f3a"
             ],
             [
              0.8888888888888888,
              "#fdca26"
             ],
             [
              1,
              "#f0f921"
             ]
            ],
            "type": "histogram2dcontour"
           }
          ],
          "mesh3d": [
           {
            "colorbar": {
             "outlinewidth": 0,
             "ticks": ""
            },
            "type": "mesh3d"
           }
          ],
          "parcoords": [
           {
            "line": {
             "colorbar": {
              "outlinewidth": 0,
              "ticks": ""
             }
            },
            "type": "parcoords"
           }
          ],
          "pie": [
           {
            "automargin": true,
            "type": "pie"
           }
          ],
          "scatter": [
           {
            "marker": {
             "colorbar": {
              "outlinewidth": 0,
              "ticks": ""
             }
            },
            "type": "scatter"
           }
          ],
          "scatter3d": [
           {
            "line": {
             "colorbar": {
              "outlinewidth": 0,
              "ticks": ""
             }
            },
            "marker": {
             "colorbar": {
              "outlinewidth": 0,
              "ticks": ""
             }
            },
            "type": "scatter3d"
           }
          ],
          "scattercarpet": [
           {
            "marker": {
             "colorbar": {
              "outlinewidth": 0,
              "ticks": ""
             }
            },
            "type": "scattercarpet"
           }
          ],
          "scattergeo": [
           {
            "marker": {
             "colorbar": {
              "outlinewidth": 0,
              "ticks": ""
             }
            },
            "type": "scattergeo"
           }
          ],
          "scattergl": [
           {
            "marker": {
             "colorbar": {
              "outlinewidth": 0,
              "ticks": ""
             }
            },
            "type": "scattergl"
           }
          ],
          "scattermapbox": [
           {
            "marker": {
             "colorbar": {
              "outlinewidth": 0,
              "ticks": ""
             }
            },
            "type": "scattermapbox"
           }
          ],
          "scatterpolar": [
           {
            "marker": {
             "colorbar": {
              "outlinewidth": 0,
              "ticks": ""
             }
            },
            "type": "scatterpolar"
           }
          ],
          "scatterpolargl": [
           {
            "marker": {
             "colorbar": {
              "outlinewidth": 0,
              "ticks": ""
             }
            },
            "type": "scatterpolargl"
           }
          ],
          "scatterternary": [
           {
            "marker": {
             "colorbar": {
              "outlinewidth": 0,
              "ticks": ""
             }
            },
            "type": "scatterternary"
           }
          ],
          "surface": [
           {
            "colorbar": {
             "outlinewidth": 0,
             "ticks": ""
            },
            "colorscale": [
             [
              0,
              "#0d0887"
             ],
             [
              0.1111111111111111,
              "#46039f"
             ],
             [
              0.2222222222222222,
              "#7201a8"
             ],
             [
              0.3333333333333333,
              "#9c179e"
             ],
             [
              0.4444444444444444,
              "#bd3786"
             ],
             [
              0.5555555555555556,
              "#d8576b"
             ],
             [
              0.6666666666666666,
              "#ed7953"
             ],
             [
              0.7777777777777778,
              "#fb9f3a"
             ],
             [
              0.8888888888888888,
              "#fdca26"
             ],
             [
              1,
              "#f0f921"
             ]
            ],
            "type": "surface"
           }
          ],
          "table": [
           {
            "cells": {
             "fill": {
              "color": "#EBF0F8"
             },
             "line": {
              "color": "white"
             }
            },
            "header": {
             "fill": {
              "color": "#C8D4E3"
             },
             "line": {
              "color": "white"
             }
            },
            "type": "table"
           }
          ]
         },
         "layout": {
          "annotationdefaults": {
           "arrowcolor": "#2a3f5f",
           "arrowhead": 0,
           "arrowwidth": 1
          },
          "coloraxis": {
           "colorbar": {
            "outlinewidth": 0,
            "ticks": ""
           }
          },
          "colorscale": {
           "diverging": [
            [
             0,
             "#8e0152"
            ],
            [
             0.1,
             "#c51b7d"
            ],
            [
             0.2,
             "#de77ae"
            ],
            [
             0.3,
             "#f1b6da"
            ],
            [
             0.4,
             "#fde0ef"
            ],
            [
             0.5,
             "#f7f7f7"
            ],
            [
             0.6,
             "#e6f5d0"
            ],
            [
             0.7,
             "#b8e186"
            ],
            [
             0.8,
             "#7fbc41"
            ],
            [
             0.9,
             "#4d9221"
            ],
            [
             1,
             "#276419"
            ]
           ],
           "sequential": [
            [
             0,
             "#0d0887"
            ],
            [
             0.1111111111111111,
             "#46039f"
            ],
            [
             0.2222222222222222,
             "#7201a8"
            ],
            [
             0.3333333333333333,
             "#9c179e"
            ],
            [
             0.4444444444444444,
             "#bd3786"
            ],
            [
             0.5555555555555556,
             "#d8576b"
            ],
            [
             0.6666666666666666,
             "#ed7953"
            ],
            [
             0.7777777777777778,
             "#fb9f3a"
            ],
            [
             0.8888888888888888,
             "#fdca26"
            ],
            [
             1,
             "#f0f921"
            ]
           ],
           "sequentialminus": [
            [
             0,
             "#0d0887"
            ],
            [
             0.1111111111111111,
             "#46039f"
            ],
            [
             0.2222222222222222,
             "#7201a8"
            ],
            [
             0.3333333333333333,
             "#9c179e"
            ],
            [
             0.4444444444444444,
             "#bd3786"
            ],
            [
             0.5555555555555556,
             "#d8576b"
            ],
            [
             0.6666666666666666,
             "#ed7953"
            ],
            [
             0.7777777777777778,
             "#fb9f3a"
            ],
            [
             0.8888888888888888,
             "#fdca26"
            ],
            [
             1,
             "#f0f921"
            ]
           ]
          },
          "colorway": [
           "#636efa",
           "#EF553B",
           "#00cc96",
           "#ab63fa",
           "#FFA15A",
           "#19d3f3",
           "#FF6692",
           "#B6E880",
           "#FF97FF",
           "#FECB52"
          ],
          "font": {
           "color": "#2a3f5f"
          },
          "geo": {
           "bgcolor": "white",
           "lakecolor": "white",
           "landcolor": "#E5ECF6",
           "showlakes": true,
           "showland": true,
           "subunitcolor": "white"
          },
          "hoverlabel": {
           "align": "left"
          },
          "hovermode": "closest",
          "mapbox": {
           "style": "light"
          },
          "paper_bgcolor": "white",
          "plot_bgcolor": "#E5ECF6",
          "polar": {
           "angularaxis": {
            "gridcolor": "white",
            "linecolor": "white",
            "ticks": ""
           },
           "bgcolor": "#E5ECF6",
           "radialaxis": {
            "gridcolor": "white",
            "linecolor": "white",
            "ticks": ""
           }
          },
          "scene": {
           "xaxis": {
            "backgroundcolor": "#E5ECF6",
            "gridcolor": "white",
            "gridwidth": 2,
            "linecolor": "white",
            "showbackground": true,
            "ticks": "",
            "zerolinecolor": "white"
           },
           "yaxis": {
            "backgroundcolor": "#E5ECF6",
            "gridcolor": "white",
            "gridwidth": 2,
            "linecolor": "white",
            "showbackground": true,
            "ticks": "",
            "zerolinecolor": "white"
           },
           "zaxis": {
            "backgroundcolor": "#E5ECF6",
            "gridcolor": "white",
            "gridwidth": 2,
            "linecolor": "white",
            "showbackground": true,
            "ticks": "",
            "zerolinecolor": "white"
           }
          },
          "shapedefaults": {
           "line": {
            "color": "#2a3f5f"
           }
          },
          "ternary": {
           "aaxis": {
            "gridcolor": "white",
            "linecolor": "white",
            "ticks": ""
           },
           "baxis": {
            "gridcolor": "white",
            "linecolor": "white",
            "ticks": ""
           },
           "bgcolor": "#E5ECF6",
           "caxis": {
            "gridcolor": "white",
            "linecolor": "white",
            "ticks": ""
           }
          },
          "title": {
           "x": 0.05
          },
          "xaxis": {
           "automargin": true,
           "gridcolor": "white",
           "linecolor": "white",
           "ticks": "",
           "title": {
            "standoff": 15
           },
           "zerolinecolor": "white",
           "zerolinewidth": 2
          },
          "yaxis": {
           "automargin": true,
           "gridcolor": "white",
           "linecolor": "white",
           "ticks": "",
           "title": {
            "standoff": 15
           },
           "zerolinecolor": "white",
           "zerolinewidth": 2
          }
         }
        },
        "title": {
         "font": {
          "color": "#4D5663"
         }
        },
        "xaxis": {
         "gridcolor": "#E1E5ED",
         "showgrid": true,
         "tickfont": {
          "color": "#4D5663"
         },
         "title": {
          "font": {
           "color": "#4D5663"
          },
          "text": ""
         },
         "zerolinecolor": "#E1E5ED"
        },
        "yaxis": {
         "gridcolor": "#E1E5ED",
         "showgrid": true,
         "tickfont": {
          "color": "#4D5663"
         },
         "title": {
          "font": {
           "color": "#4D5663"
          },
          "text": ""
         },
         "zerolinecolor": "#E1E5ED"
        }
       }
      },
      "text/html": [
       "<div>\n",
       "        \n",
       "        \n",
       "            <div id=\"216675c1-df5e-45a4-a3d7-6b5688d4e157\" class=\"plotly-graph-div\" style=\"height:525px; width:100%;\"></div>\n",
       "            <script type=\"text/javascript\">\n",
       "                require([\"plotly\"], function(Plotly) {\n",
       "                    window.PLOTLYENV=window.PLOTLYENV || {};\n",
       "                    window.PLOTLYENV.BASE_URL='https://plot.ly';\n",
       "                    \n",
       "                if (document.getElementById(\"216675c1-df5e-45a4-a3d7-6b5688d4e157\")) {\n",
       "                    Plotly.newPlot(\n",
       "                        '216675c1-df5e-45a4-a3d7-6b5688d4e157',\n",
       "                        [{\"line\": {\"color\": \"rgba(255, 153, 51, 1.0)\", \"dash\": \"solid\", \"shape\": \"linear\", \"width\": 1.3}, \"marker\": {\"size\": 10, \"symbol\": \"circle\"}, \"mode\": \"markers\", \"name\": \"B\", \"text\": \"\", \"type\": \"scatter\", \"x\": [0.4180077677129555, -0.3128801845689577, -1.2818040073783439, -1.3499561265835542, 0.3039279478452639, 1.1863847742158518, 1.0835583705349823, -0.7651009824722295, -0.004639367372395647, -1.2901800153095841, 0.34194454457201795, 0.2430265819302035, -1.239200746086747, 0.6609179033616308, 1.2215743606359457, 0.22851490960072843, -0.14310895717634575, -0.7341660565469577, 0.36739376263270695, -1.2263587978946202, 1.1341530384801826, 0.28922077570122323, 1.4320291443559363, -0.029762809912246137, 0.38843416039229095, -1.1576502517879128, 1.247029680606232, -0.753455193611879, 0.8454105594040022, -0.48863872395864744, 2.0528279595553722, 1.4216295566716677, 0.3090330341207762, 0.6300780183123109, 0.10737093513874785, 0.905973922917701, -0.2632028533845714, 0.9603295207643638, 1.71454912190604, 0.30076145540589266, -1.158240647754955, -1.555770932461019, -0.5496394055924582, -0.3098464315731358, -0.9269172822170287, 1.4110184848076361, 1.0265506719696467, 0.47315227690793843, 2.673361746975534, -0.6268429927337782, 0.7952441983109597, 0.24673373697834614, 0.11800304997405606, -0.2717307656980959, -1.2949623636338092, 0.46002536031715685, -0.8360662796616206, -0.020453141860388522, 0.09672518557631296, -0.25749844264543464, -0.19748331705545816, -1.67256744411012, 0.16457940230626322, -0.6981315249889456, 0.986887605344953, -1.0208677299390276, 1.5248546268228698, -0.05730817773951274, -0.2809594183508312, 0.2800640292767441, -0.510505088700282, -0.22022306767997035, 2.561078078500293, 0.32638871800881, 0.4211229347119489, 0.4209516549400868, -0.41142404589273535, -1.2027248824404886, -1.0516948271493292, -1.0425706408560913, 0.8509036913952475, -0.5922630060724732, -0.17067372704042816, 0.3863237902458271, -0.3888948052253109, 1.4957478135781743, 0.5039314677195023, -0.5050249482312905, -0.586667783064311, -0.33795302496972407, -0.5985714633089745, 0.3291703972093818, 1.3898555468856857, 0.24688535145149937, -1.5197463024947038, -1.1415198737866825, 0.6905109009733212, -0.6834054293578632, 1.588126304796323, -0.5368967243521588], \"y\": [-0.38851389542406467, 1.4555094701878195, -0.49250437347962495, 0.5127069535232905, 0.040541718463032075, 0.16373327279668246, 0.17257081418050907, 0.30546492891383126, 0.46958784039958695, -0.22966083824062747, -2.526885600303071, -0.4847405925891708, 0.45377893892101284, -0.8368013602100006, 0.42772046313745377, -1.738150320282506, -0.8297097197366343, 0.30096605858103315, -0.17828234826613287, -0.6104656125377197, -0.057847804501502786, 0.8075905382876867, -1.0556132374879243, -0.9976931987763373, 2.588386126266256, -0.7780244315000312, -0.4390279271257135, -0.3323260365131081, -0.5029687669751323, 0.9876315856388016, -0.8811506763207766, 1.1919465596099408, -1.3971373000747602, -1.3167293924560757, 0.08151482303535279, -2.396012948031223, -1.5454554866390564, 0.715911814485308, 0.11306587784706669, 0.6871377228556313, 0.1678675167159434, 0.35767472857090465, 1.6343324317472023, 0.7408556906103368, 0.5546661006435808, 1.1705085664132198, -0.1950920426807639, 0.8072746249080459, 0.7191339935489122, 0.2627823994645575, 0.2716123406664341, 0.06509604265191297, 0.24775972951110936, -0.031764637242011964, 0.7222793010970351, -1.0430619181025411, -0.6124268425291312, -0.9574044874482729, -0.8282953516308782, -0.15415791161250897, 0.07323383909711624, 2.0322204253233855, -2.709345784372258, 0.6746943139917259, 1.6003465621504065, -0.5546245562644994, 0.2361100996334074, 0.5135461009704804, 0.6040598602576654, 1.1972841291220075, 0.5364947168111209, 0.051253270889895015, 1.3340314363537538, -1.499837262081371, 1.4553991652504519, 1.847950398899375, 0.1504194495906708, -1.590313598465302, 0.21520617758582, 1.02603310475097, 0.6716755400605747, 1.2976699163750265, -1.3903035976441018, -1.5532971064033823, -0.19222439095544397, -0.8894040710742132, 2.232239911471498, -0.2188573687720621, -0.8279744043641107, -0.6654106718715332, -0.5045060182494511, -0.11565646918786261, -0.6563025933303193, -0.7169847878554301, -0.33206575350661677, -0.45730465975917006, -1.4019649160542775, 0.307032042787555, 1.2999536161020562, 0.6743916762583729]}],\n",
       "                        {\"legend\": {\"bgcolor\": \"#F5F6F9\", \"font\": {\"color\": \"#4D5663\"}}, \"paper_bgcolor\": \"#F5F6F9\", \"plot_bgcolor\": \"#F5F6F9\", \"template\": {\"data\": {\"bar\": [{\"error_x\": {\"color\": \"#2a3f5f\"}, \"error_y\": {\"color\": \"#2a3f5f\"}, \"marker\": {\"line\": {\"color\": \"#E5ECF6\", \"width\": 0.5}}, \"type\": \"bar\"}], \"barpolar\": [{\"marker\": {\"line\": {\"color\": \"#E5ECF6\", \"width\": 0.5}}, \"type\": \"barpolar\"}], \"carpet\": [{\"aaxis\": {\"endlinecolor\": \"#2a3f5f\", \"gridcolor\": \"white\", \"linecolor\": \"white\", \"minorgridcolor\": \"white\", \"startlinecolor\": \"#2a3f5f\"}, \"baxis\": {\"endlinecolor\": \"#2a3f5f\", \"gridcolor\": \"white\", \"linecolor\": \"white\", \"minorgridcolor\": \"white\", \"startlinecolor\": \"#2a3f5f\"}, \"type\": \"carpet\"}], \"choropleth\": [{\"colorbar\": {\"outlinewidth\": 0, \"ticks\": \"\"}, \"type\": \"choropleth\"}], \"contour\": [{\"colorbar\": {\"outlinewidth\": 0, \"ticks\": \"\"}, \"colorscale\": [[0.0, \"#0d0887\"], [0.1111111111111111, \"#46039f\"], [0.2222222222222222, \"#7201a8\"], [0.3333333333333333, \"#9c179e\"], [0.4444444444444444, \"#bd3786\"], [0.5555555555555556, \"#d8576b\"], [0.6666666666666666, \"#ed7953\"], [0.7777777777777778, \"#fb9f3a\"], [0.8888888888888888, \"#fdca26\"], [1.0, \"#f0f921\"]], \"type\": \"contour\"}], \"contourcarpet\": [{\"colorbar\": {\"outlinewidth\": 0, \"ticks\": \"\"}, \"type\": \"contourcarpet\"}], \"heatmap\": [{\"colorbar\": {\"outlinewidth\": 0, \"ticks\": \"\"}, \"colorscale\": [[0.0, \"#0d0887\"], [0.1111111111111111, \"#46039f\"], [0.2222222222222222, \"#7201a8\"], [0.3333333333333333, \"#9c179e\"], [0.4444444444444444, \"#bd3786\"], [0.5555555555555556, \"#d8576b\"], [0.6666666666666666, \"#ed7953\"], [0.7777777777777778, \"#fb9f3a\"], [0.8888888888888888, \"#fdca26\"], [1.0, \"#f0f921\"]], \"type\": \"heatmap\"}], \"heatmapgl\": [{\"colorbar\": {\"outlinewidth\": 0, \"ticks\": \"\"}, \"colorscale\": [[0.0, \"#0d0887\"], [0.1111111111111111, \"#46039f\"], [0.2222222222222222, \"#7201a8\"], [0.3333333333333333, \"#9c179e\"], [0.4444444444444444, \"#bd3786\"], [0.5555555555555556, \"#d8576b\"], [0.6666666666666666, \"#ed7953\"], [0.7777777777777778, \"#fb9f3a\"], [0.8888888888888888, \"#fdca26\"], [1.0, \"#f0f921\"]], \"type\": \"heatmapgl\"}], \"histogram\": [{\"marker\": {\"colorbar\": {\"outlinewidth\": 0, \"ticks\": \"\"}}, \"type\": \"histogram\"}], \"histogram2d\": [{\"colorbar\": {\"outlinewidth\": 0, \"ticks\": \"\"}, \"colorscale\": [[0.0, \"#0d0887\"], [0.1111111111111111, \"#46039f\"], [0.2222222222222222, \"#7201a8\"], [0.3333333333333333, \"#9c179e\"], [0.4444444444444444, \"#bd3786\"], [0.5555555555555556, \"#d8576b\"], [0.6666666666666666, \"#ed7953\"], [0.7777777777777778, \"#fb9f3a\"], [0.8888888888888888, \"#fdca26\"], [1.0, \"#f0f921\"]], \"type\": \"histogram2d\"}], \"histogram2dcontour\": [{\"colorbar\": {\"outlinewidth\": 0, \"ticks\": \"\"}, \"colorscale\": [[0.0, \"#0d0887\"], [0.1111111111111111, \"#46039f\"], [0.2222222222222222, \"#7201a8\"], [0.3333333333333333, \"#9c179e\"], [0.4444444444444444, \"#bd3786\"], [0.5555555555555556, \"#d8576b\"], [0.6666666666666666, \"#ed7953\"], [0.7777777777777778, \"#fb9f3a\"], [0.8888888888888888, \"#fdca26\"], [1.0, \"#f0f921\"]], \"type\": \"histogram2dcontour\"}], \"mesh3d\": [{\"colorbar\": {\"outlinewidth\": 0, \"ticks\": \"\"}, \"type\": \"mesh3d\"}], \"parcoords\": [{\"line\": {\"colorbar\": {\"outlinewidth\": 0, \"ticks\": \"\"}}, \"type\": \"parcoords\"}], \"pie\": [{\"automargin\": true, \"type\": \"pie\"}], \"scatter\": [{\"marker\": {\"colorbar\": {\"outlinewidth\": 0, \"ticks\": \"\"}}, \"type\": \"scatter\"}], \"scatter3d\": [{\"line\": {\"colorbar\": {\"outlinewidth\": 0, \"ticks\": \"\"}}, \"marker\": {\"colorbar\": {\"outlinewidth\": 0, \"ticks\": \"\"}}, \"type\": \"scatter3d\"}], \"scattercarpet\": [{\"marker\": {\"colorbar\": {\"outlinewidth\": 0, \"ticks\": \"\"}}, \"type\": \"scattercarpet\"}], \"scattergeo\": [{\"marker\": {\"colorbar\": {\"outlinewidth\": 0, \"ticks\": \"\"}}, \"type\": \"scattergeo\"}], \"scattergl\": [{\"marker\": {\"colorbar\": {\"outlinewidth\": 0, \"ticks\": \"\"}}, \"type\": \"scattergl\"}], \"scattermapbox\": [{\"marker\": {\"colorbar\": {\"outlinewidth\": 0, \"ticks\": \"\"}}, \"type\": \"scattermapbox\"}], \"scatterpolar\": [{\"marker\": {\"colorbar\": {\"outlinewidth\": 0, \"ticks\": \"\"}}, \"type\": \"scatterpolar\"}], \"scatterpolargl\": [{\"marker\": {\"colorbar\": {\"outlinewidth\": 0, \"ticks\": \"\"}}, \"type\": \"scatterpolargl\"}], \"scatterternary\": [{\"marker\": {\"colorbar\": {\"outlinewidth\": 0, \"ticks\": \"\"}}, \"type\": \"scatterternary\"}], \"surface\": [{\"colorbar\": {\"outlinewidth\": 0, \"ticks\": \"\"}, \"colorscale\": [[0.0, \"#0d0887\"], [0.1111111111111111, \"#46039f\"], [0.2222222222222222, \"#7201a8\"], [0.3333333333333333, \"#9c179e\"], [0.4444444444444444, \"#bd3786\"], [0.5555555555555556, \"#d8576b\"], [0.6666666666666666, \"#ed7953\"], [0.7777777777777778, \"#fb9f3a\"], [0.8888888888888888, \"#fdca26\"], [1.0, \"#f0f921\"]], \"type\": \"surface\"}], \"table\": [{\"cells\": {\"fill\": {\"color\": \"#EBF0F8\"}, \"line\": {\"color\": \"white\"}}, \"header\": {\"fill\": {\"color\": \"#C8D4E3\"}, \"line\": {\"color\": \"white\"}}, \"type\": \"table\"}]}, \"layout\": {\"annotationdefaults\": {\"arrowcolor\": \"#2a3f5f\", \"arrowhead\": 0, \"arrowwidth\": 1}, \"coloraxis\": {\"colorbar\": {\"outlinewidth\": 0, \"ticks\": \"\"}}, \"colorscale\": {\"diverging\": [[0, \"#8e0152\"], [0.1, \"#c51b7d\"], [0.2, \"#de77ae\"], [0.3, \"#f1b6da\"], [0.4, \"#fde0ef\"], [0.5, \"#f7f7f7\"], [0.6, \"#e6f5d0\"], [0.7, \"#b8e186\"], [0.8, \"#7fbc41\"], [0.9, \"#4d9221\"], [1, \"#276419\"]], \"sequential\": [[0.0, \"#0d0887\"], [0.1111111111111111, \"#46039f\"], [0.2222222222222222, \"#7201a8\"], [0.3333333333333333, \"#9c179e\"], [0.4444444444444444, \"#bd3786\"], [0.5555555555555556, \"#d8576b\"], [0.6666666666666666, \"#ed7953\"], [0.7777777777777778, \"#fb9f3a\"], [0.8888888888888888, \"#fdca26\"], [1.0, \"#f0f921\"]], \"sequentialminus\": [[0.0, \"#0d0887\"], [0.1111111111111111, \"#46039f\"], [0.2222222222222222, \"#7201a8\"], [0.3333333333333333, \"#9c179e\"], [0.4444444444444444, \"#bd3786\"], [0.5555555555555556, \"#d8576b\"], [0.6666666666666666, \"#ed7953\"], [0.7777777777777778, \"#fb9f3a\"], [0.8888888888888888, \"#fdca26\"], [1.0, \"#f0f921\"]]}, \"colorway\": [\"#636efa\", \"#EF553B\", \"#00cc96\", \"#ab63fa\", \"#FFA15A\", \"#19d3f3\", \"#FF6692\", \"#B6E880\", \"#FF97FF\", \"#FECB52\"], \"font\": {\"color\": \"#2a3f5f\"}, \"geo\": {\"bgcolor\": \"white\", \"lakecolor\": \"white\", \"landcolor\": \"#E5ECF6\", \"showlakes\": true, \"showland\": true, \"subunitcolor\": \"white\"}, \"hoverlabel\": {\"align\": \"left\"}, \"hovermode\": \"closest\", \"mapbox\": {\"style\": \"light\"}, \"paper_bgcolor\": \"white\", \"plot_bgcolor\": \"#E5ECF6\", \"polar\": {\"angularaxis\": {\"gridcolor\": \"white\", \"linecolor\": \"white\", \"ticks\": \"\"}, \"bgcolor\": \"#E5ECF6\", \"radialaxis\": {\"gridcolor\": \"white\", \"linecolor\": \"white\", \"ticks\": \"\"}}, \"scene\": {\"xaxis\": {\"backgroundcolor\": \"#E5ECF6\", \"gridcolor\": \"white\", \"gridwidth\": 2, \"linecolor\": \"white\", \"showbackground\": true, \"ticks\": \"\", \"zerolinecolor\": \"white\"}, \"yaxis\": {\"backgroundcolor\": \"#E5ECF6\", \"gridcolor\": \"white\", \"gridwidth\": 2, \"linecolor\": \"white\", \"showbackground\": true, \"ticks\": \"\", \"zerolinecolor\": \"white\"}, \"zaxis\": {\"backgroundcolor\": \"#E5ECF6\", \"gridcolor\": \"white\", \"gridwidth\": 2, \"linecolor\": \"white\", \"showbackground\": true, \"ticks\": \"\", \"zerolinecolor\": \"white\"}}, \"shapedefaults\": {\"line\": {\"color\": \"#2a3f5f\"}}, \"ternary\": {\"aaxis\": {\"gridcolor\": \"white\", \"linecolor\": \"white\", \"ticks\": \"\"}, \"baxis\": {\"gridcolor\": \"white\", \"linecolor\": \"white\", \"ticks\": \"\"}, \"bgcolor\": \"#E5ECF6\", \"caxis\": {\"gridcolor\": \"white\", \"linecolor\": \"white\", \"ticks\": \"\"}}, \"title\": {\"x\": 0.05}, \"xaxis\": {\"automargin\": true, \"gridcolor\": \"white\", \"linecolor\": \"white\", \"ticks\": \"\", \"title\": {\"standoff\": 15}, \"zerolinecolor\": \"white\", \"zerolinewidth\": 2}, \"yaxis\": {\"automargin\": true, \"gridcolor\": \"white\", \"linecolor\": \"white\", \"ticks\": \"\", \"title\": {\"standoff\": 15}, \"zerolinecolor\": \"white\", \"zerolinewidth\": 2}}}, \"title\": {\"font\": {\"color\": \"#4D5663\"}}, \"xaxis\": {\"gridcolor\": \"#E1E5ED\", \"showgrid\": true, \"tickfont\": {\"color\": \"#4D5663\"}, \"title\": {\"font\": {\"color\": \"#4D5663\"}, \"text\": \"\"}, \"zerolinecolor\": \"#E1E5ED\"}, \"yaxis\": {\"gridcolor\": \"#E1E5ED\", \"showgrid\": true, \"tickfont\": {\"color\": \"#4D5663\"}, \"title\": {\"font\": {\"color\": \"#4D5663\"}, \"text\": \"\"}, \"zerolinecolor\": \"#E1E5ED\"}},\n",
       "                        {\"showLink\": true, \"linkText\": \"Export to plot.ly\", \"plotlyServerURL\": \"https://plot.ly\", \"responsive\": true}\n",
       "                    ).then(function(){\n",
       "                            \n",
       "var gd = document.getElementById('216675c1-df5e-45a4-a3d7-6b5688d4e157');\n",
       "var x = new MutationObserver(function (mutations, observer) {{\n",
       "        var display = window.getComputedStyle(gd).display;\n",
       "        if (!display || display === 'none') {{\n",
       "            console.log([gd, 'removed!']);\n",
       "            Plotly.purge(gd);\n",
       "            observer.disconnect();\n",
       "        }}\n",
       "}});\n",
       "\n",
       "// Listen for the removal of the full notebook cells\n",
       "var notebookContainer = gd.closest('#notebook-container');\n",
       "if (notebookContainer) {{\n",
       "    x.observe(notebookContainer, {childList: true});\n",
       "}}\n",
       "\n",
       "// Listen for the clearing of the current output cell\n",
       "var outputEl = gd.closest('.output');\n",
       "if (outputEl) {{\n",
       "    x.observe(outputEl, {childList: true});\n",
       "}}\n",
       "\n",
       "                        })\n",
       "                };\n",
       "                });\n",
       "            </script>\n",
       "        </div>"
      ]
     },
     "metadata": {},
     "output_type": "display_data"
    }
   ],
   "source": [
    "df.iplot(kind='scatter',x='A',y='B',mode='markers',size=10)"
   ]
  },
  {
   "cell_type": "markdown",
   "metadata": {},
   "source": [
    "## Bar Plots"
   ]
  },
  {
   "cell_type": "code",
   "execution_count": 11,
   "metadata": {
    "jupyter": {
     "outputs_hidden": false
    }
   },
   "outputs": [
    {
     "data": {
      "application/vnd.plotly.v1+json": {
       "config": {
        "linkText": "Export to plot.ly",
        "plotlyServerURL": "https://plot.ly",
        "showLink": true
       },
       "data": [
        {
         "marker": {
          "color": "rgba(255, 153, 51, 0.6)",
          "line": {
           "color": "rgba(255, 153, 51, 1.0)",
           "width": 1
          }
         },
         "name": "Values",
         "orientation": "v",
         "text": "",
         "type": "bar",
         "x": [
          "A",
          "B",
          "C"
         ],
         "y": [
          32,
          43,
          50
         ]
        }
       ],
       "layout": {
        "legend": {
         "bgcolor": "#F5F6F9",
         "font": {
          "color": "#4D5663"
         }
        },
        "paper_bgcolor": "#F5F6F9",
        "plot_bgcolor": "#F5F6F9",
        "template": {
         "data": {
          "bar": [
           {
            "error_x": {
             "color": "#2a3f5f"
            },
            "error_y": {
             "color": "#2a3f5f"
            },
            "marker": {
             "line": {
              "color": "#E5ECF6",
              "width": 0.5
             }
            },
            "type": "bar"
           }
          ],
          "barpolar": [
           {
            "marker": {
             "line": {
              "color": "#E5ECF6",
              "width": 0.5
             }
            },
            "type": "barpolar"
           }
          ],
          "carpet": [
           {
            "aaxis": {
             "endlinecolor": "#2a3f5f",
             "gridcolor": "white",
             "linecolor": "white",
             "minorgridcolor": "white",
             "startlinecolor": "#2a3f5f"
            },
            "baxis": {
             "endlinecolor": "#2a3f5f",
             "gridcolor": "white",
             "linecolor": "white",
             "minorgridcolor": "white",
             "startlinecolor": "#2a3f5f"
            },
            "type": "carpet"
           }
          ],
          "choropleth": [
           {
            "colorbar": {
             "outlinewidth": 0,
             "ticks": ""
            },
            "type": "choropleth"
           }
          ],
          "contour": [
           {
            "colorbar": {
             "outlinewidth": 0,
             "ticks": ""
            },
            "colorscale": [
             [
              0,
              "#0d0887"
             ],
             [
              0.1111111111111111,
              "#46039f"
             ],
             [
              0.2222222222222222,
              "#7201a8"
             ],
             [
              0.3333333333333333,
              "#9c179e"
             ],
             [
              0.4444444444444444,
              "#bd3786"
             ],
             [
              0.5555555555555556,
              "#d8576b"
             ],
             [
              0.6666666666666666,
              "#ed7953"
             ],
             [
              0.7777777777777778,
              "#fb9f3a"
             ],
             [
              0.8888888888888888,
              "#fdca26"
             ],
             [
              1,
              "#f0f921"
             ]
            ],
            "type": "contour"
           }
          ],
          "contourcarpet": [
           {
            "colorbar": {
             "outlinewidth": 0,
             "ticks": ""
            },
            "type": "contourcarpet"
           }
          ],
          "heatmap": [
           {
            "colorbar": {
             "outlinewidth": 0,
             "ticks": ""
            },
            "colorscale": [
             [
              0,
              "#0d0887"
             ],
             [
              0.1111111111111111,
              "#46039f"
             ],
             [
              0.2222222222222222,
              "#7201a8"
             ],
             [
              0.3333333333333333,
              "#9c179e"
             ],
             [
              0.4444444444444444,
              "#bd3786"
             ],
             [
              0.5555555555555556,
              "#d8576b"
             ],
             [
              0.6666666666666666,
              "#ed7953"
             ],
             [
              0.7777777777777778,
              "#fb9f3a"
             ],
             [
              0.8888888888888888,
              "#fdca26"
             ],
             [
              1,
              "#f0f921"
             ]
            ],
            "type": "heatmap"
           }
          ],
          "heatmapgl": [
           {
            "colorbar": {
             "outlinewidth": 0,
             "ticks": ""
            },
            "colorscale": [
             [
              0,
              "#0d0887"
             ],
             [
              0.1111111111111111,
              "#46039f"
             ],
             [
              0.2222222222222222,
              "#7201a8"
             ],
             [
              0.3333333333333333,
              "#9c179e"
             ],
             [
              0.4444444444444444,
              "#bd3786"
             ],
             [
              0.5555555555555556,
              "#d8576b"
             ],
             [
              0.6666666666666666,
              "#ed7953"
             ],
             [
              0.7777777777777778,
              "#fb9f3a"
             ],
             [
              0.8888888888888888,
              "#fdca26"
             ],
             [
              1,
              "#f0f921"
             ]
            ],
            "type": "heatmapgl"
           }
          ],
          "histogram": [
           {
            "marker": {
             "colorbar": {
              "outlinewidth": 0,
              "ticks": ""
             }
            },
            "type": "histogram"
           }
          ],
          "histogram2d": [
           {
            "colorbar": {
             "outlinewidth": 0,
             "ticks": ""
            },
            "colorscale": [
             [
              0,
              "#0d0887"
             ],
             [
              0.1111111111111111,
              "#46039f"
             ],
             [
              0.2222222222222222,
              "#7201a8"
             ],
             [
              0.3333333333333333,
              "#9c179e"
             ],
             [
              0.4444444444444444,
              "#bd3786"
             ],
             [
              0.5555555555555556,
              "#d8576b"
             ],
             [
              0.6666666666666666,
              "#ed7953"
             ],
             [
              0.7777777777777778,
              "#fb9f3a"
             ],
             [
              0.8888888888888888,
              "#fdca26"
             ],
             [
              1,
              "#f0f921"
             ]
            ],
            "type": "histogram2d"
           }
          ],
          "histogram2dcontour": [
           {
            "colorbar": {
             "outlinewidth": 0,
             "ticks": ""
            },
            "colorscale": [
             [
              0,
              "#0d0887"
             ],
             [
              0.1111111111111111,
              "#46039f"
             ],
             [
              0.2222222222222222,
              "#7201a8"
             ],
             [
              0.3333333333333333,
              "#9c179e"
             ],
             [
              0.4444444444444444,
              "#bd3786"
             ],
             [
              0.5555555555555556,
              "#d8576b"
             ],
             [
              0.6666666666666666,
              "#ed7953"
             ],
             [
              0.7777777777777778,
              "#fb9f3a"
             ],
             [
              0.8888888888888888,
              "#fdca26"
             ],
             [
              1,
              "#f0f921"
             ]
            ],
            "type": "histogram2dcontour"
           }
          ],
          "mesh3d": [
           {
            "colorbar": {
             "outlinewidth": 0,
             "ticks": ""
            },
            "type": "mesh3d"
           }
          ],
          "parcoords": [
           {
            "line": {
             "colorbar": {
              "outlinewidth": 0,
              "ticks": ""
             }
            },
            "type": "parcoords"
           }
          ],
          "pie": [
           {
            "automargin": true,
            "type": "pie"
           }
          ],
          "scatter": [
           {
            "marker": {
             "colorbar": {
              "outlinewidth": 0,
              "ticks": ""
             }
            },
            "type": "scatter"
           }
          ],
          "scatter3d": [
           {
            "line": {
             "colorbar": {
              "outlinewidth": 0,
              "ticks": ""
             }
            },
            "marker": {
             "colorbar": {
              "outlinewidth": 0,
              "ticks": ""
             }
            },
            "type": "scatter3d"
           }
          ],
          "scattercarpet": [
           {
            "marker": {
             "colorbar": {
              "outlinewidth": 0,
              "ticks": ""
             }
            },
            "type": "scattercarpet"
           }
          ],
          "scattergeo": [
           {
            "marker": {
             "colorbar": {
              "outlinewidth": 0,
              "ticks": ""
             }
            },
            "type": "scattergeo"
           }
          ],
          "scattergl": [
           {
            "marker": {
             "colorbar": {
              "outlinewidth": 0,
              "ticks": ""
             }
            },
            "type": "scattergl"
           }
          ],
          "scattermapbox": [
           {
            "marker": {
             "colorbar": {
              "outlinewidth": 0,
              "ticks": ""
             }
            },
            "type": "scattermapbox"
           }
          ],
          "scatterpolar": [
           {
            "marker": {
             "colorbar": {
              "outlinewidth": 0,
              "ticks": ""
             }
            },
            "type": "scatterpolar"
           }
          ],
          "scatterpolargl": [
           {
            "marker": {
             "colorbar": {
              "outlinewidth": 0,
              "ticks": ""
             }
            },
            "type": "scatterpolargl"
           }
          ],
          "scatterternary": [
           {
            "marker": {
             "colorbar": {
              "outlinewidth": 0,
              "ticks": ""
             }
            },
            "type": "scatterternary"
           }
          ],
          "surface": [
           {
            "colorbar": {
             "outlinewidth": 0,
             "ticks": ""
            },
            "colorscale": [
             [
              0,
              "#0d0887"
             ],
             [
              0.1111111111111111,
              "#46039f"
             ],
             [
              0.2222222222222222,
              "#7201a8"
             ],
             [
              0.3333333333333333,
              "#9c179e"
             ],
             [
              0.4444444444444444,
              "#bd3786"
             ],
             [
              0.5555555555555556,
              "#d8576b"
             ],
             [
              0.6666666666666666,
              "#ed7953"
             ],
             [
              0.7777777777777778,
              "#fb9f3a"
             ],
             [
              0.8888888888888888,
              "#fdca26"
             ],
             [
              1,
              "#f0f921"
             ]
            ],
            "type": "surface"
           }
          ],
          "table": [
           {
            "cells": {
             "fill": {
              "color": "#EBF0F8"
             },
             "line": {
              "color": "white"
             }
            },
            "header": {
             "fill": {
              "color": "#C8D4E3"
             },
             "line": {
              "color": "white"
             }
            },
            "type": "table"
           }
          ]
         },
         "layout": {
          "annotationdefaults": {
           "arrowcolor": "#2a3f5f",
           "arrowhead": 0,
           "arrowwidth": 1
          },
          "coloraxis": {
           "colorbar": {
            "outlinewidth": 0,
            "ticks": ""
           }
          },
          "colorscale": {
           "diverging": [
            [
             0,
             "#8e0152"
            ],
            [
             0.1,
             "#c51b7d"
            ],
            [
             0.2,
             "#de77ae"
            ],
            [
             0.3,
             "#f1b6da"
            ],
            [
             0.4,
             "#fde0ef"
            ],
            [
             0.5,
             "#f7f7f7"
            ],
            [
             0.6,
             "#e6f5d0"
            ],
            [
             0.7,
             "#b8e186"
            ],
            [
             0.8,
             "#7fbc41"
            ],
            [
             0.9,
             "#4d9221"
            ],
            [
             1,
             "#276419"
            ]
           ],
           "sequential": [
            [
             0,
             "#0d0887"
            ],
            [
             0.1111111111111111,
             "#46039f"
            ],
            [
             0.2222222222222222,
             "#7201a8"
            ],
            [
             0.3333333333333333,
             "#9c179e"
            ],
            [
             0.4444444444444444,
             "#bd3786"
            ],
            [
             0.5555555555555556,
             "#d8576b"
            ],
            [
             0.6666666666666666,
             "#ed7953"
            ],
            [
             0.7777777777777778,
             "#fb9f3a"
            ],
            [
             0.8888888888888888,
             "#fdca26"
            ],
            [
             1,
             "#f0f921"
            ]
           ],
           "sequentialminus": [
            [
             0,
             "#0d0887"
            ],
            [
             0.1111111111111111,
             "#46039f"
            ],
            [
             0.2222222222222222,
             "#7201a8"
            ],
            [
             0.3333333333333333,
             "#9c179e"
            ],
            [
             0.4444444444444444,
             "#bd3786"
            ],
            [
             0.5555555555555556,
             "#d8576b"
            ],
            [
             0.6666666666666666,
             "#ed7953"
            ],
            [
             0.7777777777777778,
             "#fb9f3a"
            ],
            [
             0.8888888888888888,
             "#fdca26"
            ],
            [
             1,
             "#f0f921"
            ]
           ]
          },
          "colorway": [
           "#636efa",
           "#EF553B",
           "#00cc96",
           "#ab63fa",
           "#FFA15A",
           "#19d3f3",
           "#FF6692",
           "#B6E880",
           "#FF97FF",
           "#FECB52"
          ],
          "font": {
           "color": "#2a3f5f"
          },
          "geo": {
           "bgcolor": "white",
           "lakecolor": "white",
           "landcolor": "#E5ECF6",
           "showlakes": true,
           "showland": true,
           "subunitcolor": "white"
          },
          "hoverlabel": {
           "align": "left"
          },
          "hovermode": "closest",
          "mapbox": {
           "style": "light"
          },
          "paper_bgcolor": "white",
          "plot_bgcolor": "#E5ECF6",
          "polar": {
           "angularaxis": {
            "gridcolor": "white",
            "linecolor": "white",
            "ticks": ""
           },
           "bgcolor": "#E5ECF6",
           "radialaxis": {
            "gridcolor": "white",
            "linecolor": "white",
            "ticks": ""
           }
          },
          "scene": {
           "xaxis": {
            "backgroundcolor": "#E5ECF6",
            "gridcolor": "white",
            "gridwidth": 2,
            "linecolor": "white",
            "showbackground": true,
            "ticks": "",
            "zerolinecolor": "white"
           },
           "yaxis": {
            "backgroundcolor": "#E5ECF6",
            "gridcolor": "white",
            "gridwidth": 2,
            "linecolor": "white",
            "showbackground": true,
            "ticks": "",
            "zerolinecolor": "white"
           },
           "zaxis": {
            "backgroundcolor": "#E5ECF6",
            "gridcolor": "white",
            "gridwidth": 2,
            "linecolor": "white",
            "showbackground": true,
            "ticks": "",
            "zerolinecolor": "white"
           }
          },
          "shapedefaults": {
           "line": {
            "color": "#2a3f5f"
           }
          },
          "ternary": {
           "aaxis": {
            "gridcolor": "white",
            "linecolor": "white",
            "ticks": ""
           },
           "baxis": {
            "gridcolor": "white",
            "linecolor": "white",
            "ticks": ""
           },
           "bgcolor": "#E5ECF6",
           "caxis": {
            "gridcolor": "white",
            "linecolor": "white",
            "ticks": ""
           }
          },
          "title": {
           "x": 0.05
          },
          "xaxis": {
           "automargin": true,
           "gridcolor": "white",
           "linecolor": "white",
           "ticks": "",
           "title": {
            "standoff": 15
           },
           "zerolinecolor": "white",
           "zerolinewidth": 2
          },
          "yaxis": {
           "automargin": true,
           "gridcolor": "white",
           "linecolor": "white",
           "ticks": "",
           "title": {
            "standoff": 15
           },
           "zerolinecolor": "white",
           "zerolinewidth": 2
          }
         }
        },
        "title": {
         "font": {
          "color": "#4D5663"
         }
        },
        "xaxis": {
         "gridcolor": "#E1E5ED",
         "showgrid": true,
         "tickfont": {
          "color": "#4D5663"
         },
         "title": {
          "font": {
           "color": "#4D5663"
          },
          "text": ""
         },
         "zerolinecolor": "#E1E5ED"
        },
        "yaxis": {
         "gridcolor": "#E1E5ED",
         "showgrid": true,
         "tickfont": {
          "color": "#4D5663"
         },
         "title": {
          "font": {
           "color": "#4D5663"
          },
          "text": ""
         },
         "zerolinecolor": "#E1E5ED"
        }
       }
      },
      "text/html": [
       "<div>\n",
       "        \n",
       "        \n",
       "            <div id=\"cfa24cb9-96eb-46a4-8a88-65f77081494a\" class=\"plotly-graph-div\" style=\"height:525px; width:100%;\"></div>\n",
       "            <script type=\"text/javascript\">\n",
       "                require([\"plotly\"], function(Plotly) {\n",
       "                    window.PLOTLYENV=window.PLOTLYENV || {};\n",
       "                    window.PLOTLYENV.BASE_URL='https://plot.ly';\n",
       "                    \n",
       "                if (document.getElementById(\"cfa24cb9-96eb-46a4-8a88-65f77081494a\")) {\n",
       "                    Plotly.newPlot(\n",
       "                        'cfa24cb9-96eb-46a4-8a88-65f77081494a',\n",
       "                        [{\"marker\": {\"color\": \"rgba(255, 153, 51, 0.6)\", \"line\": {\"color\": \"rgba(255, 153, 51, 1.0)\", \"width\": 1}}, \"name\": \"Values\", \"orientation\": \"v\", \"text\": \"\", \"type\": \"bar\", \"x\": [\"A\", \"B\", \"C\"], \"y\": [32, 43, 50]}],\n",
       "                        {\"legend\": {\"bgcolor\": \"#F5F6F9\", \"font\": {\"color\": \"#4D5663\"}}, \"paper_bgcolor\": \"#F5F6F9\", \"plot_bgcolor\": \"#F5F6F9\", \"template\": {\"data\": {\"bar\": [{\"error_x\": {\"color\": \"#2a3f5f\"}, \"error_y\": {\"color\": \"#2a3f5f\"}, \"marker\": {\"line\": {\"color\": \"#E5ECF6\", \"width\": 0.5}}, \"type\": \"bar\"}], \"barpolar\": [{\"marker\": {\"line\": {\"color\": \"#E5ECF6\", \"width\": 0.5}}, \"type\": \"barpolar\"}], \"carpet\": [{\"aaxis\": {\"endlinecolor\": \"#2a3f5f\", \"gridcolor\": \"white\", \"linecolor\": \"white\", \"minorgridcolor\": \"white\", \"startlinecolor\": \"#2a3f5f\"}, \"baxis\": {\"endlinecolor\": \"#2a3f5f\", \"gridcolor\": \"white\", \"linecolor\": \"white\", \"minorgridcolor\": \"white\", \"startlinecolor\": \"#2a3f5f\"}, \"type\": \"carpet\"}], \"choropleth\": [{\"colorbar\": {\"outlinewidth\": 0, \"ticks\": \"\"}, \"type\": \"choropleth\"}], \"contour\": [{\"colorbar\": {\"outlinewidth\": 0, \"ticks\": \"\"}, \"colorscale\": [[0.0, \"#0d0887\"], [0.1111111111111111, \"#46039f\"], [0.2222222222222222, \"#7201a8\"], [0.3333333333333333, \"#9c179e\"], [0.4444444444444444, \"#bd3786\"], [0.5555555555555556, \"#d8576b\"], [0.6666666666666666, \"#ed7953\"], [0.7777777777777778, \"#fb9f3a\"], [0.8888888888888888, \"#fdca26\"], [1.0, \"#f0f921\"]], \"type\": \"contour\"}], \"contourcarpet\": [{\"colorbar\": {\"outlinewidth\": 0, \"ticks\": \"\"}, \"type\": \"contourcarpet\"}], \"heatmap\": [{\"colorbar\": {\"outlinewidth\": 0, \"ticks\": \"\"}, \"colorscale\": [[0.0, \"#0d0887\"], [0.1111111111111111, \"#46039f\"], [0.2222222222222222, \"#7201a8\"], [0.3333333333333333, \"#9c179e\"], [0.4444444444444444, \"#bd3786\"], [0.5555555555555556, \"#d8576b\"], [0.6666666666666666, \"#ed7953\"], [0.7777777777777778, \"#fb9f3a\"], [0.8888888888888888, \"#fdca26\"], [1.0, \"#f0f921\"]], \"type\": \"heatmap\"}], \"heatmapgl\": [{\"colorbar\": {\"outlinewidth\": 0, \"ticks\": \"\"}, \"colorscale\": [[0.0, \"#0d0887\"], [0.1111111111111111, \"#46039f\"], [0.2222222222222222, \"#7201a8\"], [0.3333333333333333, \"#9c179e\"], [0.4444444444444444, \"#bd3786\"], [0.5555555555555556, \"#d8576b\"], [0.6666666666666666, \"#ed7953\"], [0.7777777777777778, \"#fb9f3a\"], [0.8888888888888888, \"#fdca26\"], [1.0, \"#f0f921\"]], \"type\": \"heatmapgl\"}], \"histogram\": [{\"marker\": {\"colorbar\": {\"outlinewidth\": 0, \"ticks\": \"\"}}, \"type\": \"histogram\"}], \"histogram2d\": [{\"colorbar\": {\"outlinewidth\": 0, \"ticks\": \"\"}, \"colorscale\": [[0.0, \"#0d0887\"], [0.1111111111111111, \"#46039f\"], [0.2222222222222222, \"#7201a8\"], [0.3333333333333333, \"#9c179e\"], [0.4444444444444444, \"#bd3786\"], [0.5555555555555556, \"#d8576b\"], [0.6666666666666666, \"#ed7953\"], [0.7777777777777778, \"#fb9f3a\"], [0.8888888888888888, \"#fdca26\"], [1.0, \"#f0f921\"]], \"type\": \"histogram2d\"}], \"histogram2dcontour\": [{\"colorbar\": {\"outlinewidth\": 0, \"ticks\": \"\"}, \"colorscale\": [[0.0, \"#0d0887\"], [0.1111111111111111, \"#46039f\"], [0.2222222222222222, \"#7201a8\"], [0.3333333333333333, \"#9c179e\"], [0.4444444444444444, \"#bd3786\"], [0.5555555555555556, \"#d8576b\"], [0.6666666666666666, \"#ed7953\"], [0.7777777777777778, \"#fb9f3a\"], [0.8888888888888888, \"#fdca26\"], [1.0, \"#f0f921\"]], \"type\": \"histogram2dcontour\"}], \"mesh3d\": [{\"colorbar\": {\"outlinewidth\": 0, \"ticks\": \"\"}, \"type\": \"mesh3d\"}], \"parcoords\": [{\"line\": {\"colorbar\": {\"outlinewidth\": 0, \"ticks\": \"\"}}, \"type\": \"parcoords\"}], \"pie\": [{\"automargin\": true, \"type\": \"pie\"}], \"scatter\": [{\"marker\": {\"colorbar\": {\"outlinewidth\": 0, \"ticks\": \"\"}}, \"type\": \"scatter\"}], \"scatter3d\": [{\"line\": {\"colorbar\": {\"outlinewidth\": 0, \"ticks\": \"\"}}, \"marker\": {\"colorbar\": {\"outlinewidth\": 0, \"ticks\": \"\"}}, \"type\": \"scatter3d\"}], \"scattercarpet\": [{\"marker\": {\"colorbar\": {\"outlinewidth\": 0, \"ticks\": \"\"}}, \"type\": \"scattercarpet\"}], \"scattergeo\": [{\"marker\": {\"colorbar\": {\"outlinewidth\": 0, \"ticks\": \"\"}}, \"type\": \"scattergeo\"}], \"scattergl\": [{\"marker\": {\"colorbar\": {\"outlinewidth\": 0, \"ticks\": \"\"}}, \"type\": \"scattergl\"}], \"scattermapbox\": [{\"marker\": {\"colorbar\": {\"outlinewidth\": 0, \"ticks\": \"\"}}, \"type\": \"scattermapbox\"}], \"scatterpolar\": [{\"marker\": {\"colorbar\": {\"outlinewidth\": 0, \"ticks\": \"\"}}, \"type\": \"scatterpolar\"}], \"scatterpolargl\": [{\"marker\": {\"colorbar\": {\"outlinewidth\": 0, \"ticks\": \"\"}}, \"type\": \"scatterpolargl\"}], \"scatterternary\": [{\"marker\": {\"colorbar\": {\"outlinewidth\": 0, \"ticks\": \"\"}}, \"type\": \"scatterternary\"}], \"surface\": [{\"colorbar\": {\"outlinewidth\": 0, \"ticks\": \"\"}, \"colorscale\": [[0.0, \"#0d0887\"], [0.1111111111111111, \"#46039f\"], [0.2222222222222222, \"#7201a8\"], [0.3333333333333333, \"#9c179e\"], [0.4444444444444444, \"#bd3786\"], [0.5555555555555556, \"#d8576b\"], [0.6666666666666666, \"#ed7953\"], [0.7777777777777778, \"#fb9f3a\"], [0.8888888888888888, \"#fdca26\"], [1.0, \"#f0f921\"]], \"type\": \"surface\"}], \"table\": [{\"cells\": {\"fill\": {\"color\": \"#EBF0F8\"}, \"line\": {\"color\": \"white\"}}, \"header\": {\"fill\": {\"color\": \"#C8D4E3\"}, \"line\": {\"color\": \"white\"}}, \"type\": \"table\"}]}, \"layout\": {\"annotationdefaults\": {\"arrowcolor\": \"#2a3f5f\", \"arrowhead\": 0, \"arrowwidth\": 1}, \"coloraxis\": {\"colorbar\": {\"outlinewidth\": 0, \"ticks\": \"\"}}, \"colorscale\": {\"diverging\": [[0, \"#8e0152\"], [0.1, \"#c51b7d\"], [0.2, \"#de77ae\"], [0.3, \"#f1b6da\"], [0.4, \"#fde0ef\"], [0.5, \"#f7f7f7\"], [0.6, \"#e6f5d0\"], [0.7, \"#b8e186\"], [0.8, \"#7fbc41\"], [0.9, \"#4d9221\"], [1, \"#276419\"]], \"sequential\": [[0.0, \"#0d0887\"], [0.1111111111111111, \"#46039f\"], [0.2222222222222222, \"#7201a8\"], [0.3333333333333333, \"#9c179e\"], [0.4444444444444444, \"#bd3786\"], [0.5555555555555556, \"#d8576b\"], [0.6666666666666666, \"#ed7953\"], [0.7777777777777778, \"#fb9f3a\"], [0.8888888888888888, \"#fdca26\"], [1.0, \"#f0f921\"]], \"sequentialminus\": [[0.0, \"#0d0887\"], [0.1111111111111111, \"#46039f\"], [0.2222222222222222, \"#7201a8\"], [0.3333333333333333, \"#9c179e\"], [0.4444444444444444, \"#bd3786\"], [0.5555555555555556, \"#d8576b\"], [0.6666666666666666, \"#ed7953\"], [0.7777777777777778, \"#fb9f3a\"], [0.8888888888888888, \"#fdca26\"], [1.0, \"#f0f921\"]]}, \"colorway\": [\"#636efa\", \"#EF553B\", \"#00cc96\", \"#ab63fa\", \"#FFA15A\", \"#19d3f3\", \"#FF6692\", \"#B6E880\", \"#FF97FF\", \"#FECB52\"], \"font\": {\"color\": \"#2a3f5f\"}, \"geo\": {\"bgcolor\": \"white\", \"lakecolor\": \"white\", \"landcolor\": \"#E5ECF6\", \"showlakes\": true, \"showland\": true, \"subunitcolor\": \"white\"}, \"hoverlabel\": {\"align\": \"left\"}, \"hovermode\": \"closest\", \"mapbox\": {\"style\": \"light\"}, \"paper_bgcolor\": \"white\", \"plot_bgcolor\": \"#E5ECF6\", \"polar\": {\"angularaxis\": {\"gridcolor\": \"white\", \"linecolor\": \"white\", \"ticks\": \"\"}, \"bgcolor\": \"#E5ECF6\", \"radialaxis\": {\"gridcolor\": \"white\", \"linecolor\": \"white\", \"ticks\": \"\"}}, \"scene\": {\"xaxis\": {\"backgroundcolor\": \"#E5ECF6\", \"gridcolor\": \"white\", \"gridwidth\": 2, \"linecolor\": \"white\", \"showbackground\": true, \"ticks\": \"\", \"zerolinecolor\": \"white\"}, \"yaxis\": {\"backgroundcolor\": \"#E5ECF6\", \"gridcolor\": \"white\", \"gridwidth\": 2, \"linecolor\": \"white\", \"showbackground\": true, \"ticks\": \"\", \"zerolinecolor\": \"white\"}, \"zaxis\": {\"backgroundcolor\": \"#E5ECF6\", \"gridcolor\": \"white\", \"gridwidth\": 2, \"linecolor\": \"white\", \"showbackground\": true, \"ticks\": \"\", \"zerolinecolor\": \"white\"}}, \"shapedefaults\": {\"line\": {\"color\": \"#2a3f5f\"}}, \"ternary\": {\"aaxis\": {\"gridcolor\": \"white\", \"linecolor\": \"white\", \"ticks\": \"\"}, \"baxis\": {\"gridcolor\": \"white\", \"linecolor\": \"white\", \"ticks\": \"\"}, \"bgcolor\": \"#E5ECF6\", \"caxis\": {\"gridcolor\": \"white\", \"linecolor\": \"white\", \"ticks\": \"\"}}, \"title\": {\"x\": 0.05}, \"xaxis\": {\"automargin\": true, \"gridcolor\": \"white\", \"linecolor\": \"white\", \"ticks\": \"\", \"title\": {\"standoff\": 15}, \"zerolinecolor\": \"white\", \"zerolinewidth\": 2}, \"yaxis\": {\"automargin\": true, \"gridcolor\": \"white\", \"linecolor\": \"white\", \"ticks\": \"\", \"title\": {\"standoff\": 15}, \"zerolinecolor\": \"white\", \"zerolinewidth\": 2}}}, \"title\": {\"font\": {\"color\": \"#4D5663\"}}, \"xaxis\": {\"gridcolor\": \"#E1E5ED\", \"showgrid\": true, \"tickfont\": {\"color\": \"#4D5663\"}, \"title\": {\"font\": {\"color\": \"#4D5663\"}, \"text\": \"\"}, \"zerolinecolor\": \"#E1E5ED\"}, \"yaxis\": {\"gridcolor\": \"#E1E5ED\", \"showgrid\": true, \"tickfont\": {\"color\": \"#4D5663\"}, \"title\": {\"font\": {\"color\": \"#4D5663\"}, \"text\": \"\"}, \"zerolinecolor\": \"#E1E5ED\"}},\n",
       "                        {\"showLink\": true, \"linkText\": \"Export to plot.ly\", \"plotlyServerURL\": \"https://plot.ly\", \"responsive\": true}\n",
       "                    ).then(function(){\n",
       "                            \n",
       "var gd = document.getElementById('cfa24cb9-96eb-46a4-8a88-65f77081494a');\n",
       "var x = new MutationObserver(function (mutations, observer) {{\n",
       "        var display = window.getComputedStyle(gd).display;\n",
       "        if (!display || display === 'none') {{\n",
       "            console.log([gd, 'removed!']);\n",
       "            Plotly.purge(gd);\n",
       "            observer.disconnect();\n",
       "        }}\n",
       "}});\n",
       "\n",
       "// Listen for the removal of the full notebook cells\n",
       "var notebookContainer = gd.closest('#notebook-container');\n",
       "if (notebookContainer) {{\n",
       "    x.observe(notebookContainer, {childList: true});\n",
       "}}\n",
       "\n",
       "// Listen for the clearing of the current output cell\n",
       "var outputEl = gd.closest('.output');\n",
       "if (outputEl) {{\n",
       "    x.observe(outputEl, {childList: true});\n",
       "}}\n",
       "\n",
       "                        })\n",
       "                };\n",
       "                });\n",
       "            </script>\n",
       "        </div>"
      ]
     },
     "metadata": {},
     "output_type": "display_data"
    }
   ],
   "source": [
    "df2.iplot(kind='bar',x='Category',y='Values')"
   ]
  },
  {
   "cell_type": "code",
   "execution_count": 12,
   "metadata": {
    "jupyter": {
     "outputs_hidden": false
    }
   },
   "outputs": [
    {
     "data": {
      "application/vnd.plotly.v1+json": {
       "config": {
        "linkText": "Export to plot.ly",
        "plotlyServerURL": "https://plot.ly",
        "showLink": true
       },
       "data": [
        {
         "marker": {
          "color": "rgba(255, 153, 51, 0.6)",
          "line": {
           "color": "rgba(255, 153, 51, 1.0)",
           "width": 1
          }
         },
         "name": "None",
         "orientation": "v",
         "text": "",
         "type": "bar",
         "x": [
          "A",
          "B",
          "C",
          "D"
         ],
         "y": [
          100,
          100,
          100,
          100
         ]
        }
       ],
       "layout": {
        "legend": {
         "bgcolor": "#F5F6F9",
         "font": {
          "color": "#4D5663"
         }
        },
        "paper_bgcolor": "#F5F6F9",
        "plot_bgcolor": "#F5F6F9",
        "template": {
         "data": {
          "bar": [
           {
            "error_x": {
             "color": "#2a3f5f"
            },
            "error_y": {
             "color": "#2a3f5f"
            },
            "marker": {
             "line": {
              "color": "#E5ECF6",
              "width": 0.5
             }
            },
            "type": "bar"
           }
          ],
          "barpolar": [
           {
            "marker": {
             "line": {
              "color": "#E5ECF6",
              "width": 0.5
             }
            },
            "type": "barpolar"
           }
          ],
          "carpet": [
           {
            "aaxis": {
             "endlinecolor": "#2a3f5f",
             "gridcolor": "white",
             "linecolor": "white",
             "minorgridcolor": "white",
             "startlinecolor": "#2a3f5f"
            },
            "baxis": {
             "endlinecolor": "#2a3f5f",
             "gridcolor": "white",
             "linecolor": "white",
             "minorgridcolor": "white",
             "startlinecolor": "#2a3f5f"
            },
            "type": "carpet"
           }
          ],
          "choropleth": [
           {
            "colorbar": {
             "outlinewidth": 0,
             "ticks": ""
            },
            "type": "choropleth"
           }
          ],
          "contour": [
           {
            "colorbar": {
             "outlinewidth": 0,
             "ticks": ""
            },
            "colorscale": [
             [
              0,
              "#0d0887"
             ],
             [
              0.1111111111111111,
              "#46039f"
             ],
             [
              0.2222222222222222,
              "#7201a8"
             ],
             [
              0.3333333333333333,
              "#9c179e"
             ],
             [
              0.4444444444444444,
              "#bd3786"
             ],
             [
              0.5555555555555556,
              "#d8576b"
             ],
             [
              0.6666666666666666,
              "#ed7953"
             ],
             [
              0.7777777777777778,
              "#fb9f3a"
             ],
             [
              0.8888888888888888,
              "#fdca26"
             ],
             [
              1,
              "#f0f921"
             ]
            ],
            "type": "contour"
           }
          ],
          "contourcarpet": [
           {
            "colorbar": {
             "outlinewidth": 0,
             "ticks": ""
            },
            "type": "contourcarpet"
           }
          ],
          "heatmap": [
           {
            "colorbar": {
             "outlinewidth": 0,
             "ticks": ""
            },
            "colorscale": [
             [
              0,
              "#0d0887"
             ],
             [
              0.1111111111111111,
              "#46039f"
             ],
             [
              0.2222222222222222,
              "#7201a8"
             ],
             [
              0.3333333333333333,
              "#9c179e"
             ],
             [
              0.4444444444444444,
              "#bd3786"
             ],
             [
              0.5555555555555556,
              "#d8576b"
             ],
             [
              0.6666666666666666,
              "#ed7953"
             ],
             [
              0.7777777777777778,
              "#fb9f3a"
             ],
             [
              0.8888888888888888,
              "#fdca26"
             ],
             [
              1,
              "#f0f921"
             ]
            ],
            "type": "heatmap"
           }
          ],
          "heatmapgl": [
           {
            "colorbar": {
             "outlinewidth": 0,
             "ticks": ""
            },
            "colorscale": [
             [
              0,
              "#0d0887"
             ],
             [
              0.1111111111111111,
              "#46039f"
             ],
             [
              0.2222222222222222,
              "#7201a8"
             ],
             [
              0.3333333333333333,
              "#9c179e"
             ],
             [
              0.4444444444444444,
              "#bd3786"
             ],
             [
              0.5555555555555556,
              "#d8576b"
             ],
             [
              0.6666666666666666,
              "#ed7953"
             ],
             [
              0.7777777777777778,
              "#fb9f3a"
             ],
             [
              0.8888888888888888,
              "#fdca26"
             ],
             [
              1,
              "#f0f921"
             ]
            ],
            "type": "heatmapgl"
           }
          ],
          "histogram": [
           {
            "marker": {
             "colorbar": {
              "outlinewidth": 0,
              "ticks": ""
             }
            },
            "type": "histogram"
           }
          ],
          "histogram2d": [
           {
            "colorbar": {
             "outlinewidth": 0,
             "ticks": ""
            },
            "colorscale": [
             [
              0,
              "#0d0887"
             ],
             [
              0.1111111111111111,
              "#46039f"
             ],
             [
              0.2222222222222222,
              "#7201a8"
             ],
             [
              0.3333333333333333,
              "#9c179e"
             ],
             [
              0.4444444444444444,
              "#bd3786"
             ],
             [
              0.5555555555555556,
              "#d8576b"
             ],
             [
              0.6666666666666666,
              "#ed7953"
             ],
             [
              0.7777777777777778,
              "#fb9f3a"
             ],
             [
              0.8888888888888888,
              "#fdca26"
             ],
             [
              1,
              "#f0f921"
             ]
            ],
            "type": "histogram2d"
           }
          ],
          "histogram2dcontour": [
           {
            "colorbar": {
             "outlinewidth": 0,
             "ticks": ""
            },
            "colorscale": [
             [
              0,
              "#0d0887"
             ],
             [
              0.1111111111111111,
              "#46039f"
             ],
             [
              0.2222222222222222,
              "#7201a8"
             ],
             [
              0.3333333333333333,
              "#9c179e"
             ],
             [
              0.4444444444444444,
              "#bd3786"
             ],
             [
              0.5555555555555556,
              "#d8576b"
             ],
             [
              0.6666666666666666,
              "#ed7953"
             ],
             [
              0.7777777777777778,
              "#fb9f3a"
             ],
             [
              0.8888888888888888,
              "#fdca26"
             ],
             [
              1,
              "#f0f921"
             ]
            ],
            "type": "histogram2dcontour"
           }
          ],
          "mesh3d": [
           {
            "colorbar": {
             "outlinewidth": 0,
             "ticks": ""
            },
            "type": "mesh3d"
           }
          ],
          "parcoords": [
           {
            "line": {
             "colorbar": {
              "outlinewidth": 0,
              "ticks": ""
             }
            },
            "type": "parcoords"
           }
          ],
          "pie": [
           {
            "automargin": true,
            "type": "pie"
           }
          ],
          "scatter": [
           {
            "marker": {
             "colorbar": {
              "outlinewidth": 0,
              "ticks": ""
             }
            },
            "type": "scatter"
           }
          ],
          "scatter3d": [
           {
            "line": {
             "colorbar": {
              "outlinewidth": 0,
              "ticks": ""
             }
            },
            "marker": {
             "colorbar": {
              "outlinewidth": 0,
              "ticks": ""
             }
            },
            "type": "scatter3d"
           }
          ],
          "scattercarpet": [
           {
            "marker": {
             "colorbar": {
              "outlinewidth": 0,
              "ticks": ""
             }
            },
            "type": "scattercarpet"
           }
          ],
          "scattergeo": [
           {
            "marker": {
             "colorbar": {
              "outlinewidth": 0,
              "ticks": ""
             }
            },
            "type": "scattergeo"
           }
          ],
          "scattergl": [
           {
            "marker": {
             "colorbar": {
              "outlinewidth": 0,
              "ticks": ""
             }
            },
            "type": "scattergl"
           }
          ],
          "scattermapbox": [
           {
            "marker": {
             "colorbar": {
              "outlinewidth": 0,
              "ticks": ""
             }
            },
            "type": "scattermapbox"
           }
          ],
          "scatterpolar": [
           {
            "marker": {
             "colorbar": {
              "outlinewidth": 0,
              "ticks": ""
             }
            },
            "type": "scatterpolar"
           }
          ],
          "scatterpolargl": [
           {
            "marker": {
             "colorbar": {
              "outlinewidth": 0,
              "ticks": ""
             }
            },
            "type": "scatterpolargl"
           }
          ],
          "scatterternary": [
           {
            "marker": {
             "colorbar": {
              "outlinewidth": 0,
              "ticks": ""
             }
            },
            "type": "scatterternary"
           }
          ],
          "surface": [
           {
            "colorbar": {
             "outlinewidth": 0,
             "ticks": ""
            },
            "colorscale": [
             [
              0,
              "#0d0887"
             ],
             [
              0.1111111111111111,
              "#46039f"
             ],
             [
              0.2222222222222222,
              "#7201a8"
             ],
             [
              0.3333333333333333,
              "#9c179e"
             ],
             [
              0.4444444444444444,
              "#bd3786"
             ],
             [
              0.5555555555555556,
              "#d8576b"
             ],
             [
              0.6666666666666666,
              "#ed7953"
             ],
             [
              0.7777777777777778,
              "#fb9f3a"
             ],
             [
              0.8888888888888888,
              "#fdca26"
             ],
             [
              1,
              "#f0f921"
             ]
            ],
            "type": "surface"
           }
          ],
          "table": [
           {
            "cells": {
             "fill": {
              "color": "#EBF0F8"
             },
             "line": {
              "color": "white"
             }
            },
            "header": {
             "fill": {
              "color": "#C8D4E3"
             },
             "line": {
              "color": "white"
             }
            },
            "type": "table"
           }
          ]
         },
         "layout": {
          "annotationdefaults": {
           "arrowcolor": "#2a3f5f",
           "arrowhead": 0,
           "arrowwidth": 1
          },
          "coloraxis": {
           "colorbar": {
            "outlinewidth": 0,
            "ticks": ""
           }
          },
          "colorscale": {
           "diverging": [
            [
             0,
             "#8e0152"
            ],
            [
             0.1,
             "#c51b7d"
            ],
            [
             0.2,
             "#de77ae"
            ],
            [
             0.3,
             "#f1b6da"
            ],
            [
             0.4,
             "#fde0ef"
            ],
            [
             0.5,
             "#f7f7f7"
            ],
            [
             0.6,
             "#e6f5d0"
            ],
            [
             0.7,
             "#b8e186"
            ],
            [
             0.8,
             "#7fbc41"
            ],
            [
             0.9,
             "#4d9221"
            ],
            [
             1,
             "#276419"
            ]
           ],
           "sequential": [
            [
             0,
             "#0d0887"
            ],
            [
             0.1111111111111111,
             "#46039f"
            ],
            [
             0.2222222222222222,
             "#7201a8"
            ],
            [
             0.3333333333333333,
             "#9c179e"
            ],
            [
             0.4444444444444444,
             "#bd3786"
            ],
            [
             0.5555555555555556,
             "#d8576b"
            ],
            [
             0.6666666666666666,
             "#ed7953"
            ],
            [
             0.7777777777777778,
             "#fb9f3a"
            ],
            [
             0.8888888888888888,
             "#fdca26"
            ],
            [
             1,
             "#f0f921"
            ]
           ],
           "sequentialminus": [
            [
             0,
             "#0d0887"
            ],
            [
             0.1111111111111111,
             "#46039f"
            ],
            [
             0.2222222222222222,
             "#7201a8"
            ],
            [
             0.3333333333333333,
             "#9c179e"
            ],
            [
             0.4444444444444444,
             "#bd3786"
            ],
            [
             0.5555555555555556,
             "#d8576b"
            ],
            [
             0.6666666666666666,
             "#ed7953"
            ],
            [
             0.7777777777777778,
             "#fb9f3a"
            ],
            [
             0.8888888888888888,
             "#fdca26"
            ],
            [
             1,
             "#f0f921"
            ]
           ]
          },
          "colorway": [
           "#636efa",
           "#EF553B",
           "#00cc96",
           "#ab63fa",
           "#FFA15A",
           "#19d3f3",
           "#FF6692",
           "#B6E880",
           "#FF97FF",
           "#FECB52"
          ],
          "font": {
           "color": "#2a3f5f"
          },
          "geo": {
           "bgcolor": "white",
           "lakecolor": "white",
           "landcolor": "#E5ECF6",
           "showlakes": true,
           "showland": true,
           "subunitcolor": "white"
          },
          "hoverlabel": {
           "align": "left"
          },
          "hovermode": "closest",
          "mapbox": {
           "style": "light"
          },
          "paper_bgcolor": "white",
          "plot_bgcolor": "#E5ECF6",
          "polar": {
           "angularaxis": {
            "gridcolor": "white",
            "linecolor": "white",
            "ticks": ""
           },
           "bgcolor": "#E5ECF6",
           "radialaxis": {
            "gridcolor": "white",
            "linecolor": "white",
            "ticks": ""
           }
          },
          "scene": {
           "xaxis": {
            "backgroundcolor": "#E5ECF6",
            "gridcolor": "white",
            "gridwidth": 2,
            "linecolor": "white",
            "showbackground": true,
            "ticks": "",
            "zerolinecolor": "white"
           },
           "yaxis": {
            "backgroundcolor": "#E5ECF6",
            "gridcolor": "white",
            "gridwidth": 2,
            "linecolor": "white",
            "showbackground": true,
            "ticks": "",
            "zerolinecolor": "white"
           },
           "zaxis": {
            "backgroundcolor": "#E5ECF6",
            "gridcolor": "white",
            "gridwidth": 2,
            "linecolor": "white",
            "showbackground": true,
            "ticks": "",
            "zerolinecolor": "white"
           }
          },
          "shapedefaults": {
           "line": {
            "color": "#2a3f5f"
           }
          },
          "ternary": {
           "aaxis": {
            "gridcolor": "white",
            "linecolor": "white",
            "ticks": ""
           },
           "baxis": {
            "gridcolor": "white",
            "linecolor": "white",
            "ticks": ""
           },
           "bgcolor": "#E5ECF6",
           "caxis": {
            "gridcolor": "white",
            "linecolor": "white",
            "ticks": ""
           }
          },
          "title": {
           "x": 0.05
          },
          "xaxis": {
           "automargin": true,
           "gridcolor": "white",
           "linecolor": "white",
           "ticks": "",
           "title": {
            "standoff": 15
           },
           "zerolinecolor": "white",
           "zerolinewidth": 2
          },
          "yaxis": {
           "automargin": true,
           "gridcolor": "white",
           "linecolor": "white",
           "ticks": "",
           "title": {
            "standoff": 15
           },
           "zerolinecolor": "white",
           "zerolinewidth": 2
          }
         }
        },
        "title": {
         "font": {
          "color": "#4D5663"
         }
        },
        "xaxis": {
         "gridcolor": "#E1E5ED",
         "showgrid": true,
         "tickfont": {
          "color": "#4D5663"
         },
         "title": {
          "font": {
           "color": "#4D5663"
          },
          "text": ""
         },
         "zerolinecolor": "#E1E5ED"
        },
        "yaxis": {
         "gridcolor": "#E1E5ED",
         "showgrid": true,
         "tickfont": {
          "color": "#4D5663"
         },
         "title": {
          "font": {
           "color": "#4D5663"
          },
          "text": ""
         },
         "zerolinecolor": "#E1E5ED"
        }
       }
      },
      "text/html": [
       "<div>\n",
       "        \n",
       "        \n",
       "            <div id=\"5114253e-3dc0-4431-ab46-a8937c8641b8\" class=\"plotly-graph-div\" style=\"height:525px; width:100%;\"></div>\n",
       "            <script type=\"text/javascript\">\n",
       "                require([\"plotly\"], function(Plotly) {\n",
       "                    window.PLOTLYENV=window.PLOTLYENV || {};\n",
       "                    window.PLOTLYENV.BASE_URL='https://plot.ly';\n",
       "                    \n",
       "                if (document.getElementById(\"5114253e-3dc0-4431-ab46-a8937c8641b8\")) {\n",
       "                    Plotly.newPlot(\n",
       "                        '5114253e-3dc0-4431-ab46-a8937c8641b8',\n",
       "                        [{\"marker\": {\"color\": \"rgba(255, 153, 51, 0.6)\", \"line\": {\"color\": \"rgba(255, 153, 51, 1.0)\", \"width\": 1}}, \"name\": \"None\", \"orientation\": \"v\", \"text\": \"\", \"type\": \"bar\", \"x\": [\"A\", \"B\", \"C\", \"D\"], \"y\": [100, 100, 100, 100]}],\n",
       "                        {\"legend\": {\"bgcolor\": \"#F5F6F9\", \"font\": {\"color\": \"#4D5663\"}}, \"paper_bgcolor\": \"#F5F6F9\", \"plot_bgcolor\": \"#F5F6F9\", \"template\": {\"data\": {\"bar\": [{\"error_x\": {\"color\": \"#2a3f5f\"}, \"error_y\": {\"color\": \"#2a3f5f\"}, \"marker\": {\"line\": {\"color\": \"#E5ECF6\", \"width\": 0.5}}, \"type\": \"bar\"}], \"barpolar\": [{\"marker\": {\"line\": {\"color\": \"#E5ECF6\", \"width\": 0.5}}, \"type\": \"barpolar\"}], \"carpet\": [{\"aaxis\": {\"endlinecolor\": \"#2a3f5f\", \"gridcolor\": \"white\", \"linecolor\": \"white\", \"minorgridcolor\": \"white\", \"startlinecolor\": \"#2a3f5f\"}, \"baxis\": {\"endlinecolor\": \"#2a3f5f\", \"gridcolor\": \"white\", \"linecolor\": \"white\", \"minorgridcolor\": \"white\", \"startlinecolor\": \"#2a3f5f\"}, \"type\": \"carpet\"}], \"choropleth\": [{\"colorbar\": {\"outlinewidth\": 0, \"ticks\": \"\"}, \"type\": \"choropleth\"}], \"contour\": [{\"colorbar\": {\"outlinewidth\": 0, \"ticks\": \"\"}, \"colorscale\": [[0.0, \"#0d0887\"], [0.1111111111111111, \"#46039f\"], [0.2222222222222222, \"#7201a8\"], [0.3333333333333333, \"#9c179e\"], [0.4444444444444444, \"#bd3786\"], [0.5555555555555556, \"#d8576b\"], [0.6666666666666666, \"#ed7953\"], [0.7777777777777778, \"#fb9f3a\"], [0.8888888888888888, \"#fdca26\"], [1.0, \"#f0f921\"]], \"type\": \"contour\"}], \"contourcarpet\": [{\"colorbar\": {\"outlinewidth\": 0, \"ticks\": \"\"}, \"type\": \"contourcarpet\"}], \"heatmap\": [{\"colorbar\": {\"outlinewidth\": 0, \"ticks\": \"\"}, \"colorscale\": [[0.0, \"#0d0887\"], [0.1111111111111111, \"#46039f\"], [0.2222222222222222, \"#7201a8\"], [0.3333333333333333, \"#9c179e\"], [0.4444444444444444, \"#bd3786\"], [0.5555555555555556, \"#d8576b\"], [0.6666666666666666, \"#ed7953\"], [0.7777777777777778, \"#fb9f3a\"], [0.8888888888888888, \"#fdca26\"], [1.0, \"#f0f921\"]], \"type\": \"heatmap\"}], \"heatmapgl\": [{\"colorbar\": {\"outlinewidth\": 0, \"ticks\": \"\"}, \"colorscale\": [[0.0, \"#0d0887\"], [0.1111111111111111, \"#46039f\"], [0.2222222222222222, \"#7201a8\"], [0.3333333333333333, \"#9c179e\"], [0.4444444444444444, \"#bd3786\"], [0.5555555555555556, \"#d8576b\"], [0.6666666666666666, \"#ed7953\"], [0.7777777777777778, \"#fb9f3a\"], [0.8888888888888888, \"#fdca26\"], [1.0, \"#f0f921\"]], \"type\": \"heatmapgl\"}], \"histogram\": [{\"marker\": {\"colorbar\": {\"outlinewidth\": 0, \"ticks\": \"\"}}, \"type\": \"histogram\"}], \"histogram2d\": [{\"colorbar\": {\"outlinewidth\": 0, \"ticks\": \"\"}, \"colorscale\": [[0.0, \"#0d0887\"], [0.1111111111111111, \"#46039f\"], [0.2222222222222222, \"#7201a8\"], [0.3333333333333333, \"#9c179e\"], [0.4444444444444444, \"#bd3786\"], [0.5555555555555556, \"#d8576b\"], [0.6666666666666666, \"#ed7953\"], [0.7777777777777778, \"#fb9f3a\"], [0.8888888888888888, \"#fdca26\"], [1.0, \"#f0f921\"]], \"type\": \"histogram2d\"}], \"histogram2dcontour\": [{\"colorbar\": {\"outlinewidth\": 0, \"ticks\": \"\"}, \"colorscale\": [[0.0, \"#0d0887\"], [0.1111111111111111, \"#46039f\"], [0.2222222222222222, \"#7201a8\"], [0.3333333333333333, \"#9c179e\"], [0.4444444444444444, \"#bd3786\"], [0.5555555555555556, \"#d8576b\"], [0.6666666666666666, \"#ed7953\"], [0.7777777777777778, \"#fb9f3a\"], [0.8888888888888888, \"#fdca26\"], [1.0, \"#f0f921\"]], \"type\": \"histogram2dcontour\"}], \"mesh3d\": [{\"colorbar\": {\"outlinewidth\": 0, \"ticks\": \"\"}, \"type\": \"mesh3d\"}], \"parcoords\": [{\"line\": {\"colorbar\": {\"outlinewidth\": 0, \"ticks\": \"\"}}, \"type\": \"parcoords\"}], \"pie\": [{\"automargin\": true, \"type\": \"pie\"}], \"scatter\": [{\"marker\": {\"colorbar\": {\"outlinewidth\": 0, \"ticks\": \"\"}}, \"type\": \"scatter\"}], \"scatter3d\": [{\"line\": {\"colorbar\": {\"outlinewidth\": 0, \"ticks\": \"\"}}, \"marker\": {\"colorbar\": {\"outlinewidth\": 0, \"ticks\": \"\"}}, \"type\": \"scatter3d\"}], \"scattercarpet\": [{\"marker\": {\"colorbar\": {\"outlinewidth\": 0, \"ticks\": \"\"}}, \"type\": \"scattercarpet\"}], \"scattergeo\": [{\"marker\": {\"colorbar\": {\"outlinewidth\": 0, \"ticks\": \"\"}}, \"type\": \"scattergeo\"}], \"scattergl\": [{\"marker\": {\"colorbar\": {\"outlinewidth\": 0, \"ticks\": \"\"}}, \"type\": \"scattergl\"}], \"scattermapbox\": [{\"marker\": {\"colorbar\": {\"outlinewidth\": 0, \"ticks\": \"\"}}, \"type\": \"scattermapbox\"}], \"scatterpolar\": [{\"marker\": {\"colorbar\": {\"outlinewidth\": 0, \"ticks\": \"\"}}, \"type\": \"scatterpolar\"}], \"scatterpolargl\": [{\"marker\": {\"colorbar\": {\"outlinewidth\": 0, \"ticks\": \"\"}}, \"type\": \"scatterpolargl\"}], \"scatterternary\": [{\"marker\": {\"colorbar\": {\"outlinewidth\": 0, \"ticks\": \"\"}}, \"type\": \"scatterternary\"}], \"surface\": [{\"colorbar\": {\"outlinewidth\": 0, \"ticks\": \"\"}, \"colorscale\": [[0.0, \"#0d0887\"], [0.1111111111111111, \"#46039f\"], [0.2222222222222222, \"#7201a8\"], [0.3333333333333333, \"#9c179e\"], [0.4444444444444444, \"#bd3786\"], [0.5555555555555556, \"#d8576b\"], [0.6666666666666666, \"#ed7953\"], [0.7777777777777778, \"#fb9f3a\"], [0.8888888888888888, \"#fdca26\"], [1.0, \"#f0f921\"]], \"type\": \"surface\"}], \"table\": [{\"cells\": {\"fill\": {\"color\": \"#EBF0F8\"}, \"line\": {\"color\": \"white\"}}, \"header\": {\"fill\": {\"color\": \"#C8D4E3\"}, \"line\": {\"color\": \"white\"}}, \"type\": \"table\"}]}, \"layout\": {\"annotationdefaults\": {\"arrowcolor\": \"#2a3f5f\", \"arrowhead\": 0, \"arrowwidth\": 1}, \"coloraxis\": {\"colorbar\": {\"outlinewidth\": 0, \"ticks\": \"\"}}, \"colorscale\": {\"diverging\": [[0, \"#8e0152\"], [0.1, \"#c51b7d\"], [0.2, \"#de77ae\"], [0.3, \"#f1b6da\"], [0.4, \"#fde0ef\"], [0.5, \"#f7f7f7\"], [0.6, \"#e6f5d0\"], [0.7, \"#b8e186\"], [0.8, \"#7fbc41\"], [0.9, \"#4d9221\"], [1, \"#276419\"]], \"sequential\": [[0.0, \"#0d0887\"], [0.1111111111111111, \"#46039f\"], [0.2222222222222222, \"#7201a8\"], [0.3333333333333333, \"#9c179e\"], [0.4444444444444444, \"#bd3786\"], [0.5555555555555556, \"#d8576b\"], [0.6666666666666666, \"#ed7953\"], [0.7777777777777778, \"#fb9f3a\"], [0.8888888888888888, \"#fdca26\"], [1.0, \"#f0f921\"]], \"sequentialminus\": [[0.0, \"#0d0887\"], [0.1111111111111111, \"#46039f\"], [0.2222222222222222, \"#7201a8\"], [0.3333333333333333, \"#9c179e\"], [0.4444444444444444, \"#bd3786\"], [0.5555555555555556, \"#d8576b\"], [0.6666666666666666, \"#ed7953\"], [0.7777777777777778, \"#fb9f3a\"], [0.8888888888888888, \"#fdca26\"], [1.0, \"#f0f921\"]]}, \"colorway\": [\"#636efa\", \"#EF553B\", \"#00cc96\", \"#ab63fa\", \"#FFA15A\", \"#19d3f3\", \"#FF6692\", \"#B6E880\", \"#FF97FF\", \"#FECB52\"], \"font\": {\"color\": \"#2a3f5f\"}, \"geo\": {\"bgcolor\": \"white\", \"lakecolor\": \"white\", \"landcolor\": \"#E5ECF6\", \"showlakes\": true, \"showland\": true, \"subunitcolor\": \"white\"}, \"hoverlabel\": {\"align\": \"left\"}, \"hovermode\": \"closest\", \"mapbox\": {\"style\": \"light\"}, \"paper_bgcolor\": \"white\", \"plot_bgcolor\": \"#E5ECF6\", \"polar\": {\"angularaxis\": {\"gridcolor\": \"white\", \"linecolor\": \"white\", \"ticks\": \"\"}, \"bgcolor\": \"#E5ECF6\", \"radialaxis\": {\"gridcolor\": \"white\", \"linecolor\": \"white\", \"ticks\": \"\"}}, \"scene\": {\"xaxis\": {\"backgroundcolor\": \"#E5ECF6\", \"gridcolor\": \"white\", \"gridwidth\": 2, \"linecolor\": \"white\", \"showbackground\": true, \"ticks\": \"\", \"zerolinecolor\": \"white\"}, \"yaxis\": {\"backgroundcolor\": \"#E5ECF6\", \"gridcolor\": \"white\", \"gridwidth\": 2, \"linecolor\": \"white\", \"showbackground\": true, \"ticks\": \"\", \"zerolinecolor\": \"white\"}, \"zaxis\": {\"backgroundcolor\": \"#E5ECF6\", \"gridcolor\": \"white\", \"gridwidth\": 2, \"linecolor\": \"white\", \"showbackground\": true, \"ticks\": \"\", \"zerolinecolor\": \"white\"}}, \"shapedefaults\": {\"line\": {\"color\": \"#2a3f5f\"}}, \"ternary\": {\"aaxis\": {\"gridcolor\": \"white\", \"linecolor\": \"white\", \"ticks\": \"\"}, \"baxis\": {\"gridcolor\": \"white\", \"linecolor\": \"white\", \"ticks\": \"\"}, \"bgcolor\": \"#E5ECF6\", \"caxis\": {\"gridcolor\": \"white\", \"linecolor\": \"white\", \"ticks\": \"\"}}, \"title\": {\"x\": 0.05}, \"xaxis\": {\"automargin\": true, \"gridcolor\": \"white\", \"linecolor\": \"white\", \"ticks\": \"\", \"title\": {\"standoff\": 15}, \"zerolinecolor\": \"white\", \"zerolinewidth\": 2}, \"yaxis\": {\"automargin\": true, \"gridcolor\": \"white\", \"linecolor\": \"white\", \"ticks\": \"\", \"title\": {\"standoff\": 15}, \"zerolinecolor\": \"white\", \"zerolinewidth\": 2}}}, \"title\": {\"font\": {\"color\": \"#4D5663\"}}, \"xaxis\": {\"gridcolor\": \"#E1E5ED\", \"showgrid\": true, \"tickfont\": {\"color\": \"#4D5663\"}, \"title\": {\"font\": {\"color\": \"#4D5663\"}, \"text\": \"\"}, \"zerolinecolor\": \"#E1E5ED\"}, \"yaxis\": {\"gridcolor\": \"#E1E5ED\", \"showgrid\": true, \"tickfont\": {\"color\": \"#4D5663\"}, \"title\": {\"font\": {\"color\": \"#4D5663\"}, \"text\": \"\"}, \"zerolinecolor\": \"#E1E5ED\"}},\n",
       "                        {\"showLink\": true, \"linkText\": \"Export to plot.ly\", \"plotlyServerURL\": \"https://plot.ly\", \"responsive\": true}\n",
       "                    ).then(function(){\n",
       "                            \n",
       "var gd = document.getElementById('5114253e-3dc0-4431-ab46-a8937c8641b8');\n",
       "var x = new MutationObserver(function (mutations, observer) {{\n",
       "        var display = window.getComputedStyle(gd).display;\n",
       "        if (!display || display === 'none') {{\n",
       "            console.log([gd, 'removed!']);\n",
       "            Plotly.purge(gd);\n",
       "            observer.disconnect();\n",
       "        }}\n",
       "}});\n",
       "\n",
       "// Listen for the removal of the full notebook cells\n",
       "var notebookContainer = gd.closest('#notebook-container');\n",
       "if (notebookContainer) {{\n",
       "    x.observe(notebookContainer, {childList: true});\n",
       "}}\n",
       "\n",
       "// Listen for the clearing of the current output cell\n",
       "var outputEl = gd.closest('.output');\n",
       "if (outputEl) {{\n",
       "    x.observe(outputEl, {childList: true});\n",
       "}}\n",
       "\n",
       "                        })\n",
       "                };\n",
       "                });\n",
       "            </script>\n",
       "        </div>"
      ]
     },
     "metadata": {},
     "output_type": "display_data"
    }
   ],
   "source": [
    "df.count().iplot(kind='bar')"
   ]
  },
  {
   "cell_type": "markdown",
   "metadata": {},
   "source": [
    "## Boxplots"
   ]
  },
  {
   "cell_type": "code",
   "execution_count": 13,
   "metadata": {
    "jupyter": {
     "outputs_hidden": false
    }
   },
   "outputs": [
    {
     "data": {
      "application/vnd.plotly.v1+json": {
       "config": {
        "linkText": "Export to plot.ly",
        "plotlyServerURL": "https://plot.ly",
        "showLink": true
       },
       "data": [
        {
         "boxpoints": false,
         "line": {
          "width": 1.3
         },
         "marker": {
          "color": "rgba(255, 153, 51, 1.0)"
         },
         "name": "A",
         "orientation": "v",
         "type": "box",
         "y": [
          0.4180077677129555,
          -0.3128801845689577,
          -1.2818040073783439,
          -1.3499561265835542,
          0.3039279478452639,
          1.1863847742158518,
          1.0835583705349823,
          -0.7651009824722295,
          -0.004639367372395647,
          -1.2901800153095841,
          0.34194454457201795,
          0.2430265819302035,
          -1.239200746086747,
          0.6609179033616308,
          1.2215743606359457,
          0.22851490960072843,
          -0.14310895717634575,
          -0.7341660565469577,
          0.36739376263270695,
          -1.2263587978946202,
          1.1341530384801826,
          0.28922077570122323,
          1.4320291443559363,
          -0.029762809912246137,
          0.38843416039229095,
          -1.1576502517879128,
          1.247029680606232,
          -0.753455193611879,
          0.8454105594040022,
          -0.48863872395864744,
          2.0528279595553722,
          1.4216295566716677,
          0.3090330341207762,
          0.6300780183123109,
          0.10737093513874785,
          0.905973922917701,
          -0.2632028533845714,
          0.9603295207643638,
          1.71454912190604,
          0.30076145540589266,
          -1.158240647754955,
          -1.555770932461019,
          -0.5496394055924582,
          -0.3098464315731358,
          -0.9269172822170287,
          1.4110184848076361,
          1.0265506719696467,
          0.47315227690793843,
          2.673361746975534,
          -0.6268429927337782,
          0.7952441983109597,
          0.24673373697834614,
          0.11800304997405606,
          -0.2717307656980959,
          -1.2949623636338092,
          0.46002536031715685,
          -0.8360662796616206,
          -0.020453141860388522,
          0.09672518557631296,
          -0.25749844264543464,
          -0.19748331705545816,
          -1.67256744411012,
          0.16457940230626322,
          -0.6981315249889456,
          0.986887605344953,
          -1.0208677299390276,
          1.5248546268228698,
          -0.05730817773951274,
          -0.2809594183508312,
          0.2800640292767441,
          -0.510505088700282,
          -0.22022306767997035,
          2.561078078500293,
          0.32638871800881,
          0.4211229347119489,
          0.4209516549400868,
          -0.41142404589273535,
          -1.2027248824404886,
          -1.0516948271493292,
          -1.0425706408560913,
          0.8509036913952475,
          -0.5922630060724732,
          -0.17067372704042816,
          0.3863237902458271,
          -0.3888948052253109,
          1.4957478135781743,
          0.5039314677195023,
          -0.5050249482312905,
          -0.586667783064311,
          -0.33795302496972407,
          -0.5985714633089745,
          0.3291703972093818,
          1.3898555468856857,
          0.24688535145149937,
          -1.5197463024947038,
          -1.1415198737866825,
          0.6905109009733212,
          -0.6834054293578632,
          1.588126304796323,
          -0.5368967243521588
         ]
        },
        {
         "boxpoints": false,
         "line": {
          "width": 1.3
         },
         "marker": {
          "color": "rgba(55, 128, 191, 1.0)"
         },
         "name": "B",
         "orientation": "v",
         "type": "box",
         "y": [
          -0.38851389542406467,
          1.4555094701878195,
          -0.49250437347962495,
          0.5127069535232905,
          0.040541718463032075,
          0.16373327279668246,
          0.17257081418050907,
          0.30546492891383126,
          0.46958784039958695,
          -0.22966083824062747,
          -2.526885600303071,
          -0.4847405925891708,
          0.45377893892101284,
          -0.8368013602100006,
          0.42772046313745377,
          -1.738150320282506,
          -0.8297097197366343,
          0.30096605858103315,
          -0.17828234826613287,
          -0.6104656125377197,
          -0.057847804501502786,
          0.8075905382876867,
          -1.0556132374879243,
          -0.9976931987763373,
          2.588386126266256,
          -0.7780244315000312,
          -0.4390279271257135,
          -0.3323260365131081,
          -0.5029687669751323,
          0.9876315856388016,
          -0.8811506763207766,
          1.1919465596099408,
          -1.3971373000747602,
          -1.3167293924560757,
          0.08151482303535279,
          -2.396012948031223,
          -1.5454554866390564,
          0.715911814485308,
          0.11306587784706669,
          0.6871377228556313,
          0.1678675167159434,
          0.35767472857090465,
          1.6343324317472023,
          0.7408556906103368,
          0.5546661006435808,
          1.1705085664132198,
          -0.1950920426807639,
          0.8072746249080459,
          0.7191339935489122,
          0.2627823994645575,
          0.2716123406664341,
          0.06509604265191297,
          0.24775972951110936,
          -0.031764637242011964,
          0.7222793010970351,
          -1.0430619181025411,
          -0.6124268425291312,
          -0.9574044874482729,
          -0.8282953516308782,
          -0.15415791161250897,
          0.07323383909711624,
          2.0322204253233855,
          -2.709345784372258,
          0.6746943139917259,
          1.6003465621504065,
          -0.5546245562644994,
          0.2361100996334074,
          0.5135461009704804,
          0.6040598602576654,
          1.1972841291220075,
          0.5364947168111209,
          0.051253270889895015,
          1.3340314363537538,
          -1.499837262081371,
          1.4553991652504519,
          1.847950398899375,
          0.1504194495906708,
          -1.590313598465302,
          0.21520617758582,
          1.02603310475097,
          0.6716755400605747,
          1.2976699163750265,
          -1.3903035976441018,
          -1.5532971064033823,
          -0.19222439095544397,
          -0.8894040710742132,
          2.232239911471498,
          -0.2188573687720621,
          -0.8279744043641107,
          -0.6654106718715332,
          -0.5045060182494511,
          -0.11565646918786261,
          -0.6563025933303193,
          -0.7169847878554301,
          -0.33206575350661677,
          -0.45730465975917006,
          -1.4019649160542775,
          0.307032042787555,
          1.2999536161020562,
          0.6743916762583729
         ]
        },
        {
         "boxpoints": false,
         "line": {
          "width": 1.3
         },
         "marker": {
          "color": "rgba(50, 171, 96, 1.0)"
         },
         "name": "C",
         "orientation": "v",
         "type": "box",
         "y": [
          -1.5548971198664823,
          0.16076004176469136,
          0.38365211920215275,
          0.5690187441345403,
          -0.32387980228073726,
          -0.6879882203982293,
          2.17228274716675,
          0.18034727166922518,
          -0.5544694409729981,
          -1.7869676808151327,
          1.5734761685349372,
          -0.3275938262407917,
          0.6059354603861855,
          0.3380638784211195,
          -0.7025282299628814,
          -1.7535061108292629,
          -0.2817342235864836,
          -0.9332507063514746,
          0.34068730604246744,
          0.3920694995444077,
          1.7164967032968461,
          -0.5559258945821576,
          0.6583770044983814,
          -0.81641359031972,
          -0.22728349353793822,
          -0.05868018453449199,
          0.08252693763996004,
          1.8549780059929735,
          0.951272617955901,
          1.616734192023336,
          0.5715557002398042,
          0.41577979284301253,
          0.6609591257248846,
          -0.5034055320120396,
          0.4048042238395531,
          0.10291766268351217,
          0.015453168506189956,
          0.6143178089612366,
          2.536098360814724,
          -1.583499304235178,
          -1.2995785729135914,
          0.9604734337615023,
          2.0372092307017446,
          0.9013060677804324,
          0.08400577433314985,
          -0.19928395298651444,
          0.39361388456957386,
          1.9517976016324357,
          -0.03875745399683904,
          0.02537125023711632,
          -1.9367845642249184,
          -2.154023228066554,
          1.0280095919767904,
          1.4007570810843677,
          -0.6285150476022329,
          -0.6537667389604715,
          2.3261114055947183,
          -2.827173989186571,
          0.9893705271276441,
          0.7675389611073868,
          0.21945766880972742,
          -1.0019971109369443,
          -1.1047431244214116,
          0.8295658153020609,
          -0.04571832559604567,
          -0.5423232623976562,
          0.10153918282634145,
          0.7290154762441521,
          -0.43804437057543066,
          0.08973182263719404,
          0.9809285807998175,
          -1.1003185112523015,
          -2.8061286461565245,
          -0.2590983357270895,
          -0.791915671111303,
          3.01674581735022,
          -0.7018061227785953,
          0.13439232590575362,
          0.6841874322387901,
          2.309545547532321,
          0.82374583313213,
          0.43282087923108364,
          0.5479294835482278,
          0.6407149207673306,
          -0.22189636567169257,
          0.05646080496771162,
          -0.35031193224878754,
          0.21838480584868908,
          0.9724591532271197,
          1.9696924218403984,
          1.1532337295118351,
          0.9026618450366959,
          0.43087417541807854,
          -1.01579492058328,
          -0.7032899418786179,
          -0.7109388642256232,
          0.04226715991717669,
          0.06873957803031885,
          -0.3187605124781835,
          -0.6898535537880573
         ]
        },
        {
         "boxpoints": false,
         "line": {
          "width": 1.3
         },
         "marker": {
          "color": "rgba(128, 0, 128, 1.0)"
         },
         "name": "D",
         "orientation": "v",
         "type": "box",
         "y": [
          1.9035873724567771,
          0.9424767159878351,
          0.7177576140550985,
          0.02044278753700372,
          -1.1279815774088429,
          -1.7015773156819936,
          -0.9044139870557208,
          -1.6174588287651726,
          -1.1689027313310763,
          -0.6404651377826653,
          0.3304314768869591,
          0.3832002511845898,
          -1.1221992417270812,
          -0.6878436810546351,
          1.4175359611936849,
          -0.6255067628898198,
          -0.07932381799453833,
          -1.0026217568107434,
          0.3768846186175386,
          -0.47297881369821143,
          1.3209042209707882,
          -0.9716227006726936,
          -1.3271319178685188,
          0.24408944374847133,
          0.8790061541851925,
          0.0735750338232907,
          0.0321923052397181,
          0.654943738468808,
          -0.0034610527503854223,
          2.2230079619714727,
          -1.3628441468126884,
          -0.6034584400011707,
          -0.22130026864043026,
          0.9057975301407415,
          1.1264820141748102,
          -1.3693850981008922,
          -0.6008605611432628,
          0.7954553134069772,
          0.6316290222616032,
          1.0706196947586943,
          -0.011710012872178465,
          -1.706155832964387,
          -0.46664671066258434,
          0.46459287282569633,
          0.6085947859192774,
          -0.6248760000018144,
          -1.3225581075825943,
          1.4216822522034809,
          1.2299905107810967,
          1.017811497550339,
          -0.27162596308459397,
          0.5344229096515827,
          1.2644276707445496,
          -0.4456595145923994,
          -0.34176318091132063,
          0.9525998868815186,
          1.6567790192769374,
          0.5275861320878861,
          0.03098245144479996,
          0.3605531346965227,
          0.7547386569858132,
          0.45564431772276637,
          -1.0373106180973466,
          -0.8106646135481044,
          -1.0446175823543187,
          0.11658607871768786,
          0.3172298874444565,
          1.6668483465017563,
          0.0020469118835838925,
          -1.074679836754118,
          0.06638055840001972,
          0.30992379820670507,
          1.8953476750016551,
          -0.042813449087720945,
          2.031908121326955,
          -0.08998646566650483,
          -0.7676390551546229,
          0.2845692651092083,
          0.20859153017068754,
          -1.3262751190632773,
          -0.19024430392280736,
          0.945622925389767,
          -0.12099717128340479,
          -0.6119348182338643,
          1.373214122049092,
          0.8010211229650782,
          -0.7583998431150829,
          1.0946388590416698,
          1.5109307097209796,
          -0.9747911239924799,
          -0.6052834275765676,
          -1.2190148605124953,
          0.44542411807913146,
          -0.16883442574082722,
          -0.90405452975825,
          -0.01634173273998749,
          -0.7624608483203248,
          -0.6380440434789618,
          0.012993249942215972,
          -1.5070538071389876
         ]
        }
       ],
       "layout": {
        "legend": {
         "bgcolor": "#F5F6F9",
         "font": {
          "color": "#4D5663"
         }
        },
        "paper_bgcolor": "#F5F6F9",
        "plot_bgcolor": "#F5F6F9",
        "template": {
         "data": {
          "bar": [
           {
            "error_x": {
             "color": "#2a3f5f"
            },
            "error_y": {
             "color": "#2a3f5f"
            },
            "marker": {
             "line": {
              "color": "#E5ECF6",
              "width": 0.5
             }
            },
            "type": "bar"
           }
          ],
          "barpolar": [
           {
            "marker": {
             "line": {
              "color": "#E5ECF6",
              "width": 0.5
             }
            },
            "type": "barpolar"
           }
          ],
          "carpet": [
           {
            "aaxis": {
             "endlinecolor": "#2a3f5f",
             "gridcolor": "white",
             "linecolor": "white",
             "minorgridcolor": "white",
             "startlinecolor": "#2a3f5f"
            },
            "baxis": {
             "endlinecolor": "#2a3f5f",
             "gridcolor": "white",
             "linecolor": "white",
             "minorgridcolor": "white",
             "startlinecolor": "#2a3f5f"
            },
            "type": "carpet"
           }
          ],
          "choropleth": [
           {
            "colorbar": {
             "outlinewidth": 0,
             "ticks": ""
            },
            "type": "choropleth"
           }
          ],
          "contour": [
           {
            "colorbar": {
             "outlinewidth": 0,
             "ticks": ""
            },
            "colorscale": [
             [
              0,
              "#0d0887"
             ],
             [
              0.1111111111111111,
              "#46039f"
             ],
             [
              0.2222222222222222,
              "#7201a8"
             ],
             [
              0.3333333333333333,
              "#9c179e"
             ],
             [
              0.4444444444444444,
              "#bd3786"
             ],
             [
              0.5555555555555556,
              "#d8576b"
             ],
             [
              0.6666666666666666,
              "#ed7953"
             ],
             [
              0.7777777777777778,
              "#fb9f3a"
             ],
             [
              0.8888888888888888,
              "#fdca26"
             ],
             [
              1,
              "#f0f921"
             ]
            ],
            "type": "contour"
           }
          ],
          "contourcarpet": [
           {
            "colorbar": {
             "outlinewidth": 0,
             "ticks": ""
            },
            "type": "contourcarpet"
           }
          ],
          "heatmap": [
           {
            "colorbar": {
             "outlinewidth": 0,
             "ticks": ""
            },
            "colorscale": [
             [
              0,
              "#0d0887"
             ],
             [
              0.1111111111111111,
              "#46039f"
             ],
             [
              0.2222222222222222,
              "#7201a8"
             ],
             [
              0.3333333333333333,
              "#9c179e"
             ],
             [
              0.4444444444444444,
              "#bd3786"
             ],
             [
              0.5555555555555556,
              "#d8576b"
             ],
             [
              0.6666666666666666,
              "#ed7953"
             ],
             [
              0.7777777777777778,
              "#fb9f3a"
             ],
             [
              0.8888888888888888,
              "#fdca26"
             ],
             [
              1,
              "#f0f921"
             ]
            ],
            "type": "heatmap"
           }
          ],
          "heatmapgl": [
           {
            "colorbar": {
             "outlinewidth": 0,
             "ticks": ""
            },
            "colorscale": [
             [
              0,
              "#0d0887"
             ],
             [
              0.1111111111111111,
              "#46039f"
             ],
             [
              0.2222222222222222,
              "#7201a8"
             ],
             [
              0.3333333333333333,
              "#9c179e"
             ],
             [
              0.4444444444444444,
              "#bd3786"
             ],
             [
              0.5555555555555556,
              "#d8576b"
             ],
             [
              0.6666666666666666,
              "#ed7953"
             ],
             [
              0.7777777777777778,
              "#fb9f3a"
             ],
             [
              0.8888888888888888,
              "#fdca26"
             ],
             [
              1,
              "#f0f921"
             ]
            ],
            "type": "heatmapgl"
           }
          ],
          "histogram": [
           {
            "marker": {
             "colorbar": {
              "outlinewidth": 0,
              "ticks": ""
             }
            },
            "type": "histogram"
           }
          ],
          "histogram2d": [
           {
            "colorbar": {
             "outlinewidth": 0,
             "ticks": ""
            },
            "colorscale": [
             [
              0,
              "#0d0887"
             ],
             [
              0.1111111111111111,
              "#46039f"
             ],
             [
              0.2222222222222222,
              "#7201a8"
             ],
             [
              0.3333333333333333,
              "#9c179e"
             ],
             [
              0.4444444444444444,
              "#bd3786"
             ],
             [
              0.5555555555555556,
              "#d8576b"
             ],
             [
              0.6666666666666666,
              "#ed7953"
             ],
             [
              0.7777777777777778,
              "#fb9f3a"
             ],
             [
              0.8888888888888888,
              "#fdca26"
             ],
             [
              1,
              "#f0f921"
             ]
            ],
            "type": "histogram2d"
           }
          ],
          "histogram2dcontour": [
           {
            "colorbar": {
             "outlinewidth": 0,
             "ticks": ""
            },
            "colorscale": [
             [
              0,
              "#0d0887"
             ],
             [
              0.1111111111111111,
              "#46039f"
             ],
             [
              0.2222222222222222,
              "#7201a8"
             ],
             [
              0.3333333333333333,
              "#9c179e"
             ],
             [
              0.4444444444444444,
              "#bd3786"
             ],
             [
              0.5555555555555556,
              "#d8576b"
             ],
             [
              0.6666666666666666,
              "#ed7953"
             ],
             [
              0.7777777777777778,
              "#fb9f3a"
             ],
             [
              0.8888888888888888,
              "#fdca26"
             ],
             [
              1,
              "#f0f921"
             ]
            ],
            "type": "histogram2dcontour"
           }
          ],
          "mesh3d": [
           {
            "colorbar": {
             "outlinewidth": 0,
             "ticks": ""
            },
            "type": "mesh3d"
           }
          ],
          "parcoords": [
           {
            "line": {
             "colorbar": {
              "outlinewidth": 0,
              "ticks": ""
             }
            },
            "type": "parcoords"
           }
          ],
          "pie": [
           {
            "automargin": true,
            "type": "pie"
           }
          ],
          "scatter": [
           {
            "marker": {
             "colorbar": {
              "outlinewidth": 0,
              "ticks": ""
             }
            },
            "type": "scatter"
           }
          ],
          "scatter3d": [
           {
            "line": {
             "colorbar": {
              "outlinewidth": 0,
              "ticks": ""
             }
            },
            "marker": {
             "colorbar": {
              "outlinewidth": 0,
              "ticks": ""
             }
            },
            "type": "scatter3d"
           }
          ],
          "scattercarpet": [
           {
            "marker": {
             "colorbar": {
              "outlinewidth": 0,
              "ticks": ""
             }
            },
            "type": "scattercarpet"
           }
          ],
          "scattergeo": [
           {
            "marker": {
             "colorbar": {
              "outlinewidth": 0,
              "ticks": ""
             }
            },
            "type": "scattergeo"
           }
          ],
          "scattergl": [
           {
            "marker": {
             "colorbar": {
              "outlinewidth": 0,
              "ticks": ""
             }
            },
            "type": "scattergl"
           }
          ],
          "scattermapbox": [
           {
            "marker": {
             "colorbar": {
              "outlinewidth": 0,
              "ticks": ""
             }
            },
            "type": "scattermapbox"
           }
          ],
          "scatterpolar": [
           {
            "marker": {
             "colorbar": {
              "outlinewidth": 0,
              "ticks": ""
             }
            },
            "type": "scatterpolar"
           }
          ],
          "scatterpolargl": [
           {
            "marker": {
             "colorbar": {
              "outlinewidth": 0,
              "ticks": ""
             }
            },
            "type": "scatterpolargl"
           }
          ],
          "scatterternary": [
           {
            "marker": {
             "colorbar": {
              "outlinewidth": 0,
              "ticks": ""
             }
            },
            "type": "scatterternary"
           }
          ],
          "surface": [
           {
            "colorbar": {
             "outlinewidth": 0,
             "ticks": ""
            },
            "colorscale": [
             [
              0,
              "#0d0887"
             ],
             [
              0.1111111111111111,
              "#46039f"
             ],
             [
              0.2222222222222222,
              "#7201a8"
             ],
             [
              0.3333333333333333,
              "#9c179e"
             ],
             [
              0.4444444444444444,
              "#bd3786"
             ],
             [
              0.5555555555555556,
              "#d8576b"
             ],
             [
              0.6666666666666666,
              "#ed7953"
             ],
             [
              0.7777777777777778,
              "#fb9f3a"
             ],
             [
              0.8888888888888888,
              "#fdca26"
             ],
             [
              1,
              "#f0f921"
             ]
            ],
            "type": "surface"
           }
          ],
          "table": [
           {
            "cells": {
             "fill": {
              "color": "#EBF0F8"
             },
             "line": {
              "color": "white"
             }
            },
            "header": {
             "fill": {
              "color": "#C8D4E3"
             },
             "line": {
              "color": "white"
             }
            },
            "type": "table"
           }
          ]
         },
         "layout": {
          "annotationdefaults": {
           "arrowcolor": "#2a3f5f",
           "arrowhead": 0,
           "arrowwidth": 1
          },
          "coloraxis": {
           "colorbar": {
            "outlinewidth": 0,
            "ticks": ""
           }
          },
          "colorscale": {
           "diverging": [
            [
             0,
             "#8e0152"
            ],
            [
             0.1,
             "#c51b7d"
            ],
            [
             0.2,
             "#de77ae"
            ],
            [
             0.3,
             "#f1b6da"
            ],
            [
             0.4,
             "#fde0ef"
            ],
            [
             0.5,
             "#f7f7f7"
            ],
            [
             0.6,
             "#e6f5d0"
            ],
            [
             0.7,
             "#b8e186"
            ],
            [
             0.8,
             "#7fbc41"
            ],
            [
             0.9,
             "#4d9221"
            ],
            [
             1,
             "#276419"
            ]
           ],
           "sequential": [
            [
             0,
             "#0d0887"
            ],
            [
             0.1111111111111111,
             "#46039f"
            ],
            [
             0.2222222222222222,
             "#7201a8"
            ],
            [
             0.3333333333333333,
             "#9c179e"
            ],
            [
             0.4444444444444444,
             "#bd3786"
            ],
            [
             0.5555555555555556,
             "#d8576b"
            ],
            [
             0.6666666666666666,
             "#ed7953"
            ],
            [
             0.7777777777777778,
             "#fb9f3a"
            ],
            [
             0.8888888888888888,
             "#fdca26"
            ],
            [
             1,
             "#f0f921"
            ]
           ],
           "sequentialminus": [
            [
             0,
             "#0d0887"
            ],
            [
             0.1111111111111111,
             "#46039f"
            ],
            [
             0.2222222222222222,
             "#7201a8"
            ],
            [
             0.3333333333333333,
             "#9c179e"
            ],
            [
             0.4444444444444444,
             "#bd3786"
            ],
            [
             0.5555555555555556,
             "#d8576b"
            ],
            [
             0.6666666666666666,
             "#ed7953"
            ],
            [
             0.7777777777777778,
             "#fb9f3a"
            ],
            [
             0.8888888888888888,
             "#fdca26"
            ],
            [
             1,
             "#f0f921"
            ]
           ]
          },
          "colorway": [
           "#636efa",
           "#EF553B",
           "#00cc96",
           "#ab63fa",
           "#FFA15A",
           "#19d3f3",
           "#FF6692",
           "#B6E880",
           "#FF97FF",
           "#FECB52"
          ],
          "font": {
           "color": "#2a3f5f"
          },
          "geo": {
           "bgcolor": "white",
           "lakecolor": "white",
           "landcolor": "#E5ECF6",
           "showlakes": true,
           "showland": true,
           "subunitcolor": "white"
          },
          "hoverlabel": {
           "align": "left"
          },
          "hovermode": "closest",
          "mapbox": {
           "style": "light"
          },
          "paper_bgcolor": "white",
          "plot_bgcolor": "#E5ECF6",
          "polar": {
           "angularaxis": {
            "gridcolor": "white",
            "linecolor": "white",
            "ticks": ""
           },
           "bgcolor": "#E5ECF6",
           "radialaxis": {
            "gridcolor": "white",
            "linecolor": "white",
            "ticks": ""
           }
          },
          "scene": {
           "xaxis": {
            "backgroundcolor": "#E5ECF6",
            "gridcolor": "white",
            "gridwidth": 2,
            "linecolor": "white",
            "showbackground": true,
            "ticks": "",
            "zerolinecolor": "white"
           },
           "yaxis": {
            "backgroundcolor": "#E5ECF6",
            "gridcolor": "white",
            "gridwidth": 2,
            "linecolor": "white",
            "showbackground": true,
            "ticks": "",
            "zerolinecolor": "white"
           },
           "zaxis": {
            "backgroundcolor": "#E5ECF6",
            "gridcolor": "white",
            "gridwidth": 2,
            "linecolor": "white",
            "showbackground": true,
            "ticks": "",
            "zerolinecolor": "white"
           }
          },
          "shapedefaults": {
           "line": {
            "color": "#2a3f5f"
           }
          },
          "ternary": {
           "aaxis": {
            "gridcolor": "white",
            "linecolor": "white",
            "ticks": ""
           },
           "baxis": {
            "gridcolor": "white",
            "linecolor": "white",
            "ticks": ""
           },
           "bgcolor": "#E5ECF6",
           "caxis": {
            "gridcolor": "white",
            "linecolor": "white",
            "ticks": ""
           }
          },
          "title": {
           "x": 0.05
          },
          "xaxis": {
           "automargin": true,
           "gridcolor": "white",
           "linecolor": "white",
           "ticks": "",
           "title": {
            "standoff": 15
           },
           "zerolinecolor": "white",
           "zerolinewidth": 2
          },
          "yaxis": {
           "automargin": true,
           "gridcolor": "white",
           "linecolor": "white",
           "ticks": "",
           "title": {
            "standoff": 15
           },
           "zerolinecolor": "white",
           "zerolinewidth": 2
          }
         }
        },
        "title": {
         "font": {
          "color": "#4D5663"
         }
        },
        "xaxis": {
         "gridcolor": "#E1E5ED",
         "showgrid": true,
         "tickfont": {
          "color": "#4D5663"
         },
         "title": {
          "font": {
           "color": "#4D5663"
          },
          "text": ""
         },
         "zerolinecolor": "#E1E5ED"
        },
        "yaxis": {
         "gridcolor": "#E1E5ED",
         "showgrid": true,
         "tickfont": {
          "color": "#4D5663"
         },
         "title": {
          "font": {
           "color": "#4D5663"
          },
          "text": ""
         },
         "zerolinecolor": "#E1E5ED"
        }
       }
      },
      "text/html": [
       "<div>\n",
       "        \n",
       "        \n",
       "            <div id=\"7e9065a3-df7e-4cda-a3e7-bbf5dd6bd080\" class=\"plotly-graph-div\" style=\"height:525px; width:100%;\"></div>\n",
       "            <script type=\"text/javascript\">\n",
       "                require([\"plotly\"], function(Plotly) {\n",
       "                    window.PLOTLYENV=window.PLOTLYENV || {};\n",
       "                    window.PLOTLYENV.BASE_URL='https://plot.ly';\n",
       "                    \n",
       "                if (document.getElementById(\"7e9065a3-df7e-4cda-a3e7-bbf5dd6bd080\")) {\n",
       "                    Plotly.newPlot(\n",
       "                        '7e9065a3-df7e-4cda-a3e7-bbf5dd6bd080',\n",
       "                        [{\"boxpoints\": false, \"line\": {\"width\": 1.3}, \"marker\": {\"color\": \"rgba(255, 153, 51, 1.0)\"}, \"name\": \"A\", \"orientation\": \"v\", \"type\": \"box\", \"y\": [0.4180077677129555, -0.3128801845689577, -1.2818040073783439, -1.3499561265835542, 0.3039279478452639, 1.1863847742158518, 1.0835583705349823, -0.7651009824722295, -0.004639367372395647, -1.2901800153095841, 0.34194454457201795, 0.2430265819302035, -1.239200746086747, 0.6609179033616308, 1.2215743606359457, 0.22851490960072843, -0.14310895717634575, -0.7341660565469577, 0.36739376263270695, -1.2263587978946202, 1.1341530384801826, 0.28922077570122323, 1.4320291443559363, -0.029762809912246137, 0.38843416039229095, -1.1576502517879128, 1.247029680606232, -0.753455193611879, 0.8454105594040022, -0.48863872395864744, 2.0528279595553722, 1.4216295566716677, 0.3090330341207762, 0.6300780183123109, 0.10737093513874785, 0.905973922917701, -0.2632028533845714, 0.9603295207643638, 1.71454912190604, 0.30076145540589266, -1.158240647754955, -1.555770932461019, -0.5496394055924582, -0.3098464315731358, -0.9269172822170287, 1.4110184848076361, 1.0265506719696467, 0.47315227690793843, 2.673361746975534, -0.6268429927337782, 0.7952441983109597, 0.24673373697834614, 0.11800304997405606, -0.2717307656980959, -1.2949623636338092, 0.46002536031715685, -0.8360662796616206, -0.020453141860388522, 0.09672518557631296, -0.25749844264543464, -0.19748331705545816, -1.67256744411012, 0.16457940230626322, -0.6981315249889456, 0.986887605344953, -1.0208677299390276, 1.5248546268228698, -0.05730817773951274, -0.2809594183508312, 0.2800640292767441, -0.510505088700282, -0.22022306767997035, 2.561078078500293, 0.32638871800881, 0.4211229347119489, 0.4209516549400868, -0.41142404589273535, -1.2027248824404886, -1.0516948271493292, -1.0425706408560913, 0.8509036913952475, -0.5922630060724732, -0.17067372704042816, 0.3863237902458271, -0.3888948052253109, 1.4957478135781743, 0.5039314677195023, -0.5050249482312905, -0.586667783064311, -0.33795302496972407, -0.5985714633089745, 0.3291703972093818, 1.3898555468856857, 0.24688535145149937, -1.5197463024947038, -1.1415198737866825, 0.6905109009733212, -0.6834054293578632, 1.588126304796323, -0.5368967243521588]}, {\"boxpoints\": false, \"line\": {\"width\": 1.3}, \"marker\": {\"color\": \"rgba(55, 128, 191, 1.0)\"}, \"name\": \"B\", \"orientation\": \"v\", \"type\": \"box\", \"y\": [-0.38851389542406467, 1.4555094701878195, -0.49250437347962495, 0.5127069535232905, 0.040541718463032075, 0.16373327279668246, 0.17257081418050907, 0.30546492891383126, 0.46958784039958695, -0.22966083824062747, -2.526885600303071, -0.4847405925891708, 0.45377893892101284, -0.8368013602100006, 0.42772046313745377, -1.738150320282506, -0.8297097197366343, 0.30096605858103315, -0.17828234826613287, -0.6104656125377197, -0.057847804501502786, 0.8075905382876867, -1.0556132374879243, -0.9976931987763373, 2.588386126266256, -0.7780244315000312, -0.4390279271257135, -0.3323260365131081, -0.5029687669751323, 0.9876315856388016, -0.8811506763207766, 1.1919465596099408, -1.3971373000747602, -1.3167293924560757, 0.08151482303535279, -2.396012948031223, -1.5454554866390564, 0.715911814485308, 0.11306587784706669, 0.6871377228556313, 0.1678675167159434, 0.35767472857090465, 1.6343324317472023, 0.7408556906103368, 0.5546661006435808, 1.1705085664132198, -0.1950920426807639, 0.8072746249080459, 0.7191339935489122, 0.2627823994645575, 0.2716123406664341, 0.06509604265191297, 0.24775972951110936, -0.031764637242011964, 0.7222793010970351, -1.0430619181025411, -0.6124268425291312, -0.9574044874482729, -0.8282953516308782, -0.15415791161250897, 0.07323383909711624, 2.0322204253233855, -2.709345784372258, 0.6746943139917259, 1.6003465621504065, -0.5546245562644994, 0.2361100996334074, 0.5135461009704804, 0.6040598602576654, 1.1972841291220075, 0.5364947168111209, 0.051253270889895015, 1.3340314363537538, -1.499837262081371, 1.4553991652504519, 1.847950398899375, 0.1504194495906708, -1.590313598465302, 0.21520617758582, 1.02603310475097, 0.6716755400605747, 1.2976699163750265, -1.3903035976441018, -1.5532971064033823, -0.19222439095544397, -0.8894040710742132, 2.232239911471498, -0.2188573687720621, -0.8279744043641107, -0.6654106718715332, -0.5045060182494511, -0.11565646918786261, -0.6563025933303193, -0.7169847878554301, -0.33206575350661677, -0.45730465975917006, -1.4019649160542775, 0.307032042787555, 1.2999536161020562, 0.6743916762583729]}, {\"boxpoints\": false, \"line\": {\"width\": 1.3}, \"marker\": {\"color\": \"rgba(50, 171, 96, 1.0)\"}, \"name\": \"C\", \"orientation\": \"v\", \"type\": \"box\", \"y\": [-1.5548971198664823, 0.16076004176469136, 0.38365211920215275, 0.5690187441345403, -0.32387980228073726, -0.6879882203982293, 2.17228274716675, 0.18034727166922518, -0.5544694409729981, -1.7869676808151327, 1.5734761685349372, -0.3275938262407917, 0.6059354603861855, 0.3380638784211195, -0.7025282299628814, -1.7535061108292629, -0.2817342235864836, -0.9332507063514746, 0.34068730604246744, 0.3920694995444077, 1.7164967032968461, -0.5559258945821576, 0.6583770044983814, -0.81641359031972, -0.22728349353793822, -0.05868018453449199, 0.08252693763996004, 1.8549780059929735, 0.951272617955901, 1.616734192023336, 0.5715557002398042, 0.41577979284301253, 0.6609591257248846, -0.5034055320120396, 0.4048042238395531, 0.10291766268351217, 0.015453168506189956, 0.6143178089612366, 2.536098360814724, -1.583499304235178, -1.2995785729135914, 0.9604734337615023, 2.0372092307017446, 0.9013060677804324, 0.08400577433314985, -0.19928395298651444, 0.39361388456957386, 1.9517976016324357, -0.03875745399683904, 0.02537125023711632, -1.9367845642249184, -2.154023228066554, 1.0280095919767904, 1.4007570810843677, -0.6285150476022329, -0.6537667389604715, 2.3261114055947183, -2.827173989186571, 0.9893705271276441, 0.7675389611073868, 0.21945766880972742, -1.0019971109369443, -1.1047431244214116, 0.8295658153020609, -0.04571832559604567, -0.5423232623976562, 0.10153918282634145, 0.7290154762441521, -0.43804437057543066, 0.08973182263719404, 0.9809285807998175, -1.1003185112523015, -2.8061286461565245, -0.2590983357270895, -0.791915671111303, 3.01674581735022, -0.7018061227785953, 0.13439232590575362, 0.6841874322387901, 2.309545547532321, 0.82374583313213, 0.43282087923108364, 0.5479294835482278, 0.6407149207673306, -0.22189636567169257, 0.05646080496771162, -0.35031193224878754, 0.21838480584868908, 0.9724591532271197, 1.9696924218403984, 1.1532337295118351, 0.9026618450366959, 0.43087417541807854, -1.01579492058328, -0.7032899418786179, -0.7109388642256232, 0.04226715991717669, 0.06873957803031885, -0.3187605124781835, -0.6898535537880573]}, {\"boxpoints\": false, \"line\": {\"width\": 1.3}, \"marker\": {\"color\": \"rgba(128, 0, 128, 1.0)\"}, \"name\": \"D\", \"orientation\": \"v\", \"type\": \"box\", \"y\": [1.9035873724567771, 0.9424767159878351, 0.7177576140550985, 0.02044278753700372, -1.1279815774088429, -1.7015773156819936, -0.9044139870557208, -1.6174588287651726, -1.1689027313310763, -0.6404651377826653, 0.3304314768869591, 0.3832002511845898, -1.1221992417270812, -0.6878436810546351, 1.4175359611936849, -0.6255067628898198, -0.07932381799453833, -1.0026217568107434, 0.3768846186175386, -0.47297881369821143, 1.3209042209707882, -0.9716227006726936, -1.3271319178685188, 0.24408944374847133, 0.8790061541851925, 0.0735750338232907, 0.0321923052397181, 0.654943738468808, -0.0034610527503854223, 2.2230079619714727, -1.3628441468126884, -0.6034584400011707, -0.22130026864043026, 0.9057975301407415, 1.1264820141748102, -1.3693850981008922, -0.6008605611432628, 0.7954553134069772, 0.6316290222616032, 1.0706196947586943, -0.011710012872178465, -1.706155832964387, -0.46664671066258434, 0.46459287282569633, 0.6085947859192774, -0.6248760000018144, -1.3225581075825943, 1.4216822522034809, 1.2299905107810967, 1.017811497550339, -0.27162596308459397, 0.5344229096515827, 1.2644276707445496, -0.4456595145923994, -0.34176318091132063, 0.9525998868815186, 1.6567790192769374, 0.5275861320878861, 0.03098245144479996, 0.3605531346965227, 0.7547386569858132, 0.45564431772276637, -1.0373106180973466, -0.8106646135481044, -1.0446175823543187, 0.11658607871768786, 0.3172298874444565, 1.6668483465017563, 0.0020469118835838925, -1.074679836754118, 0.06638055840001972, 0.30992379820670507, 1.8953476750016551, -0.042813449087720945, 2.031908121326955, -0.08998646566650483, -0.7676390551546229, 0.2845692651092083, 0.20859153017068754, -1.3262751190632773, -0.19024430392280736, 0.945622925389767, -0.12099717128340479, -0.6119348182338643, 1.373214122049092, 0.8010211229650782, -0.7583998431150829, 1.0946388590416698, 1.5109307097209796, -0.9747911239924799, -0.6052834275765676, -1.2190148605124953, 0.44542411807913146, -0.16883442574082722, -0.90405452975825, -0.01634173273998749, -0.7624608483203248, -0.6380440434789618, 0.012993249942215972, -1.5070538071389876]}],\n",
       "                        {\"legend\": {\"bgcolor\": \"#F5F6F9\", \"font\": {\"color\": \"#4D5663\"}}, \"paper_bgcolor\": \"#F5F6F9\", \"plot_bgcolor\": \"#F5F6F9\", \"template\": {\"data\": {\"bar\": [{\"error_x\": {\"color\": \"#2a3f5f\"}, \"error_y\": {\"color\": \"#2a3f5f\"}, \"marker\": {\"line\": {\"color\": \"#E5ECF6\", \"width\": 0.5}}, \"type\": \"bar\"}], \"barpolar\": [{\"marker\": {\"line\": {\"color\": \"#E5ECF6\", \"width\": 0.5}}, \"type\": \"barpolar\"}], \"carpet\": [{\"aaxis\": {\"endlinecolor\": \"#2a3f5f\", \"gridcolor\": \"white\", \"linecolor\": \"white\", \"minorgridcolor\": \"white\", \"startlinecolor\": \"#2a3f5f\"}, \"baxis\": {\"endlinecolor\": \"#2a3f5f\", \"gridcolor\": \"white\", \"linecolor\": \"white\", \"minorgridcolor\": \"white\", \"startlinecolor\": \"#2a3f5f\"}, \"type\": \"carpet\"}], \"choropleth\": [{\"colorbar\": {\"outlinewidth\": 0, \"ticks\": \"\"}, \"type\": \"choropleth\"}], \"contour\": [{\"colorbar\": {\"outlinewidth\": 0, \"ticks\": \"\"}, \"colorscale\": [[0.0, \"#0d0887\"], [0.1111111111111111, \"#46039f\"], [0.2222222222222222, \"#7201a8\"], [0.3333333333333333, \"#9c179e\"], [0.4444444444444444, \"#bd3786\"], [0.5555555555555556, \"#d8576b\"], [0.6666666666666666, \"#ed7953\"], [0.7777777777777778, \"#fb9f3a\"], [0.8888888888888888, \"#fdca26\"], [1.0, \"#f0f921\"]], \"type\": \"contour\"}], \"contourcarpet\": [{\"colorbar\": {\"outlinewidth\": 0, \"ticks\": \"\"}, \"type\": \"contourcarpet\"}], \"heatmap\": [{\"colorbar\": {\"outlinewidth\": 0, \"ticks\": \"\"}, \"colorscale\": [[0.0, \"#0d0887\"], [0.1111111111111111, \"#46039f\"], [0.2222222222222222, \"#7201a8\"], [0.3333333333333333, \"#9c179e\"], [0.4444444444444444, \"#bd3786\"], [0.5555555555555556, \"#d8576b\"], [0.6666666666666666, \"#ed7953\"], [0.7777777777777778, \"#fb9f3a\"], [0.8888888888888888, \"#fdca26\"], [1.0, \"#f0f921\"]], \"type\": \"heatmap\"}], \"heatmapgl\": [{\"colorbar\": {\"outlinewidth\": 0, \"ticks\": \"\"}, \"colorscale\": [[0.0, \"#0d0887\"], [0.1111111111111111, \"#46039f\"], [0.2222222222222222, \"#7201a8\"], [0.3333333333333333, \"#9c179e\"], [0.4444444444444444, \"#bd3786\"], [0.5555555555555556, \"#d8576b\"], [0.6666666666666666, \"#ed7953\"], [0.7777777777777778, \"#fb9f3a\"], [0.8888888888888888, \"#fdca26\"], [1.0, \"#f0f921\"]], \"type\": \"heatmapgl\"}], \"histogram\": [{\"marker\": {\"colorbar\": {\"outlinewidth\": 0, \"ticks\": \"\"}}, \"type\": \"histogram\"}], \"histogram2d\": [{\"colorbar\": {\"outlinewidth\": 0, \"ticks\": \"\"}, \"colorscale\": [[0.0, \"#0d0887\"], [0.1111111111111111, \"#46039f\"], [0.2222222222222222, \"#7201a8\"], [0.3333333333333333, \"#9c179e\"], [0.4444444444444444, \"#bd3786\"], [0.5555555555555556, \"#d8576b\"], [0.6666666666666666, \"#ed7953\"], [0.7777777777777778, \"#fb9f3a\"], [0.8888888888888888, \"#fdca26\"], [1.0, \"#f0f921\"]], \"type\": \"histogram2d\"}], \"histogram2dcontour\": [{\"colorbar\": {\"outlinewidth\": 0, \"ticks\": \"\"}, \"colorscale\": [[0.0, \"#0d0887\"], [0.1111111111111111, \"#46039f\"], [0.2222222222222222, \"#7201a8\"], [0.3333333333333333, \"#9c179e\"], [0.4444444444444444, \"#bd3786\"], [0.5555555555555556, \"#d8576b\"], [0.6666666666666666, \"#ed7953\"], [0.7777777777777778, \"#fb9f3a\"], [0.8888888888888888, \"#fdca26\"], [1.0, \"#f0f921\"]], \"type\": \"histogram2dcontour\"}], \"mesh3d\": [{\"colorbar\": {\"outlinewidth\": 0, \"ticks\": \"\"}, \"type\": \"mesh3d\"}], \"parcoords\": [{\"line\": {\"colorbar\": {\"outlinewidth\": 0, \"ticks\": \"\"}}, \"type\": \"parcoords\"}], \"pie\": [{\"automargin\": true, \"type\": \"pie\"}], \"scatter\": [{\"marker\": {\"colorbar\": {\"outlinewidth\": 0, \"ticks\": \"\"}}, \"type\": \"scatter\"}], \"scatter3d\": [{\"line\": {\"colorbar\": {\"outlinewidth\": 0, \"ticks\": \"\"}}, \"marker\": {\"colorbar\": {\"outlinewidth\": 0, \"ticks\": \"\"}}, \"type\": \"scatter3d\"}], \"scattercarpet\": [{\"marker\": {\"colorbar\": {\"outlinewidth\": 0, \"ticks\": \"\"}}, \"type\": \"scattercarpet\"}], \"scattergeo\": [{\"marker\": {\"colorbar\": {\"outlinewidth\": 0, \"ticks\": \"\"}}, \"type\": \"scattergeo\"}], \"scattergl\": [{\"marker\": {\"colorbar\": {\"outlinewidth\": 0, \"ticks\": \"\"}}, \"type\": \"scattergl\"}], \"scattermapbox\": [{\"marker\": {\"colorbar\": {\"outlinewidth\": 0, \"ticks\": \"\"}}, \"type\": \"scattermapbox\"}], \"scatterpolar\": [{\"marker\": {\"colorbar\": {\"outlinewidth\": 0, \"ticks\": \"\"}}, \"type\": \"scatterpolar\"}], \"scatterpolargl\": [{\"marker\": {\"colorbar\": {\"outlinewidth\": 0, \"ticks\": \"\"}}, \"type\": \"scatterpolargl\"}], \"scatterternary\": [{\"marker\": {\"colorbar\": {\"outlinewidth\": 0, \"ticks\": \"\"}}, \"type\": \"scatterternary\"}], \"surface\": [{\"colorbar\": {\"outlinewidth\": 0, \"ticks\": \"\"}, \"colorscale\": [[0.0, \"#0d0887\"], [0.1111111111111111, \"#46039f\"], [0.2222222222222222, \"#7201a8\"], [0.3333333333333333, \"#9c179e\"], [0.4444444444444444, \"#bd3786\"], [0.5555555555555556, \"#d8576b\"], [0.6666666666666666, \"#ed7953\"], [0.7777777777777778, \"#fb9f3a\"], [0.8888888888888888, \"#fdca26\"], [1.0, \"#f0f921\"]], \"type\": \"surface\"}], \"table\": [{\"cells\": {\"fill\": {\"color\": \"#EBF0F8\"}, \"line\": {\"color\": \"white\"}}, \"header\": {\"fill\": {\"color\": \"#C8D4E3\"}, \"line\": {\"color\": \"white\"}}, \"type\": \"table\"}]}, \"layout\": {\"annotationdefaults\": {\"arrowcolor\": \"#2a3f5f\", \"arrowhead\": 0, \"arrowwidth\": 1}, \"coloraxis\": {\"colorbar\": {\"outlinewidth\": 0, \"ticks\": \"\"}}, \"colorscale\": {\"diverging\": [[0, \"#8e0152\"], [0.1, \"#c51b7d\"], [0.2, \"#de77ae\"], [0.3, \"#f1b6da\"], [0.4, \"#fde0ef\"], [0.5, \"#f7f7f7\"], [0.6, \"#e6f5d0\"], [0.7, \"#b8e186\"], [0.8, \"#7fbc41\"], [0.9, \"#4d9221\"], [1, \"#276419\"]], \"sequential\": [[0.0, \"#0d0887\"], [0.1111111111111111, \"#46039f\"], [0.2222222222222222, \"#7201a8\"], [0.3333333333333333, \"#9c179e\"], [0.4444444444444444, \"#bd3786\"], [0.5555555555555556, \"#d8576b\"], [0.6666666666666666, \"#ed7953\"], [0.7777777777777778, \"#fb9f3a\"], [0.8888888888888888, \"#fdca26\"], [1.0, \"#f0f921\"]], \"sequentialminus\": [[0.0, \"#0d0887\"], [0.1111111111111111, \"#46039f\"], [0.2222222222222222, \"#7201a8\"], [0.3333333333333333, \"#9c179e\"], [0.4444444444444444, \"#bd3786\"], [0.5555555555555556, \"#d8576b\"], [0.6666666666666666, \"#ed7953\"], [0.7777777777777778, \"#fb9f3a\"], [0.8888888888888888, \"#fdca26\"], [1.0, \"#f0f921\"]]}, \"colorway\": [\"#636efa\", \"#EF553B\", \"#00cc96\", \"#ab63fa\", \"#FFA15A\", \"#19d3f3\", \"#FF6692\", \"#B6E880\", \"#FF97FF\", \"#FECB52\"], \"font\": {\"color\": \"#2a3f5f\"}, \"geo\": {\"bgcolor\": \"white\", \"lakecolor\": \"white\", \"landcolor\": \"#E5ECF6\", \"showlakes\": true, \"showland\": true, \"subunitcolor\": \"white\"}, \"hoverlabel\": {\"align\": \"left\"}, \"hovermode\": \"closest\", \"mapbox\": {\"style\": \"light\"}, \"paper_bgcolor\": \"white\", \"plot_bgcolor\": \"#E5ECF6\", \"polar\": {\"angularaxis\": {\"gridcolor\": \"white\", \"linecolor\": \"white\", \"ticks\": \"\"}, \"bgcolor\": \"#E5ECF6\", \"radialaxis\": {\"gridcolor\": \"white\", \"linecolor\": \"white\", \"ticks\": \"\"}}, \"scene\": {\"xaxis\": {\"backgroundcolor\": \"#E5ECF6\", \"gridcolor\": \"white\", \"gridwidth\": 2, \"linecolor\": \"white\", \"showbackground\": true, \"ticks\": \"\", \"zerolinecolor\": \"white\"}, \"yaxis\": {\"backgroundcolor\": \"#E5ECF6\", \"gridcolor\": \"white\", \"gridwidth\": 2, \"linecolor\": \"white\", \"showbackground\": true, \"ticks\": \"\", \"zerolinecolor\": \"white\"}, \"zaxis\": {\"backgroundcolor\": \"#E5ECF6\", \"gridcolor\": \"white\", \"gridwidth\": 2, \"linecolor\": \"white\", \"showbackground\": true, \"ticks\": \"\", \"zerolinecolor\": \"white\"}}, \"shapedefaults\": {\"line\": {\"color\": \"#2a3f5f\"}}, \"ternary\": {\"aaxis\": {\"gridcolor\": \"white\", \"linecolor\": \"white\", \"ticks\": \"\"}, \"baxis\": {\"gridcolor\": \"white\", \"linecolor\": \"white\", \"ticks\": \"\"}, \"bgcolor\": \"#E5ECF6\", \"caxis\": {\"gridcolor\": \"white\", \"linecolor\": \"white\", \"ticks\": \"\"}}, \"title\": {\"x\": 0.05}, \"xaxis\": {\"automargin\": true, \"gridcolor\": \"white\", \"linecolor\": \"white\", \"ticks\": \"\", \"title\": {\"standoff\": 15}, \"zerolinecolor\": \"white\", \"zerolinewidth\": 2}, \"yaxis\": {\"automargin\": true, \"gridcolor\": \"white\", \"linecolor\": \"white\", \"ticks\": \"\", \"title\": {\"standoff\": 15}, \"zerolinecolor\": \"white\", \"zerolinewidth\": 2}}}, \"title\": {\"font\": {\"color\": \"#4D5663\"}}, \"xaxis\": {\"gridcolor\": \"#E1E5ED\", \"showgrid\": true, \"tickfont\": {\"color\": \"#4D5663\"}, \"title\": {\"font\": {\"color\": \"#4D5663\"}, \"text\": \"\"}, \"zerolinecolor\": \"#E1E5ED\"}, \"yaxis\": {\"gridcolor\": \"#E1E5ED\", \"showgrid\": true, \"tickfont\": {\"color\": \"#4D5663\"}, \"title\": {\"font\": {\"color\": \"#4D5663\"}, \"text\": \"\"}, \"zerolinecolor\": \"#E1E5ED\"}},\n",
       "                        {\"showLink\": true, \"linkText\": \"Export to plot.ly\", \"plotlyServerURL\": \"https://plot.ly\", \"responsive\": true}\n",
       "                    ).then(function(){\n",
       "                            \n",
       "var gd = document.getElementById('7e9065a3-df7e-4cda-a3e7-bbf5dd6bd080');\n",
       "var x = new MutationObserver(function (mutations, observer) {{\n",
       "        var display = window.getComputedStyle(gd).display;\n",
       "        if (!display || display === 'none') {{\n",
       "            console.log([gd, 'removed!']);\n",
       "            Plotly.purge(gd);\n",
       "            observer.disconnect();\n",
       "        }}\n",
       "}});\n",
       "\n",
       "// Listen for the removal of the full notebook cells\n",
       "var notebookContainer = gd.closest('#notebook-container');\n",
       "if (notebookContainer) {{\n",
       "    x.observe(notebookContainer, {childList: true});\n",
       "}}\n",
       "\n",
       "// Listen for the clearing of the current output cell\n",
       "var outputEl = gd.closest('.output');\n",
       "if (outputEl) {{\n",
       "    x.observe(outputEl, {childList: true});\n",
       "}}\n",
       "\n",
       "                        })\n",
       "                };\n",
       "                });\n",
       "            </script>\n",
       "        </div>"
      ]
     },
     "metadata": {},
     "output_type": "display_data"
    }
   ],
   "source": [
    "df.iplot(kind='box')"
   ]
  },
  {
   "cell_type": "markdown",
   "metadata": {},
   "source": [
    "## 3d Surface"
   ]
  },
  {
   "cell_type": "code",
   "execution_count": 14,
   "metadata": {
    "jupyter": {
     "outputs_hidden": false
    }
   },
   "outputs": [
    {
     "data": {
      "application/vnd.plotly.v1+json": {
       "config": {
        "linkText": "Export to plot.ly",
        "plotlyServerURL": "https://plot.ly",
        "showLink": true
       },
       "data": [
        {
         "colorscale": [
          [
           0,
           "rgb(165,0,38)"
          ],
          [
           0.1,
           "rgb(215,48,39)"
          ],
          [
           0.2,
           "rgb(244,109,67)"
          ],
          [
           0.3,
           "rgb(253,174,97)"
          ],
          [
           0.4,
           "rgb(254,224,144)"
          ],
          [
           0.5,
           "rgb(255,255,191)"
          ],
          [
           0.6,
           "rgb(224,243,248)"
          ],
          [
           0.7,
           "rgb(171,217,233)"
          ],
          [
           0.8,
           "rgb(116,173,209)"
          ],
          [
           0.9,
           "rgb(69,117,180)"
          ],
          [
           1,
           "rgb(49,54,149)"
          ]
         ],
         "type": "surface",
         "x": [
          0,
          1,
          2,
          3,
          4
         ],
         "y": [
          "x",
          "y",
          "z"
         ],
         "z": [
          [
           1,
           2,
           3,
           4,
           5
          ],
          [
           10,
           20,
           30,
           20,
           10
          ],
          [
           5,
           4,
           3,
           2,
           1
          ]
         ]
        }
       ],
       "layout": {
        "legend": {
         "bgcolor": "#F5F6F9",
         "font": {
          "color": "#4D5663"
         }
        },
        "paper_bgcolor": "#F5F6F9",
        "plot_bgcolor": "#F5F6F9",
        "template": {
         "data": {
          "bar": [
           {
            "error_x": {
             "color": "#2a3f5f"
            },
            "error_y": {
             "color": "#2a3f5f"
            },
            "marker": {
             "line": {
              "color": "#E5ECF6",
              "width": 0.5
             }
            },
            "type": "bar"
           }
          ],
          "barpolar": [
           {
            "marker": {
             "line": {
              "color": "#E5ECF6",
              "width": 0.5
             }
            },
            "type": "barpolar"
           }
          ],
          "carpet": [
           {
            "aaxis": {
             "endlinecolor": "#2a3f5f",
             "gridcolor": "white",
             "linecolor": "white",
             "minorgridcolor": "white",
             "startlinecolor": "#2a3f5f"
            },
            "baxis": {
             "endlinecolor": "#2a3f5f",
             "gridcolor": "white",
             "linecolor": "white",
             "minorgridcolor": "white",
             "startlinecolor": "#2a3f5f"
            },
            "type": "carpet"
           }
          ],
          "choropleth": [
           {
            "colorbar": {
             "outlinewidth": 0,
             "ticks": ""
            },
            "type": "choropleth"
           }
          ],
          "contour": [
           {
            "colorbar": {
             "outlinewidth": 0,
             "ticks": ""
            },
            "colorscale": [
             [
              0,
              "#0d0887"
             ],
             [
              0.1111111111111111,
              "#46039f"
             ],
             [
              0.2222222222222222,
              "#7201a8"
             ],
             [
              0.3333333333333333,
              "#9c179e"
             ],
             [
              0.4444444444444444,
              "#bd3786"
             ],
             [
              0.5555555555555556,
              "#d8576b"
             ],
             [
              0.6666666666666666,
              "#ed7953"
             ],
             [
              0.7777777777777778,
              "#fb9f3a"
             ],
             [
              0.8888888888888888,
              "#fdca26"
             ],
             [
              1,
              "#f0f921"
             ]
            ],
            "type": "contour"
           }
          ],
          "contourcarpet": [
           {
            "colorbar": {
             "outlinewidth": 0,
             "ticks": ""
            },
            "type": "contourcarpet"
           }
          ],
          "heatmap": [
           {
            "colorbar": {
             "outlinewidth": 0,
             "ticks": ""
            },
            "colorscale": [
             [
              0,
              "#0d0887"
             ],
             [
              0.1111111111111111,
              "#46039f"
             ],
             [
              0.2222222222222222,
              "#7201a8"
             ],
             [
              0.3333333333333333,
              "#9c179e"
             ],
             [
              0.4444444444444444,
              "#bd3786"
             ],
             [
              0.5555555555555556,
              "#d8576b"
             ],
             [
              0.6666666666666666,
              "#ed7953"
             ],
             [
              0.7777777777777778,
              "#fb9f3a"
             ],
             [
              0.8888888888888888,
              "#fdca26"
             ],
             [
              1,
              "#f0f921"
             ]
            ],
            "type": "heatmap"
           }
          ],
          "heatmapgl": [
           {
            "colorbar": {
             "outlinewidth": 0,
             "ticks": ""
            },
            "colorscale": [
             [
              0,
              "#0d0887"
             ],
             [
              0.1111111111111111,
              "#46039f"
             ],
             [
              0.2222222222222222,
              "#7201a8"
             ],
             [
              0.3333333333333333,
              "#9c179e"
             ],
             [
              0.4444444444444444,
              "#bd3786"
             ],
             [
              0.5555555555555556,
              "#d8576b"
             ],
             [
              0.6666666666666666,
              "#ed7953"
             ],
             [
              0.7777777777777778,
              "#fb9f3a"
             ],
             [
              0.8888888888888888,
              "#fdca26"
             ],
             [
              1,
              "#f0f921"
             ]
            ],
            "type": "heatmapgl"
           }
          ],
          "histogram": [
           {
            "marker": {
             "colorbar": {
              "outlinewidth": 0,
              "ticks": ""
             }
            },
            "type": "histogram"
           }
          ],
          "histogram2d": [
           {
            "colorbar": {
             "outlinewidth": 0,
             "ticks": ""
            },
            "colorscale": [
             [
              0,
              "#0d0887"
             ],
             [
              0.1111111111111111,
              "#46039f"
             ],
             [
              0.2222222222222222,
              "#7201a8"
             ],
             [
              0.3333333333333333,
              "#9c179e"
             ],
             [
              0.4444444444444444,
              "#bd3786"
             ],
             [
              0.5555555555555556,
              "#d8576b"
             ],
             [
              0.6666666666666666,
              "#ed7953"
             ],
             [
              0.7777777777777778,
              "#fb9f3a"
             ],
             [
              0.8888888888888888,
              "#fdca26"
             ],
             [
              1,
              "#f0f921"
             ]
            ],
            "type": "histogram2d"
           }
          ],
          "histogram2dcontour": [
           {
            "colorbar": {
             "outlinewidth": 0,
             "ticks": ""
            },
            "colorscale": [
             [
              0,
              "#0d0887"
             ],
             [
              0.1111111111111111,
              "#46039f"
             ],
             [
              0.2222222222222222,
              "#7201a8"
             ],
             [
              0.3333333333333333,
              "#9c179e"
             ],
             [
              0.4444444444444444,
              "#bd3786"
             ],
             [
              0.5555555555555556,
              "#d8576b"
             ],
             [
              0.6666666666666666,
              "#ed7953"
             ],
             [
              0.7777777777777778,
              "#fb9f3a"
             ],
             [
              0.8888888888888888,
              "#fdca26"
             ],
             [
              1,
              "#f0f921"
             ]
            ],
            "type": "histogram2dcontour"
           }
          ],
          "mesh3d": [
           {
            "colorbar": {
             "outlinewidth": 0,
             "ticks": ""
            },
            "type": "mesh3d"
           }
          ],
          "parcoords": [
           {
            "line": {
             "colorbar": {
              "outlinewidth": 0,
              "ticks": ""
             }
            },
            "type": "parcoords"
           }
          ],
          "pie": [
           {
            "automargin": true,
            "type": "pie"
           }
          ],
          "scatter": [
           {
            "marker": {
             "colorbar": {
              "outlinewidth": 0,
              "ticks": ""
             }
            },
            "type": "scatter"
           }
          ],
          "scatter3d": [
           {
            "line": {
             "colorbar": {
              "outlinewidth": 0,
              "ticks": ""
             }
            },
            "marker": {
             "colorbar": {
              "outlinewidth": 0,
              "ticks": ""
             }
            },
            "type": "scatter3d"
           }
          ],
          "scattercarpet": [
           {
            "marker": {
             "colorbar": {
              "outlinewidth": 0,
              "ticks": ""
             }
            },
            "type": "scattercarpet"
           }
          ],
          "scattergeo": [
           {
            "marker": {
             "colorbar": {
              "outlinewidth": 0,
              "ticks": ""
             }
            },
            "type": "scattergeo"
           }
          ],
          "scattergl": [
           {
            "marker": {
             "colorbar": {
              "outlinewidth": 0,
              "ticks": ""
             }
            },
            "type": "scattergl"
           }
          ],
          "scattermapbox": [
           {
            "marker": {
             "colorbar": {
              "outlinewidth": 0,
              "ticks": ""
             }
            },
            "type": "scattermapbox"
           }
          ],
          "scatterpolar": [
           {
            "marker": {
             "colorbar": {
              "outlinewidth": 0,
              "ticks": ""
             }
            },
            "type": "scatterpolar"
           }
          ],
          "scatterpolargl": [
           {
            "marker": {
             "colorbar": {
              "outlinewidth": 0,
              "ticks": ""
             }
            },
            "type": "scatterpolargl"
           }
          ],
          "scatterternary": [
           {
            "marker": {
             "colorbar": {
              "outlinewidth": 0,
              "ticks": ""
             }
            },
            "type": "scatterternary"
           }
          ],
          "surface": [
           {
            "colorbar": {
             "outlinewidth": 0,
             "ticks": ""
            },
            "colorscale": [
             [
              0,
              "#0d0887"
             ],
             [
              0.1111111111111111,
              "#46039f"
             ],
             [
              0.2222222222222222,
              "#7201a8"
             ],
             [
              0.3333333333333333,
              "#9c179e"
             ],
             [
              0.4444444444444444,
              "#bd3786"
             ],
             [
              0.5555555555555556,
              "#d8576b"
             ],
             [
              0.6666666666666666,
              "#ed7953"
             ],
             [
              0.7777777777777778,
              "#fb9f3a"
             ],
             [
              0.8888888888888888,
              "#fdca26"
             ],
             [
              1,
              "#f0f921"
             ]
            ],
            "type": "surface"
           }
          ],
          "table": [
           {
            "cells": {
             "fill": {
              "color": "#EBF0F8"
             },
             "line": {
              "color": "white"
             }
            },
            "header": {
             "fill": {
              "color": "#C8D4E3"
             },
             "line": {
              "color": "white"
             }
            },
            "type": "table"
           }
          ]
         },
         "layout": {
          "annotationdefaults": {
           "arrowcolor": "#2a3f5f",
           "arrowhead": 0,
           "arrowwidth": 1
          },
          "coloraxis": {
           "colorbar": {
            "outlinewidth": 0,
            "ticks": ""
           }
          },
          "colorscale": {
           "diverging": [
            [
             0,
             "#8e0152"
            ],
            [
             0.1,
             "#c51b7d"
            ],
            [
             0.2,
             "#de77ae"
            ],
            [
             0.3,
             "#f1b6da"
            ],
            [
             0.4,
             "#fde0ef"
            ],
            [
             0.5,
             "#f7f7f7"
            ],
            [
             0.6,
             "#e6f5d0"
            ],
            [
             0.7,
             "#b8e186"
            ],
            [
             0.8,
             "#7fbc41"
            ],
            [
             0.9,
             "#4d9221"
            ],
            [
             1,
             "#276419"
            ]
           ],
           "sequential": [
            [
             0,
             "#0d0887"
            ],
            [
             0.1111111111111111,
             "#46039f"
            ],
            [
             0.2222222222222222,
             "#7201a8"
            ],
            [
             0.3333333333333333,
             "#9c179e"
            ],
            [
             0.4444444444444444,
             "#bd3786"
            ],
            [
             0.5555555555555556,
             "#d8576b"
            ],
            [
             0.6666666666666666,
             "#ed7953"
            ],
            [
             0.7777777777777778,
             "#fb9f3a"
            ],
            [
             0.8888888888888888,
             "#fdca26"
            ],
            [
             1,
             "#f0f921"
            ]
           ],
           "sequentialminus": [
            [
             0,
             "#0d0887"
            ],
            [
             0.1111111111111111,
             "#46039f"
            ],
            [
             0.2222222222222222,
             "#7201a8"
            ],
            [
             0.3333333333333333,
             "#9c179e"
            ],
            [
             0.4444444444444444,
             "#bd3786"
            ],
            [
             0.5555555555555556,
             "#d8576b"
            ],
            [
             0.6666666666666666,
             "#ed7953"
            ],
            [
             0.7777777777777778,
             "#fb9f3a"
            ],
            [
             0.8888888888888888,
             "#fdca26"
            ],
            [
             1,
             "#f0f921"
            ]
           ]
          },
          "colorway": [
           "#636efa",
           "#EF553B",
           "#00cc96",
           "#ab63fa",
           "#FFA15A",
           "#19d3f3",
           "#FF6692",
           "#B6E880",
           "#FF97FF",
           "#FECB52"
          ],
          "font": {
           "color": "#2a3f5f"
          },
          "geo": {
           "bgcolor": "white",
           "lakecolor": "white",
           "landcolor": "#E5ECF6",
           "showlakes": true,
           "showland": true,
           "subunitcolor": "white"
          },
          "hoverlabel": {
           "align": "left"
          },
          "hovermode": "closest",
          "mapbox": {
           "style": "light"
          },
          "paper_bgcolor": "white",
          "plot_bgcolor": "#E5ECF6",
          "polar": {
           "angularaxis": {
            "gridcolor": "white",
            "linecolor": "white",
            "ticks": ""
           },
           "bgcolor": "#E5ECF6",
           "radialaxis": {
            "gridcolor": "white",
            "linecolor": "white",
            "ticks": ""
           }
          },
          "scene": {
           "xaxis": {
            "backgroundcolor": "#E5ECF6",
            "gridcolor": "white",
            "gridwidth": 2,
            "linecolor": "white",
            "showbackground": true,
            "ticks": "",
            "zerolinecolor": "white"
           },
           "yaxis": {
            "backgroundcolor": "#E5ECF6",
            "gridcolor": "white",
            "gridwidth": 2,
            "linecolor": "white",
            "showbackground": true,
            "ticks": "",
            "zerolinecolor": "white"
           },
           "zaxis": {
            "backgroundcolor": "#E5ECF6",
            "gridcolor": "white",
            "gridwidth": 2,
            "linecolor": "white",
            "showbackground": true,
            "ticks": "",
            "zerolinecolor": "white"
           }
          },
          "shapedefaults": {
           "line": {
            "color": "#2a3f5f"
           }
          },
          "ternary": {
           "aaxis": {
            "gridcolor": "white",
            "linecolor": "white",
            "ticks": ""
           },
           "baxis": {
            "gridcolor": "white",
            "linecolor": "white",
            "ticks": ""
           },
           "bgcolor": "#E5ECF6",
           "caxis": {
            "gridcolor": "white",
            "linecolor": "white",
            "ticks": ""
           }
          },
          "title": {
           "x": 0.05
          },
          "xaxis": {
           "automargin": true,
           "gridcolor": "white",
           "linecolor": "white",
           "ticks": "",
           "title": {
            "standoff": 15
           },
           "zerolinecolor": "white",
           "zerolinewidth": 2
          },
          "yaxis": {
           "automargin": true,
           "gridcolor": "white",
           "linecolor": "white",
           "ticks": "",
           "title": {
            "standoff": 15
           },
           "zerolinecolor": "white",
           "zerolinewidth": 2
          }
         }
        },
        "title": {
         "font": {
          "color": "#4D5663"
         }
        },
        "xaxis": {
         "gridcolor": "#E1E5ED",
         "showgrid": true,
         "tickfont": {
          "color": "#4D5663"
         },
         "title": {
          "font": {
           "color": "#4D5663"
          },
          "text": ""
         },
         "zerolinecolor": "#E1E5ED"
        },
        "yaxis": {
         "gridcolor": "#E1E5ED",
         "showgrid": true,
         "tickfont": {
          "color": "#4D5663"
         },
         "title": {
          "font": {
           "color": "#4D5663"
          },
          "text": ""
         },
         "zerolinecolor": "#E1E5ED"
        }
       }
      },
      "text/html": [
       "<div>\n",
       "        \n",
       "        \n",
       "            <div id=\"9c54f26f-8951-442b-9b85-0010fb366576\" class=\"plotly-graph-div\" style=\"height:525px; width:100%;\"></div>\n",
       "            <script type=\"text/javascript\">\n",
       "                require([\"plotly\"], function(Plotly) {\n",
       "                    window.PLOTLYENV=window.PLOTLYENV || {};\n",
       "                    window.PLOTLYENV.BASE_URL='https://plot.ly';\n",
       "                    \n",
       "                if (document.getElementById(\"9c54f26f-8951-442b-9b85-0010fb366576\")) {\n",
       "                    Plotly.newPlot(\n",
       "                        '9c54f26f-8951-442b-9b85-0010fb366576',\n",
       "                        [{\"colorscale\": [[0.0, \"rgb(165,0,38)\"], [0.1, \"rgb(215,48,39)\"], [0.2, \"rgb(244,109,67)\"], [0.3, \"rgb(253,174,97)\"], [0.4, \"rgb(254,224,144)\"], [0.5, \"rgb(255,255,191)\"], [0.6, \"rgb(224,243,248)\"], [0.7, \"rgb(171,217,233)\"], [0.8, \"rgb(116,173,209)\"], [0.9, \"rgb(69,117,180)\"], [1.0, \"rgb(49,54,149)\"]], \"type\": \"surface\", \"x\": [0, 1, 2, 3, 4], \"y\": [\"x\", \"y\", \"z\"], \"z\": [[1, 2, 3, 4, 5], [10, 20, 30, 20, 10], [5, 4, 3, 2, 1]]}],\n",
       "                        {\"legend\": {\"bgcolor\": \"#F5F6F9\", \"font\": {\"color\": \"#4D5663\"}}, \"paper_bgcolor\": \"#F5F6F9\", \"plot_bgcolor\": \"#F5F6F9\", \"template\": {\"data\": {\"bar\": [{\"error_x\": {\"color\": \"#2a3f5f\"}, \"error_y\": {\"color\": \"#2a3f5f\"}, \"marker\": {\"line\": {\"color\": \"#E5ECF6\", \"width\": 0.5}}, \"type\": \"bar\"}], \"barpolar\": [{\"marker\": {\"line\": {\"color\": \"#E5ECF6\", \"width\": 0.5}}, \"type\": \"barpolar\"}], \"carpet\": [{\"aaxis\": {\"endlinecolor\": \"#2a3f5f\", \"gridcolor\": \"white\", \"linecolor\": \"white\", \"minorgridcolor\": \"white\", \"startlinecolor\": \"#2a3f5f\"}, \"baxis\": {\"endlinecolor\": \"#2a3f5f\", \"gridcolor\": \"white\", \"linecolor\": \"white\", \"minorgridcolor\": \"white\", \"startlinecolor\": \"#2a3f5f\"}, \"type\": \"carpet\"}], \"choropleth\": [{\"colorbar\": {\"outlinewidth\": 0, \"ticks\": \"\"}, \"type\": \"choropleth\"}], \"contour\": [{\"colorbar\": {\"outlinewidth\": 0, \"ticks\": \"\"}, \"colorscale\": [[0.0, \"#0d0887\"], [0.1111111111111111, \"#46039f\"], [0.2222222222222222, \"#7201a8\"], [0.3333333333333333, \"#9c179e\"], [0.4444444444444444, \"#bd3786\"], [0.5555555555555556, \"#d8576b\"], [0.6666666666666666, \"#ed7953\"], [0.7777777777777778, \"#fb9f3a\"], [0.8888888888888888, \"#fdca26\"], [1.0, \"#f0f921\"]], \"type\": \"contour\"}], \"contourcarpet\": [{\"colorbar\": {\"outlinewidth\": 0, \"ticks\": \"\"}, \"type\": \"contourcarpet\"}], \"heatmap\": [{\"colorbar\": {\"outlinewidth\": 0, \"ticks\": \"\"}, \"colorscale\": [[0.0, \"#0d0887\"], [0.1111111111111111, \"#46039f\"], [0.2222222222222222, \"#7201a8\"], [0.3333333333333333, \"#9c179e\"], [0.4444444444444444, \"#bd3786\"], [0.5555555555555556, \"#d8576b\"], [0.6666666666666666, \"#ed7953\"], [0.7777777777777778, \"#fb9f3a\"], [0.8888888888888888, \"#fdca26\"], [1.0, \"#f0f921\"]], \"type\": \"heatmap\"}], \"heatmapgl\": [{\"colorbar\": {\"outlinewidth\": 0, \"ticks\": \"\"}, \"colorscale\": [[0.0, \"#0d0887\"], [0.1111111111111111, \"#46039f\"], [0.2222222222222222, \"#7201a8\"], [0.3333333333333333, \"#9c179e\"], [0.4444444444444444, \"#bd3786\"], [0.5555555555555556, \"#d8576b\"], [0.6666666666666666, \"#ed7953\"], [0.7777777777777778, \"#fb9f3a\"], [0.8888888888888888, \"#fdca26\"], [1.0, \"#f0f921\"]], \"type\": \"heatmapgl\"}], \"histogram\": [{\"marker\": {\"colorbar\": {\"outlinewidth\": 0, \"ticks\": \"\"}}, \"type\": \"histogram\"}], \"histogram2d\": [{\"colorbar\": {\"outlinewidth\": 0, \"ticks\": \"\"}, \"colorscale\": [[0.0, \"#0d0887\"], [0.1111111111111111, \"#46039f\"], [0.2222222222222222, \"#7201a8\"], [0.3333333333333333, \"#9c179e\"], [0.4444444444444444, \"#bd3786\"], [0.5555555555555556, \"#d8576b\"], [0.6666666666666666, \"#ed7953\"], [0.7777777777777778, \"#fb9f3a\"], [0.8888888888888888, \"#fdca26\"], [1.0, \"#f0f921\"]], \"type\": \"histogram2d\"}], \"histogram2dcontour\": [{\"colorbar\": {\"outlinewidth\": 0, \"ticks\": \"\"}, \"colorscale\": [[0.0, \"#0d0887\"], [0.1111111111111111, \"#46039f\"], [0.2222222222222222, \"#7201a8\"], [0.3333333333333333, \"#9c179e\"], [0.4444444444444444, \"#bd3786\"], [0.5555555555555556, \"#d8576b\"], [0.6666666666666666, \"#ed7953\"], [0.7777777777777778, \"#fb9f3a\"], [0.8888888888888888, \"#fdca26\"], [1.0, \"#f0f921\"]], \"type\": \"histogram2dcontour\"}], \"mesh3d\": [{\"colorbar\": {\"outlinewidth\": 0, \"ticks\": \"\"}, \"type\": \"mesh3d\"}], \"parcoords\": [{\"line\": {\"colorbar\": {\"outlinewidth\": 0, \"ticks\": \"\"}}, \"type\": \"parcoords\"}], \"pie\": [{\"automargin\": true, \"type\": \"pie\"}], \"scatter\": [{\"marker\": {\"colorbar\": {\"outlinewidth\": 0, \"ticks\": \"\"}}, \"type\": \"scatter\"}], \"scatter3d\": [{\"line\": {\"colorbar\": {\"outlinewidth\": 0, \"ticks\": \"\"}}, \"marker\": {\"colorbar\": {\"outlinewidth\": 0, \"ticks\": \"\"}}, \"type\": \"scatter3d\"}], \"scattercarpet\": [{\"marker\": {\"colorbar\": {\"outlinewidth\": 0, \"ticks\": \"\"}}, \"type\": \"scattercarpet\"}], \"scattergeo\": [{\"marker\": {\"colorbar\": {\"outlinewidth\": 0, \"ticks\": \"\"}}, \"type\": \"scattergeo\"}], \"scattergl\": [{\"marker\": {\"colorbar\": {\"outlinewidth\": 0, \"ticks\": \"\"}}, \"type\": \"scattergl\"}], \"scattermapbox\": [{\"marker\": {\"colorbar\": {\"outlinewidth\": 0, \"ticks\": \"\"}}, \"type\": \"scattermapbox\"}], \"scatterpolar\": [{\"marker\": {\"colorbar\": {\"outlinewidth\": 0, \"ticks\": \"\"}}, \"type\": \"scatterpolar\"}], \"scatterpolargl\": [{\"marker\": {\"colorbar\": {\"outlinewidth\": 0, \"ticks\": \"\"}}, \"type\": \"scatterpolargl\"}], \"scatterternary\": [{\"marker\": {\"colorbar\": {\"outlinewidth\": 0, \"ticks\": \"\"}}, \"type\": \"scatterternary\"}], \"surface\": [{\"colorbar\": {\"outlinewidth\": 0, \"ticks\": \"\"}, \"colorscale\": [[0.0, \"#0d0887\"], [0.1111111111111111, \"#46039f\"], [0.2222222222222222, \"#7201a8\"], [0.3333333333333333, \"#9c179e\"], [0.4444444444444444, \"#bd3786\"], [0.5555555555555556, \"#d8576b\"], [0.6666666666666666, \"#ed7953\"], [0.7777777777777778, \"#fb9f3a\"], [0.8888888888888888, \"#fdca26\"], [1.0, \"#f0f921\"]], \"type\": \"surface\"}], \"table\": [{\"cells\": {\"fill\": {\"color\": \"#EBF0F8\"}, \"line\": {\"color\": \"white\"}}, \"header\": {\"fill\": {\"color\": \"#C8D4E3\"}, \"line\": {\"color\": \"white\"}}, \"type\": \"table\"}]}, \"layout\": {\"annotationdefaults\": {\"arrowcolor\": \"#2a3f5f\", \"arrowhead\": 0, \"arrowwidth\": 1}, \"coloraxis\": {\"colorbar\": {\"outlinewidth\": 0, \"ticks\": \"\"}}, \"colorscale\": {\"diverging\": [[0, \"#8e0152\"], [0.1, \"#c51b7d\"], [0.2, \"#de77ae\"], [0.3, \"#f1b6da\"], [0.4, \"#fde0ef\"], [0.5, \"#f7f7f7\"], [0.6, \"#e6f5d0\"], [0.7, \"#b8e186\"], [0.8, \"#7fbc41\"], [0.9, \"#4d9221\"], [1, \"#276419\"]], \"sequential\": [[0.0, \"#0d0887\"], [0.1111111111111111, \"#46039f\"], [0.2222222222222222, \"#7201a8\"], [0.3333333333333333, \"#9c179e\"], [0.4444444444444444, \"#bd3786\"], [0.5555555555555556, \"#d8576b\"], [0.6666666666666666, \"#ed7953\"], [0.7777777777777778, \"#fb9f3a\"], [0.8888888888888888, \"#fdca26\"], [1.0, \"#f0f921\"]], \"sequentialminus\": [[0.0, \"#0d0887\"], [0.1111111111111111, \"#46039f\"], [0.2222222222222222, \"#7201a8\"], [0.3333333333333333, \"#9c179e\"], [0.4444444444444444, \"#bd3786\"], [0.5555555555555556, \"#d8576b\"], [0.6666666666666666, \"#ed7953\"], [0.7777777777777778, \"#fb9f3a\"], [0.8888888888888888, \"#fdca26\"], [1.0, \"#f0f921\"]]}, \"colorway\": [\"#636efa\", \"#EF553B\", \"#00cc96\", \"#ab63fa\", \"#FFA15A\", \"#19d3f3\", \"#FF6692\", \"#B6E880\", \"#FF97FF\", \"#FECB52\"], \"font\": {\"color\": \"#2a3f5f\"}, \"geo\": {\"bgcolor\": \"white\", \"lakecolor\": \"white\", \"landcolor\": \"#E5ECF6\", \"showlakes\": true, \"showland\": true, \"subunitcolor\": \"white\"}, \"hoverlabel\": {\"align\": \"left\"}, \"hovermode\": \"closest\", \"mapbox\": {\"style\": \"light\"}, \"paper_bgcolor\": \"white\", \"plot_bgcolor\": \"#E5ECF6\", \"polar\": {\"angularaxis\": {\"gridcolor\": \"white\", \"linecolor\": \"white\", \"ticks\": \"\"}, \"bgcolor\": \"#E5ECF6\", \"radialaxis\": {\"gridcolor\": \"white\", \"linecolor\": \"white\", \"ticks\": \"\"}}, \"scene\": {\"xaxis\": {\"backgroundcolor\": \"#E5ECF6\", \"gridcolor\": \"white\", \"gridwidth\": 2, \"linecolor\": \"white\", \"showbackground\": true, \"ticks\": \"\", \"zerolinecolor\": \"white\"}, \"yaxis\": {\"backgroundcolor\": \"#E5ECF6\", \"gridcolor\": \"white\", \"gridwidth\": 2, \"linecolor\": \"white\", \"showbackground\": true, \"ticks\": \"\", \"zerolinecolor\": \"white\"}, \"zaxis\": {\"backgroundcolor\": \"#E5ECF6\", \"gridcolor\": \"white\", \"gridwidth\": 2, \"linecolor\": \"white\", \"showbackground\": true, \"ticks\": \"\", \"zerolinecolor\": \"white\"}}, \"shapedefaults\": {\"line\": {\"color\": \"#2a3f5f\"}}, \"ternary\": {\"aaxis\": {\"gridcolor\": \"white\", \"linecolor\": \"white\", \"ticks\": \"\"}, \"baxis\": {\"gridcolor\": \"white\", \"linecolor\": \"white\", \"ticks\": \"\"}, \"bgcolor\": \"#E5ECF6\", \"caxis\": {\"gridcolor\": \"white\", \"linecolor\": \"white\", \"ticks\": \"\"}}, \"title\": {\"x\": 0.05}, \"xaxis\": {\"automargin\": true, \"gridcolor\": \"white\", \"linecolor\": \"white\", \"ticks\": \"\", \"title\": {\"standoff\": 15}, \"zerolinecolor\": \"white\", \"zerolinewidth\": 2}, \"yaxis\": {\"automargin\": true, \"gridcolor\": \"white\", \"linecolor\": \"white\", \"ticks\": \"\", \"title\": {\"standoff\": 15}, \"zerolinecolor\": \"white\", \"zerolinewidth\": 2}}}, \"title\": {\"font\": {\"color\": \"#4D5663\"}}, \"xaxis\": {\"gridcolor\": \"#E1E5ED\", \"showgrid\": true, \"tickfont\": {\"color\": \"#4D5663\"}, \"title\": {\"font\": {\"color\": \"#4D5663\"}, \"text\": \"\"}, \"zerolinecolor\": \"#E1E5ED\"}, \"yaxis\": {\"gridcolor\": \"#E1E5ED\", \"showgrid\": true, \"tickfont\": {\"color\": \"#4D5663\"}, \"title\": {\"font\": {\"color\": \"#4D5663\"}, \"text\": \"\"}, \"zerolinecolor\": \"#E1E5ED\"}},\n",
       "                        {\"showLink\": true, \"linkText\": \"Export to plot.ly\", \"plotlyServerURL\": \"https://plot.ly\", \"responsive\": true}\n",
       "                    ).then(function(){\n",
       "                            \n",
       "var gd = document.getElementById('9c54f26f-8951-442b-9b85-0010fb366576');\n",
       "var x = new MutationObserver(function (mutations, observer) {{\n",
       "        var display = window.getComputedStyle(gd).display;\n",
       "        if (!display || display === 'none') {{\n",
       "            console.log([gd, 'removed!']);\n",
       "            Plotly.purge(gd);\n",
       "            observer.disconnect();\n",
       "        }}\n",
       "}});\n",
       "\n",
       "// Listen for the removal of the full notebook cells\n",
       "var notebookContainer = gd.closest('#notebook-container');\n",
       "if (notebookContainer) {{\n",
       "    x.observe(notebookContainer, {childList: true});\n",
       "}}\n",
       "\n",
       "// Listen for the clearing of the current output cell\n",
       "var outputEl = gd.closest('.output');\n",
       "if (outputEl) {{\n",
       "    x.observe(outputEl, {childList: true});\n",
       "}}\n",
       "\n",
       "                        })\n",
       "                };\n",
       "                });\n",
       "            </script>\n",
       "        </div>"
      ]
     },
     "metadata": {},
     "output_type": "display_data"
    }
   ],
   "source": [
    "df3 = pd.DataFrame({'x':[1,2,3,4,5],'y':[10,20,30,20,10],'z':[5,4,3,2,1]})\n",
    "df3.iplot(kind='surface',colorscale='rdylbu')"
   ]
  },
  {
   "cell_type": "markdown",
   "metadata": {},
   "source": [
    "## Spread"
   ]
  },
  {
   "cell_type": "code",
   "execution_count": 15,
   "metadata": {
    "jupyter": {
     "outputs_hidden": false
    }
   },
   "outputs": [
    {
     "name": "stderr",
     "output_type": "stream",
     "text": [
      "C:\\ProgramData\\Anaconda3\\lib\\site-packages\\cufflinks\\plotlytools.py:849: FutureWarning:\n",
      "\n",
      "The pandas.np module is deprecated and will be removed from pandas in a future version. Import numpy directly instead\n",
      "\n",
      "C:\\ProgramData\\Anaconda3\\lib\\site-packages\\cufflinks\\plotlytools.py:850: FutureWarning:\n",
      "\n",
      "The pandas.np module is deprecated and will be removed from pandas in a future version. Import numpy directly instead\n",
      "\n"
     ]
    },
    {
     "data": {
      "application/vnd.plotly.v1+json": {
       "config": {
        "linkText": "Export to plot.ly",
        "plotlyServerURL": "https://plot.ly",
        "showLink": true
       },
       "data": [
        {
         "line": {
          "color": "rgba(255, 153, 51, 1.0)",
          "dash": "solid",
          "shape": "linear",
          "width": 1.3
         },
         "mode": "lines",
         "name": "A",
         "text": "",
         "type": "scatter",
         "x": [
          0,
          1,
          2,
          3,
          4,
          5,
          6,
          7,
          8,
          9,
          10,
          11,
          12,
          13,
          14,
          15,
          16,
          17,
          18,
          19,
          20,
          21,
          22,
          23,
          24,
          25,
          26,
          27,
          28,
          29,
          30,
          31,
          32,
          33,
          34,
          35,
          36,
          37,
          38,
          39,
          40,
          41,
          42,
          43,
          44,
          45,
          46,
          47,
          48,
          49,
          50,
          51,
          52,
          53,
          54,
          55,
          56,
          57,
          58,
          59,
          60,
          61,
          62,
          63,
          64,
          65,
          66,
          67,
          68,
          69,
          70,
          71,
          72,
          73,
          74,
          75,
          76,
          77,
          78,
          79,
          80,
          81,
          82,
          83,
          84,
          85,
          86,
          87,
          88,
          89,
          90,
          91,
          92,
          93,
          94,
          95,
          96,
          97,
          98,
          99
         ],
         "y": [
          0.4180077677129555,
          -0.3128801845689577,
          -1.2818040073783439,
          -1.3499561265835542,
          0.3039279478452639,
          1.1863847742158518,
          1.0835583705349823,
          -0.7651009824722295,
          -0.004639367372395647,
          -1.2901800153095841,
          0.34194454457201795,
          0.2430265819302035,
          -1.239200746086747,
          0.6609179033616308,
          1.2215743606359457,
          0.22851490960072843,
          -0.14310895717634575,
          -0.7341660565469577,
          0.36739376263270695,
          -1.2263587978946202,
          1.1341530384801826,
          0.28922077570122323,
          1.4320291443559363,
          -0.029762809912246137,
          0.38843416039229095,
          -1.1576502517879128,
          1.247029680606232,
          -0.753455193611879,
          0.8454105594040022,
          -0.48863872395864744,
          2.0528279595553722,
          1.4216295566716677,
          0.3090330341207762,
          0.6300780183123109,
          0.10737093513874785,
          0.905973922917701,
          -0.2632028533845714,
          0.9603295207643638,
          1.71454912190604,
          0.30076145540589266,
          -1.158240647754955,
          -1.555770932461019,
          -0.5496394055924582,
          -0.3098464315731358,
          -0.9269172822170287,
          1.4110184848076361,
          1.0265506719696467,
          0.47315227690793843,
          2.673361746975534,
          -0.6268429927337782,
          0.7952441983109597,
          0.24673373697834614,
          0.11800304997405606,
          -0.2717307656980959,
          -1.2949623636338092,
          0.46002536031715685,
          -0.8360662796616206,
          -0.020453141860388522,
          0.09672518557631296,
          -0.25749844264543464,
          -0.19748331705545816,
          -1.67256744411012,
          0.16457940230626322,
          -0.6981315249889456,
          0.986887605344953,
          -1.0208677299390276,
          1.5248546268228698,
          -0.05730817773951274,
          -0.2809594183508312,
          0.2800640292767441,
          -0.510505088700282,
          -0.22022306767997035,
          2.561078078500293,
          0.32638871800881,
          0.4211229347119489,
          0.4209516549400868,
          -0.41142404589273535,
          -1.2027248824404886,
          -1.0516948271493292,
          -1.0425706408560913,
          0.8509036913952475,
          -0.5922630060724732,
          -0.17067372704042816,
          0.3863237902458271,
          -0.3888948052253109,
          1.4957478135781743,
          0.5039314677195023,
          -0.5050249482312905,
          -0.586667783064311,
          -0.33795302496972407,
          -0.5985714633089745,
          0.3291703972093818,
          1.3898555468856857,
          0.24688535145149937,
          -1.5197463024947038,
          -1.1415198737866825,
          0.6905109009733212,
          -0.6834054293578632,
          1.588126304796323,
          -0.5368967243521588
         ]
        },
        {
         "line": {
          "color": "rgba(55, 128, 191, 1.0)",
          "dash": "solid",
          "shape": "linear",
          "width": 1.3
         },
         "mode": "lines",
         "name": "B",
         "text": "",
         "type": "scatter",
         "x": [
          0,
          1,
          2,
          3,
          4,
          5,
          6,
          7,
          8,
          9,
          10,
          11,
          12,
          13,
          14,
          15,
          16,
          17,
          18,
          19,
          20,
          21,
          22,
          23,
          24,
          25,
          26,
          27,
          28,
          29,
          30,
          31,
          32,
          33,
          34,
          35,
          36,
          37,
          38,
          39,
          40,
          41,
          42,
          43,
          44,
          45,
          46,
          47,
          48,
          49,
          50,
          51,
          52,
          53,
          54,
          55,
          56,
          57,
          58,
          59,
          60,
          61,
          62,
          63,
          64,
          65,
          66,
          67,
          68,
          69,
          70,
          71,
          72,
          73,
          74,
          75,
          76,
          77,
          78,
          79,
          80,
          81,
          82,
          83,
          84,
          85,
          86,
          87,
          88,
          89,
          90,
          91,
          92,
          93,
          94,
          95,
          96,
          97,
          98,
          99
         ],
         "y": [
          -0.38851389542406467,
          1.4555094701878195,
          -0.49250437347962495,
          0.5127069535232905,
          0.040541718463032075,
          0.16373327279668246,
          0.17257081418050907,
          0.30546492891383126,
          0.46958784039958695,
          -0.22966083824062747,
          -2.526885600303071,
          -0.4847405925891708,
          0.45377893892101284,
          -0.8368013602100006,
          0.42772046313745377,
          -1.738150320282506,
          -0.8297097197366343,
          0.30096605858103315,
          -0.17828234826613287,
          -0.6104656125377197,
          -0.057847804501502786,
          0.8075905382876867,
          -1.0556132374879243,
          -0.9976931987763373,
          2.588386126266256,
          -0.7780244315000312,
          -0.4390279271257135,
          -0.3323260365131081,
          -0.5029687669751323,
          0.9876315856388016,
          -0.8811506763207766,
          1.1919465596099408,
          -1.3971373000747602,
          -1.3167293924560757,
          0.08151482303535279,
          -2.396012948031223,
          -1.5454554866390564,
          0.715911814485308,
          0.11306587784706669,
          0.6871377228556313,
          0.1678675167159434,
          0.35767472857090465,
          1.6343324317472023,
          0.7408556906103368,
          0.5546661006435808,
          1.1705085664132198,
          -0.1950920426807639,
          0.8072746249080459,
          0.7191339935489122,
          0.2627823994645575,
          0.2716123406664341,
          0.06509604265191297,
          0.24775972951110936,
          -0.031764637242011964,
          0.7222793010970351,
          -1.0430619181025411,
          -0.6124268425291312,
          -0.9574044874482729,
          -0.8282953516308782,
          -0.15415791161250897,
          0.07323383909711624,
          2.0322204253233855,
          -2.709345784372258,
          0.6746943139917259,
          1.6003465621504065,
          -0.5546245562644994,
          0.2361100996334074,
          0.5135461009704804,
          0.6040598602576654,
          1.1972841291220075,
          0.5364947168111209,
          0.051253270889895015,
          1.3340314363537538,
          -1.499837262081371,
          1.4553991652504519,
          1.847950398899375,
          0.1504194495906708,
          -1.590313598465302,
          0.21520617758582,
          1.02603310475097,
          0.6716755400605747,
          1.2976699163750265,
          -1.3903035976441018,
          -1.5532971064033823,
          -0.19222439095544397,
          -0.8894040710742132,
          2.232239911471498,
          -0.2188573687720621,
          -0.8279744043641107,
          -0.6654106718715332,
          -0.5045060182494511,
          -0.11565646918786261,
          -0.6563025933303193,
          -0.7169847878554301,
          -0.33206575350661677,
          -0.45730465975917006,
          -1.4019649160542775,
          0.307032042787555,
          1.2999536161020562,
          0.6743916762583729
         ]
        },
        {
         "connectgaps": false,
         "fill": "tozeroy",
         "line": {
          "color": "green",
          "dash": "solid",
          "shape": "linear",
          "width": 0.5
         },
         "mode": "lines",
         "name": "Spread",
         "showlegend": false,
         "type": "scatter",
         "x": [
          0,
          1,
          2,
          3,
          4,
          5,
          6,
          7,
          8,
          9,
          10,
          11,
          12,
          13,
          14,
          15,
          16,
          17,
          18,
          19,
          20,
          21,
          22,
          23,
          24,
          25,
          26,
          27,
          28,
          29,
          30,
          31,
          32,
          33,
          34,
          35,
          36,
          37,
          38,
          39,
          40,
          41,
          42,
          43,
          44,
          45,
          46,
          47,
          48,
          49,
          50,
          51,
          52,
          53,
          54,
          55,
          56,
          57,
          58,
          59,
          60,
          61,
          62,
          63,
          64,
          65,
          66,
          67,
          68,
          69,
          70,
          71,
          72,
          73,
          74,
          75,
          76,
          77,
          78,
          79,
          80,
          81,
          82,
          83,
          84,
          85,
          86,
          87,
          88,
          89,
          90,
          91,
          92,
          93,
          94,
          95,
          96,
          97,
          98,
          99
         ],
         "xaxis": "x2",
         "y": [
          0.8065216631370202,
          "",
          "",
          "",
          0.26338622938223183,
          1.0226515014191693,
          0.9109875563544731,
          "",
          "",
          "",
          2.868830144875089,
          0.7277671745193743,
          "",
          1.4977192635716314,
          0.7938538974984919,
          1.9666652298832343,
          0.6866007625602886,
          "",
          0.5456761108988398,
          "",
          1.1920008429816853,
          "",
          2.4876423818438607,
          0.9679303888640912,
          "",
          "",
          1.6860576077319456,
          "",
          1.3483793263791344,
          "",
          2.933978635876149,
          0.2296829970617269,
          1.7061703341955363,
          1.9468074107683866,
          0.025856112103395057,
          3.301986870948924,
          1.282252633254485,
          0.2444177062790558,
          1.6014832440589732,
          "",
          "",
          "",
          "",
          "",
          "",
          0.24050991839441638,
          1.2216427146504105,
          "",
          1.954227753426622,
          "",
          0.5236318576445256,
          0.18163769432643317,
          "",
          "",
          "",
          1.503087278419698,
          "",
          0.9369513455878844,
          0.9250205372071911,
          "",
          "",
          "",
          2.8739251866785214,
          "",
          "",
          "",
          1.2887445271894624,
          "",
          "",
          "",
          "",
          "",
          1.2270466421465394,
          1.826225980090181,
          "",
          "",
          "",
          0.3875887160248135,
          "",
          "",
          0.17922815133467274,
          "",
          1.2196298706036737,
          1.9396208966492092,
          "",
          2.3851518846523874,
          "",
          "",
          0.24130662129979974,
          0.3274576469018092,
          "",
          0.4448268663972444,
          2.046158140216005,
          0.9638701393069294,
          "",
          "",
          2.0924758170275988,
          "",
          0.2881726886942668,
          ""
         ],
         "yaxis": "y2"
        },
        {
         "connectgaps": false,
         "fill": "tozeroy",
         "line": {
          "color": "red",
          "dash": "solid",
          "shape": "linear",
          "width": 0.5
         },
         "mode": "lines",
         "name": "Spread",
         "showlegend": false,
         "type": "scatter",
         "x": [
          0,
          1,
          2,
          3,
          4,
          5,
          6,
          7,
          8,
          9,
          10,
          11,
          12,
          13,
          14,
          15,
          16,
          17,
          18,
          19,
          20,
          21,
          22,
          23,
          24,
          25,
          26,
          27,
          28,
          29,
          30,
          31,
          32,
          33,
          34,
          35,
          36,
          37,
          38,
          39,
          40,
          41,
          42,
          43,
          44,
          45,
          46,
          47,
          48,
          49,
          50,
          51,
          52,
          53,
          54,
          55,
          56,
          57,
          58,
          59,
          60,
          61,
          62,
          63,
          64,
          65,
          66,
          67,
          68,
          69,
          70,
          71,
          72,
          73,
          74,
          75,
          76,
          77,
          78,
          79,
          80,
          81,
          82,
          83,
          84,
          85,
          86,
          87,
          88,
          89,
          90,
          91,
          92,
          93,
          94,
          95,
          96,
          97,
          98,
          99
         ],
         "xaxis": "x2",
         "y": [
          "",
          -1.7683896547567772,
          -0.7892996338987189,
          -1.8626630801068447,
          "",
          "",
          "",
          -1.0705659113860606,
          -0.4742272077719826,
          -1.0605191770689566,
          "",
          "",
          -1.6929796850077596,
          "",
          "",
          "",
          "",
          -1.0351321151279909,
          "",
          -0.6158931853569005,
          "",
          -0.5183697625864634,
          "",
          "",
          -2.1999519658739652,
          -0.3796258202878816,
          "",
          -0.42112915709877086,
          "",
          -1.476270309597449,
          "",
          "",
          "",
          "",
          "",
          "",
          "",
          "",
          "",
          -0.3863762674497387,
          -1.3261081644708983,
          -1.9134456610319237,
          -2.1839718373396604,
          -1.0507021221834727,
          -1.4815833828606095,
          "",
          "",
          -0.3341223480001075,
          "",
          -0.8896253921983357,
          "",
          "",
          -0.1297566795370533,
          -0.23996612845608395,
          -2.0172416647308444,
          "",
          -0.22363943713248946,
          "",
          "",
          -0.10334053103292568,
          -0.2707171561525744,
          -3.7047878694335052,
          "",
          -1.3728258389806713,
          -0.6134589568054535,
          -0.4662431736745283,
          "",
          -0.5708542787099931,
          -0.8850192786084967,
          -0.9172200998452634,
          -1.046999805511403,
          -0.27147633856986536,
          "",
          "",
          -1.034276230538503,
          -1.4269987439592882,
          -0.5618434954834062,
          "",
          -1.2669010047351492,
          -2.0686037456070614,
          "",
          -1.8899329224474997,
          "",
          "",
          -0.19667041426986692,
          "",
          -1.7283084437519958,
          -0.28616757945922844,
          "",
          "",
          -0.09406544505952341,
          "",
          "",
          "",
          -1.187680548988087,
          -0.6842152140275124,
          "",
          -0.9904374721454182,
          "",
          -1.2112884006105318
         ],
         "yaxis": "y2"
        }
       ],
       "layout": {
        "hovermode": "x",
        "legend": {
         "bgcolor": "#F5F6F9",
         "font": {
          "color": "#4D5663"
         }
        },
        "paper_bgcolor": "#F5F6F9",
        "plot_bgcolor": "#F5F6F9",
        "template": {
         "data": {
          "bar": [
           {
            "error_x": {
             "color": "#2a3f5f"
            },
            "error_y": {
             "color": "#2a3f5f"
            },
            "marker": {
             "line": {
              "color": "#E5ECF6",
              "width": 0.5
             }
            },
            "type": "bar"
           }
          ],
          "barpolar": [
           {
            "marker": {
             "line": {
              "color": "#E5ECF6",
              "width": 0.5
             }
            },
            "type": "barpolar"
           }
          ],
          "carpet": [
           {
            "aaxis": {
             "endlinecolor": "#2a3f5f",
             "gridcolor": "white",
             "linecolor": "white",
             "minorgridcolor": "white",
             "startlinecolor": "#2a3f5f"
            },
            "baxis": {
             "endlinecolor": "#2a3f5f",
             "gridcolor": "white",
             "linecolor": "white",
             "minorgridcolor": "white",
             "startlinecolor": "#2a3f5f"
            },
            "type": "carpet"
           }
          ],
          "choropleth": [
           {
            "colorbar": {
             "outlinewidth": 0,
             "ticks": ""
            },
            "type": "choropleth"
           }
          ],
          "contour": [
           {
            "colorbar": {
             "outlinewidth": 0,
             "ticks": ""
            },
            "colorscale": [
             [
              0,
              "#0d0887"
             ],
             [
              0.1111111111111111,
              "#46039f"
             ],
             [
              0.2222222222222222,
              "#7201a8"
             ],
             [
              0.3333333333333333,
              "#9c179e"
             ],
             [
              0.4444444444444444,
              "#bd3786"
             ],
             [
              0.5555555555555556,
              "#d8576b"
             ],
             [
              0.6666666666666666,
              "#ed7953"
             ],
             [
              0.7777777777777778,
              "#fb9f3a"
             ],
             [
              0.8888888888888888,
              "#fdca26"
             ],
             [
              1,
              "#f0f921"
             ]
            ],
            "type": "contour"
           }
          ],
          "contourcarpet": [
           {
            "colorbar": {
             "outlinewidth": 0,
             "ticks": ""
            },
            "type": "contourcarpet"
           }
          ],
          "heatmap": [
           {
            "colorbar": {
             "outlinewidth": 0,
             "ticks": ""
            },
            "colorscale": [
             [
              0,
              "#0d0887"
             ],
             [
              0.1111111111111111,
              "#46039f"
             ],
             [
              0.2222222222222222,
              "#7201a8"
             ],
             [
              0.3333333333333333,
              "#9c179e"
             ],
             [
              0.4444444444444444,
              "#bd3786"
             ],
             [
              0.5555555555555556,
              "#d8576b"
             ],
             [
              0.6666666666666666,
              "#ed7953"
             ],
             [
              0.7777777777777778,
              "#fb9f3a"
             ],
             [
              0.8888888888888888,
              "#fdca26"
             ],
             [
              1,
              "#f0f921"
             ]
            ],
            "type": "heatmap"
           }
          ],
          "heatmapgl": [
           {
            "colorbar": {
             "outlinewidth": 0,
             "ticks": ""
            },
            "colorscale": [
             [
              0,
              "#0d0887"
             ],
             [
              0.1111111111111111,
              "#46039f"
             ],
             [
              0.2222222222222222,
              "#7201a8"
             ],
             [
              0.3333333333333333,
              "#9c179e"
             ],
             [
              0.4444444444444444,
              "#bd3786"
             ],
             [
              0.5555555555555556,
              "#d8576b"
             ],
             [
              0.6666666666666666,
              "#ed7953"
             ],
             [
              0.7777777777777778,
              "#fb9f3a"
             ],
             [
              0.8888888888888888,
              "#fdca26"
             ],
             [
              1,
              "#f0f921"
             ]
            ],
            "type": "heatmapgl"
           }
          ],
          "histogram": [
           {
            "marker": {
             "colorbar": {
              "outlinewidth": 0,
              "ticks": ""
             }
            },
            "type": "histogram"
           }
          ],
          "histogram2d": [
           {
            "colorbar": {
             "outlinewidth": 0,
             "ticks": ""
            },
            "colorscale": [
             [
              0,
              "#0d0887"
             ],
             [
              0.1111111111111111,
              "#46039f"
             ],
             [
              0.2222222222222222,
              "#7201a8"
             ],
             [
              0.3333333333333333,
              "#9c179e"
             ],
             [
              0.4444444444444444,
              "#bd3786"
             ],
             [
              0.5555555555555556,
              "#d8576b"
             ],
             [
              0.6666666666666666,
              "#ed7953"
             ],
             [
              0.7777777777777778,
              "#fb9f3a"
             ],
             [
              0.8888888888888888,
              "#fdca26"
             ],
             [
              1,
              "#f0f921"
             ]
            ],
            "type": "histogram2d"
           }
          ],
          "histogram2dcontour": [
           {
            "colorbar": {
             "outlinewidth": 0,
             "ticks": ""
            },
            "colorscale": [
             [
              0,
              "#0d0887"
             ],
             [
              0.1111111111111111,
              "#46039f"
             ],
             [
              0.2222222222222222,
              "#7201a8"
             ],
             [
              0.3333333333333333,
              "#9c179e"
             ],
             [
              0.4444444444444444,
              "#bd3786"
             ],
             [
              0.5555555555555556,
              "#d8576b"
             ],
             [
              0.6666666666666666,
              "#ed7953"
             ],
             [
              0.7777777777777778,
              "#fb9f3a"
             ],
             [
              0.8888888888888888,
              "#fdca26"
             ],
             [
              1,
              "#f0f921"
             ]
            ],
            "type": "histogram2dcontour"
           }
          ],
          "mesh3d": [
           {
            "colorbar": {
             "outlinewidth": 0,
             "ticks": ""
            },
            "type": "mesh3d"
           }
          ],
          "parcoords": [
           {
            "line": {
             "colorbar": {
              "outlinewidth": 0,
              "ticks": ""
             }
            },
            "type": "parcoords"
           }
          ],
          "pie": [
           {
            "automargin": true,
            "type": "pie"
           }
          ],
          "scatter": [
           {
            "marker": {
             "colorbar": {
              "outlinewidth": 0,
              "ticks": ""
             }
            },
            "type": "scatter"
           }
          ],
          "scatter3d": [
           {
            "line": {
             "colorbar": {
              "outlinewidth": 0,
              "ticks": ""
             }
            },
            "marker": {
             "colorbar": {
              "outlinewidth": 0,
              "ticks": ""
             }
            },
            "type": "scatter3d"
           }
          ],
          "scattercarpet": [
           {
            "marker": {
             "colorbar": {
              "outlinewidth": 0,
              "ticks": ""
             }
            },
            "type": "scattercarpet"
           }
          ],
          "scattergeo": [
           {
            "marker": {
             "colorbar": {
              "outlinewidth": 0,
              "ticks": ""
             }
            },
            "type": "scattergeo"
           }
          ],
          "scattergl": [
           {
            "marker": {
             "colorbar": {
              "outlinewidth": 0,
              "ticks": ""
             }
            },
            "type": "scattergl"
           }
          ],
          "scattermapbox": [
           {
            "marker": {
             "colorbar": {
              "outlinewidth": 0,
              "ticks": ""
             }
            },
            "type": "scattermapbox"
           }
          ],
          "scatterpolar": [
           {
            "marker": {
             "colorbar": {
              "outlinewidth": 0,
              "ticks": ""
             }
            },
            "type": "scatterpolar"
           }
          ],
          "scatterpolargl": [
           {
            "marker": {
             "colorbar": {
              "outlinewidth": 0,
              "ticks": ""
             }
            },
            "type": "scatterpolargl"
           }
          ],
          "scatterternary": [
           {
            "marker": {
             "colorbar": {
              "outlinewidth": 0,
              "ticks": ""
             }
            },
            "type": "scatterternary"
           }
          ],
          "surface": [
           {
            "colorbar": {
             "outlinewidth": 0,
             "ticks": ""
            },
            "colorscale": [
             [
              0,
              "#0d0887"
             ],
             [
              0.1111111111111111,
              "#46039f"
             ],
             [
              0.2222222222222222,
              "#7201a8"
             ],
             [
              0.3333333333333333,
              "#9c179e"
             ],
             [
              0.4444444444444444,
              "#bd3786"
             ],
             [
              0.5555555555555556,
              "#d8576b"
             ],
             [
              0.6666666666666666,
              "#ed7953"
             ],
             [
              0.7777777777777778,
              "#fb9f3a"
             ],
             [
              0.8888888888888888,
              "#fdca26"
             ],
             [
              1,
              "#f0f921"
             ]
            ],
            "type": "surface"
           }
          ],
          "table": [
           {
            "cells": {
             "fill": {
              "color": "#EBF0F8"
             },
             "line": {
              "color": "white"
             }
            },
            "header": {
             "fill": {
              "color": "#C8D4E3"
             },
             "line": {
              "color": "white"
             }
            },
            "type": "table"
           }
          ]
         },
         "layout": {
          "annotationdefaults": {
           "arrowcolor": "#2a3f5f",
           "arrowhead": 0,
           "arrowwidth": 1
          },
          "coloraxis": {
           "colorbar": {
            "outlinewidth": 0,
            "ticks": ""
           }
          },
          "colorscale": {
           "diverging": [
            [
             0,
             "#8e0152"
            ],
            [
             0.1,
             "#c51b7d"
            ],
            [
             0.2,
             "#de77ae"
            ],
            [
             0.3,
             "#f1b6da"
            ],
            [
             0.4,
             "#fde0ef"
            ],
            [
             0.5,
             "#f7f7f7"
            ],
            [
             0.6,
             "#e6f5d0"
            ],
            [
             0.7,
             "#b8e186"
            ],
            [
             0.8,
             "#7fbc41"
            ],
            [
             0.9,
             "#4d9221"
            ],
            [
             1,
             "#276419"
            ]
           ],
           "sequential": [
            [
             0,
             "#0d0887"
            ],
            [
             0.1111111111111111,
             "#46039f"
            ],
            [
             0.2222222222222222,
             "#7201a8"
            ],
            [
             0.3333333333333333,
             "#9c179e"
            ],
            [
             0.4444444444444444,
             "#bd3786"
            ],
            [
             0.5555555555555556,
             "#d8576b"
            ],
            [
             0.6666666666666666,
             "#ed7953"
            ],
            [
             0.7777777777777778,
             "#fb9f3a"
            ],
            [
             0.8888888888888888,
             "#fdca26"
            ],
            [
             1,
             "#f0f921"
            ]
           ],
           "sequentialminus": [
            [
             0,
             "#0d0887"
            ],
            [
             0.1111111111111111,
             "#46039f"
            ],
            [
             0.2222222222222222,
             "#7201a8"
            ],
            [
             0.3333333333333333,
             "#9c179e"
            ],
            [
             0.4444444444444444,
             "#bd3786"
            ],
            [
             0.5555555555555556,
             "#d8576b"
            ],
            [
             0.6666666666666666,
             "#ed7953"
            ],
            [
             0.7777777777777778,
             "#fb9f3a"
            ],
            [
             0.8888888888888888,
             "#fdca26"
            ],
            [
             1,
             "#f0f921"
            ]
           ]
          },
          "colorway": [
           "#636efa",
           "#EF553B",
           "#00cc96",
           "#ab63fa",
           "#FFA15A",
           "#19d3f3",
           "#FF6692",
           "#B6E880",
           "#FF97FF",
           "#FECB52"
          ],
          "font": {
           "color": "#2a3f5f"
          },
          "geo": {
           "bgcolor": "white",
           "lakecolor": "white",
           "landcolor": "#E5ECF6",
           "showlakes": true,
           "showland": true,
           "subunitcolor": "white"
          },
          "hoverlabel": {
           "align": "left"
          },
          "hovermode": "closest",
          "mapbox": {
           "style": "light"
          },
          "paper_bgcolor": "white",
          "plot_bgcolor": "#E5ECF6",
          "polar": {
           "angularaxis": {
            "gridcolor": "white",
            "linecolor": "white",
            "ticks": ""
           },
           "bgcolor": "#E5ECF6",
           "radialaxis": {
            "gridcolor": "white",
            "linecolor": "white",
            "ticks": ""
           }
          },
          "scene": {
           "xaxis": {
            "backgroundcolor": "#E5ECF6",
            "gridcolor": "white",
            "gridwidth": 2,
            "linecolor": "white",
            "showbackground": true,
            "ticks": "",
            "zerolinecolor": "white"
           },
           "yaxis": {
            "backgroundcolor": "#E5ECF6",
            "gridcolor": "white",
            "gridwidth": 2,
            "linecolor": "white",
            "showbackground": true,
            "ticks": "",
            "zerolinecolor": "white"
           },
           "zaxis": {
            "backgroundcolor": "#E5ECF6",
            "gridcolor": "white",
            "gridwidth": 2,
            "linecolor": "white",
            "showbackground": true,
            "ticks": "",
            "zerolinecolor": "white"
           }
          },
          "shapedefaults": {
           "line": {
            "color": "#2a3f5f"
           }
          },
          "ternary": {
           "aaxis": {
            "gridcolor": "white",
            "linecolor": "white",
            "ticks": ""
           },
           "baxis": {
            "gridcolor": "white",
            "linecolor": "white",
            "ticks": ""
           },
           "bgcolor": "#E5ECF6",
           "caxis": {
            "gridcolor": "white",
            "linecolor": "white",
            "ticks": ""
           }
          },
          "title": {
           "x": 0.05
          },
          "xaxis": {
           "automargin": true,
           "gridcolor": "white",
           "linecolor": "white",
           "ticks": "",
           "title": {
            "standoff": 15
           },
           "zerolinecolor": "white",
           "zerolinewidth": 2
          },
          "yaxis": {
           "automargin": true,
           "gridcolor": "white",
           "linecolor": "white",
           "ticks": "",
           "title": {
            "standoff": 15
           },
           "zerolinecolor": "white",
           "zerolinewidth": 2
          }
         }
        },
        "title": {
         "font": {
          "color": "#4D5663"
         }
        },
        "xaxis": {
         "gridcolor": "#E1E5ED",
         "showgrid": true,
         "tickfont": {
          "color": "#4D5663"
         },
         "title": {
          "font": {
           "color": "#4D5663"
          },
          "text": ""
         },
         "zerolinecolor": "#E1E5ED"
        },
        "xaxis2": {
         "anchor": "y2",
         "gridcolor": "#E1E5ED",
         "showgrid": true,
         "showticklabels": false,
         "tickfont": {
          "color": "#4D5663"
         },
         "title": {
          "font": {
           "color": "#4D5663"
          },
          "text": ""
         },
         "zerolinecolor": "#E1E5ED"
        },
        "yaxis": {
         "domain": [
          0.3,
          1
         ],
         "gridcolor": "#E1E5ED",
         "showgrid": true,
         "tickfont": {
          "color": "#4D5663"
         },
         "title": {
          "font": {
           "color": "#4D5663"
          },
          "text": ""
         },
         "zerolinecolor": "#E1E5ED"
        },
        "yaxis2": {
         "domain": [
          0,
          0.25
         ],
         "gridcolor": "#E1E5ED",
         "showgrid": true,
         "tickfont": {
          "color": "#4D5663"
         },
         "title": {
          "font": {
           "color": "#4D5663"
          },
          "text": "Spread"
         },
         "zerolinecolor": "#E1E5ED"
        }
       }
      },
      "text/html": [
       "<div>\n",
       "        \n",
       "        \n",
       "            <div id=\"00d9715a-5217-45f3-8a98-1cf31f51fc13\" class=\"plotly-graph-div\" style=\"height:525px; width:100%;\"></div>\n",
       "            <script type=\"text/javascript\">\n",
       "                require([\"plotly\"], function(Plotly) {\n",
       "                    window.PLOTLYENV=window.PLOTLYENV || {};\n",
       "                    window.PLOTLYENV.BASE_URL='https://plot.ly';\n",
       "                    \n",
       "                if (document.getElementById(\"00d9715a-5217-45f3-8a98-1cf31f51fc13\")) {\n",
       "                    Plotly.newPlot(\n",
       "                        '00d9715a-5217-45f3-8a98-1cf31f51fc13',\n",
       "                        [{\"line\": {\"color\": \"rgba(255, 153, 51, 1.0)\", \"dash\": \"solid\", \"shape\": \"linear\", \"width\": 1.3}, \"mode\": \"lines\", \"name\": \"A\", \"text\": \"\", \"type\": \"scatter\", \"x\": [0, 1, 2, 3, 4, 5, 6, 7, 8, 9, 10, 11, 12, 13, 14, 15, 16, 17, 18, 19, 20, 21, 22, 23, 24, 25, 26, 27, 28, 29, 30, 31, 32, 33, 34, 35, 36, 37, 38, 39, 40, 41, 42, 43, 44, 45, 46, 47, 48, 49, 50, 51, 52, 53, 54, 55, 56, 57, 58, 59, 60, 61, 62, 63, 64, 65, 66, 67, 68, 69, 70, 71, 72, 73, 74, 75, 76, 77, 78, 79, 80, 81, 82, 83, 84, 85, 86, 87, 88, 89, 90, 91, 92, 93, 94, 95, 96, 97, 98, 99], \"y\": [0.4180077677129555, -0.3128801845689577, -1.2818040073783439, -1.3499561265835542, 0.3039279478452639, 1.1863847742158518, 1.0835583705349823, -0.7651009824722295, -0.004639367372395647, -1.2901800153095841, 0.34194454457201795, 0.2430265819302035, -1.239200746086747, 0.6609179033616308, 1.2215743606359457, 0.22851490960072843, -0.14310895717634575, -0.7341660565469577, 0.36739376263270695, -1.2263587978946202, 1.1341530384801826, 0.28922077570122323, 1.4320291443559363, -0.029762809912246137, 0.38843416039229095, -1.1576502517879128, 1.247029680606232, -0.753455193611879, 0.8454105594040022, -0.48863872395864744, 2.0528279595553722, 1.4216295566716677, 0.3090330341207762, 0.6300780183123109, 0.10737093513874785, 0.905973922917701, -0.2632028533845714, 0.9603295207643638, 1.71454912190604, 0.30076145540589266, -1.158240647754955, -1.555770932461019, -0.5496394055924582, -0.3098464315731358, -0.9269172822170287, 1.4110184848076361, 1.0265506719696467, 0.47315227690793843, 2.673361746975534, -0.6268429927337782, 0.7952441983109597, 0.24673373697834614, 0.11800304997405606, -0.2717307656980959, -1.2949623636338092, 0.46002536031715685, -0.8360662796616206, -0.020453141860388522, 0.09672518557631296, -0.25749844264543464, -0.19748331705545816, -1.67256744411012, 0.16457940230626322, -0.6981315249889456, 0.986887605344953, -1.0208677299390276, 1.5248546268228698, -0.05730817773951274, -0.2809594183508312, 0.2800640292767441, -0.510505088700282, -0.22022306767997035, 2.561078078500293, 0.32638871800881, 0.4211229347119489, 0.4209516549400868, -0.41142404589273535, -1.2027248824404886, -1.0516948271493292, -1.0425706408560913, 0.8509036913952475, -0.5922630060724732, -0.17067372704042816, 0.3863237902458271, -0.3888948052253109, 1.4957478135781743, 0.5039314677195023, -0.5050249482312905, -0.586667783064311, -0.33795302496972407, -0.5985714633089745, 0.3291703972093818, 1.3898555468856857, 0.24688535145149937, -1.5197463024947038, -1.1415198737866825, 0.6905109009733212, -0.6834054293578632, 1.588126304796323, -0.5368967243521588]}, {\"line\": {\"color\": \"rgba(55, 128, 191, 1.0)\", \"dash\": \"solid\", \"shape\": \"linear\", \"width\": 1.3}, \"mode\": \"lines\", \"name\": \"B\", \"text\": \"\", \"type\": \"scatter\", \"x\": [0, 1, 2, 3, 4, 5, 6, 7, 8, 9, 10, 11, 12, 13, 14, 15, 16, 17, 18, 19, 20, 21, 22, 23, 24, 25, 26, 27, 28, 29, 30, 31, 32, 33, 34, 35, 36, 37, 38, 39, 40, 41, 42, 43, 44, 45, 46, 47, 48, 49, 50, 51, 52, 53, 54, 55, 56, 57, 58, 59, 60, 61, 62, 63, 64, 65, 66, 67, 68, 69, 70, 71, 72, 73, 74, 75, 76, 77, 78, 79, 80, 81, 82, 83, 84, 85, 86, 87, 88, 89, 90, 91, 92, 93, 94, 95, 96, 97, 98, 99], \"y\": [-0.38851389542406467, 1.4555094701878195, -0.49250437347962495, 0.5127069535232905, 0.040541718463032075, 0.16373327279668246, 0.17257081418050907, 0.30546492891383126, 0.46958784039958695, -0.22966083824062747, -2.526885600303071, -0.4847405925891708, 0.45377893892101284, -0.8368013602100006, 0.42772046313745377, -1.738150320282506, -0.8297097197366343, 0.30096605858103315, -0.17828234826613287, -0.6104656125377197, -0.057847804501502786, 0.8075905382876867, -1.0556132374879243, -0.9976931987763373, 2.588386126266256, -0.7780244315000312, -0.4390279271257135, -0.3323260365131081, -0.5029687669751323, 0.9876315856388016, -0.8811506763207766, 1.1919465596099408, -1.3971373000747602, -1.3167293924560757, 0.08151482303535279, -2.396012948031223, -1.5454554866390564, 0.715911814485308, 0.11306587784706669, 0.6871377228556313, 0.1678675167159434, 0.35767472857090465, 1.6343324317472023, 0.7408556906103368, 0.5546661006435808, 1.1705085664132198, -0.1950920426807639, 0.8072746249080459, 0.7191339935489122, 0.2627823994645575, 0.2716123406664341, 0.06509604265191297, 0.24775972951110936, -0.031764637242011964, 0.7222793010970351, -1.0430619181025411, -0.6124268425291312, -0.9574044874482729, -0.8282953516308782, -0.15415791161250897, 0.07323383909711624, 2.0322204253233855, -2.709345784372258, 0.6746943139917259, 1.6003465621504065, -0.5546245562644994, 0.2361100996334074, 0.5135461009704804, 0.6040598602576654, 1.1972841291220075, 0.5364947168111209, 0.051253270889895015, 1.3340314363537538, -1.499837262081371, 1.4553991652504519, 1.847950398899375, 0.1504194495906708, -1.590313598465302, 0.21520617758582, 1.02603310475097, 0.6716755400605747, 1.2976699163750265, -1.3903035976441018, -1.5532971064033823, -0.19222439095544397, -0.8894040710742132, 2.232239911471498, -0.2188573687720621, -0.8279744043641107, -0.6654106718715332, -0.5045060182494511, -0.11565646918786261, -0.6563025933303193, -0.7169847878554301, -0.33206575350661677, -0.45730465975917006, -1.4019649160542775, 0.307032042787555, 1.2999536161020562, 0.6743916762583729]}, {\"connectgaps\": false, \"fill\": \"tozeroy\", \"line\": {\"color\": \"green\", \"dash\": \"solid\", \"shape\": \"linear\", \"width\": 0.5}, \"mode\": \"lines\", \"name\": \"Spread\", \"showlegend\": false, \"type\": \"scatter\", \"x\": [0, 1, 2, 3, 4, 5, 6, 7, 8, 9, 10, 11, 12, 13, 14, 15, 16, 17, 18, 19, 20, 21, 22, 23, 24, 25, 26, 27, 28, 29, 30, 31, 32, 33, 34, 35, 36, 37, 38, 39, 40, 41, 42, 43, 44, 45, 46, 47, 48, 49, 50, 51, 52, 53, 54, 55, 56, 57, 58, 59, 60, 61, 62, 63, 64, 65, 66, 67, 68, 69, 70, 71, 72, 73, 74, 75, 76, 77, 78, 79, 80, 81, 82, 83, 84, 85, 86, 87, 88, 89, 90, 91, 92, 93, 94, 95, 96, 97, 98, 99], \"xaxis\": \"x2\", \"y\": [0.8065216631370202, \"\", \"\", \"\", 0.26338622938223183, 1.0226515014191693, 0.9109875563544731, \"\", \"\", \"\", 2.868830144875089, 0.7277671745193743, \"\", 1.4977192635716314, 0.7938538974984919, 1.9666652298832343, 0.6866007625602886, \"\", 0.5456761108988398, \"\", 1.1920008429816853, \"\", 2.4876423818438607, 0.9679303888640912, \"\", \"\", 1.6860576077319456, \"\", 1.3483793263791344, \"\", 2.933978635876149, 0.2296829970617269, 1.7061703341955363, 1.9468074107683866, 0.025856112103395057, 3.301986870948924, 1.282252633254485, 0.2444177062790558, 1.6014832440589732, \"\", \"\", \"\", \"\", \"\", \"\", 0.24050991839441638, 1.2216427146504105, \"\", 1.954227753426622, \"\", 0.5236318576445256, 0.18163769432643317, \"\", \"\", \"\", 1.503087278419698, \"\", 0.9369513455878844, 0.9250205372071911, \"\", \"\", \"\", 2.8739251866785214, \"\", \"\", \"\", 1.2887445271894624, \"\", \"\", \"\", \"\", \"\", 1.2270466421465394, 1.826225980090181, \"\", \"\", \"\", 0.3875887160248135, \"\", \"\", 0.17922815133467274, \"\", 1.2196298706036737, 1.9396208966492092, \"\", 2.3851518846523874, \"\", \"\", 0.24130662129979974, 0.3274576469018092, \"\", 0.4448268663972444, 2.046158140216005, 0.9638701393069294, \"\", \"\", 2.0924758170275988, \"\", 0.2881726886942668, \"\"], \"yaxis\": \"y2\"}, {\"connectgaps\": false, \"fill\": \"tozeroy\", \"line\": {\"color\": \"red\", \"dash\": \"solid\", \"shape\": \"linear\", \"width\": 0.5}, \"mode\": \"lines\", \"name\": \"Spread\", \"showlegend\": false, \"type\": \"scatter\", \"x\": [0, 1, 2, 3, 4, 5, 6, 7, 8, 9, 10, 11, 12, 13, 14, 15, 16, 17, 18, 19, 20, 21, 22, 23, 24, 25, 26, 27, 28, 29, 30, 31, 32, 33, 34, 35, 36, 37, 38, 39, 40, 41, 42, 43, 44, 45, 46, 47, 48, 49, 50, 51, 52, 53, 54, 55, 56, 57, 58, 59, 60, 61, 62, 63, 64, 65, 66, 67, 68, 69, 70, 71, 72, 73, 74, 75, 76, 77, 78, 79, 80, 81, 82, 83, 84, 85, 86, 87, 88, 89, 90, 91, 92, 93, 94, 95, 96, 97, 98, 99], \"xaxis\": \"x2\", \"y\": [\"\", -1.7683896547567772, -0.7892996338987189, -1.8626630801068447, \"\", \"\", \"\", -1.0705659113860606, -0.4742272077719826, -1.0605191770689566, \"\", \"\", -1.6929796850077596, \"\", \"\", \"\", \"\", -1.0351321151279909, \"\", -0.6158931853569005, \"\", -0.5183697625864634, \"\", \"\", -2.1999519658739652, -0.3796258202878816, \"\", -0.42112915709877086, \"\", -1.476270309597449, \"\", \"\", \"\", \"\", \"\", \"\", \"\", \"\", \"\", -0.3863762674497387, -1.3261081644708983, -1.9134456610319237, -2.1839718373396604, -1.0507021221834727, -1.4815833828606095, \"\", \"\", -0.3341223480001075, \"\", -0.8896253921983357, \"\", \"\", -0.1297566795370533, -0.23996612845608395, -2.0172416647308444, \"\", -0.22363943713248946, \"\", \"\", -0.10334053103292568, -0.2707171561525744, -3.7047878694335052, \"\", -1.3728258389806713, -0.6134589568054535, -0.4662431736745283, \"\", -0.5708542787099931, -0.8850192786084967, -0.9172200998452634, -1.046999805511403, -0.27147633856986536, \"\", \"\", -1.034276230538503, -1.4269987439592882, -0.5618434954834062, \"\", -1.2669010047351492, -2.0686037456070614, \"\", -1.8899329224474997, \"\", \"\", -0.19667041426986692, \"\", -1.7283084437519958, -0.28616757945922844, \"\", \"\", -0.09406544505952341, \"\", \"\", \"\", -1.187680548988087, -0.6842152140275124, \"\", -0.9904374721454182, \"\", -1.2112884006105318], \"yaxis\": \"y2\"}],\n",
       "                        {\"hovermode\": \"x\", \"legend\": {\"bgcolor\": \"#F5F6F9\", \"font\": {\"color\": \"#4D5663\"}}, \"paper_bgcolor\": \"#F5F6F9\", \"plot_bgcolor\": \"#F5F6F9\", \"template\": {\"data\": {\"bar\": [{\"error_x\": {\"color\": \"#2a3f5f\"}, \"error_y\": {\"color\": \"#2a3f5f\"}, \"marker\": {\"line\": {\"color\": \"#E5ECF6\", \"width\": 0.5}}, \"type\": \"bar\"}], \"barpolar\": [{\"marker\": {\"line\": {\"color\": \"#E5ECF6\", \"width\": 0.5}}, \"type\": \"barpolar\"}], \"carpet\": [{\"aaxis\": {\"endlinecolor\": \"#2a3f5f\", \"gridcolor\": \"white\", \"linecolor\": \"white\", \"minorgridcolor\": \"white\", \"startlinecolor\": \"#2a3f5f\"}, \"baxis\": {\"endlinecolor\": \"#2a3f5f\", \"gridcolor\": \"white\", \"linecolor\": \"white\", \"minorgridcolor\": \"white\", \"startlinecolor\": \"#2a3f5f\"}, \"type\": \"carpet\"}], \"choropleth\": [{\"colorbar\": {\"outlinewidth\": 0, \"ticks\": \"\"}, \"type\": \"choropleth\"}], \"contour\": [{\"colorbar\": {\"outlinewidth\": 0, \"ticks\": \"\"}, \"colorscale\": [[0.0, \"#0d0887\"], [0.1111111111111111, \"#46039f\"], [0.2222222222222222, \"#7201a8\"], [0.3333333333333333, \"#9c179e\"], [0.4444444444444444, \"#bd3786\"], [0.5555555555555556, \"#d8576b\"], [0.6666666666666666, \"#ed7953\"], [0.7777777777777778, \"#fb9f3a\"], [0.8888888888888888, \"#fdca26\"], [1.0, \"#f0f921\"]], \"type\": \"contour\"}], \"contourcarpet\": [{\"colorbar\": {\"outlinewidth\": 0, \"ticks\": \"\"}, \"type\": \"contourcarpet\"}], \"heatmap\": [{\"colorbar\": {\"outlinewidth\": 0, \"ticks\": \"\"}, \"colorscale\": [[0.0, \"#0d0887\"], [0.1111111111111111, \"#46039f\"], [0.2222222222222222, \"#7201a8\"], [0.3333333333333333, \"#9c179e\"], [0.4444444444444444, \"#bd3786\"], [0.5555555555555556, \"#d8576b\"], [0.6666666666666666, \"#ed7953\"], [0.7777777777777778, \"#fb9f3a\"], [0.8888888888888888, \"#fdca26\"], [1.0, \"#f0f921\"]], \"type\": \"heatmap\"}], \"heatmapgl\": [{\"colorbar\": {\"outlinewidth\": 0, \"ticks\": \"\"}, \"colorscale\": [[0.0, \"#0d0887\"], [0.1111111111111111, \"#46039f\"], [0.2222222222222222, \"#7201a8\"], [0.3333333333333333, \"#9c179e\"], [0.4444444444444444, \"#bd3786\"], [0.5555555555555556, \"#d8576b\"], [0.6666666666666666, \"#ed7953\"], [0.7777777777777778, \"#fb9f3a\"], [0.8888888888888888, \"#fdca26\"], [1.0, \"#f0f921\"]], \"type\": \"heatmapgl\"}], \"histogram\": [{\"marker\": {\"colorbar\": {\"outlinewidth\": 0, \"ticks\": \"\"}}, \"type\": \"histogram\"}], \"histogram2d\": [{\"colorbar\": {\"outlinewidth\": 0, \"ticks\": \"\"}, \"colorscale\": [[0.0, \"#0d0887\"], [0.1111111111111111, \"#46039f\"], [0.2222222222222222, \"#7201a8\"], [0.3333333333333333, \"#9c179e\"], [0.4444444444444444, \"#bd3786\"], [0.5555555555555556, \"#d8576b\"], [0.6666666666666666, \"#ed7953\"], [0.7777777777777778, \"#fb9f3a\"], [0.8888888888888888, \"#fdca26\"], [1.0, \"#f0f921\"]], \"type\": \"histogram2d\"}], \"histogram2dcontour\": [{\"colorbar\": {\"outlinewidth\": 0, \"ticks\": \"\"}, \"colorscale\": [[0.0, \"#0d0887\"], [0.1111111111111111, \"#46039f\"], [0.2222222222222222, \"#7201a8\"], [0.3333333333333333, \"#9c179e\"], [0.4444444444444444, \"#bd3786\"], [0.5555555555555556, \"#d8576b\"], [0.6666666666666666, \"#ed7953\"], [0.7777777777777778, \"#fb9f3a\"], [0.8888888888888888, \"#fdca26\"], [1.0, \"#f0f921\"]], \"type\": \"histogram2dcontour\"}], \"mesh3d\": [{\"colorbar\": {\"outlinewidth\": 0, \"ticks\": \"\"}, \"type\": \"mesh3d\"}], \"parcoords\": [{\"line\": {\"colorbar\": {\"outlinewidth\": 0, \"ticks\": \"\"}}, \"type\": \"parcoords\"}], \"pie\": [{\"automargin\": true, \"type\": \"pie\"}], \"scatter\": [{\"marker\": {\"colorbar\": {\"outlinewidth\": 0, \"ticks\": \"\"}}, \"type\": \"scatter\"}], \"scatter3d\": [{\"line\": {\"colorbar\": {\"outlinewidth\": 0, \"ticks\": \"\"}}, \"marker\": {\"colorbar\": {\"outlinewidth\": 0, \"ticks\": \"\"}}, \"type\": \"scatter3d\"}], \"scattercarpet\": [{\"marker\": {\"colorbar\": {\"outlinewidth\": 0, \"ticks\": \"\"}}, \"type\": \"scattercarpet\"}], \"scattergeo\": [{\"marker\": {\"colorbar\": {\"outlinewidth\": 0, \"ticks\": \"\"}}, \"type\": \"scattergeo\"}], \"scattergl\": [{\"marker\": {\"colorbar\": {\"outlinewidth\": 0, \"ticks\": \"\"}}, \"type\": \"scattergl\"}], \"scattermapbox\": [{\"marker\": {\"colorbar\": {\"outlinewidth\": 0, \"ticks\": \"\"}}, \"type\": \"scattermapbox\"}], \"scatterpolar\": [{\"marker\": {\"colorbar\": {\"outlinewidth\": 0, \"ticks\": \"\"}}, \"type\": \"scatterpolar\"}], \"scatterpolargl\": [{\"marker\": {\"colorbar\": {\"outlinewidth\": 0, \"ticks\": \"\"}}, \"type\": \"scatterpolargl\"}], \"scatterternary\": [{\"marker\": {\"colorbar\": {\"outlinewidth\": 0, \"ticks\": \"\"}}, \"type\": \"scatterternary\"}], \"surface\": [{\"colorbar\": {\"outlinewidth\": 0, \"ticks\": \"\"}, \"colorscale\": [[0.0, \"#0d0887\"], [0.1111111111111111, \"#46039f\"], [0.2222222222222222, \"#7201a8\"], [0.3333333333333333, \"#9c179e\"], [0.4444444444444444, \"#bd3786\"], [0.5555555555555556, \"#d8576b\"], [0.6666666666666666, \"#ed7953\"], [0.7777777777777778, \"#fb9f3a\"], [0.8888888888888888, \"#fdca26\"], [1.0, \"#f0f921\"]], \"type\": \"surface\"}], \"table\": [{\"cells\": {\"fill\": {\"color\": \"#EBF0F8\"}, \"line\": {\"color\": \"white\"}}, \"header\": {\"fill\": {\"color\": \"#C8D4E3\"}, \"line\": {\"color\": \"white\"}}, \"type\": \"table\"}]}, \"layout\": {\"annotationdefaults\": {\"arrowcolor\": \"#2a3f5f\", \"arrowhead\": 0, \"arrowwidth\": 1}, \"coloraxis\": {\"colorbar\": {\"outlinewidth\": 0, \"ticks\": \"\"}}, \"colorscale\": {\"diverging\": [[0, \"#8e0152\"], [0.1, \"#c51b7d\"], [0.2, \"#de77ae\"], [0.3, \"#f1b6da\"], [0.4, \"#fde0ef\"], [0.5, \"#f7f7f7\"], [0.6, \"#e6f5d0\"], [0.7, \"#b8e186\"], [0.8, \"#7fbc41\"], [0.9, \"#4d9221\"], [1, \"#276419\"]], \"sequential\": [[0.0, \"#0d0887\"], [0.1111111111111111, \"#46039f\"], [0.2222222222222222, \"#7201a8\"], [0.3333333333333333, \"#9c179e\"], [0.4444444444444444, \"#bd3786\"], [0.5555555555555556, \"#d8576b\"], [0.6666666666666666, \"#ed7953\"], [0.7777777777777778, \"#fb9f3a\"], [0.8888888888888888, \"#fdca26\"], [1.0, \"#f0f921\"]], \"sequentialminus\": [[0.0, \"#0d0887\"], [0.1111111111111111, \"#46039f\"], [0.2222222222222222, \"#7201a8\"], [0.3333333333333333, \"#9c179e\"], [0.4444444444444444, \"#bd3786\"], [0.5555555555555556, \"#d8576b\"], [0.6666666666666666, \"#ed7953\"], [0.7777777777777778, \"#fb9f3a\"], [0.8888888888888888, \"#fdca26\"], [1.0, \"#f0f921\"]]}, \"colorway\": [\"#636efa\", \"#EF553B\", \"#00cc96\", \"#ab63fa\", \"#FFA15A\", \"#19d3f3\", \"#FF6692\", \"#B6E880\", \"#FF97FF\", \"#FECB52\"], \"font\": {\"color\": \"#2a3f5f\"}, \"geo\": {\"bgcolor\": \"white\", \"lakecolor\": \"white\", \"landcolor\": \"#E5ECF6\", \"showlakes\": true, \"showland\": true, \"subunitcolor\": \"white\"}, \"hoverlabel\": {\"align\": \"left\"}, \"hovermode\": \"closest\", \"mapbox\": {\"style\": \"light\"}, \"paper_bgcolor\": \"white\", \"plot_bgcolor\": \"#E5ECF6\", \"polar\": {\"angularaxis\": {\"gridcolor\": \"white\", \"linecolor\": \"white\", \"ticks\": \"\"}, \"bgcolor\": \"#E5ECF6\", \"radialaxis\": {\"gridcolor\": \"white\", \"linecolor\": \"white\", \"ticks\": \"\"}}, \"scene\": {\"xaxis\": {\"backgroundcolor\": \"#E5ECF6\", \"gridcolor\": \"white\", \"gridwidth\": 2, \"linecolor\": \"white\", \"showbackground\": true, \"ticks\": \"\", \"zerolinecolor\": \"white\"}, \"yaxis\": {\"backgroundcolor\": \"#E5ECF6\", \"gridcolor\": \"white\", \"gridwidth\": 2, \"linecolor\": \"white\", \"showbackground\": true, \"ticks\": \"\", \"zerolinecolor\": \"white\"}, \"zaxis\": {\"backgroundcolor\": \"#E5ECF6\", \"gridcolor\": \"white\", \"gridwidth\": 2, \"linecolor\": \"white\", \"showbackground\": true, \"ticks\": \"\", \"zerolinecolor\": \"white\"}}, \"shapedefaults\": {\"line\": {\"color\": \"#2a3f5f\"}}, \"ternary\": {\"aaxis\": {\"gridcolor\": \"white\", \"linecolor\": \"white\", \"ticks\": \"\"}, \"baxis\": {\"gridcolor\": \"white\", \"linecolor\": \"white\", \"ticks\": \"\"}, \"bgcolor\": \"#E5ECF6\", \"caxis\": {\"gridcolor\": \"white\", \"linecolor\": \"white\", \"ticks\": \"\"}}, \"title\": {\"x\": 0.05}, \"xaxis\": {\"automargin\": true, \"gridcolor\": \"white\", \"linecolor\": \"white\", \"ticks\": \"\", \"title\": {\"standoff\": 15}, \"zerolinecolor\": \"white\", \"zerolinewidth\": 2}, \"yaxis\": {\"automargin\": true, \"gridcolor\": \"white\", \"linecolor\": \"white\", \"ticks\": \"\", \"title\": {\"standoff\": 15}, \"zerolinecolor\": \"white\", \"zerolinewidth\": 2}}}, \"title\": {\"font\": {\"color\": \"#4D5663\"}}, \"xaxis\": {\"gridcolor\": \"#E1E5ED\", \"showgrid\": true, \"tickfont\": {\"color\": \"#4D5663\"}, \"title\": {\"font\": {\"color\": \"#4D5663\"}, \"text\": \"\"}, \"zerolinecolor\": \"#E1E5ED\"}, \"xaxis2\": {\"anchor\": \"y2\", \"gridcolor\": \"#E1E5ED\", \"showgrid\": true, \"showticklabels\": false, \"tickfont\": {\"color\": \"#4D5663\"}, \"title\": {\"font\": {\"color\": \"#4D5663\"}, \"text\": \"\"}, \"zerolinecolor\": \"#E1E5ED\"}, \"yaxis\": {\"domain\": [0.3, 1], \"gridcolor\": \"#E1E5ED\", \"showgrid\": true, \"tickfont\": {\"color\": \"#4D5663\"}, \"title\": {\"font\": {\"color\": \"#4D5663\"}, \"text\": \"\"}, \"zerolinecolor\": \"#E1E5ED\"}, \"yaxis2\": {\"domain\": [0, 0.25], \"gridcolor\": \"#E1E5ED\", \"showgrid\": true, \"tickfont\": {\"color\": \"#4D5663\"}, \"title\": {\"font\": {\"color\": \"#4D5663\"}, \"text\": \"Spread\"}, \"zerolinecolor\": \"#E1E5ED\"}},\n",
       "                        {\"showLink\": true, \"linkText\": \"Export to plot.ly\", \"plotlyServerURL\": \"https://plot.ly\", \"responsive\": true}\n",
       "                    ).then(function(){\n",
       "                            \n",
       "var gd = document.getElementById('00d9715a-5217-45f3-8a98-1cf31f51fc13');\n",
       "var x = new MutationObserver(function (mutations, observer) {{\n",
       "        var display = window.getComputedStyle(gd).display;\n",
       "        if (!display || display === 'none') {{\n",
       "            console.log([gd, 'removed!']);\n",
       "            Plotly.purge(gd);\n",
       "            observer.disconnect();\n",
       "        }}\n",
       "}});\n",
       "\n",
       "// Listen for the removal of the full notebook cells\n",
       "var notebookContainer = gd.closest('#notebook-container');\n",
       "if (notebookContainer) {{\n",
       "    x.observe(notebookContainer, {childList: true});\n",
       "}}\n",
       "\n",
       "// Listen for the clearing of the current output cell\n",
       "var outputEl = gd.closest('.output');\n",
       "if (outputEl) {{\n",
       "    x.observe(outputEl, {childList: true});\n",
       "}}\n",
       "\n",
       "                        })\n",
       "                };\n",
       "                });\n",
       "            </script>\n",
       "        </div>"
      ]
     },
     "metadata": {},
     "output_type": "display_data"
    }
   ],
   "source": [
    "df[['A','B']].iplot(kind='spread')"
   ]
  },
  {
   "cell_type": "markdown",
   "metadata": {},
   "source": [
    "## histogram"
   ]
  },
  {
   "cell_type": "code",
   "execution_count": 16,
   "metadata": {
    "jupyter": {
     "outputs_hidden": false
    }
   },
   "outputs": [
    {
     "data": {
      "application/vnd.plotly.v1+json": {
       "config": {
        "linkText": "Export to plot.ly",
        "plotlyServerURL": "https://plot.ly",
        "showLink": true
       },
       "data": [
        {
         "histfunc": "count",
         "histnorm": "",
         "marker": {
          "color": "rgba(255, 153, 51, 1.0)",
          "line": {
           "color": "#4D5663",
           "width": 1.3
          }
         },
         "name": "A",
         "nbinsx": 25,
         "opacity": 0.8,
         "orientation": "v",
         "type": "histogram",
         "x": [
          0.4180077677129555,
          -0.3128801845689577,
          -1.2818040073783439,
          -1.3499561265835542,
          0.3039279478452639,
          1.1863847742158518,
          1.0835583705349823,
          -0.7651009824722295,
          -0.004639367372395647,
          -1.2901800153095841,
          0.34194454457201795,
          0.2430265819302035,
          -1.239200746086747,
          0.6609179033616308,
          1.2215743606359457,
          0.22851490960072843,
          -0.14310895717634575,
          -0.7341660565469577,
          0.36739376263270695,
          -1.2263587978946202,
          1.1341530384801826,
          0.28922077570122323,
          1.4320291443559363,
          -0.029762809912246137,
          0.38843416039229095,
          -1.1576502517879128,
          1.247029680606232,
          -0.753455193611879,
          0.8454105594040022,
          -0.48863872395864744,
          2.0528279595553722,
          1.4216295566716677,
          0.3090330341207762,
          0.6300780183123109,
          0.10737093513874785,
          0.905973922917701,
          -0.2632028533845714,
          0.9603295207643638,
          1.71454912190604,
          0.30076145540589266,
          -1.158240647754955,
          -1.555770932461019,
          -0.5496394055924582,
          -0.3098464315731358,
          -0.9269172822170287,
          1.4110184848076361,
          1.0265506719696467,
          0.47315227690793843,
          2.673361746975534,
          -0.6268429927337782,
          0.7952441983109597,
          0.24673373697834614,
          0.11800304997405606,
          -0.2717307656980959,
          -1.2949623636338092,
          0.46002536031715685,
          -0.8360662796616206,
          -0.020453141860388522,
          0.09672518557631296,
          -0.25749844264543464,
          -0.19748331705545816,
          -1.67256744411012,
          0.16457940230626322,
          -0.6981315249889456,
          0.986887605344953,
          -1.0208677299390276,
          1.5248546268228698,
          -0.05730817773951274,
          -0.2809594183508312,
          0.2800640292767441,
          -0.510505088700282,
          -0.22022306767997035,
          2.561078078500293,
          0.32638871800881,
          0.4211229347119489,
          0.4209516549400868,
          -0.41142404589273535,
          -1.2027248824404886,
          -1.0516948271493292,
          -1.0425706408560913,
          0.8509036913952475,
          -0.5922630060724732,
          -0.17067372704042816,
          0.3863237902458271,
          -0.3888948052253109,
          1.4957478135781743,
          0.5039314677195023,
          -0.5050249482312905,
          -0.586667783064311,
          -0.33795302496972407,
          -0.5985714633089745,
          0.3291703972093818,
          1.3898555468856857,
          0.24688535145149937,
          -1.5197463024947038,
          -1.1415198737866825,
          0.6905109009733212,
          -0.6834054293578632,
          1.588126304796323,
          -0.5368967243521588
         ]
        }
       ],
       "layout": {
        "barmode": "overlay",
        "legend": {
         "bgcolor": "#F5F6F9",
         "font": {
          "color": "#4D5663"
         }
        },
        "paper_bgcolor": "#F5F6F9",
        "plot_bgcolor": "#F5F6F9",
        "template": {
         "data": {
          "bar": [
           {
            "error_x": {
             "color": "#2a3f5f"
            },
            "error_y": {
             "color": "#2a3f5f"
            },
            "marker": {
             "line": {
              "color": "#E5ECF6",
              "width": 0.5
             }
            },
            "type": "bar"
           }
          ],
          "barpolar": [
           {
            "marker": {
             "line": {
              "color": "#E5ECF6",
              "width": 0.5
             }
            },
            "type": "barpolar"
           }
          ],
          "carpet": [
           {
            "aaxis": {
             "endlinecolor": "#2a3f5f",
             "gridcolor": "white",
             "linecolor": "white",
             "minorgridcolor": "white",
             "startlinecolor": "#2a3f5f"
            },
            "baxis": {
             "endlinecolor": "#2a3f5f",
             "gridcolor": "white",
             "linecolor": "white",
             "minorgridcolor": "white",
             "startlinecolor": "#2a3f5f"
            },
            "type": "carpet"
           }
          ],
          "choropleth": [
           {
            "colorbar": {
             "outlinewidth": 0,
             "ticks": ""
            },
            "type": "choropleth"
           }
          ],
          "contour": [
           {
            "colorbar": {
             "outlinewidth": 0,
             "ticks": ""
            },
            "colorscale": [
             [
              0,
              "#0d0887"
             ],
             [
              0.1111111111111111,
              "#46039f"
             ],
             [
              0.2222222222222222,
              "#7201a8"
             ],
             [
              0.3333333333333333,
              "#9c179e"
             ],
             [
              0.4444444444444444,
              "#bd3786"
             ],
             [
              0.5555555555555556,
              "#d8576b"
             ],
             [
              0.6666666666666666,
              "#ed7953"
             ],
             [
              0.7777777777777778,
              "#fb9f3a"
             ],
             [
              0.8888888888888888,
              "#fdca26"
             ],
             [
              1,
              "#f0f921"
             ]
            ],
            "type": "contour"
           }
          ],
          "contourcarpet": [
           {
            "colorbar": {
             "outlinewidth": 0,
             "ticks": ""
            },
            "type": "contourcarpet"
           }
          ],
          "heatmap": [
           {
            "colorbar": {
             "outlinewidth": 0,
             "ticks": ""
            },
            "colorscale": [
             [
              0,
              "#0d0887"
             ],
             [
              0.1111111111111111,
              "#46039f"
             ],
             [
              0.2222222222222222,
              "#7201a8"
             ],
             [
              0.3333333333333333,
              "#9c179e"
             ],
             [
              0.4444444444444444,
              "#bd3786"
             ],
             [
              0.5555555555555556,
              "#d8576b"
             ],
             [
              0.6666666666666666,
              "#ed7953"
             ],
             [
              0.7777777777777778,
              "#fb9f3a"
             ],
             [
              0.8888888888888888,
              "#fdca26"
             ],
             [
              1,
              "#f0f921"
             ]
            ],
            "type": "heatmap"
           }
          ],
          "heatmapgl": [
           {
            "colorbar": {
             "outlinewidth": 0,
             "ticks": ""
            },
            "colorscale": [
             [
              0,
              "#0d0887"
             ],
             [
              0.1111111111111111,
              "#46039f"
             ],
             [
              0.2222222222222222,
              "#7201a8"
             ],
             [
              0.3333333333333333,
              "#9c179e"
             ],
             [
              0.4444444444444444,
              "#bd3786"
             ],
             [
              0.5555555555555556,
              "#d8576b"
             ],
             [
              0.6666666666666666,
              "#ed7953"
             ],
             [
              0.7777777777777778,
              "#fb9f3a"
             ],
             [
              0.8888888888888888,
              "#fdca26"
             ],
             [
              1,
              "#f0f921"
             ]
            ],
            "type": "heatmapgl"
           }
          ],
          "histogram": [
           {
            "marker": {
             "colorbar": {
              "outlinewidth": 0,
              "ticks": ""
             }
            },
            "type": "histogram"
           }
          ],
          "histogram2d": [
           {
            "colorbar": {
             "outlinewidth": 0,
             "ticks": ""
            },
            "colorscale": [
             [
              0,
              "#0d0887"
             ],
             [
              0.1111111111111111,
              "#46039f"
             ],
             [
              0.2222222222222222,
              "#7201a8"
             ],
             [
              0.3333333333333333,
              "#9c179e"
             ],
             [
              0.4444444444444444,
              "#bd3786"
             ],
             [
              0.5555555555555556,
              "#d8576b"
             ],
             [
              0.6666666666666666,
              "#ed7953"
             ],
             [
              0.7777777777777778,
              "#fb9f3a"
             ],
             [
              0.8888888888888888,
              "#fdca26"
             ],
             [
              1,
              "#f0f921"
             ]
            ],
            "type": "histogram2d"
           }
          ],
          "histogram2dcontour": [
           {
            "colorbar": {
             "outlinewidth": 0,
             "ticks": ""
            },
            "colorscale": [
             [
              0,
              "#0d0887"
             ],
             [
              0.1111111111111111,
              "#46039f"
             ],
             [
              0.2222222222222222,
              "#7201a8"
             ],
             [
              0.3333333333333333,
              "#9c179e"
             ],
             [
              0.4444444444444444,
              "#bd3786"
             ],
             [
              0.5555555555555556,
              "#d8576b"
             ],
             [
              0.6666666666666666,
              "#ed7953"
             ],
             [
              0.7777777777777778,
              "#fb9f3a"
             ],
             [
              0.8888888888888888,
              "#fdca26"
             ],
             [
              1,
              "#f0f921"
             ]
            ],
            "type": "histogram2dcontour"
           }
          ],
          "mesh3d": [
           {
            "colorbar": {
             "outlinewidth": 0,
             "ticks": ""
            },
            "type": "mesh3d"
           }
          ],
          "parcoords": [
           {
            "line": {
             "colorbar": {
              "outlinewidth": 0,
              "ticks": ""
             }
            },
            "type": "parcoords"
           }
          ],
          "pie": [
           {
            "automargin": true,
            "type": "pie"
           }
          ],
          "scatter": [
           {
            "marker": {
             "colorbar": {
              "outlinewidth": 0,
              "ticks": ""
             }
            },
            "type": "scatter"
           }
          ],
          "scatter3d": [
           {
            "line": {
             "colorbar": {
              "outlinewidth": 0,
              "ticks": ""
             }
            },
            "marker": {
             "colorbar": {
              "outlinewidth": 0,
              "ticks": ""
             }
            },
            "type": "scatter3d"
           }
          ],
          "scattercarpet": [
           {
            "marker": {
             "colorbar": {
              "outlinewidth": 0,
              "ticks": ""
             }
            },
            "type": "scattercarpet"
           }
          ],
          "scattergeo": [
           {
            "marker": {
             "colorbar": {
              "outlinewidth": 0,
              "ticks": ""
             }
            },
            "type": "scattergeo"
           }
          ],
          "scattergl": [
           {
            "marker": {
             "colorbar": {
              "outlinewidth": 0,
              "ticks": ""
             }
            },
            "type": "scattergl"
           }
          ],
          "scattermapbox": [
           {
            "marker": {
             "colorbar": {
              "outlinewidth": 0,
              "ticks": ""
             }
            },
            "type": "scattermapbox"
           }
          ],
          "scatterpolar": [
           {
            "marker": {
             "colorbar": {
              "outlinewidth": 0,
              "ticks": ""
             }
            },
            "type": "scatterpolar"
           }
          ],
          "scatterpolargl": [
           {
            "marker": {
             "colorbar": {
              "outlinewidth": 0,
              "ticks": ""
             }
            },
            "type": "scatterpolargl"
           }
          ],
          "scatterternary": [
           {
            "marker": {
             "colorbar": {
              "outlinewidth": 0,
              "ticks": ""
             }
            },
            "type": "scatterternary"
           }
          ],
          "surface": [
           {
            "colorbar": {
             "outlinewidth": 0,
             "ticks": ""
            },
            "colorscale": [
             [
              0,
              "#0d0887"
             ],
             [
              0.1111111111111111,
              "#46039f"
             ],
             [
              0.2222222222222222,
              "#7201a8"
             ],
             [
              0.3333333333333333,
              "#9c179e"
             ],
             [
              0.4444444444444444,
              "#bd3786"
             ],
             [
              0.5555555555555556,
              "#d8576b"
             ],
             [
              0.6666666666666666,
              "#ed7953"
             ],
             [
              0.7777777777777778,
              "#fb9f3a"
             ],
             [
              0.8888888888888888,
              "#fdca26"
             ],
             [
              1,
              "#f0f921"
             ]
            ],
            "type": "surface"
           }
          ],
          "table": [
           {
            "cells": {
             "fill": {
              "color": "#EBF0F8"
             },
             "line": {
              "color": "white"
             }
            },
            "header": {
             "fill": {
              "color": "#C8D4E3"
             },
             "line": {
              "color": "white"
             }
            },
            "type": "table"
           }
          ]
         },
         "layout": {
          "annotationdefaults": {
           "arrowcolor": "#2a3f5f",
           "arrowhead": 0,
           "arrowwidth": 1
          },
          "coloraxis": {
           "colorbar": {
            "outlinewidth": 0,
            "ticks": ""
           }
          },
          "colorscale": {
           "diverging": [
            [
             0,
             "#8e0152"
            ],
            [
             0.1,
             "#c51b7d"
            ],
            [
             0.2,
             "#de77ae"
            ],
            [
             0.3,
             "#f1b6da"
            ],
            [
             0.4,
             "#fde0ef"
            ],
            [
             0.5,
             "#f7f7f7"
            ],
            [
             0.6,
             "#e6f5d0"
            ],
            [
             0.7,
             "#b8e186"
            ],
            [
             0.8,
             "#7fbc41"
            ],
            [
             0.9,
             "#4d9221"
            ],
            [
             1,
             "#276419"
            ]
           ],
           "sequential": [
            [
             0,
             "#0d0887"
            ],
            [
             0.1111111111111111,
             "#46039f"
            ],
            [
             0.2222222222222222,
             "#7201a8"
            ],
            [
             0.3333333333333333,
             "#9c179e"
            ],
            [
             0.4444444444444444,
             "#bd3786"
            ],
            [
             0.5555555555555556,
             "#d8576b"
            ],
            [
             0.6666666666666666,
             "#ed7953"
            ],
            [
             0.7777777777777778,
             "#fb9f3a"
            ],
            [
             0.8888888888888888,
             "#fdca26"
            ],
            [
             1,
             "#f0f921"
            ]
           ],
           "sequentialminus": [
            [
             0,
             "#0d0887"
            ],
            [
             0.1111111111111111,
             "#46039f"
            ],
            [
             0.2222222222222222,
             "#7201a8"
            ],
            [
             0.3333333333333333,
             "#9c179e"
            ],
            [
             0.4444444444444444,
             "#bd3786"
            ],
            [
             0.5555555555555556,
             "#d8576b"
            ],
            [
             0.6666666666666666,
             "#ed7953"
            ],
            [
             0.7777777777777778,
             "#fb9f3a"
            ],
            [
             0.8888888888888888,
             "#fdca26"
            ],
            [
             1,
             "#f0f921"
            ]
           ]
          },
          "colorway": [
           "#636efa",
           "#EF553B",
           "#00cc96",
           "#ab63fa",
           "#FFA15A",
           "#19d3f3",
           "#FF6692",
           "#B6E880",
           "#FF97FF",
           "#FECB52"
          ],
          "font": {
           "color": "#2a3f5f"
          },
          "geo": {
           "bgcolor": "white",
           "lakecolor": "white",
           "landcolor": "#E5ECF6",
           "showlakes": true,
           "showland": true,
           "subunitcolor": "white"
          },
          "hoverlabel": {
           "align": "left"
          },
          "hovermode": "closest",
          "mapbox": {
           "style": "light"
          },
          "paper_bgcolor": "white",
          "plot_bgcolor": "#E5ECF6",
          "polar": {
           "angularaxis": {
            "gridcolor": "white",
            "linecolor": "white",
            "ticks": ""
           },
           "bgcolor": "#E5ECF6",
           "radialaxis": {
            "gridcolor": "white",
            "linecolor": "white",
            "ticks": ""
           }
          },
          "scene": {
           "xaxis": {
            "backgroundcolor": "#E5ECF6",
            "gridcolor": "white",
            "gridwidth": 2,
            "linecolor": "white",
            "showbackground": true,
            "ticks": "",
            "zerolinecolor": "white"
           },
           "yaxis": {
            "backgroundcolor": "#E5ECF6",
            "gridcolor": "white",
            "gridwidth": 2,
            "linecolor": "white",
            "showbackground": true,
            "ticks": "",
            "zerolinecolor": "white"
           },
           "zaxis": {
            "backgroundcolor": "#E5ECF6",
            "gridcolor": "white",
            "gridwidth": 2,
            "linecolor": "white",
            "showbackground": true,
            "ticks": "",
            "zerolinecolor": "white"
           }
          },
          "shapedefaults": {
           "line": {
            "color": "#2a3f5f"
           }
          },
          "ternary": {
           "aaxis": {
            "gridcolor": "white",
            "linecolor": "white",
            "ticks": ""
           },
           "baxis": {
            "gridcolor": "white",
            "linecolor": "white",
            "ticks": ""
           },
           "bgcolor": "#E5ECF6",
           "caxis": {
            "gridcolor": "white",
            "linecolor": "white",
            "ticks": ""
           }
          },
          "title": {
           "x": 0.05
          },
          "xaxis": {
           "automargin": true,
           "gridcolor": "white",
           "linecolor": "white",
           "ticks": "",
           "title": {
            "standoff": 15
           },
           "zerolinecolor": "white",
           "zerolinewidth": 2
          },
          "yaxis": {
           "automargin": true,
           "gridcolor": "white",
           "linecolor": "white",
           "ticks": "",
           "title": {
            "standoff": 15
           },
           "zerolinecolor": "white",
           "zerolinewidth": 2
          }
         }
        },
        "title": {
         "font": {
          "color": "#4D5663"
         }
        },
        "xaxis": {
         "gridcolor": "#E1E5ED",
         "showgrid": true,
         "tickfont": {
          "color": "#4D5663"
         },
         "title": {
          "font": {
           "color": "#4D5663"
          },
          "text": ""
         },
         "zerolinecolor": "#E1E5ED"
        },
        "yaxis": {
         "gridcolor": "#E1E5ED",
         "showgrid": true,
         "tickfont": {
          "color": "#4D5663"
         },
         "title": {
          "font": {
           "color": "#4D5663"
          },
          "text": ""
         },
         "zerolinecolor": "#E1E5ED"
        }
       }
      },
      "text/html": [
       "<div>\n",
       "        \n",
       "        \n",
       "            <div id=\"8611450b-ac48-4b03-b667-15926c06b7f7\" class=\"plotly-graph-div\" style=\"height:525px; width:100%;\"></div>\n",
       "            <script type=\"text/javascript\">\n",
       "                require([\"plotly\"], function(Plotly) {\n",
       "                    window.PLOTLYENV=window.PLOTLYENV || {};\n",
       "                    window.PLOTLYENV.BASE_URL='https://plot.ly';\n",
       "                    \n",
       "                if (document.getElementById(\"8611450b-ac48-4b03-b667-15926c06b7f7\")) {\n",
       "                    Plotly.newPlot(\n",
       "                        '8611450b-ac48-4b03-b667-15926c06b7f7',\n",
       "                        [{\"histfunc\": \"count\", \"histnorm\": \"\", \"marker\": {\"color\": \"rgba(255, 153, 51, 1.0)\", \"line\": {\"color\": \"#4D5663\", \"width\": 1.3}}, \"name\": \"A\", \"nbinsx\": 25, \"opacity\": 0.8, \"orientation\": \"v\", \"type\": \"histogram\", \"x\": [0.4180077677129555, -0.3128801845689577, -1.2818040073783439, -1.3499561265835542, 0.3039279478452639, 1.1863847742158518, 1.0835583705349823, -0.7651009824722295, -0.004639367372395647, -1.2901800153095841, 0.34194454457201795, 0.2430265819302035, -1.239200746086747, 0.6609179033616308, 1.2215743606359457, 0.22851490960072843, -0.14310895717634575, -0.7341660565469577, 0.36739376263270695, -1.2263587978946202, 1.1341530384801826, 0.28922077570122323, 1.4320291443559363, -0.029762809912246137, 0.38843416039229095, -1.1576502517879128, 1.247029680606232, -0.753455193611879, 0.8454105594040022, -0.48863872395864744, 2.0528279595553722, 1.4216295566716677, 0.3090330341207762, 0.6300780183123109, 0.10737093513874785, 0.905973922917701, -0.2632028533845714, 0.9603295207643638, 1.71454912190604, 0.30076145540589266, -1.158240647754955, -1.555770932461019, -0.5496394055924582, -0.3098464315731358, -0.9269172822170287, 1.4110184848076361, 1.0265506719696467, 0.47315227690793843, 2.673361746975534, -0.6268429927337782, 0.7952441983109597, 0.24673373697834614, 0.11800304997405606, -0.2717307656980959, -1.2949623636338092, 0.46002536031715685, -0.8360662796616206, -0.020453141860388522, 0.09672518557631296, -0.25749844264543464, -0.19748331705545816, -1.67256744411012, 0.16457940230626322, -0.6981315249889456, 0.986887605344953, -1.0208677299390276, 1.5248546268228698, -0.05730817773951274, -0.2809594183508312, 0.2800640292767441, -0.510505088700282, -0.22022306767997035, 2.561078078500293, 0.32638871800881, 0.4211229347119489, 0.4209516549400868, -0.41142404589273535, -1.2027248824404886, -1.0516948271493292, -1.0425706408560913, 0.8509036913952475, -0.5922630060724732, -0.17067372704042816, 0.3863237902458271, -0.3888948052253109, 1.4957478135781743, 0.5039314677195023, -0.5050249482312905, -0.586667783064311, -0.33795302496972407, -0.5985714633089745, 0.3291703972093818, 1.3898555468856857, 0.24688535145149937, -1.5197463024947038, -1.1415198737866825, 0.6905109009733212, -0.6834054293578632, 1.588126304796323, -0.5368967243521588]}],\n",
       "                        {\"barmode\": \"overlay\", \"legend\": {\"bgcolor\": \"#F5F6F9\", \"font\": {\"color\": \"#4D5663\"}}, \"paper_bgcolor\": \"#F5F6F9\", \"plot_bgcolor\": \"#F5F6F9\", \"template\": {\"data\": {\"bar\": [{\"error_x\": {\"color\": \"#2a3f5f\"}, \"error_y\": {\"color\": \"#2a3f5f\"}, \"marker\": {\"line\": {\"color\": \"#E5ECF6\", \"width\": 0.5}}, \"type\": \"bar\"}], \"barpolar\": [{\"marker\": {\"line\": {\"color\": \"#E5ECF6\", \"width\": 0.5}}, \"type\": \"barpolar\"}], \"carpet\": [{\"aaxis\": {\"endlinecolor\": \"#2a3f5f\", \"gridcolor\": \"white\", \"linecolor\": \"white\", \"minorgridcolor\": \"white\", \"startlinecolor\": \"#2a3f5f\"}, \"baxis\": {\"endlinecolor\": \"#2a3f5f\", \"gridcolor\": \"white\", \"linecolor\": \"white\", \"minorgridcolor\": \"white\", \"startlinecolor\": \"#2a3f5f\"}, \"type\": \"carpet\"}], \"choropleth\": [{\"colorbar\": {\"outlinewidth\": 0, \"ticks\": \"\"}, \"type\": \"choropleth\"}], \"contour\": [{\"colorbar\": {\"outlinewidth\": 0, \"ticks\": \"\"}, \"colorscale\": [[0.0, \"#0d0887\"], [0.1111111111111111, \"#46039f\"], [0.2222222222222222, \"#7201a8\"], [0.3333333333333333, \"#9c179e\"], [0.4444444444444444, \"#bd3786\"], [0.5555555555555556, \"#d8576b\"], [0.6666666666666666, \"#ed7953\"], [0.7777777777777778, \"#fb9f3a\"], [0.8888888888888888, \"#fdca26\"], [1.0, \"#f0f921\"]], \"type\": \"contour\"}], \"contourcarpet\": [{\"colorbar\": {\"outlinewidth\": 0, \"ticks\": \"\"}, \"type\": \"contourcarpet\"}], \"heatmap\": [{\"colorbar\": {\"outlinewidth\": 0, \"ticks\": \"\"}, \"colorscale\": [[0.0, \"#0d0887\"], [0.1111111111111111, \"#46039f\"], [0.2222222222222222, \"#7201a8\"], [0.3333333333333333, \"#9c179e\"], [0.4444444444444444, \"#bd3786\"], [0.5555555555555556, \"#d8576b\"], [0.6666666666666666, \"#ed7953\"], [0.7777777777777778, \"#fb9f3a\"], [0.8888888888888888, \"#fdca26\"], [1.0, \"#f0f921\"]], \"type\": \"heatmap\"}], \"heatmapgl\": [{\"colorbar\": {\"outlinewidth\": 0, \"ticks\": \"\"}, \"colorscale\": [[0.0, \"#0d0887\"], [0.1111111111111111, \"#46039f\"], [0.2222222222222222, \"#7201a8\"], [0.3333333333333333, \"#9c179e\"], [0.4444444444444444, \"#bd3786\"], [0.5555555555555556, \"#d8576b\"], [0.6666666666666666, \"#ed7953\"], [0.7777777777777778, \"#fb9f3a\"], [0.8888888888888888, \"#fdca26\"], [1.0, \"#f0f921\"]], \"type\": \"heatmapgl\"}], \"histogram\": [{\"marker\": {\"colorbar\": {\"outlinewidth\": 0, \"ticks\": \"\"}}, \"type\": \"histogram\"}], \"histogram2d\": [{\"colorbar\": {\"outlinewidth\": 0, \"ticks\": \"\"}, \"colorscale\": [[0.0, \"#0d0887\"], [0.1111111111111111, \"#46039f\"], [0.2222222222222222, \"#7201a8\"], [0.3333333333333333, \"#9c179e\"], [0.4444444444444444, \"#bd3786\"], [0.5555555555555556, \"#d8576b\"], [0.6666666666666666, \"#ed7953\"], [0.7777777777777778, \"#fb9f3a\"], [0.8888888888888888, \"#fdca26\"], [1.0, \"#f0f921\"]], \"type\": \"histogram2d\"}], \"histogram2dcontour\": [{\"colorbar\": {\"outlinewidth\": 0, \"ticks\": \"\"}, \"colorscale\": [[0.0, \"#0d0887\"], [0.1111111111111111, \"#46039f\"], [0.2222222222222222, \"#7201a8\"], [0.3333333333333333, \"#9c179e\"], [0.4444444444444444, \"#bd3786\"], [0.5555555555555556, \"#d8576b\"], [0.6666666666666666, \"#ed7953\"], [0.7777777777777778, \"#fb9f3a\"], [0.8888888888888888, \"#fdca26\"], [1.0, \"#f0f921\"]], \"type\": \"histogram2dcontour\"}], \"mesh3d\": [{\"colorbar\": {\"outlinewidth\": 0, \"ticks\": \"\"}, \"type\": \"mesh3d\"}], \"parcoords\": [{\"line\": {\"colorbar\": {\"outlinewidth\": 0, \"ticks\": \"\"}}, \"type\": \"parcoords\"}], \"pie\": [{\"automargin\": true, \"type\": \"pie\"}], \"scatter\": [{\"marker\": {\"colorbar\": {\"outlinewidth\": 0, \"ticks\": \"\"}}, \"type\": \"scatter\"}], \"scatter3d\": [{\"line\": {\"colorbar\": {\"outlinewidth\": 0, \"ticks\": \"\"}}, \"marker\": {\"colorbar\": {\"outlinewidth\": 0, \"ticks\": \"\"}}, \"type\": \"scatter3d\"}], \"scattercarpet\": [{\"marker\": {\"colorbar\": {\"outlinewidth\": 0, \"ticks\": \"\"}}, \"type\": \"scattercarpet\"}], \"scattergeo\": [{\"marker\": {\"colorbar\": {\"outlinewidth\": 0, \"ticks\": \"\"}}, \"type\": \"scattergeo\"}], \"scattergl\": [{\"marker\": {\"colorbar\": {\"outlinewidth\": 0, \"ticks\": \"\"}}, \"type\": \"scattergl\"}], \"scattermapbox\": [{\"marker\": {\"colorbar\": {\"outlinewidth\": 0, \"ticks\": \"\"}}, \"type\": \"scattermapbox\"}], \"scatterpolar\": [{\"marker\": {\"colorbar\": {\"outlinewidth\": 0, \"ticks\": \"\"}}, \"type\": \"scatterpolar\"}], \"scatterpolargl\": [{\"marker\": {\"colorbar\": {\"outlinewidth\": 0, \"ticks\": \"\"}}, \"type\": \"scatterpolargl\"}], \"scatterternary\": [{\"marker\": {\"colorbar\": {\"outlinewidth\": 0, \"ticks\": \"\"}}, \"type\": \"scatterternary\"}], \"surface\": [{\"colorbar\": {\"outlinewidth\": 0, \"ticks\": \"\"}, \"colorscale\": [[0.0, \"#0d0887\"], [0.1111111111111111, \"#46039f\"], [0.2222222222222222, \"#7201a8\"], [0.3333333333333333, \"#9c179e\"], [0.4444444444444444, \"#bd3786\"], [0.5555555555555556, \"#d8576b\"], [0.6666666666666666, \"#ed7953\"], [0.7777777777777778, \"#fb9f3a\"], [0.8888888888888888, \"#fdca26\"], [1.0, \"#f0f921\"]], \"type\": \"surface\"}], \"table\": [{\"cells\": {\"fill\": {\"color\": \"#EBF0F8\"}, \"line\": {\"color\": \"white\"}}, \"header\": {\"fill\": {\"color\": \"#C8D4E3\"}, \"line\": {\"color\": \"white\"}}, \"type\": \"table\"}]}, \"layout\": {\"annotationdefaults\": {\"arrowcolor\": \"#2a3f5f\", \"arrowhead\": 0, \"arrowwidth\": 1}, \"coloraxis\": {\"colorbar\": {\"outlinewidth\": 0, \"ticks\": \"\"}}, \"colorscale\": {\"diverging\": [[0, \"#8e0152\"], [0.1, \"#c51b7d\"], [0.2, \"#de77ae\"], [0.3, \"#f1b6da\"], [0.4, \"#fde0ef\"], [0.5, \"#f7f7f7\"], [0.6, \"#e6f5d0\"], [0.7, \"#b8e186\"], [0.8, \"#7fbc41\"], [0.9, \"#4d9221\"], [1, \"#276419\"]], \"sequential\": [[0.0, \"#0d0887\"], [0.1111111111111111, \"#46039f\"], [0.2222222222222222, \"#7201a8\"], [0.3333333333333333, \"#9c179e\"], [0.4444444444444444, \"#bd3786\"], [0.5555555555555556, \"#d8576b\"], [0.6666666666666666, \"#ed7953\"], [0.7777777777777778, \"#fb9f3a\"], [0.8888888888888888, \"#fdca26\"], [1.0, \"#f0f921\"]], \"sequentialminus\": [[0.0, \"#0d0887\"], [0.1111111111111111, \"#46039f\"], [0.2222222222222222, \"#7201a8\"], [0.3333333333333333, \"#9c179e\"], [0.4444444444444444, \"#bd3786\"], [0.5555555555555556, \"#d8576b\"], [0.6666666666666666, \"#ed7953\"], [0.7777777777777778, \"#fb9f3a\"], [0.8888888888888888, \"#fdca26\"], [1.0, \"#f0f921\"]]}, \"colorway\": [\"#636efa\", \"#EF553B\", \"#00cc96\", \"#ab63fa\", \"#FFA15A\", \"#19d3f3\", \"#FF6692\", \"#B6E880\", \"#FF97FF\", \"#FECB52\"], \"font\": {\"color\": \"#2a3f5f\"}, \"geo\": {\"bgcolor\": \"white\", \"lakecolor\": \"white\", \"landcolor\": \"#E5ECF6\", \"showlakes\": true, \"showland\": true, \"subunitcolor\": \"white\"}, \"hoverlabel\": {\"align\": \"left\"}, \"hovermode\": \"closest\", \"mapbox\": {\"style\": \"light\"}, \"paper_bgcolor\": \"white\", \"plot_bgcolor\": \"#E5ECF6\", \"polar\": {\"angularaxis\": {\"gridcolor\": \"white\", \"linecolor\": \"white\", \"ticks\": \"\"}, \"bgcolor\": \"#E5ECF6\", \"radialaxis\": {\"gridcolor\": \"white\", \"linecolor\": \"white\", \"ticks\": \"\"}}, \"scene\": {\"xaxis\": {\"backgroundcolor\": \"#E5ECF6\", \"gridcolor\": \"white\", \"gridwidth\": 2, \"linecolor\": \"white\", \"showbackground\": true, \"ticks\": \"\", \"zerolinecolor\": \"white\"}, \"yaxis\": {\"backgroundcolor\": \"#E5ECF6\", \"gridcolor\": \"white\", \"gridwidth\": 2, \"linecolor\": \"white\", \"showbackground\": true, \"ticks\": \"\", \"zerolinecolor\": \"white\"}, \"zaxis\": {\"backgroundcolor\": \"#E5ECF6\", \"gridcolor\": \"white\", \"gridwidth\": 2, \"linecolor\": \"white\", \"showbackground\": true, \"ticks\": \"\", \"zerolinecolor\": \"white\"}}, \"shapedefaults\": {\"line\": {\"color\": \"#2a3f5f\"}}, \"ternary\": {\"aaxis\": {\"gridcolor\": \"white\", \"linecolor\": \"white\", \"ticks\": \"\"}, \"baxis\": {\"gridcolor\": \"white\", \"linecolor\": \"white\", \"ticks\": \"\"}, \"bgcolor\": \"#E5ECF6\", \"caxis\": {\"gridcolor\": \"white\", \"linecolor\": \"white\", \"ticks\": \"\"}}, \"title\": {\"x\": 0.05}, \"xaxis\": {\"automargin\": true, \"gridcolor\": \"white\", \"linecolor\": \"white\", \"ticks\": \"\", \"title\": {\"standoff\": 15}, \"zerolinecolor\": \"white\", \"zerolinewidth\": 2}, \"yaxis\": {\"automargin\": true, \"gridcolor\": \"white\", \"linecolor\": \"white\", \"ticks\": \"\", \"title\": {\"standoff\": 15}, \"zerolinecolor\": \"white\", \"zerolinewidth\": 2}}}, \"title\": {\"font\": {\"color\": \"#4D5663\"}}, \"xaxis\": {\"gridcolor\": \"#E1E5ED\", \"showgrid\": true, \"tickfont\": {\"color\": \"#4D5663\"}, \"title\": {\"font\": {\"color\": \"#4D5663\"}, \"text\": \"\"}, \"zerolinecolor\": \"#E1E5ED\"}, \"yaxis\": {\"gridcolor\": \"#E1E5ED\", \"showgrid\": true, \"tickfont\": {\"color\": \"#4D5663\"}, \"title\": {\"font\": {\"color\": \"#4D5663\"}, \"text\": \"\"}, \"zerolinecolor\": \"#E1E5ED\"}},\n",
       "                        {\"showLink\": true, \"linkText\": \"Export to plot.ly\", \"plotlyServerURL\": \"https://plot.ly\", \"responsive\": true}\n",
       "                    ).then(function(){\n",
       "                            \n",
       "var gd = document.getElementById('8611450b-ac48-4b03-b667-15926c06b7f7');\n",
       "var x = new MutationObserver(function (mutations, observer) {{\n",
       "        var display = window.getComputedStyle(gd).display;\n",
       "        if (!display || display === 'none') {{\n",
       "            console.log([gd, 'removed!']);\n",
       "            Plotly.purge(gd);\n",
       "            observer.disconnect();\n",
       "        }}\n",
       "}});\n",
       "\n",
       "// Listen for the removal of the full notebook cells\n",
       "var notebookContainer = gd.closest('#notebook-container');\n",
       "if (notebookContainer) {{\n",
       "    x.observe(notebookContainer, {childList: true});\n",
       "}}\n",
       "\n",
       "// Listen for the clearing of the current output cell\n",
       "var outputEl = gd.closest('.output');\n",
       "if (outputEl) {{\n",
       "    x.observe(outputEl, {childList: true});\n",
       "}}\n",
       "\n",
       "                        })\n",
       "                };\n",
       "                });\n",
       "            </script>\n",
       "        </div>"
      ]
     },
     "metadata": {},
     "output_type": "display_data"
    }
   ],
   "source": [
    "df['A'].iplot(kind='hist',bins=25)"
   ]
  },
  {
   "cell_type": "code",
   "execution_count": 17,
   "metadata": {
    "jupyter": {
     "outputs_hidden": false
    },
    "scrolled": true
   },
   "outputs": [
    {
     "data": {
      "application/vnd.plotly.v1+json": {
       "config": {
        "linkText": "Export to plot.ly",
        "plotlyServerURL": "https://plot.ly",
        "showLink": true
       },
       "data": [
        {
         "marker": {
          "color": [
           "rgb(255, 153, 51)",
           "rgb(55, 128, 191)",
           "rgb(50, 171, 96)",
           "rgb(128, 0, 128)",
           "rgb(219, 64, 82)",
           "rgb(0, 128, 128)",
           "rgb(255, 255, 51)",
           "rgb(128, 128, 0)",
           "rgb(251, 128, 114)",
           "rgb(128, 177, 211)"
          ],
          "line": {
           "width": 1.3
          },
          "size": [
           33,
           63,
           66,
           70,
           54,
           48,
           97,
           63,
           50,
           29,
           87,
           54,
           70,
           66,
           48,
           30,
           55,
           44,
           66,
           67,
           89,
           50,
           71,
           46,
           56,
           59,
           61,
           92,
           76,
           88,
           70,
           67,
           71,
           51,
           67,
           62,
           60,
           70,
           103,
           33,
           38,
           76,
           95,
           75,
           61,
           56,
           67,
           93,
           59,
           60,
           27,
           23,
           77,
           84,
           49,
           49,
           100,
           12,
           77,
           73,
           64,
           43,
           41,
           74,
           59,
           51,
           62,
           72,
           52,
           61,
           77,
           41,
           12,
           55,
           46,
           112,
           48,
           62,
           72,
           99,
           74,
           67,
           69,
           71,
           56,
           61,
           54,
           64,
           77,
           94,
           80,
           75,
           67,
           42,
           48,
           48,
           61,
           61,
           54,
           48
          ],
          "symbol": "circle"
         },
         "mode": "markers",
         "text": "",
         "type": "scatter",
         "x": [
          0.4180077677129555,
          -0.3128801845689577,
          -1.2818040073783439,
          -1.3499561265835542,
          0.3039279478452639,
          1.1863847742158518,
          1.0835583705349823,
          -0.7651009824722295,
          -0.004639367372395647,
          -1.2901800153095841,
          0.34194454457201795,
          0.2430265819302035,
          -1.239200746086747,
          0.6609179033616308,
          1.2215743606359457,
          0.22851490960072843,
          -0.14310895717634575,
          -0.7341660565469577,
          0.36739376263270695,
          -1.2263587978946202,
          1.1341530384801826,
          0.28922077570122323,
          1.4320291443559363,
          -0.029762809912246137,
          0.38843416039229095,
          -1.1576502517879128,
          1.247029680606232,
          -0.753455193611879,
          0.8454105594040022,
          -0.48863872395864744,
          2.0528279595553722,
          1.4216295566716677,
          0.3090330341207762,
          0.6300780183123109,
          0.10737093513874785,
          0.905973922917701,
          -0.2632028533845714,
          0.9603295207643638,
          1.71454912190604,
          0.30076145540589266,
          -1.158240647754955,
          -1.555770932461019,
          -0.5496394055924582,
          -0.3098464315731358,
          -0.9269172822170287,
          1.4110184848076361,
          1.0265506719696467,
          0.47315227690793843,
          2.673361746975534,
          -0.6268429927337782,
          0.7952441983109597,
          0.24673373697834614,
          0.11800304997405606,
          -0.2717307656980959,
          -1.2949623636338092,
          0.46002536031715685,
          -0.8360662796616206,
          -0.020453141860388522,
          0.09672518557631296,
          -0.25749844264543464,
          -0.19748331705545816,
          -1.67256744411012,
          0.16457940230626322,
          -0.6981315249889456,
          0.986887605344953,
          -1.0208677299390276,
          1.5248546268228698,
          -0.05730817773951274,
          -0.2809594183508312,
          0.2800640292767441,
          -0.510505088700282,
          -0.22022306767997035,
          2.561078078500293,
          0.32638871800881,
          0.4211229347119489,
          0.4209516549400868,
          -0.41142404589273535,
          -1.2027248824404886,
          -1.0516948271493292,
          -1.0425706408560913,
          0.8509036913952475,
          -0.5922630060724732,
          -0.17067372704042816,
          0.3863237902458271,
          -0.3888948052253109,
          1.4957478135781743,
          0.5039314677195023,
          -0.5050249482312905,
          -0.586667783064311,
          -0.33795302496972407,
          -0.5985714633089745,
          0.3291703972093818,
          1.3898555468856857,
          0.24688535145149937,
          -1.5197463024947038,
          -1.1415198737866825,
          0.6905109009733212,
          -0.6834054293578632,
          1.588126304796323,
          -0.5368967243521588
         ],
         "y": [
          -0.38851389542406467,
          1.4555094701878195,
          -0.49250437347962495,
          0.5127069535232905,
          0.040541718463032075,
          0.16373327279668246,
          0.17257081418050907,
          0.30546492891383126,
          0.46958784039958695,
          -0.22966083824062747,
          -2.526885600303071,
          -0.4847405925891708,
          0.45377893892101284,
          -0.8368013602100006,
          0.42772046313745377,
          -1.738150320282506,
          -0.8297097197366343,
          0.30096605858103315,
          -0.17828234826613287,
          -0.6104656125377197,
          -0.057847804501502786,
          0.8075905382876867,
          -1.0556132374879243,
          -0.9976931987763373,
          2.588386126266256,
          -0.7780244315000312,
          -0.4390279271257135,
          -0.3323260365131081,
          -0.5029687669751323,
          0.9876315856388016,
          -0.8811506763207766,
          1.1919465596099408,
          -1.3971373000747602,
          -1.3167293924560757,
          0.08151482303535279,
          -2.396012948031223,
          -1.5454554866390564,
          0.715911814485308,
          0.11306587784706669,
          0.6871377228556313,
          0.1678675167159434,
          0.35767472857090465,
          1.6343324317472023,
          0.7408556906103368,
          0.5546661006435808,
          1.1705085664132198,
          -0.1950920426807639,
          0.8072746249080459,
          0.7191339935489122,
          0.2627823994645575,
          0.2716123406664341,
          0.06509604265191297,
          0.24775972951110936,
          -0.031764637242011964,
          0.7222793010970351,
          -1.0430619181025411,
          -0.6124268425291312,
          -0.9574044874482729,
          -0.8282953516308782,
          -0.15415791161250897,
          0.07323383909711624,
          2.0322204253233855,
          -2.709345784372258,
          0.6746943139917259,
          1.6003465621504065,
          -0.5546245562644994,
          0.2361100996334074,
          0.5135461009704804,
          0.6040598602576654,
          1.1972841291220075,
          0.5364947168111209,
          0.051253270889895015,
          1.3340314363537538,
          -1.499837262081371,
          1.4553991652504519,
          1.847950398899375,
          0.1504194495906708,
          -1.590313598465302,
          0.21520617758582,
          1.02603310475097,
          0.6716755400605747,
          1.2976699163750265,
          -1.3903035976441018,
          -1.5532971064033823,
          -0.19222439095544397,
          -0.8894040710742132,
          2.232239911471498,
          -0.2188573687720621,
          -0.8279744043641107,
          -0.6654106718715332,
          -0.5045060182494511,
          -0.11565646918786261,
          -0.6563025933303193,
          -0.7169847878554301,
          -0.33206575350661677,
          -0.45730465975917006,
          -1.4019649160542775,
          0.307032042787555,
          1.2999536161020562,
          0.6743916762583729
         ]
        }
       ],
       "layout": {
        "legend": {
         "bgcolor": "#F5F6F9",
         "font": {
          "color": "#4D5663"
         }
        },
        "paper_bgcolor": "#F5F6F9",
        "plot_bgcolor": "#F5F6F9",
        "template": {
         "data": {
          "bar": [
           {
            "error_x": {
             "color": "#2a3f5f"
            },
            "error_y": {
             "color": "#2a3f5f"
            },
            "marker": {
             "line": {
              "color": "#E5ECF6",
              "width": 0.5
             }
            },
            "type": "bar"
           }
          ],
          "barpolar": [
           {
            "marker": {
             "line": {
              "color": "#E5ECF6",
              "width": 0.5
             }
            },
            "type": "barpolar"
           }
          ],
          "carpet": [
           {
            "aaxis": {
             "endlinecolor": "#2a3f5f",
             "gridcolor": "white",
             "linecolor": "white",
             "minorgridcolor": "white",
             "startlinecolor": "#2a3f5f"
            },
            "baxis": {
             "endlinecolor": "#2a3f5f",
             "gridcolor": "white",
             "linecolor": "white",
             "minorgridcolor": "white",
             "startlinecolor": "#2a3f5f"
            },
            "type": "carpet"
           }
          ],
          "choropleth": [
           {
            "colorbar": {
             "outlinewidth": 0,
             "ticks": ""
            },
            "type": "choropleth"
           }
          ],
          "contour": [
           {
            "colorbar": {
             "outlinewidth": 0,
             "ticks": ""
            },
            "colorscale": [
             [
              0,
              "#0d0887"
             ],
             [
              0.1111111111111111,
              "#46039f"
             ],
             [
              0.2222222222222222,
              "#7201a8"
             ],
             [
              0.3333333333333333,
              "#9c179e"
             ],
             [
              0.4444444444444444,
              "#bd3786"
             ],
             [
              0.5555555555555556,
              "#d8576b"
             ],
             [
              0.6666666666666666,
              "#ed7953"
             ],
             [
              0.7777777777777778,
              "#fb9f3a"
             ],
             [
              0.8888888888888888,
              "#fdca26"
             ],
             [
              1,
              "#f0f921"
             ]
            ],
            "type": "contour"
           }
          ],
          "contourcarpet": [
           {
            "colorbar": {
             "outlinewidth": 0,
             "ticks": ""
            },
            "type": "contourcarpet"
           }
          ],
          "heatmap": [
           {
            "colorbar": {
             "outlinewidth": 0,
             "ticks": ""
            },
            "colorscale": [
             [
              0,
              "#0d0887"
             ],
             [
              0.1111111111111111,
              "#46039f"
             ],
             [
              0.2222222222222222,
              "#7201a8"
             ],
             [
              0.3333333333333333,
              "#9c179e"
             ],
             [
              0.4444444444444444,
              "#bd3786"
             ],
             [
              0.5555555555555556,
              "#d8576b"
             ],
             [
              0.6666666666666666,
              "#ed7953"
             ],
             [
              0.7777777777777778,
              "#fb9f3a"
             ],
             [
              0.8888888888888888,
              "#fdca26"
             ],
             [
              1,
              "#f0f921"
             ]
            ],
            "type": "heatmap"
           }
          ],
          "heatmapgl": [
           {
            "colorbar": {
             "outlinewidth": 0,
             "ticks": ""
            },
            "colorscale": [
             [
              0,
              "#0d0887"
             ],
             [
              0.1111111111111111,
              "#46039f"
             ],
             [
              0.2222222222222222,
              "#7201a8"
             ],
             [
              0.3333333333333333,
              "#9c179e"
             ],
             [
              0.4444444444444444,
              "#bd3786"
             ],
             [
              0.5555555555555556,
              "#d8576b"
             ],
             [
              0.6666666666666666,
              "#ed7953"
             ],
             [
              0.7777777777777778,
              "#fb9f3a"
             ],
             [
              0.8888888888888888,
              "#fdca26"
             ],
             [
              1,
              "#f0f921"
             ]
            ],
            "type": "heatmapgl"
           }
          ],
          "histogram": [
           {
            "marker": {
             "colorbar": {
              "outlinewidth": 0,
              "ticks": ""
             }
            },
            "type": "histogram"
           }
          ],
          "histogram2d": [
           {
            "colorbar": {
             "outlinewidth": 0,
             "ticks": ""
            },
            "colorscale": [
             [
              0,
              "#0d0887"
             ],
             [
              0.1111111111111111,
              "#46039f"
             ],
             [
              0.2222222222222222,
              "#7201a8"
             ],
             [
              0.3333333333333333,
              "#9c179e"
             ],
             [
              0.4444444444444444,
              "#bd3786"
             ],
             [
              0.5555555555555556,
              "#d8576b"
             ],
             [
              0.6666666666666666,
              "#ed7953"
             ],
             [
              0.7777777777777778,
              "#fb9f3a"
             ],
             [
              0.8888888888888888,
              "#fdca26"
             ],
             [
              1,
              "#f0f921"
             ]
            ],
            "type": "histogram2d"
           }
          ],
          "histogram2dcontour": [
           {
            "colorbar": {
             "outlinewidth": 0,
             "ticks": ""
            },
            "colorscale": [
             [
              0,
              "#0d0887"
             ],
             [
              0.1111111111111111,
              "#46039f"
             ],
             [
              0.2222222222222222,
              "#7201a8"
             ],
             [
              0.3333333333333333,
              "#9c179e"
             ],
             [
              0.4444444444444444,
              "#bd3786"
             ],
             [
              0.5555555555555556,
              "#d8576b"
             ],
             [
              0.6666666666666666,
              "#ed7953"
             ],
             [
              0.7777777777777778,
              "#fb9f3a"
             ],
             [
              0.8888888888888888,
              "#fdca26"
             ],
             [
              1,
              "#f0f921"
             ]
            ],
            "type": "histogram2dcontour"
           }
          ],
          "mesh3d": [
           {
            "colorbar": {
             "outlinewidth": 0,
             "ticks": ""
            },
            "type": "mesh3d"
           }
          ],
          "parcoords": [
           {
            "line": {
             "colorbar": {
              "outlinewidth": 0,
              "ticks": ""
             }
            },
            "type": "parcoords"
           }
          ],
          "pie": [
           {
            "automargin": true,
            "type": "pie"
           }
          ],
          "scatter": [
           {
            "marker": {
             "colorbar": {
              "outlinewidth": 0,
              "ticks": ""
             }
            },
            "type": "scatter"
           }
          ],
          "scatter3d": [
           {
            "line": {
             "colorbar": {
              "outlinewidth": 0,
              "ticks": ""
             }
            },
            "marker": {
             "colorbar": {
              "outlinewidth": 0,
              "ticks": ""
             }
            },
            "type": "scatter3d"
           }
          ],
          "scattercarpet": [
           {
            "marker": {
             "colorbar": {
              "outlinewidth": 0,
              "ticks": ""
             }
            },
            "type": "scattercarpet"
           }
          ],
          "scattergeo": [
           {
            "marker": {
             "colorbar": {
              "outlinewidth": 0,
              "ticks": ""
             }
            },
            "type": "scattergeo"
           }
          ],
          "scattergl": [
           {
            "marker": {
             "colorbar": {
              "outlinewidth": 0,
              "ticks": ""
             }
            },
            "type": "scattergl"
           }
          ],
          "scattermapbox": [
           {
            "marker": {
             "colorbar": {
              "outlinewidth": 0,
              "ticks": ""
             }
            },
            "type": "scattermapbox"
           }
          ],
          "scatterpolar": [
           {
            "marker": {
             "colorbar": {
              "outlinewidth": 0,
              "ticks": ""
             }
            },
            "type": "scatterpolar"
           }
          ],
          "scatterpolargl": [
           {
            "marker": {
             "colorbar": {
              "outlinewidth": 0,
              "ticks": ""
             }
            },
            "type": "scatterpolargl"
           }
          ],
          "scatterternary": [
           {
            "marker": {
             "colorbar": {
              "outlinewidth": 0,
              "ticks": ""
             }
            },
            "type": "scatterternary"
           }
          ],
          "surface": [
           {
            "colorbar": {
             "outlinewidth": 0,
             "ticks": ""
            },
            "colorscale": [
             [
              0,
              "#0d0887"
             ],
             [
              0.1111111111111111,
              "#46039f"
             ],
             [
              0.2222222222222222,
              "#7201a8"
             ],
             [
              0.3333333333333333,
              "#9c179e"
             ],
             [
              0.4444444444444444,
              "#bd3786"
             ],
             [
              0.5555555555555556,
              "#d8576b"
             ],
             [
              0.6666666666666666,
              "#ed7953"
             ],
             [
              0.7777777777777778,
              "#fb9f3a"
             ],
             [
              0.8888888888888888,
              "#fdca26"
             ],
             [
              1,
              "#f0f921"
             ]
            ],
            "type": "surface"
           }
          ],
          "table": [
           {
            "cells": {
             "fill": {
              "color": "#EBF0F8"
             },
             "line": {
              "color": "white"
             }
            },
            "header": {
             "fill": {
              "color": "#C8D4E3"
             },
             "line": {
              "color": "white"
             }
            },
            "type": "table"
           }
          ]
         },
         "layout": {
          "annotationdefaults": {
           "arrowcolor": "#2a3f5f",
           "arrowhead": 0,
           "arrowwidth": 1
          },
          "coloraxis": {
           "colorbar": {
            "outlinewidth": 0,
            "ticks": ""
           }
          },
          "colorscale": {
           "diverging": [
            [
             0,
             "#8e0152"
            ],
            [
             0.1,
             "#c51b7d"
            ],
            [
             0.2,
             "#de77ae"
            ],
            [
             0.3,
             "#f1b6da"
            ],
            [
             0.4,
             "#fde0ef"
            ],
            [
             0.5,
             "#f7f7f7"
            ],
            [
             0.6,
             "#e6f5d0"
            ],
            [
             0.7,
             "#b8e186"
            ],
            [
             0.8,
             "#7fbc41"
            ],
            [
             0.9,
             "#4d9221"
            ],
            [
             1,
             "#276419"
            ]
           ],
           "sequential": [
            [
             0,
             "#0d0887"
            ],
            [
             0.1111111111111111,
             "#46039f"
            ],
            [
             0.2222222222222222,
             "#7201a8"
            ],
            [
             0.3333333333333333,
             "#9c179e"
            ],
            [
             0.4444444444444444,
             "#bd3786"
            ],
            [
             0.5555555555555556,
             "#d8576b"
            ],
            [
             0.6666666666666666,
             "#ed7953"
            ],
            [
             0.7777777777777778,
             "#fb9f3a"
            ],
            [
             0.8888888888888888,
             "#fdca26"
            ],
            [
             1,
             "#f0f921"
            ]
           ],
           "sequentialminus": [
            [
             0,
             "#0d0887"
            ],
            [
             0.1111111111111111,
             "#46039f"
            ],
            [
             0.2222222222222222,
             "#7201a8"
            ],
            [
             0.3333333333333333,
             "#9c179e"
            ],
            [
             0.4444444444444444,
             "#bd3786"
            ],
            [
             0.5555555555555556,
             "#d8576b"
            ],
            [
             0.6666666666666666,
             "#ed7953"
            ],
            [
             0.7777777777777778,
             "#fb9f3a"
            ],
            [
             0.8888888888888888,
             "#fdca26"
            ],
            [
             1,
             "#f0f921"
            ]
           ]
          },
          "colorway": [
           "#636efa",
           "#EF553B",
           "#00cc96",
           "#ab63fa",
           "#FFA15A",
           "#19d3f3",
           "#FF6692",
           "#B6E880",
           "#FF97FF",
           "#FECB52"
          ],
          "font": {
           "color": "#2a3f5f"
          },
          "geo": {
           "bgcolor": "white",
           "lakecolor": "white",
           "landcolor": "#E5ECF6",
           "showlakes": true,
           "showland": true,
           "subunitcolor": "white"
          },
          "hoverlabel": {
           "align": "left"
          },
          "hovermode": "closest",
          "mapbox": {
           "style": "light"
          },
          "paper_bgcolor": "white",
          "plot_bgcolor": "#E5ECF6",
          "polar": {
           "angularaxis": {
            "gridcolor": "white",
            "linecolor": "white",
            "ticks": ""
           },
           "bgcolor": "#E5ECF6",
           "radialaxis": {
            "gridcolor": "white",
            "linecolor": "white",
            "ticks": ""
           }
          },
          "scene": {
           "xaxis": {
            "backgroundcolor": "#E5ECF6",
            "gridcolor": "white",
            "gridwidth": 2,
            "linecolor": "white",
            "showbackground": true,
            "ticks": "",
            "zerolinecolor": "white"
           },
           "yaxis": {
            "backgroundcolor": "#E5ECF6",
            "gridcolor": "white",
            "gridwidth": 2,
            "linecolor": "white",
            "showbackground": true,
            "ticks": "",
            "zerolinecolor": "white"
           },
           "zaxis": {
            "backgroundcolor": "#E5ECF6",
            "gridcolor": "white",
            "gridwidth": 2,
            "linecolor": "white",
            "showbackground": true,
            "ticks": "",
            "zerolinecolor": "white"
           }
          },
          "shapedefaults": {
           "line": {
            "color": "#2a3f5f"
           }
          },
          "ternary": {
           "aaxis": {
            "gridcolor": "white",
            "linecolor": "white",
            "ticks": ""
           },
           "baxis": {
            "gridcolor": "white",
            "linecolor": "white",
            "ticks": ""
           },
           "bgcolor": "#E5ECF6",
           "caxis": {
            "gridcolor": "white",
            "linecolor": "white",
            "ticks": ""
           }
          },
          "title": {
           "x": 0.05
          },
          "xaxis": {
           "automargin": true,
           "gridcolor": "white",
           "linecolor": "white",
           "ticks": "",
           "title": {
            "standoff": 15
           },
           "zerolinecolor": "white",
           "zerolinewidth": 2
          },
          "yaxis": {
           "automargin": true,
           "gridcolor": "white",
           "linecolor": "white",
           "ticks": "",
           "title": {
            "standoff": 15
           },
           "zerolinecolor": "white",
           "zerolinewidth": 2
          }
         }
        },
        "title": {
         "font": {
          "color": "#4D5663"
         }
        },
        "xaxis": {
         "gridcolor": "#E1E5ED",
         "showgrid": true,
         "tickfont": {
          "color": "#4D5663"
         },
         "title": {
          "font": {
           "color": "#4D5663"
          },
          "text": ""
         },
         "zerolinecolor": "#E1E5ED"
        },
        "yaxis": {
         "gridcolor": "#E1E5ED",
         "showgrid": true,
         "tickfont": {
          "color": "#4D5663"
         },
         "title": {
          "font": {
           "color": "#4D5663"
          },
          "text": ""
         },
         "zerolinecolor": "#E1E5ED"
        }
       }
      },
      "text/html": [
       "<div>\n",
       "        \n",
       "        \n",
       "            <div id=\"d63017ce-9314-478d-8dfb-59e2dc19c947\" class=\"plotly-graph-div\" style=\"height:525px; width:100%;\"></div>\n",
       "            <script type=\"text/javascript\">\n",
       "                require([\"plotly\"], function(Plotly) {\n",
       "                    window.PLOTLYENV=window.PLOTLYENV || {};\n",
       "                    window.PLOTLYENV.BASE_URL='https://plot.ly';\n",
       "                    \n",
       "                if (document.getElementById(\"d63017ce-9314-478d-8dfb-59e2dc19c947\")) {\n",
       "                    Plotly.newPlot(\n",
       "                        'd63017ce-9314-478d-8dfb-59e2dc19c947',\n",
       "                        [{\"marker\": {\"color\": [\"rgb(255, 153, 51)\", \"rgb(55, 128, 191)\", \"rgb(50, 171, 96)\", \"rgb(128, 0, 128)\", \"rgb(219, 64, 82)\", \"rgb(0, 128, 128)\", \"rgb(255, 255, 51)\", \"rgb(128, 128, 0)\", \"rgb(251, 128, 114)\", \"rgb(128, 177, 211)\"], \"line\": {\"width\": 1.3}, \"size\": [33, 63, 66, 70, 54, 48, 97, 63, 50, 29, 87, 54, 70, 66, 48, 30, 55, 44, 66, 67, 89, 50, 71, 46, 56, 59, 61, 92, 76, 88, 70, 67, 71, 51, 67, 62, 60, 70, 103, 33, 38, 76, 95, 75, 61, 56, 67, 93, 59, 60, 27, 23, 77, 84, 49, 49, 100, 12, 77, 73, 64, 43, 41, 74, 59, 51, 62, 72, 52, 61, 77, 41, 12, 55, 46, 112, 48, 62, 72, 99, 74, 67, 69, 71, 56, 61, 54, 64, 77, 94, 80, 75, 67, 42, 48, 48, 61, 61, 54, 48], \"symbol\": \"circle\"}, \"mode\": \"markers\", \"text\": \"\", \"type\": \"scatter\", \"x\": [0.4180077677129555, -0.3128801845689577, -1.2818040073783439, -1.3499561265835542, 0.3039279478452639, 1.1863847742158518, 1.0835583705349823, -0.7651009824722295, -0.004639367372395647, -1.2901800153095841, 0.34194454457201795, 0.2430265819302035, -1.239200746086747, 0.6609179033616308, 1.2215743606359457, 0.22851490960072843, -0.14310895717634575, -0.7341660565469577, 0.36739376263270695, -1.2263587978946202, 1.1341530384801826, 0.28922077570122323, 1.4320291443559363, -0.029762809912246137, 0.38843416039229095, -1.1576502517879128, 1.247029680606232, -0.753455193611879, 0.8454105594040022, -0.48863872395864744, 2.0528279595553722, 1.4216295566716677, 0.3090330341207762, 0.6300780183123109, 0.10737093513874785, 0.905973922917701, -0.2632028533845714, 0.9603295207643638, 1.71454912190604, 0.30076145540589266, -1.158240647754955, -1.555770932461019, -0.5496394055924582, -0.3098464315731358, -0.9269172822170287, 1.4110184848076361, 1.0265506719696467, 0.47315227690793843, 2.673361746975534, -0.6268429927337782, 0.7952441983109597, 0.24673373697834614, 0.11800304997405606, -0.2717307656980959, -1.2949623636338092, 0.46002536031715685, -0.8360662796616206, -0.020453141860388522, 0.09672518557631296, -0.25749844264543464, -0.19748331705545816, -1.67256744411012, 0.16457940230626322, -0.6981315249889456, 0.986887605344953, -1.0208677299390276, 1.5248546268228698, -0.05730817773951274, -0.2809594183508312, 0.2800640292767441, -0.510505088700282, -0.22022306767997035, 2.561078078500293, 0.32638871800881, 0.4211229347119489, 0.4209516549400868, -0.41142404589273535, -1.2027248824404886, -1.0516948271493292, -1.0425706408560913, 0.8509036913952475, -0.5922630060724732, -0.17067372704042816, 0.3863237902458271, -0.3888948052253109, 1.4957478135781743, 0.5039314677195023, -0.5050249482312905, -0.586667783064311, -0.33795302496972407, -0.5985714633089745, 0.3291703972093818, 1.3898555468856857, 0.24688535145149937, -1.5197463024947038, -1.1415198737866825, 0.6905109009733212, -0.6834054293578632, 1.588126304796323, -0.5368967243521588], \"y\": [-0.38851389542406467, 1.4555094701878195, -0.49250437347962495, 0.5127069535232905, 0.040541718463032075, 0.16373327279668246, 0.17257081418050907, 0.30546492891383126, 0.46958784039958695, -0.22966083824062747, -2.526885600303071, -0.4847405925891708, 0.45377893892101284, -0.8368013602100006, 0.42772046313745377, -1.738150320282506, -0.8297097197366343, 0.30096605858103315, -0.17828234826613287, -0.6104656125377197, -0.057847804501502786, 0.8075905382876867, -1.0556132374879243, -0.9976931987763373, 2.588386126266256, -0.7780244315000312, -0.4390279271257135, -0.3323260365131081, -0.5029687669751323, 0.9876315856388016, -0.8811506763207766, 1.1919465596099408, -1.3971373000747602, -1.3167293924560757, 0.08151482303535279, -2.396012948031223, -1.5454554866390564, 0.715911814485308, 0.11306587784706669, 0.6871377228556313, 0.1678675167159434, 0.35767472857090465, 1.6343324317472023, 0.7408556906103368, 0.5546661006435808, 1.1705085664132198, -0.1950920426807639, 0.8072746249080459, 0.7191339935489122, 0.2627823994645575, 0.2716123406664341, 0.06509604265191297, 0.24775972951110936, -0.031764637242011964, 0.7222793010970351, -1.0430619181025411, -0.6124268425291312, -0.9574044874482729, -0.8282953516308782, -0.15415791161250897, 0.07323383909711624, 2.0322204253233855, -2.709345784372258, 0.6746943139917259, 1.6003465621504065, -0.5546245562644994, 0.2361100996334074, 0.5135461009704804, 0.6040598602576654, 1.1972841291220075, 0.5364947168111209, 0.051253270889895015, 1.3340314363537538, -1.499837262081371, 1.4553991652504519, 1.847950398899375, 0.1504194495906708, -1.590313598465302, 0.21520617758582, 1.02603310475097, 0.6716755400605747, 1.2976699163750265, -1.3903035976441018, -1.5532971064033823, -0.19222439095544397, -0.8894040710742132, 2.232239911471498, -0.2188573687720621, -0.8279744043641107, -0.6654106718715332, -0.5045060182494511, -0.11565646918786261, -0.6563025933303193, -0.7169847878554301, -0.33206575350661677, -0.45730465975917006, -1.4019649160542775, 0.307032042787555, 1.2999536161020562, 0.6743916762583729]}],\n",
       "                        {\"legend\": {\"bgcolor\": \"#F5F6F9\", \"font\": {\"color\": \"#4D5663\"}}, \"paper_bgcolor\": \"#F5F6F9\", \"plot_bgcolor\": \"#F5F6F9\", \"template\": {\"data\": {\"bar\": [{\"error_x\": {\"color\": \"#2a3f5f\"}, \"error_y\": {\"color\": \"#2a3f5f\"}, \"marker\": {\"line\": {\"color\": \"#E5ECF6\", \"width\": 0.5}}, \"type\": \"bar\"}], \"barpolar\": [{\"marker\": {\"line\": {\"color\": \"#E5ECF6\", \"width\": 0.5}}, \"type\": \"barpolar\"}], \"carpet\": [{\"aaxis\": {\"endlinecolor\": \"#2a3f5f\", \"gridcolor\": \"white\", \"linecolor\": \"white\", \"minorgridcolor\": \"white\", \"startlinecolor\": \"#2a3f5f\"}, \"baxis\": {\"endlinecolor\": \"#2a3f5f\", \"gridcolor\": \"white\", \"linecolor\": \"white\", \"minorgridcolor\": \"white\", \"startlinecolor\": \"#2a3f5f\"}, \"type\": \"carpet\"}], \"choropleth\": [{\"colorbar\": {\"outlinewidth\": 0, \"ticks\": \"\"}, \"type\": \"choropleth\"}], \"contour\": [{\"colorbar\": {\"outlinewidth\": 0, \"ticks\": \"\"}, \"colorscale\": [[0.0, \"#0d0887\"], [0.1111111111111111, \"#46039f\"], [0.2222222222222222, \"#7201a8\"], [0.3333333333333333, \"#9c179e\"], [0.4444444444444444, \"#bd3786\"], [0.5555555555555556, \"#d8576b\"], [0.6666666666666666, \"#ed7953\"], [0.7777777777777778, \"#fb9f3a\"], [0.8888888888888888, \"#fdca26\"], [1.0, \"#f0f921\"]], \"type\": \"contour\"}], \"contourcarpet\": [{\"colorbar\": {\"outlinewidth\": 0, \"ticks\": \"\"}, \"type\": \"contourcarpet\"}], \"heatmap\": [{\"colorbar\": {\"outlinewidth\": 0, \"ticks\": \"\"}, \"colorscale\": [[0.0, \"#0d0887\"], [0.1111111111111111, \"#46039f\"], [0.2222222222222222, \"#7201a8\"], [0.3333333333333333, \"#9c179e\"], [0.4444444444444444, \"#bd3786\"], [0.5555555555555556, \"#d8576b\"], [0.6666666666666666, \"#ed7953\"], [0.7777777777777778, \"#fb9f3a\"], [0.8888888888888888, \"#fdca26\"], [1.0, \"#f0f921\"]], \"type\": \"heatmap\"}], \"heatmapgl\": [{\"colorbar\": {\"outlinewidth\": 0, \"ticks\": \"\"}, \"colorscale\": [[0.0, \"#0d0887\"], [0.1111111111111111, \"#46039f\"], [0.2222222222222222, \"#7201a8\"], [0.3333333333333333, \"#9c179e\"], [0.4444444444444444, \"#bd3786\"], [0.5555555555555556, \"#d8576b\"], [0.6666666666666666, \"#ed7953\"], [0.7777777777777778, \"#fb9f3a\"], [0.8888888888888888, \"#fdca26\"], [1.0, \"#f0f921\"]], \"type\": \"heatmapgl\"}], \"histogram\": [{\"marker\": {\"colorbar\": {\"outlinewidth\": 0, \"ticks\": \"\"}}, \"type\": \"histogram\"}], \"histogram2d\": [{\"colorbar\": {\"outlinewidth\": 0, \"ticks\": \"\"}, \"colorscale\": [[0.0, \"#0d0887\"], [0.1111111111111111, \"#46039f\"], [0.2222222222222222, \"#7201a8\"], [0.3333333333333333, \"#9c179e\"], [0.4444444444444444, \"#bd3786\"], [0.5555555555555556, \"#d8576b\"], [0.6666666666666666, \"#ed7953\"], [0.7777777777777778, \"#fb9f3a\"], [0.8888888888888888, \"#fdca26\"], [1.0, \"#f0f921\"]], \"type\": \"histogram2d\"}], \"histogram2dcontour\": [{\"colorbar\": {\"outlinewidth\": 0, \"ticks\": \"\"}, \"colorscale\": [[0.0, \"#0d0887\"], [0.1111111111111111, \"#46039f\"], [0.2222222222222222, \"#7201a8\"], [0.3333333333333333, \"#9c179e\"], [0.4444444444444444, \"#bd3786\"], [0.5555555555555556, \"#d8576b\"], [0.6666666666666666, \"#ed7953\"], [0.7777777777777778, \"#fb9f3a\"], [0.8888888888888888, \"#fdca26\"], [1.0, \"#f0f921\"]], \"type\": \"histogram2dcontour\"}], \"mesh3d\": [{\"colorbar\": {\"outlinewidth\": 0, \"ticks\": \"\"}, \"type\": \"mesh3d\"}], \"parcoords\": [{\"line\": {\"colorbar\": {\"outlinewidth\": 0, \"ticks\": \"\"}}, \"type\": \"parcoords\"}], \"pie\": [{\"automargin\": true, \"type\": \"pie\"}], \"scatter\": [{\"marker\": {\"colorbar\": {\"outlinewidth\": 0, \"ticks\": \"\"}}, \"type\": \"scatter\"}], \"scatter3d\": [{\"line\": {\"colorbar\": {\"outlinewidth\": 0, \"ticks\": \"\"}}, \"marker\": {\"colorbar\": {\"outlinewidth\": 0, \"ticks\": \"\"}}, \"type\": \"scatter3d\"}], \"scattercarpet\": [{\"marker\": {\"colorbar\": {\"outlinewidth\": 0, \"ticks\": \"\"}}, \"type\": \"scattercarpet\"}], \"scattergeo\": [{\"marker\": {\"colorbar\": {\"outlinewidth\": 0, \"ticks\": \"\"}}, \"type\": \"scattergeo\"}], \"scattergl\": [{\"marker\": {\"colorbar\": {\"outlinewidth\": 0, \"ticks\": \"\"}}, \"type\": \"scattergl\"}], \"scattermapbox\": [{\"marker\": {\"colorbar\": {\"outlinewidth\": 0, \"ticks\": \"\"}}, \"type\": \"scattermapbox\"}], \"scatterpolar\": [{\"marker\": {\"colorbar\": {\"outlinewidth\": 0, \"ticks\": \"\"}}, \"type\": \"scatterpolar\"}], \"scatterpolargl\": [{\"marker\": {\"colorbar\": {\"outlinewidth\": 0, \"ticks\": \"\"}}, \"type\": \"scatterpolargl\"}], \"scatterternary\": [{\"marker\": {\"colorbar\": {\"outlinewidth\": 0, \"ticks\": \"\"}}, \"type\": \"scatterternary\"}], \"surface\": [{\"colorbar\": {\"outlinewidth\": 0, \"ticks\": \"\"}, \"colorscale\": [[0.0, \"#0d0887\"], [0.1111111111111111, \"#46039f\"], [0.2222222222222222, \"#7201a8\"], [0.3333333333333333, \"#9c179e\"], [0.4444444444444444, \"#bd3786\"], [0.5555555555555556, \"#d8576b\"], [0.6666666666666666, \"#ed7953\"], [0.7777777777777778, \"#fb9f3a\"], [0.8888888888888888, \"#fdca26\"], [1.0, \"#f0f921\"]], \"type\": \"surface\"}], \"table\": [{\"cells\": {\"fill\": {\"color\": \"#EBF0F8\"}, \"line\": {\"color\": \"white\"}}, \"header\": {\"fill\": {\"color\": \"#C8D4E3\"}, \"line\": {\"color\": \"white\"}}, \"type\": \"table\"}]}, \"layout\": {\"annotationdefaults\": {\"arrowcolor\": \"#2a3f5f\", \"arrowhead\": 0, \"arrowwidth\": 1}, \"coloraxis\": {\"colorbar\": {\"outlinewidth\": 0, \"ticks\": \"\"}}, \"colorscale\": {\"diverging\": [[0, \"#8e0152\"], [0.1, \"#c51b7d\"], [0.2, \"#de77ae\"], [0.3, \"#f1b6da\"], [0.4, \"#fde0ef\"], [0.5, \"#f7f7f7\"], [0.6, \"#e6f5d0\"], [0.7, \"#b8e186\"], [0.8, \"#7fbc41\"], [0.9, \"#4d9221\"], [1, \"#276419\"]], \"sequential\": [[0.0, \"#0d0887\"], [0.1111111111111111, \"#46039f\"], [0.2222222222222222, \"#7201a8\"], [0.3333333333333333, \"#9c179e\"], [0.4444444444444444, \"#bd3786\"], [0.5555555555555556, \"#d8576b\"], [0.6666666666666666, \"#ed7953\"], [0.7777777777777778, \"#fb9f3a\"], [0.8888888888888888, \"#fdca26\"], [1.0, \"#f0f921\"]], \"sequentialminus\": [[0.0, \"#0d0887\"], [0.1111111111111111, \"#46039f\"], [0.2222222222222222, \"#7201a8\"], [0.3333333333333333, \"#9c179e\"], [0.4444444444444444, \"#bd3786\"], [0.5555555555555556, \"#d8576b\"], [0.6666666666666666, \"#ed7953\"], [0.7777777777777778, \"#fb9f3a\"], [0.8888888888888888, \"#fdca26\"], [1.0, \"#f0f921\"]]}, \"colorway\": [\"#636efa\", \"#EF553B\", \"#00cc96\", \"#ab63fa\", \"#FFA15A\", \"#19d3f3\", \"#FF6692\", \"#B6E880\", \"#FF97FF\", \"#FECB52\"], \"font\": {\"color\": \"#2a3f5f\"}, \"geo\": {\"bgcolor\": \"white\", \"lakecolor\": \"white\", \"landcolor\": \"#E5ECF6\", \"showlakes\": true, \"showland\": true, \"subunitcolor\": \"white\"}, \"hoverlabel\": {\"align\": \"left\"}, \"hovermode\": \"closest\", \"mapbox\": {\"style\": \"light\"}, \"paper_bgcolor\": \"white\", \"plot_bgcolor\": \"#E5ECF6\", \"polar\": {\"angularaxis\": {\"gridcolor\": \"white\", \"linecolor\": \"white\", \"ticks\": \"\"}, \"bgcolor\": \"#E5ECF6\", \"radialaxis\": {\"gridcolor\": \"white\", \"linecolor\": \"white\", \"ticks\": \"\"}}, \"scene\": {\"xaxis\": {\"backgroundcolor\": \"#E5ECF6\", \"gridcolor\": \"white\", \"gridwidth\": 2, \"linecolor\": \"white\", \"showbackground\": true, \"ticks\": \"\", \"zerolinecolor\": \"white\"}, \"yaxis\": {\"backgroundcolor\": \"#E5ECF6\", \"gridcolor\": \"white\", \"gridwidth\": 2, \"linecolor\": \"white\", \"showbackground\": true, \"ticks\": \"\", \"zerolinecolor\": \"white\"}, \"zaxis\": {\"backgroundcolor\": \"#E5ECF6\", \"gridcolor\": \"white\", \"gridwidth\": 2, \"linecolor\": \"white\", \"showbackground\": true, \"ticks\": \"\", \"zerolinecolor\": \"white\"}}, \"shapedefaults\": {\"line\": {\"color\": \"#2a3f5f\"}}, \"ternary\": {\"aaxis\": {\"gridcolor\": \"white\", \"linecolor\": \"white\", \"ticks\": \"\"}, \"baxis\": {\"gridcolor\": \"white\", \"linecolor\": \"white\", \"ticks\": \"\"}, \"bgcolor\": \"#E5ECF6\", \"caxis\": {\"gridcolor\": \"white\", \"linecolor\": \"white\", \"ticks\": \"\"}}, \"title\": {\"x\": 0.05}, \"xaxis\": {\"automargin\": true, \"gridcolor\": \"white\", \"linecolor\": \"white\", \"ticks\": \"\", \"title\": {\"standoff\": 15}, \"zerolinecolor\": \"white\", \"zerolinewidth\": 2}, \"yaxis\": {\"automargin\": true, \"gridcolor\": \"white\", \"linecolor\": \"white\", \"ticks\": \"\", \"title\": {\"standoff\": 15}, \"zerolinecolor\": \"white\", \"zerolinewidth\": 2}}}, \"title\": {\"font\": {\"color\": \"#4D5663\"}}, \"xaxis\": {\"gridcolor\": \"#E1E5ED\", \"showgrid\": true, \"tickfont\": {\"color\": \"#4D5663\"}, \"title\": {\"font\": {\"color\": \"#4D5663\"}, \"text\": \"\"}, \"zerolinecolor\": \"#E1E5ED\"}, \"yaxis\": {\"gridcolor\": \"#E1E5ED\", \"showgrid\": true, \"tickfont\": {\"color\": \"#4D5663\"}, \"title\": {\"font\": {\"color\": \"#4D5663\"}, \"text\": \"\"}, \"zerolinecolor\": \"#E1E5ED\"}},\n",
       "                        {\"showLink\": true, \"linkText\": \"Export to plot.ly\", \"plotlyServerURL\": \"https://plot.ly\", \"responsive\": true}\n",
       "                    ).then(function(){\n",
       "                            \n",
       "var gd = document.getElementById('d63017ce-9314-478d-8dfb-59e2dc19c947');\n",
       "var x = new MutationObserver(function (mutations, observer) {{\n",
       "        var display = window.getComputedStyle(gd).display;\n",
       "        if (!display || display === 'none') {{\n",
       "            console.log([gd, 'removed!']);\n",
       "            Plotly.purge(gd);\n",
       "            observer.disconnect();\n",
       "        }}\n",
       "}});\n",
       "\n",
       "// Listen for the removal of the full notebook cells\n",
       "var notebookContainer = gd.closest('#notebook-container');\n",
       "if (notebookContainer) {{\n",
       "    x.observe(notebookContainer, {childList: true});\n",
       "}}\n",
       "\n",
       "// Listen for the clearing of the current output cell\n",
       "var outputEl = gd.closest('.output');\n",
       "if (outputEl) {{\n",
       "    x.observe(outputEl, {childList: true});\n",
       "}}\n",
       "\n",
       "                        })\n",
       "                };\n",
       "                });\n",
       "            </script>\n",
       "        </div>"
      ]
     },
     "metadata": {},
     "output_type": "display_data"
    }
   ],
   "source": [
    "df.iplot(kind='bubble',x='A',y='B',size='C')"
   ]
  },
  {
   "cell_type": "markdown",
   "metadata": {},
   "source": [
    "## scatter_matrix()\n",
    "\n",
    "Similar to sns.pairplot()"
   ]
  },
  {
   "cell_type": "code",
   "execution_count": 18,
   "metadata": {
    "jupyter": {
     "outputs_hidden": false
    }
   },
   "outputs": [
    {
     "data": {
      "application/vnd.plotly.v1+json": {
       "config": {
        "linkText": "Export to plot.ly",
        "plotlyServerURL": "https://plot.ly",
        "showLink": true
       },
       "data": [
        {
         "histfunc": "count",
         "histnorm": "",
         "marker": {
          "color": "rgba(255, 153, 51, 1.0)",
          "line": {
           "color": "#4D5663",
           "width": 1.3
          }
         },
         "name": "A",
         "nbinsx": 10,
         "opacity": 0.8,
         "orientation": "v",
         "type": "histogram",
         "x": [
          0.4180077677129555,
          -0.3128801845689577,
          -1.2818040073783439,
          -1.3499561265835542,
          0.3039279478452639,
          1.1863847742158518,
          1.0835583705349823,
          -0.7651009824722295,
          -0.004639367372395647,
          -1.2901800153095841,
          0.34194454457201795,
          0.2430265819302035,
          -1.239200746086747,
          0.6609179033616308,
          1.2215743606359457,
          0.22851490960072843,
          -0.14310895717634575,
          -0.7341660565469577,
          0.36739376263270695,
          -1.2263587978946202,
          1.1341530384801826,
          0.28922077570122323,
          1.4320291443559363,
          -0.029762809912246137,
          0.38843416039229095,
          -1.1576502517879128,
          1.247029680606232,
          -0.753455193611879,
          0.8454105594040022,
          -0.48863872395864744,
          2.0528279595553722,
          1.4216295566716677,
          0.3090330341207762,
          0.6300780183123109,
          0.10737093513874785,
          0.905973922917701,
          -0.2632028533845714,
          0.9603295207643638,
          1.71454912190604,
          0.30076145540589266,
          -1.158240647754955,
          -1.555770932461019,
          -0.5496394055924582,
          -0.3098464315731358,
          -0.9269172822170287,
          1.4110184848076361,
          1.0265506719696467,
          0.47315227690793843,
          2.673361746975534,
          -0.6268429927337782,
          0.7952441983109597,
          0.24673373697834614,
          0.11800304997405606,
          -0.2717307656980959,
          -1.2949623636338092,
          0.46002536031715685,
          -0.8360662796616206,
          -0.020453141860388522,
          0.09672518557631296,
          -0.25749844264543464,
          -0.19748331705545816,
          -1.67256744411012,
          0.16457940230626322,
          -0.6981315249889456,
          0.986887605344953,
          -1.0208677299390276,
          1.5248546268228698,
          -0.05730817773951274,
          -0.2809594183508312,
          0.2800640292767441,
          -0.510505088700282,
          -0.22022306767997035,
          2.561078078500293,
          0.32638871800881,
          0.4211229347119489,
          0.4209516549400868,
          -0.41142404589273535,
          -1.2027248824404886,
          -1.0516948271493292,
          -1.0425706408560913,
          0.8509036913952475,
          -0.5922630060724732,
          -0.17067372704042816,
          0.3863237902458271,
          -0.3888948052253109,
          1.4957478135781743,
          0.5039314677195023,
          -0.5050249482312905,
          -0.586667783064311,
          -0.33795302496972407,
          -0.5985714633089745,
          0.3291703972093818,
          1.3898555468856857,
          0.24688535145149937,
          -1.5197463024947038,
          -1.1415198737866825,
          0.6905109009733212,
          -0.6834054293578632,
          1.588126304796323,
          -0.5368967243521588
         ],
         "xaxis": "x",
         "yaxis": "y"
        },
        {
         "line": {
          "color": "rgba(128, 128, 128, 1.0)",
          "dash": "solid",
          "shape": "linear",
          "width": 1.3
         },
         "marker": {
          "size": 2,
          "symbol": "circle"
         },
         "mode": "markers",
         "name": "A",
         "text": "",
         "type": "scatter",
         "x": [
          -0.38851389542406467,
          1.4555094701878195,
          -0.49250437347962495,
          0.5127069535232905,
          0.040541718463032075,
          0.16373327279668246,
          0.17257081418050907,
          0.30546492891383126,
          0.46958784039958695,
          -0.22966083824062747,
          -2.526885600303071,
          -0.4847405925891708,
          0.45377893892101284,
          -0.8368013602100006,
          0.42772046313745377,
          -1.738150320282506,
          -0.8297097197366343,
          0.30096605858103315,
          -0.17828234826613287,
          -0.6104656125377197,
          -0.057847804501502786,
          0.8075905382876867,
          -1.0556132374879243,
          -0.9976931987763373,
          2.588386126266256,
          -0.7780244315000312,
          -0.4390279271257135,
          -0.3323260365131081,
          -0.5029687669751323,
          0.9876315856388016,
          -0.8811506763207766,
          1.1919465596099408,
          -1.3971373000747602,
          -1.3167293924560757,
          0.08151482303535279,
          -2.396012948031223,
          -1.5454554866390564,
          0.715911814485308,
          0.11306587784706669,
          0.6871377228556313,
          0.1678675167159434,
          0.35767472857090465,
          1.6343324317472023,
          0.7408556906103368,
          0.5546661006435808,
          1.1705085664132198,
          -0.1950920426807639,
          0.8072746249080459,
          0.7191339935489122,
          0.2627823994645575,
          0.2716123406664341,
          0.06509604265191297,
          0.24775972951110936,
          -0.031764637242011964,
          0.7222793010970351,
          -1.0430619181025411,
          -0.6124268425291312,
          -0.9574044874482729,
          -0.8282953516308782,
          -0.15415791161250897,
          0.07323383909711624,
          2.0322204253233855,
          -2.709345784372258,
          0.6746943139917259,
          1.6003465621504065,
          -0.5546245562644994,
          0.2361100996334074,
          0.5135461009704804,
          0.6040598602576654,
          1.1972841291220075,
          0.5364947168111209,
          0.051253270889895015,
          1.3340314363537538,
          -1.499837262081371,
          1.4553991652504519,
          1.847950398899375,
          0.1504194495906708,
          -1.590313598465302,
          0.21520617758582,
          1.02603310475097,
          0.6716755400605747,
          1.2976699163750265,
          -1.3903035976441018,
          -1.5532971064033823,
          -0.19222439095544397,
          -0.8894040710742132,
          2.232239911471498,
          -0.2188573687720621,
          -0.8279744043641107,
          -0.6654106718715332,
          -0.5045060182494511,
          -0.11565646918786261,
          -0.6563025933303193,
          -0.7169847878554301,
          -0.33206575350661677,
          -0.45730465975917006,
          -1.4019649160542775,
          0.307032042787555,
          1.2999536161020562,
          0.6743916762583729
         ],
         "xaxis": "x2",
         "y": [
          0.4180077677129555,
          -0.3128801845689577,
          -1.2818040073783439,
          -1.3499561265835542,
          0.3039279478452639,
          1.1863847742158518,
          1.0835583705349823,
          -0.7651009824722295,
          -0.004639367372395647,
          -1.2901800153095841,
          0.34194454457201795,
          0.2430265819302035,
          -1.239200746086747,
          0.6609179033616308,
          1.2215743606359457,
          0.22851490960072843,
          -0.14310895717634575,
          -0.7341660565469577,
          0.36739376263270695,
          -1.2263587978946202,
          1.1341530384801826,
          0.28922077570122323,
          1.4320291443559363,
          -0.029762809912246137,
          0.38843416039229095,
          -1.1576502517879128,
          1.247029680606232,
          -0.753455193611879,
          0.8454105594040022,
          -0.48863872395864744,
          2.0528279595553722,
          1.4216295566716677,
          0.3090330341207762,
          0.6300780183123109,
          0.10737093513874785,
          0.905973922917701,
          -0.2632028533845714,
          0.9603295207643638,
          1.71454912190604,
          0.30076145540589266,
          -1.158240647754955,
          -1.555770932461019,
          -0.5496394055924582,
          -0.3098464315731358,
          -0.9269172822170287,
          1.4110184848076361,
          1.0265506719696467,
          0.47315227690793843,
          2.673361746975534,
          -0.6268429927337782,
          0.7952441983109597,
          0.24673373697834614,
          0.11800304997405606,
          -0.2717307656980959,
          -1.2949623636338092,
          0.46002536031715685,
          -0.8360662796616206,
          -0.020453141860388522,
          0.09672518557631296,
          -0.25749844264543464,
          -0.19748331705545816,
          -1.67256744411012,
          0.16457940230626322,
          -0.6981315249889456,
          0.986887605344953,
          -1.0208677299390276,
          1.5248546268228698,
          -0.05730817773951274,
          -0.2809594183508312,
          0.2800640292767441,
          -0.510505088700282,
          -0.22022306767997035,
          2.561078078500293,
          0.32638871800881,
          0.4211229347119489,
          0.4209516549400868,
          -0.41142404589273535,
          -1.2027248824404886,
          -1.0516948271493292,
          -1.0425706408560913,
          0.8509036913952475,
          -0.5922630060724732,
          -0.17067372704042816,
          0.3863237902458271,
          -0.3888948052253109,
          1.4957478135781743,
          0.5039314677195023,
          -0.5050249482312905,
          -0.586667783064311,
          -0.33795302496972407,
          -0.5985714633089745,
          0.3291703972093818,
          1.3898555468856857,
          0.24688535145149937,
          -1.5197463024947038,
          -1.1415198737866825,
          0.6905109009733212,
          -0.6834054293578632,
          1.588126304796323,
          -0.5368967243521588
         ],
         "yaxis": "y2"
        },
        {
         "line": {
          "color": "rgba(128, 128, 128, 1.0)",
          "dash": "solid",
          "shape": "linear",
          "width": 1.3
         },
         "marker": {
          "size": 2,
          "symbol": "circle"
         },
         "mode": "markers",
         "name": "A",
         "text": "",
         "type": "scatter",
         "x": [
          -1.5548971198664823,
          0.16076004176469136,
          0.38365211920215275,
          0.5690187441345403,
          -0.32387980228073726,
          -0.6879882203982293,
          2.17228274716675,
          0.18034727166922518,
          -0.5544694409729981,
          -1.7869676808151327,
          1.5734761685349372,
          -0.3275938262407917,
          0.6059354603861855,
          0.3380638784211195,
          -0.7025282299628814,
          -1.7535061108292629,
          -0.2817342235864836,
          -0.9332507063514746,
          0.34068730604246744,
          0.3920694995444077,
          1.7164967032968461,
          -0.5559258945821576,
          0.6583770044983814,
          -0.81641359031972,
          -0.22728349353793822,
          -0.05868018453449199,
          0.08252693763996004,
          1.8549780059929735,
          0.951272617955901,
          1.616734192023336,
          0.5715557002398042,
          0.41577979284301253,
          0.6609591257248846,
          -0.5034055320120396,
          0.4048042238395531,
          0.10291766268351217,
          0.015453168506189956,
          0.6143178089612366,
          2.536098360814724,
          -1.583499304235178,
          -1.2995785729135914,
          0.9604734337615023,
          2.0372092307017446,
          0.9013060677804324,
          0.08400577433314985,
          -0.19928395298651444,
          0.39361388456957386,
          1.9517976016324357,
          -0.03875745399683904,
          0.02537125023711632,
          -1.9367845642249184,
          -2.154023228066554,
          1.0280095919767904,
          1.4007570810843677,
          -0.6285150476022329,
          -0.6537667389604715,
          2.3261114055947183,
          -2.827173989186571,
          0.9893705271276441,
          0.7675389611073868,
          0.21945766880972742,
          -1.0019971109369443,
          -1.1047431244214116,
          0.8295658153020609,
          -0.04571832559604567,
          -0.5423232623976562,
          0.10153918282634145,
          0.7290154762441521,
          -0.43804437057543066,
          0.08973182263719404,
          0.9809285807998175,
          -1.1003185112523015,
          -2.8061286461565245,
          -0.2590983357270895,
          -0.791915671111303,
          3.01674581735022,
          -0.7018061227785953,
          0.13439232590575362,
          0.6841874322387901,
          2.309545547532321,
          0.82374583313213,
          0.43282087923108364,
          0.5479294835482278,
          0.6407149207673306,
          -0.22189636567169257,
          0.05646080496771162,
          -0.35031193224878754,
          0.21838480584868908,
          0.9724591532271197,
          1.9696924218403984,
          1.1532337295118351,
          0.9026618450366959,
          0.43087417541807854,
          -1.01579492058328,
          -0.7032899418786179,
          -0.7109388642256232,
          0.04226715991717669,
          0.06873957803031885,
          -0.3187605124781835,
          -0.6898535537880573
         ],
         "xaxis": "x3",
         "y": [
          0.4180077677129555,
          -0.3128801845689577,
          -1.2818040073783439,
          -1.3499561265835542,
          0.3039279478452639,
          1.1863847742158518,
          1.0835583705349823,
          -0.7651009824722295,
          -0.004639367372395647,
          -1.2901800153095841,
          0.34194454457201795,
          0.2430265819302035,
          -1.239200746086747,
          0.6609179033616308,
          1.2215743606359457,
          0.22851490960072843,
          -0.14310895717634575,
          -0.7341660565469577,
          0.36739376263270695,
          -1.2263587978946202,
          1.1341530384801826,
          0.28922077570122323,
          1.4320291443559363,
          -0.029762809912246137,
          0.38843416039229095,
          -1.1576502517879128,
          1.247029680606232,
          -0.753455193611879,
          0.8454105594040022,
          -0.48863872395864744,
          2.0528279595553722,
          1.4216295566716677,
          0.3090330341207762,
          0.6300780183123109,
          0.10737093513874785,
          0.905973922917701,
          -0.2632028533845714,
          0.9603295207643638,
          1.71454912190604,
          0.30076145540589266,
          -1.158240647754955,
          -1.555770932461019,
          -0.5496394055924582,
          -0.3098464315731358,
          -0.9269172822170287,
          1.4110184848076361,
          1.0265506719696467,
          0.47315227690793843,
          2.673361746975534,
          -0.6268429927337782,
          0.7952441983109597,
          0.24673373697834614,
          0.11800304997405606,
          -0.2717307656980959,
          -1.2949623636338092,
          0.46002536031715685,
          -0.8360662796616206,
          -0.020453141860388522,
          0.09672518557631296,
          -0.25749844264543464,
          -0.19748331705545816,
          -1.67256744411012,
          0.16457940230626322,
          -0.6981315249889456,
          0.986887605344953,
          -1.0208677299390276,
          1.5248546268228698,
          -0.05730817773951274,
          -0.2809594183508312,
          0.2800640292767441,
          -0.510505088700282,
          -0.22022306767997035,
          2.561078078500293,
          0.32638871800881,
          0.4211229347119489,
          0.4209516549400868,
          -0.41142404589273535,
          -1.2027248824404886,
          -1.0516948271493292,
          -1.0425706408560913,
          0.8509036913952475,
          -0.5922630060724732,
          -0.17067372704042816,
          0.3863237902458271,
          -0.3888948052253109,
          1.4957478135781743,
          0.5039314677195023,
          -0.5050249482312905,
          -0.586667783064311,
          -0.33795302496972407,
          -0.5985714633089745,
          0.3291703972093818,
          1.3898555468856857,
          0.24688535145149937,
          -1.5197463024947038,
          -1.1415198737866825,
          0.6905109009733212,
          -0.6834054293578632,
          1.588126304796323,
          -0.5368967243521588
         ],
         "yaxis": "y3"
        },
        {
         "line": {
          "color": "rgba(128, 128, 128, 1.0)",
          "dash": "solid",
          "shape": "linear",
          "width": 1.3
         },
         "marker": {
          "size": 2,
          "symbol": "circle"
         },
         "mode": "markers",
         "name": "A",
         "text": "",
         "type": "scatter",
         "x": [
          1.9035873724567771,
          0.9424767159878351,
          0.7177576140550985,
          0.02044278753700372,
          -1.1279815774088429,
          -1.7015773156819936,
          -0.9044139870557208,
          -1.6174588287651726,
          -1.1689027313310763,
          -0.6404651377826653,
          0.3304314768869591,
          0.3832002511845898,
          -1.1221992417270812,
          -0.6878436810546351,
          1.4175359611936849,
          -0.6255067628898198,
          -0.07932381799453833,
          -1.0026217568107434,
          0.3768846186175386,
          -0.47297881369821143,
          1.3209042209707882,
          -0.9716227006726936,
          -1.3271319178685188,
          0.24408944374847133,
          0.8790061541851925,
          0.0735750338232907,
          0.0321923052397181,
          0.654943738468808,
          -0.0034610527503854223,
          2.2230079619714727,
          -1.3628441468126884,
          -0.6034584400011707,
          -0.22130026864043026,
          0.9057975301407415,
          1.1264820141748102,
          -1.3693850981008922,
          -0.6008605611432628,
          0.7954553134069772,
          0.6316290222616032,
          1.0706196947586943,
          -0.011710012872178465,
          -1.706155832964387,
          -0.46664671066258434,
          0.46459287282569633,
          0.6085947859192774,
          -0.6248760000018144,
          -1.3225581075825943,
          1.4216822522034809,
          1.2299905107810967,
          1.017811497550339,
          -0.27162596308459397,
          0.5344229096515827,
          1.2644276707445496,
          -0.4456595145923994,
          -0.34176318091132063,
          0.9525998868815186,
          1.6567790192769374,
          0.5275861320878861,
          0.03098245144479996,
          0.3605531346965227,
          0.7547386569858132,
          0.45564431772276637,
          -1.0373106180973466,
          -0.8106646135481044,
          -1.0446175823543187,
          0.11658607871768786,
          0.3172298874444565,
          1.6668483465017563,
          0.0020469118835838925,
          -1.074679836754118,
          0.06638055840001972,
          0.30992379820670507,
          1.8953476750016551,
          -0.042813449087720945,
          2.031908121326955,
          -0.08998646566650483,
          -0.7676390551546229,
          0.2845692651092083,
          0.20859153017068754,
          -1.3262751190632773,
          -0.19024430392280736,
          0.945622925389767,
          -0.12099717128340479,
          -0.6119348182338643,
          1.373214122049092,
          0.8010211229650782,
          -0.7583998431150829,
          1.0946388590416698,
          1.5109307097209796,
          -0.9747911239924799,
          -0.6052834275765676,
          -1.2190148605124953,
          0.44542411807913146,
          -0.16883442574082722,
          -0.90405452975825,
          -0.01634173273998749,
          -0.7624608483203248,
          -0.6380440434789618,
          0.012993249942215972,
          -1.5070538071389876
         ],
         "xaxis": "x4",
         "y": [
          0.4180077677129555,
          -0.3128801845689577,
          -1.2818040073783439,
          -1.3499561265835542,
          0.3039279478452639,
          1.1863847742158518,
          1.0835583705349823,
          -0.7651009824722295,
          -0.004639367372395647,
          -1.2901800153095841,
          0.34194454457201795,
          0.2430265819302035,
          -1.239200746086747,
          0.6609179033616308,
          1.2215743606359457,
          0.22851490960072843,
          -0.14310895717634575,
          -0.7341660565469577,
          0.36739376263270695,
          -1.2263587978946202,
          1.1341530384801826,
          0.28922077570122323,
          1.4320291443559363,
          -0.029762809912246137,
          0.38843416039229095,
          -1.1576502517879128,
          1.247029680606232,
          -0.753455193611879,
          0.8454105594040022,
          -0.48863872395864744,
          2.0528279595553722,
          1.4216295566716677,
          0.3090330341207762,
          0.6300780183123109,
          0.10737093513874785,
          0.905973922917701,
          -0.2632028533845714,
          0.9603295207643638,
          1.71454912190604,
          0.30076145540589266,
          -1.158240647754955,
          -1.555770932461019,
          -0.5496394055924582,
          -0.3098464315731358,
          -0.9269172822170287,
          1.4110184848076361,
          1.0265506719696467,
          0.47315227690793843,
          2.673361746975534,
          -0.6268429927337782,
          0.7952441983109597,
          0.24673373697834614,
          0.11800304997405606,
          -0.2717307656980959,
          -1.2949623636338092,
          0.46002536031715685,
          -0.8360662796616206,
          -0.020453141860388522,
          0.09672518557631296,
          -0.25749844264543464,
          -0.19748331705545816,
          -1.67256744411012,
          0.16457940230626322,
          -0.6981315249889456,
          0.986887605344953,
          -1.0208677299390276,
          1.5248546268228698,
          -0.05730817773951274,
          -0.2809594183508312,
          0.2800640292767441,
          -0.510505088700282,
          -0.22022306767997035,
          2.561078078500293,
          0.32638871800881,
          0.4211229347119489,
          0.4209516549400868,
          -0.41142404589273535,
          -1.2027248824404886,
          -1.0516948271493292,
          -1.0425706408560913,
          0.8509036913952475,
          -0.5922630060724732,
          -0.17067372704042816,
          0.3863237902458271,
          -0.3888948052253109,
          1.4957478135781743,
          0.5039314677195023,
          -0.5050249482312905,
          -0.586667783064311,
          -0.33795302496972407,
          -0.5985714633089745,
          0.3291703972093818,
          1.3898555468856857,
          0.24688535145149937,
          -1.5197463024947038,
          -1.1415198737866825,
          0.6905109009733212,
          -0.6834054293578632,
          1.588126304796323,
          -0.5368967243521588
         ],
         "yaxis": "y4"
        },
        {
         "line": {
          "color": "rgba(128, 128, 128, 1.0)",
          "dash": "solid",
          "shape": "linear",
          "width": 1.3
         },
         "marker": {
          "size": 2,
          "symbol": "circle"
         },
         "mode": "markers",
         "name": "B",
         "text": "",
         "type": "scatter",
         "x": [
          0.4180077677129555,
          -0.3128801845689577,
          -1.2818040073783439,
          -1.3499561265835542,
          0.3039279478452639,
          1.1863847742158518,
          1.0835583705349823,
          -0.7651009824722295,
          -0.004639367372395647,
          -1.2901800153095841,
          0.34194454457201795,
          0.2430265819302035,
          -1.239200746086747,
          0.6609179033616308,
          1.2215743606359457,
          0.22851490960072843,
          -0.14310895717634575,
          -0.7341660565469577,
          0.36739376263270695,
          -1.2263587978946202,
          1.1341530384801826,
          0.28922077570122323,
          1.4320291443559363,
          -0.029762809912246137,
          0.38843416039229095,
          -1.1576502517879128,
          1.247029680606232,
          -0.753455193611879,
          0.8454105594040022,
          -0.48863872395864744,
          2.0528279595553722,
          1.4216295566716677,
          0.3090330341207762,
          0.6300780183123109,
          0.10737093513874785,
          0.905973922917701,
          -0.2632028533845714,
          0.9603295207643638,
          1.71454912190604,
          0.30076145540589266,
          -1.158240647754955,
          -1.555770932461019,
          -0.5496394055924582,
          -0.3098464315731358,
          -0.9269172822170287,
          1.4110184848076361,
          1.0265506719696467,
          0.47315227690793843,
          2.673361746975534,
          -0.6268429927337782,
          0.7952441983109597,
          0.24673373697834614,
          0.11800304997405606,
          -0.2717307656980959,
          -1.2949623636338092,
          0.46002536031715685,
          -0.8360662796616206,
          -0.020453141860388522,
          0.09672518557631296,
          -0.25749844264543464,
          -0.19748331705545816,
          -1.67256744411012,
          0.16457940230626322,
          -0.6981315249889456,
          0.986887605344953,
          -1.0208677299390276,
          1.5248546268228698,
          -0.05730817773951274,
          -0.2809594183508312,
          0.2800640292767441,
          -0.510505088700282,
          -0.22022306767997035,
          2.561078078500293,
          0.32638871800881,
          0.4211229347119489,
          0.4209516549400868,
          -0.41142404589273535,
          -1.2027248824404886,
          -1.0516948271493292,
          -1.0425706408560913,
          0.8509036913952475,
          -0.5922630060724732,
          -0.17067372704042816,
          0.3863237902458271,
          -0.3888948052253109,
          1.4957478135781743,
          0.5039314677195023,
          -0.5050249482312905,
          -0.586667783064311,
          -0.33795302496972407,
          -0.5985714633089745,
          0.3291703972093818,
          1.3898555468856857,
          0.24688535145149937,
          -1.5197463024947038,
          -1.1415198737866825,
          0.6905109009733212,
          -0.6834054293578632,
          1.588126304796323,
          -0.5368967243521588
         ],
         "xaxis": "x5",
         "y": [
          -0.38851389542406467,
          1.4555094701878195,
          -0.49250437347962495,
          0.5127069535232905,
          0.040541718463032075,
          0.16373327279668246,
          0.17257081418050907,
          0.30546492891383126,
          0.46958784039958695,
          -0.22966083824062747,
          -2.526885600303071,
          -0.4847405925891708,
          0.45377893892101284,
          -0.8368013602100006,
          0.42772046313745377,
          -1.738150320282506,
          -0.8297097197366343,
          0.30096605858103315,
          -0.17828234826613287,
          -0.6104656125377197,
          -0.057847804501502786,
          0.8075905382876867,
          -1.0556132374879243,
          -0.9976931987763373,
          2.588386126266256,
          -0.7780244315000312,
          -0.4390279271257135,
          -0.3323260365131081,
          -0.5029687669751323,
          0.9876315856388016,
          -0.8811506763207766,
          1.1919465596099408,
          -1.3971373000747602,
          -1.3167293924560757,
          0.08151482303535279,
          -2.396012948031223,
          -1.5454554866390564,
          0.715911814485308,
          0.11306587784706669,
          0.6871377228556313,
          0.1678675167159434,
          0.35767472857090465,
          1.6343324317472023,
          0.7408556906103368,
          0.5546661006435808,
          1.1705085664132198,
          -0.1950920426807639,
          0.8072746249080459,
          0.7191339935489122,
          0.2627823994645575,
          0.2716123406664341,
          0.06509604265191297,
          0.24775972951110936,
          -0.031764637242011964,
          0.7222793010970351,
          -1.0430619181025411,
          -0.6124268425291312,
          -0.9574044874482729,
          -0.8282953516308782,
          -0.15415791161250897,
          0.07323383909711624,
          2.0322204253233855,
          -2.709345784372258,
          0.6746943139917259,
          1.6003465621504065,
          -0.5546245562644994,
          0.2361100996334074,
          0.5135461009704804,
          0.6040598602576654,
          1.1972841291220075,
          0.5364947168111209,
          0.051253270889895015,
          1.3340314363537538,
          -1.499837262081371,
          1.4553991652504519,
          1.847950398899375,
          0.1504194495906708,
          -1.590313598465302,
          0.21520617758582,
          1.02603310475097,
          0.6716755400605747,
          1.2976699163750265,
          -1.3903035976441018,
          -1.5532971064033823,
          -0.19222439095544397,
          -0.8894040710742132,
          2.232239911471498,
          -0.2188573687720621,
          -0.8279744043641107,
          -0.6654106718715332,
          -0.5045060182494511,
          -0.11565646918786261,
          -0.6563025933303193,
          -0.7169847878554301,
          -0.33206575350661677,
          -0.45730465975917006,
          -1.4019649160542775,
          0.307032042787555,
          1.2999536161020562,
          0.6743916762583729
         ],
         "yaxis": "y5"
        },
        {
         "histfunc": "count",
         "histnorm": "",
         "marker": {
          "color": "rgba(55, 128, 191, 1.0)",
          "line": {
           "color": "#4D5663",
           "width": 1.3
          }
         },
         "name": "B",
         "nbinsx": 10,
         "opacity": 0.8,
         "orientation": "v",
         "type": "histogram",
         "x": [
          -0.38851389542406467,
          1.4555094701878195,
          -0.49250437347962495,
          0.5127069535232905,
          0.040541718463032075,
          0.16373327279668246,
          0.17257081418050907,
          0.30546492891383126,
          0.46958784039958695,
          -0.22966083824062747,
          -2.526885600303071,
          -0.4847405925891708,
          0.45377893892101284,
          -0.8368013602100006,
          0.42772046313745377,
          -1.738150320282506,
          -0.8297097197366343,
          0.30096605858103315,
          -0.17828234826613287,
          -0.6104656125377197,
          -0.057847804501502786,
          0.8075905382876867,
          -1.0556132374879243,
          -0.9976931987763373,
          2.588386126266256,
          -0.7780244315000312,
          -0.4390279271257135,
          -0.3323260365131081,
          -0.5029687669751323,
          0.9876315856388016,
          -0.8811506763207766,
          1.1919465596099408,
          -1.3971373000747602,
          -1.3167293924560757,
          0.08151482303535279,
          -2.396012948031223,
          -1.5454554866390564,
          0.715911814485308,
          0.11306587784706669,
          0.6871377228556313,
          0.1678675167159434,
          0.35767472857090465,
          1.6343324317472023,
          0.7408556906103368,
          0.5546661006435808,
          1.1705085664132198,
          -0.1950920426807639,
          0.8072746249080459,
          0.7191339935489122,
          0.2627823994645575,
          0.2716123406664341,
          0.06509604265191297,
          0.24775972951110936,
          -0.031764637242011964,
          0.7222793010970351,
          -1.0430619181025411,
          -0.6124268425291312,
          -0.9574044874482729,
          -0.8282953516308782,
          -0.15415791161250897,
          0.07323383909711624,
          2.0322204253233855,
          -2.709345784372258,
          0.6746943139917259,
          1.6003465621504065,
          -0.5546245562644994,
          0.2361100996334074,
          0.5135461009704804,
          0.6040598602576654,
          1.1972841291220075,
          0.5364947168111209,
          0.051253270889895015,
          1.3340314363537538,
          -1.499837262081371,
          1.4553991652504519,
          1.847950398899375,
          0.1504194495906708,
          -1.590313598465302,
          0.21520617758582,
          1.02603310475097,
          0.6716755400605747,
          1.2976699163750265,
          -1.3903035976441018,
          -1.5532971064033823,
          -0.19222439095544397,
          -0.8894040710742132,
          2.232239911471498,
          -0.2188573687720621,
          -0.8279744043641107,
          -0.6654106718715332,
          -0.5045060182494511,
          -0.11565646918786261,
          -0.6563025933303193,
          -0.7169847878554301,
          -0.33206575350661677,
          -0.45730465975917006,
          -1.4019649160542775,
          0.307032042787555,
          1.2999536161020562,
          0.6743916762583729
         ],
         "xaxis": "x6",
         "yaxis": "y6"
        },
        {
         "line": {
          "color": "rgba(128, 128, 128, 1.0)",
          "dash": "solid",
          "shape": "linear",
          "width": 1.3
         },
         "marker": {
          "size": 2,
          "symbol": "circle"
         },
         "mode": "markers",
         "name": "B",
         "text": "",
         "type": "scatter",
         "x": [
          -1.5548971198664823,
          0.16076004176469136,
          0.38365211920215275,
          0.5690187441345403,
          -0.32387980228073726,
          -0.6879882203982293,
          2.17228274716675,
          0.18034727166922518,
          -0.5544694409729981,
          -1.7869676808151327,
          1.5734761685349372,
          -0.3275938262407917,
          0.6059354603861855,
          0.3380638784211195,
          -0.7025282299628814,
          -1.7535061108292629,
          -0.2817342235864836,
          -0.9332507063514746,
          0.34068730604246744,
          0.3920694995444077,
          1.7164967032968461,
          -0.5559258945821576,
          0.6583770044983814,
          -0.81641359031972,
          -0.22728349353793822,
          -0.05868018453449199,
          0.08252693763996004,
          1.8549780059929735,
          0.951272617955901,
          1.616734192023336,
          0.5715557002398042,
          0.41577979284301253,
          0.6609591257248846,
          -0.5034055320120396,
          0.4048042238395531,
          0.10291766268351217,
          0.015453168506189956,
          0.6143178089612366,
          2.536098360814724,
          -1.583499304235178,
          -1.2995785729135914,
          0.9604734337615023,
          2.0372092307017446,
          0.9013060677804324,
          0.08400577433314985,
          -0.19928395298651444,
          0.39361388456957386,
          1.9517976016324357,
          -0.03875745399683904,
          0.02537125023711632,
          -1.9367845642249184,
          -2.154023228066554,
          1.0280095919767904,
          1.4007570810843677,
          -0.6285150476022329,
          -0.6537667389604715,
          2.3261114055947183,
          -2.827173989186571,
          0.9893705271276441,
          0.7675389611073868,
          0.21945766880972742,
          -1.0019971109369443,
          -1.1047431244214116,
          0.8295658153020609,
          -0.04571832559604567,
          -0.5423232623976562,
          0.10153918282634145,
          0.7290154762441521,
          -0.43804437057543066,
          0.08973182263719404,
          0.9809285807998175,
          -1.1003185112523015,
          -2.8061286461565245,
          -0.2590983357270895,
          -0.791915671111303,
          3.01674581735022,
          -0.7018061227785953,
          0.13439232590575362,
          0.6841874322387901,
          2.309545547532321,
          0.82374583313213,
          0.43282087923108364,
          0.5479294835482278,
          0.6407149207673306,
          -0.22189636567169257,
          0.05646080496771162,
          -0.35031193224878754,
          0.21838480584868908,
          0.9724591532271197,
          1.9696924218403984,
          1.1532337295118351,
          0.9026618450366959,
          0.43087417541807854,
          -1.01579492058328,
          -0.7032899418786179,
          -0.7109388642256232,
          0.04226715991717669,
          0.06873957803031885,
          -0.3187605124781835,
          -0.6898535537880573
         ],
         "xaxis": "x7",
         "y": [
          -0.38851389542406467,
          1.4555094701878195,
          -0.49250437347962495,
          0.5127069535232905,
          0.040541718463032075,
          0.16373327279668246,
          0.17257081418050907,
          0.30546492891383126,
          0.46958784039958695,
          -0.22966083824062747,
          -2.526885600303071,
          -0.4847405925891708,
          0.45377893892101284,
          -0.8368013602100006,
          0.42772046313745377,
          -1.738150320282506,
          -0.8297097197366343,
          0.30096605858103315,
          -0.17828234826613287,
          -0.6104656125377197,
          -0.057847804501502786,
          0.8075905382876867,
          -1.0556132374879243,
          -0.9976931987763373,
          2.588386126266256,
          -0.7780244315000312,
          -0.4390279271257135,
          -0.3323260365131081,
          -0.5029687669751323,
          0.9876315856388016,
          -0.8811506763207766,
          1.1919465596099408,
          -1.3971373000747602,
          -1.3167293924560757,
          0.08151482303535279,
          -2.396012948031223,
          -1.5454554866390564,
          0.715911814485308,
          0.11306587784706669,
          0.6871377228556313,
          0.1678675167159434,
          0.35767472857090465,
          1.6343324317472023,
          0.7408556906103368,
          0.5546661006435808,
          1.1705085664132198,
          -0.1950920426807639,
          0.8072746249080459,
          0.7191339935489122,
          0.2627823994645575,
          0.2716123406664341,
          0.06509604265191297,
          0.24775972951110936,
          -0.031764637242011964,
          0.7222793010970351,
          -1.0430619181025411,
          -0.6124268425291312,
          -0.9574044874482729,
          -0.8282953516308782,
          -0.15415791161250897,
          0.07323383909711624,
          2.0322204253233855,
          -2.709345784372258,
          0.6746943139917259,
          1.6003465621504065,
          -0.5546245562644994,
          0.2361100996334074,
          0.5135461009704804,
          0.6040598602576654,
          1.1972841291220075,
          0.5364947168111209,
          0.051253270889895015,
          1.3340314363537538,
          -1.499837262081371,
          1.4553991652504519,
          1.847950398899375,
          0.1504194495906708,
          -1.590313598465302,
          0.21520617758582,
          1.02603310475097,
          0.6716755400605747,
          1.2976699163750265,
          -1.3903035976441018,
          -1.5532971064033823,
          -0.19222439095544397,
          -0.8894040710742132,
          2.232239911471498,
          -0.2188573687720621,
          -0.8279744043641107,
          -0.6654106718715332,
          -0.5045060182494511,
          -0.11565646918786261,
          -0.6563025933303193,
          -0.7169847878554301,
          -0.33206575350661677,
          -0.45730465975917006,
          -1.4019649160542775,
          0.307032042787555,
          1.2999536161020562,
          0.6743916762583729
         ],
         "yaxis": "y7"
        },
        {
         "line": {
          "color": "rgba(128, 128, 128, 1.0)",
          "dash": "solid",
          "shape": "linear",
          "width": 1.3
         },
         "marker": {
          "size": 2,
          "symbol": "circle"
         },
         "mode": "markers",
         "name": "B",
         "text": "",
         "type": "scatter",
         "x": [
          1.9035873724567771,
          0.9424767159878351,
          0.7177576140550985,
          0.02044278753700372,
          -1.1279815774088429,
          -1.7015773156819936,
          -0.9044139870557208,
          -1.6174588287651726,
          -1.1689027313310763,
          -0.6404651377826653,
          0.3304314768869591,
          0.3832002511845898,
          -1.1221992417270812,
          -0.6878436810546351,
          1.4175359611936849,
          -0.6255067628898198,
          -0.07932381799453833,
          -1.0026217568107434,
          0.3768846186175386,
          -0.47297881369821143,
          1.3209042209707882,
          -0.9716227006726936,
          -1.3271319178685188,
          0.24408944374847133,
          0.8790061541851925,
          0.0735750338232907,
          0.0321923052397181,
          0.654943738468808,
          -0.0034610527503854223,
          2.2230079619714727,
          -1.3628441468126884,
          -0.6034584400011707,
          -0.22130026864043026,
          0.9057975301407415,
          1.1264820141748102,
          -1.3693850981008922,
          -0.6008605611432628,
          0.7954553134069772,
          0.6316290222616032,
          1.0706196947586943,
          -0.011710012872178465,
          -1.706155832964387,
          -0.46664671066258434,
          0.46459287282569633,
          0.6085947859192774,
          -0.6248760000018144,
          -1.3225581075825943,
          1.4216822522034809,
          1.2299905107810967,
          1.017811497550339,
          -0.27162596308459397,
          0.5344229096515827,
          1.2644276707445496,
          -0.4456595145923994,
          -0.34176318091132063,
          0.9525998868815186,
          1.6567790192769374,
          0.5275861320878861,
          0.03098245144479996,
          0.3605531346965227,
          0.7547386569858132,
          0.45564431772276637,
          -1.0373106180973466,
          -0.8106646135481044,
          -1.0446175823543187,
          0.11658607871768786,
          0.3172298874444565,
          1.6668483465017563,
          0.0020469118835838925,
          -1.074679836754118,
          0.06638055840001972,
          0.30992379820670507,
          1.8953476750016551,
          -0.042813449087720945,
          2.031908121326955,
          -0.08998646566650483,
          -0.7676390551546229,
          0.2845692651092083,
          0.20859153017068754,
          -1.3262751190632773,
          -0.19024430392280736,
          0.945622925389767,
          -0.12099717128340479,
          -0.6119348182338643,
          1.373214122049092,
          0.8010211229650782,
          -0.7583998431150829,
          1.0946388590416698,
          1.5109307097209796,
          -0.9747911239924799,
          -0.6052834275765676,
          -1.2190148605124953,
          0.44542411807913146,
          -0.16883442574082722,
          -0.90405452975825,
          -0.01634173273998749,
          -0.7624608483203248,
          -0.6380440434789618,
          0.012993249942215972,
          -1.5070538071389876
         ],
         "xaxis": "x8",
         "y": [
          -0.38851389542406467,
          1.4555094701878195,
          -0.49250437347962495,
          0.5127069535232905,
          0.040541718463032075,
          0.16373327279668246,
          0.17257081418050907,
          0.30546492891383126,
          0.46958784039958695,
          -0.22966083824062747,
          -2.526885600303071,
          -0.4847405925891708,
          0.45377893892101284,
          -0.8368013602100006,
          0.42772046313745377,
          -1.738150320282506,
          -0.8297097197366343,
          0.30096605858103315,
          -0.17828234826613287,
          -0.6104656125377197,
          -0.057847804501502786,
          0.8075905382876867,
          -1.0556132374879243,
          -0.9976931987763373,
          2.588386126266256,
          -0.7780244315000312,
          -0.4390279271257135,
          -0.3323260365131081,
          -0.5029687669751323,
          0.9876315856388016,
          -0.8811506763207766,
          1.1919465596099408,
          -1.3971373000747602,
          -1.3167293924560757,
          0.08151482303535279,
          -2.396012948031223,
          -1.5454554866390564,
          0.715911814485308,
          0.11306587784706669,
          0.6871377228556313,
          0.1678675167159434,
          0.35767472857090465,
          1.6343324317472023,
          0.7408556906103368,
          0.5546661006435808,
          1.1705085664132198,
          -0.1950920426807639,
          0.8072746249080459,
          0.7191339935489122,
          0.2627823994645575,
          0.2716123406664341,
          0.06509604265191297,
          0.24775972951110936,
          -0.031764637242011964,
          0.7222793010970351,
          -1.0430619181025411,
          -0.6124268425291312,
          -0.9574044874482729,
          -0.8282953516308782,
          -0.15415791161250897,
          0.07323383909711624,
          2.0322204253233855,
          -2.709345784372258,
          0.6746943139917259,
          1.6003465621504065,
          -0.5546245562644994,
          0.2361100996334074,
          0.5135461009704804,
          0.6040598602576654,
          1.1972841291220075,
          0.5364947168111209,
          0.051253270889895015,
          1.3340314363537538,
          -1.499837262081371,
          1.4553991652504519,
          1.847950398899375,
          0.1504194495906708,
          -1.590313598465302,
          0.21520617758582,
          1.02603310475097,
          0.6716755400605747,
          1.2976699163750265,
          -1.3903035976441018,
          -1.5532971064033823,
          -0.19222439095544397,
          -0.8894040710742132,
          2.232239911471498,
          -0.2188573687720621,
          -0.8279744043641107,
          -0.6654106718715332,
          -0.5045060182494511,
          -0.11565646918786261,
          -0.6563025933303193,
          -0.7169847878554301,
          -0.33206575350661677,
          -0.45730465975917006,
          -1.4019649160542775,
          0.307032042787555,
          1.2999536161020562,
          0.6743916762583729
         ],
         "yaxis": "y8"
        },
        {
         "line": {
          "color": "rgba(128, 128, 128, 1.0)",
          "dash": "solid",
          "shape": "linear",
          "width": 1.3
         },
         "marker": {
          "size": 2,
          "symbol": "circle"
         },
         "mode": "markers",
         "name": "C",
         "text": "",
         "type": "scatter",
         "x": [
          0.4180077677129555,
          -0.3128801845689577,
          -1.2818040073783439,
          -1.3499561265835542,
          0.3039279478452639,
          1.1863847742158518,
          1.0835583705349823,
          -0.7651009824722295,
          -0.004639367372395647,
          -1.2901800153095841,
          0.34194454457201795,
          0.2430265819302035,
          -1.239200746086747,
          0.6609179033616308,
          1.2215743606359457,
          0.22851490960072843,
          -0.14310895717634575,
          -0.7341660565469577,
          0.36739376263270695,
          -1.2263587978946202,
          1.1341530384801826,
          0.28922077570122323,
          1.4320291443559363,
          -0.029762809912246137,
          0.38843416039229095,
          -1.1576502517879128,
          1.247029680606232,
          -0.753455193611879,
          0.8454105594040022,
          -0.48863872395864744,
          2.0528279595553722,
          1.4216295566716677,
          0.3090330341207762,
          0.6300780183123109,
          0.10737093513874785,
          0.905973922917701,
          -0.2632028533845714,
          0.9603295207643638,
          1.71454912190604,
          0.30076145540589266,
          -1.158240647754955,
          -1.555770932461019,
          -0.5496394055924582,
          -0.3098464315731358,
          -0.9269172822170287,
          1.4110184848076361,
          1.0265506719696467,
          0.47315227690793843,
          2.673361746975534,
          -0.6268429927337782,
          0.7952441983109597,
          0.24673373697834614,
          0.11800304997405606,
          -0.2717307656980959,
          -1.2949623636338092,
          0.46002536031715685,
          -0.8360662796616206,
          -0.020453141860388522,
          0.09672518557631296,
          -0.25749844264543464,
          -0.19748331705545816,
          -1.67256744411012,
          0.16457940230626322,
          -0.6981315249889456,
          0.986887605344953,
          -1.0208677299390276,
          1.5248546268228698,
          -0.05730817773951274,
          -0.2809594183508312,
          0.2800640292767441,
          -0.510505088700282,
          -0.22022306767997035,
          2.561078078500293,
          0.32638871800881,
          0.4211229347119489,
          0.4209516549400868,
          -0.41142404589273535,
          -1.2027248824404886,
          -1.0516948271493292,
          -1.0425706408560913,
          0.8509036913952475,
          -0.5922630060724732,
          -0.17067372704042816,
          0.3863237902458271,
          -0.3888948052253109,
          1.4957478135781743,
          0.5039314677195023,
          -0.5050249482312905,
          -0.586667783064311,
          -0.33795302496972407,
          -0.5985714633089745,
          0.3291703972093818,
          1.3898555468856857,
          0.24688535145149937,
          -1.5197463024947038,
          -1.1415198737866825,
          0.6905109009733212,
          -0.6834054293578632,
          1.588126304796323,
          -0.5368967243521588
         ],
         "xaxis": "x9",
         "y": [
          -1.5548971198664823,
          0.16076004176469136,
          0.38365211920215275,
          0.5690187441345403,
          -0.32387980228073726,
          -0.6879882203982293,
          2.17228274716675,
          0.18034727166922518,
          -0.5544694409729981,
          -1.7869676808151327,
          1.5734761685349372,
          -0.3275938262407917,
          0.6059354603861855,
          0.3380638784211195,
          -0.7025282299628814,
          -1.7535061108292629,
          -0.2817342235864836,
          -0.9332507063514746,
          0.34068730604246744,
          0.3920694995444077,
          1.7164967032968461,
          -0.5559258945821576,
          0.6583770044983814,
          -0.81641359031972,
          -0.22728349353793822,
          -0.05868018453449199,
          0.08252693763996004,
          1.8549780059929735,
          0.951272617955901,
          1.616734192023336,
          0.5715557002398042,
          0.41577979284301253,
          0.6609591257248846,
          -0.5034055320120396,
          0.4048042238395531,
          0.10291766268351217,
          0.015453168506189956,
          0.6143178089612366,
          2.536098360814724,
          -1.583499304235178,
          -1.2995785729135914,
          0.9604734337615023,
          2.0372092307017446,
          0.9013060677804324,
          0.08400577433314985,
          -0.19928395298651444,
          0.39361388456957386,
          1.9517976016324357,
          -0.03875745399683904,
          0.02537125023711632,
          -1.9367845642249184,
          -2.154023228066554,
          1.0280095919767904,
          1.4007570810843677,
          -0.6285150476022329,
          -0.6537667389604715,
          2.3261114055947183,
          -2.827173989186571,
          0.9893705271276441,
          0.7675389611073868,
          0.21945766880972742,
          -1.0019971109369443,
          -1.1047431244214116,
          0.8295658153020609,
          -0.04571832559604567,
          -0.5423232623976562,
          0.10153918282634145,
          0.7290154762441521,
          -0.43804437057543066,
          0.08973182263719404,
          0.9809285807998175,
          -1.1003185112523015,
          -2.8061286461565245,
          -0.2590983357270895,
          -0.791915671111303,
          3.01674581735022,
          -0.7018061227785953,
          0.13439232590575362,
          0.6841874322387901,
          2.309545547532321,
          0.82374583313213,
          0.43282087923108364,
          0.5479294835482278,
          0.6407149207673306,
          -0.22189636567169257,
          0.05646080496771162,
          -0.35031193224878754,
          0.21838480584868908,
          0.9724591532271197,
          1.9696924218403984,
          1.1532337295118351,
          0.9026618450366959,
          0.43087417541807854,
          -1.01579492058328,
          -0.7032899418786179,
          -0.7109388642256232,
          0.04226715991717669,
          0.06873957803031885,
          -0.3187605124781835,
          -0.6898535537880573
         ],
         "yaxis": "y9"
        },
        {
         "line": {
          "color": "rgba(128, 128, 128, 1.0)",
          "dash": "solid",
          "shape": "linear",
          "width": 1.3
         },
         "marker": {
          "size": 2,
          "symbol": "circle"
         },
         "mode": "markers",
         "name": "C",
         "text": "",
         "type": "scatter",
         "x": [
          -0.38851389542406467,
          1.4555094701878195,
          -0.49250437347962495,
          0.5127069535232905,
          0.040541718463032075,
          0.16373327279668246,
          0.17257081418050907,
          0.30546492891383126,
          0.46958784039958695,
          -0.22966083824062747,
          -2.526885600303071,
          -0.4847405925891708,
          0.45377893892101284,
          -0.8368013602100006,
          0.42772046313745377,
          -1.738150320282506,
          -0.8297097197366343,
          0.30096605858103315,
          -0.17828234826613287,
          -0.6104656125377197,
          -0.057847804501502786,
          0.8075905382876867,
          -1.0556132374879243,
          -0.9976931987763373,
          2.588386126266256,
          -0.7780244315000312,
          -0.4390279271257135,
          -0.3323260365131081,
          -0.5029687669751323,
          0.9876315856388016,
          -0.8811506763207766,
          1.1919465596099408,
          -1.3971373000747602,
          -1.3167293924560757,
          0.08151482303535279,
          -2.396012948031223,
          -1.5454554866390564,
          0.715911814485308,
          0.11306587784706669,
          0.6871377228556313,
          0.1678675167159434,
          0.35767472857090465,
          1.6343324317472023,
          0.7408556906103368,
          0.5546661006435808,
          1.1705085664132198,
          -0.1950920426807639,
          0.8072746249080459,
          0.7191339935489122,
          0.2627823994645575,
          0.2716123406664341,
          0.06509604265191297,
          0.24775972951110936,
          -0.031764637242011964,
          0.7222793010970351,
          -1.0430619181025411,
          -0.6124268425291312,
          -0.9574044874482729,
          -0.8282953516308782,
          -0.15415791161250897,
          0.07323383909711624,
          2.0322204253233855,
          -2.709345784372258,
          0.6746943139917259,
          1.6003465621504065,
          -0.5546245562644994,
          0.2361100996334074,
          0.5135461009704804,
          0.6040598602576654,
          1.1972841291220075,
          0.5364947168111209,
          0.051253270889895015,
          1.3340314363537538,
          -1.499837262081371,
          1.4553991652504519,
          1.847950398899375,
          0.1504194495906708,
          -1.590313598465302,
          0.21520617758582,
          1.02603310475097,
          0.6716755400605747,
          1.2976699163750265,
          -1.3903035976441018,
          -1.5532971064033823,
          -0.19222439095544397,
          -0.8894040710742132,
          2.232239911471498,
          -0.2188573687720621,
          -0.8279744043641107,
          -0.6654106718715332,
          -0.5045060182494511,
          -0.11565646918786261,
          -0.6563025933303193,
          -0.7169847878554301,
          -0.33206575350661677,
          -0.45730465975917006,
          -1.4019649160542775,
          0.307032042787555,
          1.2999536161020562,
          0.6743916762583729
         ],
         "xaxis": "x10",
         "y": [
          -1.5548971198664823,
          0.16076004176469136,
          0.38365211920215275,
          0.5690187441345403,
          -0.32387980228073726,
          -0.6879882203982293,
          2.17228274716675,
          0.18034727166922518,
          -0.5544694409729981,
          -1.7869676808151327,
          1.5734761685349372,
          -0.3275938262407917,
          0.6059354603861855,
          0.3380638784211195,
          -0.7025282299628814,
          -1.7535061108292629,
          -0.2817342235864836,
          -0.9332507063514746,
          0.34068730604246744,
          0.3920694995444077,
          1.7164967032968461,
          -0.5559258945821576,
          0.6583770044983814,
          -0.81641359031972,
          -0.22728349353793822,
          -0.05868018453449199,
          0.08252693763996004,
          1.8549780059929735,
          0.951272617955901,
          1.616734192023336,
          0.5715557002398042,
          0.41577979284301253,
          0.6609591257248846,
          -0.5034055320120396,
          0.4048042238395531,
          0.10291766268351217,
          0.015453168506189956,
          0.6143178089612366,
          2.536098360814724,
          -1.583499304235178,
          -1.2995785729135914,
          0.9604734337615023,
          2.0372092307017446,
          0.9013060677804324,
          0.08400577433314985,
          -0.19928395298651444,
          0.39361388456957386,
          1.9517976016324357,
          -0.03875745399683904,
          0.02537125023711632,
          -1.9367845642249184,
          -2.154023228066554,
          1.0280095919767904,
          1.4007570810843677,
          -0.6285150476022329,
          -0.6537667389604715,
          2.3261114055947183,
          -2.827173989186571,
          0.9893705271276441,
          0.7675389611073868,
          0.21945766880972742,
          -1.0019971109369443,
          -1.1047431244214116,
          0.8295658153020609,
          -0.04571832559604567,
          -0.5423232623976562,
          0.10153918282634145,
          0.7290154762441521,
          -0.43804437057543066,
          0.08973182263719404,
          0.9809285807998175,
          -1.1003185112523015,
          -2.8061286461565245,
          -0.2590983357270895,
          -0.791915671111303,
          3.01674581735022,
          -0.7018061227785953,
          0.13439232590575362,
          0.6841874322387901,
          2.309545547532321,
          0.82374583313213,
          0.43282087923108364,
          0.5479294835482278,
          0.6407149207673306,
          -0.22189636567169257,
          0.05646080496771162,
          -0.35031193224878754,
          0.21838480584868908,
          0.9724591532271197,
          1.9696924218403984,
          1.1532337295118351,
          0.9026618450366959,
          0.43087417541807854,
          -1.01579492058328,
          -0.7032899418786179,
          -0.7109388642256232,
          0.04226715991717669,
          0.06873957803031885,
          -0.3187605124781835,
          -0.6898535537880573
         ],
         "yaxis": "y10"
        },
        {
         "histfunc": "count",
         "histnorm": "",
         "marker": {
          "color": "rgba(50, 171, 96, 1.0)",
          "line": {
           "color": "#4D5663",
           "width": 1.3
          }
         },
         "name": "C",
         "nbinsx": 10,
         "opacity": 0.8,
         "orientation": "v",
         "type": "histogram",
         "x": [
          -1.5548971198664823,
          0.16076004176469136,
          0.38365211920215275,
          0.5690187441345403,
          -0.32387980228073726,
          -0.6879882203982293,
          2.17228274716675,
          0.18034727166922518,
          -0.5544694409729981,
          -1.7869676808151327,
          1.5734761685349372,
          -0.3275938262407917,
          0.6059354603861855,
          0.3380638784211195,
          -0.7025282299628814,
          -1.7535061108292629,
          -0.2817342235864836,
          -0.9332507063514746,
          0.34068730604246744,
          0.3920694995444077,
          1.7164967032968461,
          -0.5559258945821576,
          0.6583770044983814,
          -0.81641359031972,
          -0.22728349353793822,
          -0.05868018453449199,
          0.08252693763996004,
          1.8549780059929735,
          0.951272617955901,
          1.616734192023336,
          0.5715557002398042,
          0.41577979284301253,
          0.6609591257248846,
          -0.5034055320120396,
          0.4048042238395531,
          0.10291766268351217,
          0.015453168506189956,
          0.6143178089612366,
          2.536098360814724,
          -1.583499304235178,
          -1.2995785729135914,
          0.9604734337615023,
          2.0372092307017446,
          0.9013060677804324,
          0.08400577433314985,
          -0.19928395298651444,
          0.39361388456957386,
          1.9517976016324357,
          -0.03875745399683904,
          0.02537125023711632,
          -1.9367845642249184,
          -2.154023228066554,
          1.0280095919767904,
          1.4007570810843677,
          -0.6285150476022329,
          -0.6537667389604715,
          2.3261114055947183,
          -2.827173989186571,
          0.9893705271276441,
          0.7675389611073868,
          0.21945766880972742,
          -1.0019971109369443,
          -1.1047431244214116,
          0.8295658153020609,
          -0.04571832559604567,
          -0.5423232623976562,
          0.10153918282634145,
          0.7290154762441521,
          -0.43804437057543066,
          0.08973182263719404,
          0.9809285807998175,
          -1.1003185112523015,
          -2.8061286461565245,
          -0.2590983357270895,
          -0.791915671111303,
          3.01674581735022,
          -0.7018061227785953,
          0.13439232590575362,
          0.6841874322387901,
          2.309545547532321,
          0.82374583313213,
          0.43282087923108364,
          0.5479294835482278,
          0.6407149207673306,
          -0.22189636567169257,
          0.05646080496771162,
          -0.35031193224878754,
          0.21838480584868908,
          0.9724591532271197,
          1.9696924218403984,
          1.1532337295118351,
          0.9026618450366959,
          0.43087417541807854,
          -1.01579492058328,
          -0.7032899418786179,
          -0.7109388642256232,
          0.04226715991717669,
          0.06873957803031885,
          -0.3187605124781835,
          -0.6898535537880573
         ],
         "xaxis": "x11",
         "yaxis": "y11"
        },
        {
         "line": {
          "color": "rgba(128, 128, 128, 1.0)",
          "dash": "solid",
          "shape": "linear",
          "width": 1.3
         },
         "marker": {
          "size": 2,
          "symbol": "circle"
         },
         "mode": "markers",
         "name": "C",
         "text": "",
         "type": "scatter",
         "x": [
          1.9035873724567771,
          0.9424767159878351,
          0.7177576140550985,
          0.02044278753700372,
          -1.1279815774088429,
          -1.7015773156819936,
          -0.9044139870557208,
          -1.6174588287651726,
          -1.1689027313310763,
          -0.6404651377826653,
          0.3304314768869591,
          0.3832002511845898,
          -1.1221992417270812,
          -0.6878436810546351,
          1.4175359611936849,
          -0.6255067628898198,
          -0.07932381799453833,
          -1.0026217568107434,
          0.3768846186175386,
          -0.47297881369821143,
          1.3209042209707882,
          -0.9716227006726936,
          -1.3271319178685188,
          0.24408944374847133,
          0.8790061541851925,
          0.0735750338232907,
          0.0321923052397181,
          0.654943738468808,
          -0.0034610527503854223,
          2.2230079619714727,
          -1.3628441468126884,
          -0.6034584400011707,
          -0.22130026864043026,
          0.9057975301407415,
          1.1264820141748102,
          -1.3693850981008922,
          -0.6008605611432628,
          0.7954553134069772,
          0.6316290222616032,
          1.0706196947586943,
          -0.011710012872178465,
          -1.706155832964387,
          -0.46664671066258434,
          0.46459287282569633,
          0.6085947859192774,
          -0.6248760000018144,
          -1.3225581075825943,
          1.4216822522034809,
          1.2299905107810967,
          1.017811497550339,
          -0.27162596308459397,
          0.5344229096515827,
          1.2644276707445496,
          -0.4456595145923994,
          -0.34176318091132063,
          0.9525998868815186,
          1.6567790192769374,
          0.5275861320878861,
          0.03098245144479996,
          0.3605531346965227,
          0.7547386569858132,
          0.45564431772276637,
          -1.0373106180973466,
          -0.8106646135481044,
          -1.0446175823543187,
          0.11658607871768786,
          0.3172298874444565,
          1.6668483465017563,
          0.0020469118835838925,
          -1.074679836754118,
          0.06638055840001972,
          0.30992379820670507,
          1.8953476750016551,
          -0.042813449087720945,
          2.031908121326955,
          -0.08998646566650483,
          -0.7676390551546229,
          0.2845692651092083,
          0.20859153017068754,
          -1.3262751190632773,
          -0.19024430392280736,
          0.945622925389767,
          -0.12099717128340479,
          -0.6119348182338643,
          1.373214122049092,
          0.8010211229650782,
          -0.7583998431150829,
          1.0946388590416698,
          1.5109307097209796,
          -0.9747911239924799,
          -0.6052834275765676,
          -1.2190148605124953,
          0.44542411807913146,
          -0.16883442574082722,
          -0.90405452975825,
          -0.01634173273998749,
          -0.7624608483203248,
          -0.6380440434789618,
          0.012993249942215972,
          -1.5070538071389876
         ],
         "xaxis": "x12",
         "y": [
          -1.5548971198664823,
          0.16076004176469136,
          0.38365211920215275,
          0.5690187441345403,
          -0.32387980228073726,
          -0.6879882203982293,
          2.17228274716675,
          0.18034727166922518,
          -0.5544694409729981,
          -1.7869676808151327,
          1.5734761685349372,
          -0.3275938262407917,
          0.6059354603861855,
          0.3380638784211195,
          -0.7025282299628814,
          -1.7535061108292629,
          -0.2817342235864836,
          -0.9332507063514746,
          0.34068730604246744,
          0.3920694995444077,
          1.7164967032968461,
          -0.5559258945821576,
          0.6583770044983814,
          -0.81641359031972,
          -0.22728349353793822,
          -0.05868018453449199,
          0.08252693763996004,
          1.8549780059929735,
          0.951272617955901,
          1.616734192023336,
          0.5715557002398042,
          0.41577979284301253,
          0.6609591257248846,
          -0.5034055320120396,
          0.4048042238395531,
          0.10291766268351217,
          0.015453168506189956,
          0.6143178089612366,
          2.536098360814724,
          -1.583499304235178,
          -1.2995785729135914,
          0.9604734337615023,
          2.0372092307017446,
          0.9013060677804324,
          0.08400577433314985,
          -0.19928395298651444,
          0.39361388456957386,
          1.9517976016324357,
          -0.03875745399683904,
          0.02537125023711632,
          -1.9367845642249184,
          -2.154023228066554,
          1.0280095919767904,
          1.4007570810843677,
          -0.6285150476022329,
          -0.6537667389604715,
          2.3261114055947183,
          -2.827173989186571,
          0.9893705271276441,
          0.7675389611073868,
          0.21945766880972742,
          -1.0019971109369443,
          -1.1047431244214116,
          0.8295658153020609,
          -0.04571832559604567,
          -0.5423232623976562,
          0.10153918282634145,
          0.7290154762441521,
          -0.43804437057543066,
          0.08973182263719404,
          0.9809285807998175,
          -1.1003185112523015,
          -2.8061286461565245,
          -0.2590983357270895,
          -0.791915671111303,
          3.01674581735022,
          -0.7018061227785953,
          0.13439232590575362,
          0.6841874322387901,
          2.309545547532321,
          0.82374583313213,
          0.43282087923108364,
          0.5479294835482278,
          0.6407149207673306,
          -0.22189636567169257,
          0.05646080496771162,
          -0.35031193224878754,
          0.21838480584868908,
          0.9724591532271197,
          1.9696924218403984,
          1.1532337295118351,
          0.9026618450366959,
          0.43087417541807854,
          -1.01579492058328,
          -0.7032899418786179,
          -0.7109388642256232,
          0.04226715991717669,
          0.06873957803031885,
          -0.3187605124781835,
          -0.6898535537880573
         ],
         "yaxis": "y12"
        },
        {
         "line": {
          "color": "rgba(128, 128, 128, 1.0)",
          "dash": "solid",
          "shape": "linear",
          "width": 1.3
         },
         "marker": {
          "size": 2,
          "symbol": "circle"
         },
         "mode": "markers",
         "name": "D",
         "text": "",
         "type": "scatter",
         "x": [
          0.4180077677129555,
          -0.3128801845689577,
          -1.2818040073783439,
          -1.3499561265835542,
          0.3039279478452639,
          1.1863847742158518,
          1.0835583705349823,
          -0.7651009824722295,
          -0.004639367372395647,
          -1.2901800153095841,
          0.34194454457201795,
          0.2430265819302035,
          -1.239200746086747,
          0.6609179033616308,
          1.2215743606359457,
          0.22851490960072843,
          -0.14310895717634575,
          -0.7341660565469577,
          0.36739376263270695,
          -1.2263587978946202,
          1.1341530384801826,
          0.28922077570122323,
          1.4320291443559363,
          -0.029762809912246137,
          0.38843416039229095,
          -1.1576502517879128,
          1.247029680606232,
          -0.753455193611879,
          0.8454105594040022,
          -0.48863872395864744,
          2.0528279595553722,
          1.4216295566716677,
          0.3090330341207762,
          0.6300780183123109,
          0.10737093513874785,
          0.905973922917701,
          -0.2632028533845714,
          0.9603295207643638,
          1.71454912190604,
          0.30076145540589266,
          -1.158240647754955,
          -1.555770932461019,
          -0.5496394055924582,
          -0.3098464315731358,
          -0.9269172822170287,
          1.4110184848076361,
          1.0265506719696467,
          0.47315227690793843,
          2.673361746975534,
          -0.6268429927337782,
          0.7952441983109597,
          0.24673373697834614,
          0.11800304997405606,
          -0.2717307656980959,
          -1.2949623636338092,
          0.46002536031715685,
          -0.8360662796616206,
          -0.020453141860388522,
          0.09672518557631296,
          -0.25749844264543464,
          -0.19748331705545816,
          -1.67256744411012,
          0.16457940230626322,
          -0.6981315249889456,
          0.986887605344953,
          -1.0208677299390276,
          1.5248546268228698,
          -0.05730817773951274,
          -0.2809594183508312,
          0.2800640292767441,
          -0.510505088700282,
          -0.22022306767997035,
          2.561078078500293,
          0.32638871800881,
          0.4211229347119489,
          0.4209516549400868,
          -0.41142404589273535,
          -1.2027248824404886,
          -1.0516948271493292,
          -1.0425706408560913,
          0.8509036913952475,
          -0.5922630060724732,
          -0.17067372704042816,
          0.3863237902458271,
          -0.3888948052253109,
          1.4957478135781743,
          0.5039314677195023,
          -0.5050249482312905,
          -0.586667783064311,
          -0.33795302496972407,
          -0.5985714633089745,
          0.3291703972093818,
          1.3898555468856857,
          0.24688535145149937,
          -1.5197463024947038,
          -1.1415198737866825,
          0.6905109009733212,
          -0.6834054293578632,
          1.588126304796323,
          -0.5368967243521588
         ],
         "xaxis": "x13",
         "y": [
          1.9035873724567771,
          0.9424767159878351,
          0.7177576140550985,
          0.02044278753700372,
          -1.1279815774088429,
          -1.7015773156819936,
          -0.9044139870557208,
          -1.6174588287651726,
          -1.1689027313310763,
          -0.6404651377826653,
          0.3304314768869591,
          0.3832002511845898,
          -1.1221992417270812,
          -0.6878436810546351,
          1.4175359611936849,
          -0.6255067628898198,
          -0.07932381799453833,
          -1.0026217568107434,
          0.3768846186175386,
          -0.47297881369821143,
          1.3209042209707882,
          -0.9716227006726936,
          -1.3271319178685188,
          0.24408944374847133,
          0.8790061541851925,
          0.0735750338232907,
          0.0321923052397181,
          0.654943738468808,
          -0.0034610527503854223,
          2.2230079619714727,
          -1.3628441468126884,
          -0.6034584400011707,
          -0.22130026864043026,
          0.9057975301407415,
          1.1264820141748102,
          -1.3693850981008922,
          -0.6008605611432628,
          0.7954553134069772,
          0.6316290222616032,
          1.0706196947586943,
          -0.011710012872178465,
          -1.706155832964387,
          -0.46664671066258434,
          0.46459287282569633,
          0.6085947859192774,
          -0.6248760000018144,
          -1.3225581075825943,
          1.4216822522034809,
          1.2299905107810967,
          1.017811497550339,
          -0.27162596308459397,
          0.5344229096515827,
          1.2644276707445496,
          -0.4456595145923994,
          -0.34176318091132063,
          0.9525998868815186,
          1.6567790192769374,
          0.5275861320878861,
          0.03098245144479996,
          0.3605531346965227,
          0.7547386569858132,
          0.45564431772276637,
          -1.0373106180973466,
          -0.8106646135481044,
          -1.0446175823543187,
          0.11658607871768786,
          0.3172298874444565,
          1.6668483465017563,
          0.0020469118835838925,
          -1.074679836754118,
          0.06638055840001972,
          0.30992379820670507,
          1.8953476750016551,
          -0.042813449087720945,
          2.031908121326955,
          -0.08998646566650483,
          -0.7676390551546229,
          0.2845692651092083,
          0.20859153017068754,
          -1.3262751190632773,
          -0.19024430392280736,
          0.945622925389767,
          -0.12099717128340479,
          -0.6119348182338643,
          1.373214122049092,
          0.8010211229650782,
          -0.7583998431150829,
          1.0946388590416698,
          1.5109307097209796,
          -0.9747911239924799,
          -0.6052834275765676,
          -1.2190148605124953,
          0.44542411807913146,
          -0.16883442574082722,
          -0.90405452975825,
          -0.01634173273998749,
          -0.7624608483203248,
          -0.6380440434789618,
          0.012993249942215972,
          -1.5070538071389876
         ],
         "yaxis": "y13"
        },
        {
         "line": {
          "color": "rgba(128, 128, 128, 1.0)",
          "dash": "solid",
          "shape": "linear",
          "width": 1.3
         },
         "marker": {
          "size": 2,
          "symbol": "circle"
         },
         "mode": "markers",
         "name": "D",
         "text": "",
         "type": "scatter",
         "x": [
          -0.38851389542406467,
          1.4555094701878195,
          -0.49250437347962495,
          0.5127069535232905,
          0.040541718463032075,
          0.16373327279668246,
          0.17257081418050907,
          0.30546492891383126,
          0.46958784039958695,
          -0.22966083824062747,
          -2.526885600303071,
          -0.4847405925891708,
          0.45377893892101284,
          -0.8368013602100006,
          0.42772046313745377,
          -1.738150320282506,
          -0.8297097197366343,
          0.30096605858103315,
          -0.17828234826613287,
          -0.6104656125377197,
          -0.057847804501502786,
          0.8075905382876867,
          -1.0556132374879243,
          -0.9976931987763373,
          2.588386126266256,
          -0.7780244315000312,
          -0.4390279271257135,
          -0.3323260365131081,
          -0.5029687669751323,
          0.9876315856388016,
          -0.8811506763207766,
          1.1919465596099408,
          -1.3971373000747602,
          -1.3167293924560757,
          0.08151482303535279,
          -2.396012948031223,
          -1.5454554866390564,
          0.715911814485308,
          0.11306587784706669,
          0.6871377228556313,
          0.1678675167159434,
          0.35767472857090465,
          1.6343324317472023,
          0.7408556906103368,
          0.5546661006435808,
          1.1705085664132198,
          -0.1950920426807639,
          0.8072746249080459,
          0.7191339935489122,
          0.2627823994645575,
          0.2716123406664341,
          0.06509604265191297,
          0.24775972951110936,
          -0.031764637242011964,
          0.7222793010970351,
          -1.0430619181025411,
          -0.6124268425291312,
          -0.9574044874482729,
          -0.8282953516308782,
          -0.15415791161250897,
          0.07323383909711624,
          2.0322204253233855,
          -2.709345784372258,
          0.6746943139917259,
          1.6003465621504065,
          -0.5546245562644994,
          0.2361100996334074,
          0.5135461009704804,
          0.6040598602576654,
          1.1972841291220075,
          0.5364947168111209,
          0.051253270889895015,
          1.3340314363537538,
          -1.499837262081371,
          1.4553991652504519,
          1.847950398899375,
          0.1504194495906708,
          -1.590313598465302,
          0.21520617758582,
          1.02603310475097,
          0.6716755400605747,
          1.2976699163750265,
          -1.3903035976441018,
          -1.5532971064033823,
          -0.19222439095544397,
          -0.8894040710742132,
          2.232239911471498,
          -0.2188573687720621,
          -0.8279744043641107,
          -0.6654106718715332,
          -0.5045060182494511,
          -0.11565646918786261,
          -0.6563025933303193,
          -0.7169847878554301,
          -0.33206575350661677,
          -0.45730465975917006,
          -1.4019649160542775,
          0.307032042787555,
          1.2999536161020562,
          0.6743916762583729
         ],
         "xaxis": "x14",
         "y": [
          1.9035873724567771,
          0.9424767159878351,
          0.7177576140550985,
          0.02044278753700372,
          -1.1279815774088429,
          -1.7015773156819936,
          -0.9044139870557208,
          -1.6174588287651726,
          -1.1689027313310763,
          -0.6404651377826653,
          0.3304314768869591,
          0.3832002511845898,
          -1.1221992417270812,
          -0.6878436810546351,
          1.4175359611936849,
          -0.6255067628898198,
          -0.07932381799453833,
          -1.0026217568107434,
          0.3768846186175386,
          -0.47297881369821143,
          1.3209042209707882,
          -0.9716227006726936,
          -1.3271319178685188,
          0.24408944374847133,
          0.8790061541851925,
          0.0735750338232907,
          0.0321923052397181,
          0.654943738468808,
          -0.0034610527503854223,
          2.2230079619714727,
          -1.3628441468126884,
          -0.6034584400011707,
          -0.22130026864043026,
          0.9057975301407415,
          1.1264820141748102,
          -1.3693850981008922,
          -0.6008605611432628,
          0.7954553134069772,
          0.6316290222616032,
          1.0706196947586943,
          -0.011710012872178465,
          -1.706155832964387,
          -0.46664671066258434,
          0.46459287282569633,
          0.6085947859192774,
          -0.6248760000018144,
          -1.3225581075825943,
          1.4216822522034809,
          1.2299905107810967,
          1.017811497550339,
          -0.27162596308459397,
          0.5344229096515827,
          1.2644276707445496,
          -0.4456595145923994,
          -0.34176318091132063,
          0.9525998868815186,
          1.6567790192769374,
          0.5275861320878861,
          0.03098245144479996,
          0.3605531346965227,
          0.7547386569858132,
          0.45564431772276637,
          -1.0373106180973466,
          -0.8106646135481044,
          -1.0446175823543187,
          0.11658607871768786,
          0.3172298874444565,
          1.6668483465017563,
          0.0020469118835838925,
          -1.074679836754118,
          0.06638055840001972,
          0.30992379820670507,
          1.8953476750016551,
          -0.042813449087720945,
          2.031908121326955,
          -0.08998646566650483,
          -0.7676390551546229,
          0.2845692651092083,
          0.20859153017068754,
          -1.3262751190632773,
          -0.19024430392280736,
          0.945622925389767,
          -0.12099717128340479,
          -0.6119348182338643,
          1.373214122049092,
          0.8010211229650782,
          -0.7583998431150829,
          1.0946388590416698,
          1.5109307097209796,
          -0.9747911239924799,
          -0.6052834275765676,
          -1.2190148605124953,
          0.44542411807913146,
          -0.16883442574082722,
          -0.90405452975825,
          -0.01634173273998749,
          -0.7624608483203248,
          -0.6380440434789618,
          0.012993249942215972,
          -1.5070538071389876
         ],
         "yaxis": "y14"
        },
        {
         "line": {
          "color": "rgba(128, 128, 128, 1.0)",
          "dash": "solid",
          "shape": "linear",
          "width": 1.3
         },
         "marker": {
          "size": 2,
          "symbol": "circle"
         },
         "mode": "markers",
         "name": "D",
         "text": "",
         "type": "scatter",
         "x": [
          -1.5548971198664823,
          0.16076004176469136,
          0.38365211920215275,
          0.5690187441345403,
          -0.32387980228073726,
          -0.6879882203982293,
          2.17228274716675,
          0.18034727166922518,
          -0.5544694409729981,
          -1.7869676808151327,
          1.5734761685349372,
          -0.3275938262407917,
          0.6059354603861855,
          0.3380638784211195,
          -0.7025282299628814,
          -1.7535061108292629,
          -0.2817342235864836,
          -0.9332507063514746,
          0.34068730604246744,
          0.3920694995444077,
          1.7164967032968461,
          -0.5559258945821576,
          0.6583770044983814,
          -0.81641359031972,
          -0.22728349353793822,
          -0.05868018453449199,
          0.08252693763996004,
          1.8549780059929735,
          0.951272617955901,
          1.616734192023336,
          0.5715557002398042,
          0.41577979284301253,
          0.6609591257248846,
          -0.5034055320120396,
          0.4048042238395531,
          0.10291766268351217,
          0.015453168506189956,
          0.6143178089612366,
          2.536098360814724,
          -1.583499304235178,
          -1.2995785729135914,
          0.9604734337615023,
          2.0372092307017446,
          0.9013060677804324,
          0.08400577433314985,
          -0.19928395298651444,
          0.39361388456957386,
          1.9517976016324357,
          -0.03875745399683904,
          0.02537125023711632,
          -1.9367845642249184,
          -2.154023228066554,
          1.0280095919767904,
          1.4007570810843677,
          -0.6285150476022329,
          -0.6537667389604715,
          2.3261114055947183,
          -2.827173989186571,
          0.9893705271276441,
          0.7675389611073868,
          0.21945766880972742,
          -1.0019971109369443,
          -1.1047431244214116,
          0.8295658153020609,
          -0.04571832559604567,
          -0.5423232623976562,
          0.10153918282634145,
          0.7290154762441521,
          -0.43804437057543066,
          0.08973182263719404,
          0.9809285807998175,
          -1.1003185112523015,
          -2.8061286461565245,
          -0.2590983357270895,
          -0.791915671111303,
          3.01674581735022,
          -0.7018061227785953,
          0.13439232590575362,
          0.6841874322387901,
          2.309545547532321,
          0.82374583313213,
          0.43282087923108364,
          0.5479294835482278,
          0.6407149207673306,
          -0.22189636567169257,
          0.05646080496771162,
          -0.35031193224878754,
          0.21838480584868908,
          0.9724591532271197,
          1.9696924218403984,
          1.1532337295118351,
          0.9026618450366959,
          0.43087417541807854,
          -1.01579492058328,
          -0.7032899418786179,
          -0.7109388642256232,
          0.04226715991717669,
          0.06873957803031885,
          -0.3187605124781835,
          -0.6898535537880573
         ],
         "xaxis": "x15",
         "y": [
          1.9035873724567771,
          0.9424767159878351,
          0.7177576140550985,
          0.02044278753700372,
          -1.1279815774088429,
          -1.7015773156819936,
          -0.9044139870557208,
          -1.6174588287651726,
          -1.1689027313310763,
          -0.6404651377826653,
          0.3304314768869591,
          0.3832002511845898,
          -1.1221992417270812,
          -0.6878436810546351,
          1.4175359611936849,
          -0.6255067628898198,
          -0.07932381799453833,
          -1.0026217568107434,
          0.3768846186175386,
          -0.47297881369821143,
          1.3209042209707882,
          -0.9716227006726936,
          -1.3271319178685188,
          0.24408944374847133,
          0.8790061541851925,
          0.0735750338232907,
          0.0321923052397181,
          0.654943738468808,
          -0.0034610527503854223,
          2.2230079619714727,
          -1.3628441468126884,
          -0.6034584400011707,
          -0.22130026864043026,
          0.9057975301407415,
          1.1264820141748102,
          -1.3693850981008922,
          -0.6008605611432628,
          0.7954553134069772,
          0.6316290222616032,
          1.0706196947586943,
          -0.011710012872178465,
          -1.706155832964387,
          -0.46664671066258434,
          0.46459287282569633,
          0.6085947859192774,
          -0.6248760000018144,
          -1.3225581075825943,
          1.4216822522034809,
          1.2299905107810967,
          1.017811497550339,
          -0.27162596308459397,
          0.5344229096515827,
          1.2644276707445496,
          -0.4456595145923994,
          -0.34176318091132063,
          0.9525998868815186,
          1.6567790192769374,
          0.5275861320878861,
          0.03098245144479996,
          0.3605531346965227,
          0.7547386569858132,
          0.45564431772276637,
          -1.0373106180973466,
          -0.8106646135481044,
          -1.0446175823543187,
          0.11658607871768786,
          0.3172298874444565,
          1.6668483465017563,
          0.0020469118835838925,
          -1.074679836754118,
          0.06638055840001972,
          0.30992379820670507,
          1.8953476750016551,
          -0.042813449087720945,
          2.031908121326955,
          -0.08998646566650483,
          -0.7676390551546229,
          0.2845692651092083,
          0.20859153017068754,
          -1.3262751190632773,
          -0.19024430392280736,
          0.945622925389767,
          -0.12099717128340479,
          -0.6119348182338643,
          1.373214122049092,
          0.8010211229650782,
          -0.7583998431150829,
          1.0946388590416698,
          1.5109307097209796,
          -0.9747911239924799,
          -0.6052834275765676,
          -1.2190148605124953,
          0.44542411807913146,
          -0.16883442574082722,
          -0.90405452975825,
          -0.01634173273998749,
          -0.7624608483203248,
          -0.6380440434789618,
          0.012993249942215972,
          -1.5070538071389876
         ],
         "yaxis": "y15"
        },
        {
         "histfunc": "count",
         "histnorm": "",
         "marker": {
          "color": "rgba(128, 0, 128, 1.0)",
          "line": {
           "color": "#4D5663",
           "width": 1.3
          }
         },
         "name": "D",
         "nbinsx": 10,
         "opacity": 0.8,
         "orientation": "v",
         "type": "histogram",
         "x": [
          1.9035873724567771,
          0.9424767159878351,
          0.7177576140550985,
          0.02044278753700372,
          -1.1279815774088429,
          -1.7015773156819936,
          -0.9044139870557208,
          -1.6174588287651726,
          -1.1689027313310763,
          -0.6404651377826653,
          0.3304314768869591,
          0.3832002511845898,
          -1.1221992417270812,
          -0.6878436810546351,
          1.4175359611936849,
          -0.6255067628898198,
          -0.07932381799453833,
          -1.0026217568107434,
          0.3768846186175386,
          -0.47297881369821143,
          1.3209042209707882,
          -0.9716227006726936,
          -1.3271319178685188,
          0.24408944374847133,
          0.8790061541851925,
          0.0735750338232907,
          0.0321923052397181,
          0.654943738468808,
          -0.0034610527503854223,
          2.2230079619714727,
          -1.3628441468126884,
          -0.6034584400011707,
          -0.22130026864043026,
          0.9057975301407415,
          1.1264820141748102,
          -1.3693850981008922,
          -0.6008605611432628,
          0.7954553134069772,
          0.6316290222616032,
          1.0706196947586943,
          -0.011710012872178465,
          -1.706155832964387,
          -0.46664671066258434,
          0.46459287282569633,
          0.6085947859192774,
          -0.6248760000018144,
          -1.3225581075825943,
          1.4216822522034809,
          1.2299905107810967,
          1.017811497550339,
          -0.27162596308459397,
          0.5344229096515827,
          1.2644276707445496,
          -0.4456595145923994,
          -0.34176318091132063,
          0.9525998868815186,
          1.6567790192769374,
          0.5275861320878861,
          0.03098245144479996,
          0.3605531346965227,
          0.7547386569858132,
          0.45564431772276637,
          -1.0373106180973466,
          -0.8106646135481044,
          -1.0446175823543187,
          0.11658607871768786,
          0.3172298874444565,
          1.6668483465017563,
          0.0020469118835838925,
          -1.074679836754118,
          0.06638055840001972,
          0.30992379820670507,
          1.8953476750016551,
          -0.042813449087720945,
          2.031908121326955,
          -0.08998646566650483,
          -0.7676390551546229,
          0.2845692651092083,
          0.20859153017068754,
          -1.3262751190632773,
          -0.19024430392280736,
          0.945622925389767,
          -0.12099717128340479,
          -0.6119348182338643,
          1.373214122049092,
          0.8010211229650782,
          -0.7583998431150829,
          1.0946388590416698,
          1.5109307097209796,
          -0.9747911239924799,
          -0.6052834275765676,
          -1.2190148605124953,
          0.44542411807913146,
          -0.16883442574082722,
          -0.90405452975825,
          -0.01634173273998749,
          -0.7624608483203248,
          -0.6380440434789618,
          0.012993249942215972,
          -1.5070538071389876
         ],
         "xaxis": "x16",
         "yaxis": "y16"
        }
       ],
       "layout": {
        "bargap": 0.02,
        "legend": {
         "bgcolor": "#F5F6F9",
         "font": {
          "color": "#4D5663"
         }
        },
        "paper_bgcolor": "#F5F6F9",
        "plot_bgcolor": "#F5F6F9",
        "showlegend": false,
        "template": {
         "data": {
          "bar": [
           {
            "error_x": {
             "color": "#2a3f5f"
            },
            "error_y": {
             "color": "#2a3f5f"
            },
            "marker": {
             "line": {
              "color": "#E5ECF6",
              "width": 0.5
             }
            },
            "type": "bar"
           }
          ],
          "barpolar": [
           {
            "marker": {
             "line": {
              "color": "#E5ECF6",
              "width": 0.5
             }
            },
            "type": "barpolar"
           }
          ],
          "carpet": [
           {
            "aaxis": {
             "endlinecolor": "#2a3f5f",
             "gridcolor": "white",
             "linecolor": "white",
             "minorgridcolor": "white",
             "startlinecolor": "#2a3f5f"
            },
            "baxis": {
             "endlinecolor": "#2a3f5f",
             "gridcolor": "white",
             "linecolor": "white",
             "minorgridcolor": "white",
             "startlinecolor": "#2a3f5f"
            },
            "type": "carpet"
           }
          ],
          "choropleth": [
           {
            "colorbar": {
             "outlinewidth": 0,
             "ticks": ""
            },
            "type": "choropleth"
           }
          ],
          "contour": [
           {
            "colorbar": {
             "outlinewidth": 0,
             "ticks": ""
            },
            "colorscale": [
             [
              0,
              "#0d0887"
             ],
             [
              0.1111111111111111,
              "#46039f"
             ],
             [
              0.2222222222222222,
              "#7201a8"
             ],
             [
              0.3333333333333333,
              "#9c179e"
             ],
             [
              0.4444444444444444,
              "#bd3786"
             ],
             [
              0.5555555555555556,
              "#d8576b"
             ],
             [
              0.6666666666666666,
              "#ed7953"
             ],
             [
              0.7777777777777778,
              "#fb9f3a"
             ],
             [
              0.8888888888888888,
              "#fdca26"
             ],
             [
              1,
              "#f0f921"
             ]
            ],
            "type": "contour"
           }
          ],
          "contourcarpet": [
           {
            "colorbar": {
             "outlinewidth": 0,
             "ticks": ""
            },
            "type": "contourcarpet"
           }
          ],
          "heatmap": [
           {
            "colorbar": {
             "outlinewidth": 0,
             "ticks": ""
            },
            "colorscale": [
             [
              0,
              "#0d0887"
             ],
             [
              0.1111111111111111,
              "#46039f"
             ],
             [
              0.2222222222222222,
              "#7201a8"
             ],
             [
              0.3333333333333333,
              "#9c179e"
             ],
             [
              0.4444444444444444,
              "#bd3786"
             ],
             [
              0.5555555555555556,
              "#d8576b"
             ],
             [
              0.6666666666666666,
              "#ed7953"
             ],
             [
              0.7777777777777778,
              "#fb9f3a"
             ],
             [
              0.8888888888888888,
              "#fdca26"
             ],
             [
              1,
              "#f0f921"
             ]
            ],
            "type": "heatmap"
           }
          ],
          "heatmapgl": [
           {
            "colorbar": {
             "outlinewidth": 0,
             "ticks": ""
            },
            "colorscale": [
             [
              0,
              "#0d0887"
             ],
             [
              0.1111111111111111,
              "#46039f"
             ],
             [
              0.2222222222222222,
              "#7201a8"
             ],
             [
              0.3333333333333333,
              "#9c179e"
             ],
             [
              0.4444444444444444,
              "#bd3786"
             ],
             [
              0.5555555555555556,
              "#d8576b"
             ],
             [
              0.6666666666666666,
              "#ed7953"
             ],
             [
              0.7777777777777778,
              "#fb9f3a"
             ],
             [
              0.8888888888888888,
              "#fdca26"
             ],
             [
              1,
              "#f0f921"
             ]
            ],
            "type": "heatmapgl"
           }
          ],
          "histogram": [
           {
            "marker": {
             "colorbar": {
              "outlinewidth": 0,
              "ticks": ""
             }
            },
            "type": "histogram"
           }
          ],
          "histogram2d": [
           {
            "colorbar": {
             "outlinewidth": 0,
             "ticks": ""
            },
            "colorscale": [
             [
              0,
              "#0d0887"
             ],
             [
              0.1111111111111111,
              "#46039f"
             ],
             [
              0.2222222222222222,
              "#7201a8"
             ],
             [
              0.3333333333333333,
              "#9c179e"
             ],
             [
              0.4444444444444444,
              "#bd3786"
             ],
             [
              0.5555555555555556,
              "#d8576b"
             ],
             [
              0.6666666666666666,
              "#ed7953"
             ],
             [
              0.7777777777777778,
              "#fb9f3a"
             ],
             [
              0.8888888888888888,
              "#fdca26"
             ],
             [
              1,
              "#f0f921"
             ]
            ],
            "type": "histogram2d"
           }
          ],
          "histogram2dcontour": [
           {
            "colorbar": {
             "outlinewidth": 0,
             "ticks": ""
            },
            "colorscale": [
             [
              0,
              "#0d0887"
             ],
             [
              0.1111111111111111,
              "#46039f"
             ],
             [
              0.2222222222222222,
              "#7201a8"
             ],
             [
              0.3333333333333333,
              "#9c179e"
             ],
             [
              0.4444444444444444,
              "#bd3786"
             ],
             [
              0.5555555555555556,
              "#d8576b"
             ],
             [
              0.6666666666666666,
              "#ed7953"
             ],
             [
              0.7777777777777778,
              "#fb9f3a"
             ],
             [
              0.8888888888888888,
              "#fdca26"
             ],
             [
              1,
              "#f0f921"
             ]
            ],
            "type": "histogram2dcontour"
           }
          ],
          "mesh3d": [
           {
            "colorbar": {
             "outlinewidth": 0,
             "ticks": ""
            },
            "type": "mesh3d"
           }
          ],
          "parcoords": [
           {
            "line": {
             "colorbar": {
              "outlinewidth": 0,
              "ticks": ""
             }
            },
            "type": "parcoords"
           }
          ],
          "pie": [
           {
            "automargin": true,
            "type": "pie"
           }
          ],
          "scatter": [
           {
            "marker": {
             "colorbar": {
              "outlinewidth": 0,
              "ticks": ""
             }
            },
            "type": "scatter"
           }
          ],
          "scatter3d": [
           {
            "line": {
             "colorbar": {
              "outlinewidth": 0,
              "ticks": ""
             }
            },
            "marker": {
             "colorbar": {
              "outlinewidth": 0,
              "ticks": ""
             }
            },
            "type": "scatter3d"
           }
          ],
          "scattercarpet": [
           {
            "marker": {
             "colorbar": {
              "outlinewidth": 0,
              "ticks": ""
             }
            },
            "type": "scattercarpet"
           }
          ],
          "scattergeo": [
           {
            "marker": {
             "colorbar": {
              "outlinewidth": 0,
              "ticks": ""
             }
            },
            "type": "scattergeo"
           }
          ],
          "scattergl": [
           {
            "marker": {
             "colorbar": {
              "outlinewidth": 0,
              "ticks": ""
             }
            },
            "type": "scattergl"
           }
          ],
          "scattermapbox": [
           {
            "marker": {
             "colorbar": {
              "outlinewidth": 0,
              "ticks": ""
             }
            },
            "type": "scattermapbox"
           }
          ],
          "scatterpolar": [
           {
            "marker": {
             "colorbar": {
              "outlinewidth": 0,
              "ticks": ""
             }
            },
            "type": "scatterpolar"
           }
          ],
          "scatterpolargl": [
           {
            "marker": {
             "colorbar": {
              "outlinewidth": 0,
              "ticks": ""
             }
            },
            "type": "scatterpolargl"
           }
          ],
          "scatterternary": [
           {
            "marker": {
             "colorbar": {
              "outlinewidth": 0,
              "ticks": ""
             }
            },
            "type": "scatterternary"
           }
          ],
          "surface": [
           {
            "colorbar": {
             "outlinewidth": 0,
             "ticks": ""
            },
            "colorscale": [
             [
              0,
              "#0d0887"
             ],
             [
              0.1111111111111111,
              "#46039f"
             ],
             [
              0.2222222222222222,
              "#7201a8"
             ],
             [
              0.3333333333333333,
              "#9c179e"
             ],
             [
              0.4444444444444444,
              "#bd3786"
             ],
             [
              0.5555555555555556,
              "#d8576b"
             ],
             [
              0.6666666666666666,
              "#ed7953"
             ],
             [
              0.7777777777777778,
              "#fb9f3a"
             ],
             [
              0.8888888888888888,
              "#fdca26"
             ],
             [
              1,
              "#f0f921"
             ]
            ],
            "type": "surface"
           }
          ],
          "table": [
           {
            "cells": {
             "fill": {
              "color": "#EBF0F8"
             },
             "line": {
              "color": "white"
             }
            },
            "header": {
             "fill": {
              "color": "#C8D4E3"
             },
             "line": {
              "color": "white"
             }
            },
            "type": "table"
           }
          ]
         },
         "layout": {
          "annotationdefaults": {
           "arrowcolor": "#2a3f5f",
           "arrowhead": 0,
           "arrowwidth": 1
          },
          "coloraxis": {
           "colorbar": {
            "outlinewidth": 0,
            "ticks": ""
           }
          },
          "colorscale": {
           "diverging": [
            [
             0,
             "#8e0152"
            ],
            [
             0.1,
             "#c51b7d"
            ],
            [
             0.2,
             "#de77ae"
            ],
            [
             0.3,
             "#f1b6da"
            ],
            [
             0.4,
             "#fde0ef"
            ],
            [
             0.5,
             "#f7f7f7"
            ],
            [
             0.6,
             "#e6f5d0"
            ],
            [
             0.7,
             "#b8e186"
            ],
            [
             0.8,
             "#7fbc41"
            ],
            [
             0.9,
             "#4d9221"
            ],
            [
             1,
             "#276419"
            ]
           ],
           "sequential": [
            [
             0,
             "#0d0887"
            ],
            [
             0.1111111111111111,
             "#46039f"
            ],
            [
             0.2222222222222222,
             "#7201a8"
            ],
            [
             0.3333333333333333,
             "#9c179e"
            ],
            [
             0.4444444444444444,
             "#bd3786"
            ],
            [
             0.5555555555555556,
             "#d8576b"
            ],
            [
             0.6666666666666666,
             "#ed7953"
            ],
            [
             0.7777777777777778,
             "#fb9f3a"
            ],
            [
             0.8888888888888888,
             "#fdca26"
            ],
            [
             1,
             "#f0f921"
            ]
           ],
           "sequentialminus": [
            [
             0,
             "#0d0887"
            ],
            [
             0.1111111111111111,
             "#46039f"
            ],
            [
             0.2222222222222222,
             "#7201a8"
            ],
            [
             0.3333333333333333,
             "#9c179e"
            ],
            [
             0.4444444444444444,
             "#bd3786"
            ],
            [
             0.5555555555555556,
             "#d8576b"
            ],
            [
             0.6666666666666666,
             "#ed7953"
            ],
            [
             0.7777777777777778,
             "#fb9f3a"
            ],
            [
             0.8888888888888888,
             "#fdca26"
            ],
            [
             1,
             "#f0f921"
            ]
           ]
          },
          "colorway": [
           "#636efa",
           "#EF553B",
           "#00cc96",
           "#ab63fa",
           "#FFA15A",
           "#19d3f3",
           "#FF6692",
           "#B6E880",
           "#FF97FF",
           "#FECB52"
          ],
          "font": {
           "color": "#2a3f5f"
          },
          "geo": {
           "bgcolor": "white",
           "lakecolor": "white",
           "landcolor": "#E5ECF6",
           "showlakes": true,
           "showland": true,
           "subunitcolor": "white"
          },
          "hoverlabel": {
           "align": "left"
          },
          "hovermode": "closest",
          "mapbox": {
           "style": "light"
          },
          "paper_bgcolor": "white",
          "plot_bgcolor": "#E5ECF6",
          "polar": {
           "angularaxis": {
            "gridcolor": "white",
            "linecolor": "white",
            "ticks": ""
           },
           "bgcolor": "#E5ECF6",
           "radialaxis": {
            "gridcolor": "white",
            "linecolor": "white",
            "ticks": ""
           }
          },
          "scene": {
           "xaxis": {
            "backgroundcolor": "#E5ECF6",
            "gridcolor": "white",
            "gridwidth": 2,
            "linecolor": "white",
            "showbackground": true,
            "ticks": "",
            "zerolinecolor": "white"
           },
           "yaxis": {
            "backgroundcolor": "#E5ECF6",
            "gridcolor": "white",
            "gridwidth": 2,
            "linecolor": "white",
            "showbackground": true,
            "ticks": "",
            "zerolinecolor": "white"
           },
           "zaxis": {
            "backgroundcolor": "#E5ECF6",
            "gridcolor": "white",
            "gridwidth": 2,
            "linecolor": "white",
            "showbackground": true,
            "ticks": "",
            "zerolinecolor": "white"
           }
          },
          "shapedefaults": {
           "line": {
            "color": "#2a3f5f"
           }
          },
          "ternary": {
           "aaxis": {
            "gridcolor": "white",
            "linecolor": "white",
            "ticks": ""
           },
           "baxis": {
            "gridcolor": "white",
            "linecolor": "white",
            "ticks": ""
           },
           "bgcolor": "#E5ECF6",
           "caxis": {
            "gridcolor": "white",
            "linecolor": "white",
            "ticks": ""
           }
          },
          "title": {
           "x": 0.05
          },
          "xaxis": {
           "automargin": true,
           "gridcolor": "white",
           "linecolor": "white",
           "ticks": "",
           "title": {
            "standoff": 15
           },
           "zerolinecolor": "white",
           "zerolinewidth": 2
          },
          "yaxis": {
           "automargin": true,
           "gridcolor": "white",
           "linecolor": "white",
           "ticks": "",
           "title": {
            "standoff": 15
           },
           "zerolinecolor": "white",
           "zerolinewidth": 2
          }
         }
        },
        "title": {
         "font": {
          "color": "#4D5663"
         }
        },
        "xaxis": {
         "anchor": "y",
         "domain": [
          0,
          0.2125
         ],
         "gridcolor": "#E1E5ED",
         "showgrid": false,
         "tickfont": {
          "color": "#4D5663"
         },
         "title": {
          "font": {
           "color": "#4D5663"
          },
          "text": ""
         },
         "zerolinecolor": "#E1E5ED"
        },
        "xaxis10": {
         "anchor": "y10",
         "domain": [
          0.2625,
          0.475
         ],
         "gridcolor": "#E1E5ED",
         "showgrid": false,
         "tickfont": {
          "color": "#4D5663"
         },
         "title": {
          "font": {
           "color": "#4D5663"
          },
          "text": ""
         },
         "zerolinecolor": "#E1E5ED"
        },
        "xaxis11": {
         "anchor": "y11",
         "domain": [
          0.525,
          0.7375
         ],
         "gridcolor": "#E1E5ED",
         "showgrid": false,
         "tickfont": {
          "color": "#4D5663"
         },
         "title": {
          "font": {
           "color": "#4D5663"
          },
          "text": ""
         },
         "zerolinecolor": "#E1E5ED"
        },
        "xaxis12": {
         "anchor": "y12",
         "domain": [
          0.7875,
          1
         ],
         "gridcolor": "#E1E5ED",
         "showgrid": false,
         "tickfont": {
          "color": "#4D5663"
         },
         "title": {
          "font": {
           "color": "#4D5663"
          },
          "text": ""
         },
         "zerolinecolor": "#E1E5ED"
        },
        "xaxis13": {
         "anchor": "y13",
         "domain": [
          0,
          0.2125
         ],
         "gridcolor": "#E1E5ED",
         "showgrid": false,
         "tickfont": {
          "color": "#4D5663"
         },
         "title": {
          "font": {
           "color": "#4D5663"
          },
          "text": ""
         },
         "zerolinecolor": "#E1E5ED"
        },
        "xaxis14": {
         "anchor": "y14",
         "domain": [
          0.2625,
          0.475
         ],
         "gridcolor": "#E1E5ED",
         "showgrid": false,
         "tickfont": {
          "color": "#4D5663"
         },
         "title": {
          "font": {
           "color": "#4D5663"
          },
          "text": ""
         },
         "zerolinecolor": "#E1E5ED"
        },
        "xaxis15": {
         "anchor": "y15",
         "domain": [
          0.525,
          0.7375
         ],
         "gridcolor": "#E1E5ED",
         "showgrid": false,
         "tickfont": {
          "color": "#4D5663"
         },
         "title": {
          "font": {
           "color": "#4D5663"
          },
          "text": ""
         },
         "zerolinecolor": "#E1E5ED"
        },
        "xaxis16": {
         "anchor": "y16",
         "domain": [
          0.7875,
          1
         ],
         "gridcolor": "#E1E5ED",
         "showgrid": false,
         "tickfont": {
          "color": "#4D5663"
         },
         "title": {
          "font": {
           "color": "#4D5663"
          },
          "text": ""
         },
         "zerolinecolor": "#E1E5ED"
        },
        "xaxis2": {
         "anchor": "y2",
         "domain": [
          0.2625,
          0.475
         ],
         "gridcolor": "#E1E5ED",
         "showgrid": false,
         "tickfont": {
          "color": "#4D5663"
         },
         "title": {
          "font": {
           "color": "#4D5663"
          },
          "text": ""
         },
         "zerolinecolor": "#E1E5ED"
        },
        "xaxis3": {
         "anchor": "y3",
         "domain": [
          0.525,
          0.7375
         ],
         "gridcolor": "#E1E5ED",
         "showgrid": false,
         "tickfont": {
          "color": "#4D5663"
         },
         "title": {
          "font": {
           "color": "#4D5663"
          },
          "text": ""
         },
         "zerolinecolor": "#E1E5ED"
        },
        "xaxis4": {
         "anchor": "y4",
         "domain": [
          0.7875,
          1
         ],
         "gridcolor": "#E1E5ED",
         "showgrid": false,
         "tickfont": {
          "color": "#4D5663"
         },
         "title": {
          "font": {
           "color": "#4D5663"
          },
          "text": ""
         },
         "zerolinecolor": "#E1E5ED"
        },
        "xaxis5": {
         "anchor": "y5",
         "domain": [
          0,
          0.2125
         ],
         "gridcolor": "#E1E5ED",
         "showgrid": false,
         "tickfont": {
          "color": "#4D5663"
         },
         "title": {
          "font": {
           "color": "#4D5663"
          },
          "text": ""
         },
         "zerolinecolor": "#E1E5ED"
        },
        "xaxis6": {
         "anchor": "y6",
         "domain": [
          0.2625,
          0.475
         ],
         "gridcolor": "#E1E5ED",
         "showgrid": false,
         "tickfont": {
          "color": "#4D5663"
         },
         "title": {
          "font": {
           "color": "#4D5663"
          },
          "text": ""
         },
         "zerolinecolor": "#E1E5ED"
        },
        "xaxis7": {
         "anchor": "y7",
         "domain": [
          0.525,
          0.7375
         ],
         "gridcolor": "#E1E5ED",
         "showgrid": false,
         "tickfont": {
          "color": "#4D5663"
         },
         "title": {
          "font": {
           "color": "#4D5663"
          },
          "text": ""
         },
         "zerolinecolor": "#E1E5ED"
        },
        "xaxis8": {
         "anchor": "y8",
         "domain": [
          0.7875,
          1
         ],
         "gridcolor": "#E1E5ED",
         "showgrid": false,
         "tickfont": {
          "color": "#4D5663"
         },
         "title": {
          "font": {
           "color": "#4D5663"
          },
          "text": ""
         },
         "zerolinecolor": "#E1E5ED"
        },
        "xaxis9": {
         "anchor": "y9",
         "domain": [
          0,
          0.2125
         ],
         "gridcolor": "#E1E5ED",
         "showgrid": false,
         "tickfont": {
          "color": "#4D5663"
         },
         "title": {
          "font": {
           "color": "#4D5663"
          },
          "text": ""
         },
         "zerolinecolor": "#E1E5ED"
        },
        "yaxis": {
         "anchor": "x",
         "domain": [
          0.8025,
          1
         ],
         "gridcolor": "#E1E5ED",
         "showgrid": false,
         "tickfont": {
          "color": "#4D5663"
         },
         "title": {
          "font": {
           "color": "#4D5663"
          },
          "text": ""
         },
         "zerolinecolor": "#E1E5ED"
        },
        "yaxis10": {
         "anchor": "x10",
         "domain": [
          0.2675,
          0.465
         ],
         "gridcolor": "#E1E5ED",
         "showgrid": false,
         "tickfont": {
          "color": "#4D5663"
         },
         "title": {
          "font": {
           "color": "#4D5663"
          },
          "text": ""
         },
         "zerolinecolor": "#E1E5ED"
        },
        "yaxis11": {
         "anchor": "x11",
         "domain": [
          0.2675,
          0.465
         ],
         "gridcolor": "#E1E5ED",
         "showgrid": false,
         "tickfont": {
          "color": "#4D5663"
         },
         "title": {
          "font": {
           "color": "#4D5663"
          },
          "text": ""
         },
         "zerolinecolor": "#E1E5ED"
        },
        "yaxis12": {
         "anchor": "x12",
         "domain": [
          0.2675,
          0.465
         ],
         "gridcolor": "#E1E5ED",
         "showgrid": false,
         "tickfont": {
          "color": "#4D5663"
         },
         "title": {
          "font": {
           "color": "#4D5663"
          },
          "text": ""
         },
         "zerolinecolor": "#E1E5ED"
        },
        "yaxis13": {
         "anchor": "x13",
         "domain": [
          0,
          0.1975
         ],
         "gridcolor": "#E1E5ED",
         "showgrid": false,
         "tickfont": {
          "color": "#4D5663"
         },
         "title": {
          "font": {
           "color": "#4D5663"
          },
          "text": ""
         },
         "zerolinecolor": "#E1E5ED"
        },
        "yaxis14": {
         "anchor": "x14",
         "domain": [
          0,
          0.1975
         ],
         "gridcolor": "#E1E5ED",
         "showgrid": false,
         "tickfont": {
          "color": "#4D5663"
         },
         "title": {
          "font": {
           "color": "#4D5663"
          },
          "text": ""
         },
         "zerolinecolor": "#E1E5ED"
        },
        "yaxis15": {
         "anchor": "x15",
         "domain": [
          0,
          0.1975
         ],
         "gridcolor": "#E1E5ED",
         "showgrid": false,
         "tickfont": {
          "color": "#4D5663"
         },
         "title": {
          "font": {
           "color": "#4D5663"
          },
          "text": ""
         },
         "zerolinecolor": "#E1E5ED"
        },
        "yaxis16": {
         "anchor": "x16",
         "domain": [
          0,
          0.1975
         ],
         "gridcolor": "#E1E5ED",
         "showgrid": false,
         "tickfont": {
          "color": "#4D5663"
         },
         "title": {
          "font": {
           "color": "#4D5663"
          },
          "text": ""
         },
         "zerolinecolor": "#E1E5ED"
        },
        "yaxis2": {
         "anchor": "x2",
         "domain": [
          0.8025,
          1
         ],
         "gridcolor": "#E1E5ED",
         "showgrid": false,
         "tickfont": {
          "color": "#4D5663"
         },
         "title": {
          "font": {
           "color": "#4D5663"
          },
          "text": ""
         },
         "zerolinecolor": "#E1E5ED"
        },
        "yaxis3": {
         "anchor": "x3",
         "domain": [
          0.8025,
          1
         ],
         "gridcolor": "#E1E5ED",
         "showgrid": false,
         "tickfont": {
          "color": "#4D5663"
         },
         "title": {
          "font": {
           "color": "#4D5663"
          },
          "text": ""
         },
         "zerolinecolor": "#E1E5ED"
        },
        "yaxis4": {
         "anchor": "x4",
         "domain": [
          0.8025,
          1
         ],
         "gridcolor": "#E1E5ED",
         "showgrid": false,
         "tickfont": {
          "color": "#4D5663"
         },
         "title": {
          "font": {
           "color": "#4D5663"
          },
          "text": ""
         },
         "zerolinecolor": "#E1E5ED"
        },
        "yaxis5": {
         "anchor": "x5",
         "domain": [
          0.535,
          0.7325
         ],
         "gridcolor": "#E1E5ED",
         "showgrid": false,
         "tickfont": {
          "color": "#4D5663"
         },
         "title": {
          "font": {
           "color": "#4D5663"
          },
          "text": ""
         },
         "zerolinecolor": "#E1E5ED"
        },
        "yaxis6": {
         "anchor": "x6",
         "domain": [
          0.535,
          0.7325
         ],
         "gridcolor": "#E1E5ED",
         "showgrid": false,
         "tickfont": {
          "color": "#4D5663"
         },
         "title": {
          "font": {
           "color": "#4D5663"
          },
          "text": ""
         },
         "zerolinecolor": "#E1E5ED"
        },
        "yaxis7": {
         "anchor": "x7",
         "domain": [
          0.535,
          0.7325
         ],
         "gridcolor": "#E1E5ED",
         "showgrid": false,
         "tickfont": {
          "color": "#4D5663"
         },
         "title": {
          "font": {
           "color": "#4D5663"
          },
          "text": ""
         },
         "zerolinecolor": "#E1E5ED"
        },
        "yaxis8": {
         "anchor": "x8",
         "domain": [
          0.535,
          0.7325
         ],
         "gridcolor": "#E1E5ED",
         "showgrid": false,
         "tickfont": {
          "color": "#4D5663"
         },
         "title": {
          "font": {
           "color": "#4D5663"
          },
          "text": ""
         },
         "zerolinecolor": "#E1E5ED"
        },
        "yaxis9": {
         "anchor": "x9",
         "domain": [
          0.2675,
          0.465
         ],
         "gridcolor": "#E1E5ED",
         "showgrid": false,
         "tickfont": {
          "color": "#4D5663"
         },
         "title": {
          "font": {
           "color": "#4D5663"
          },
          "text": ""
         },
         "zerolinecolor": "#E1E5ED"
        }
       }
      },
      "text/html": [
       "<div>\n",
       "        \n",
       "        \n",
       "            <div id=\"c9a8ab76-f405-4b4e-8c3d-60f8802354e2\" class=\"plotly-graph-div\" style=\"height:525px; width:100%;\"></div>\n",
       "            <script type=\"text/javascript\">\n",
       "                require([\"plotly\"], function(Plotly) {\n",
       "                    window.PLOTLYENV=window.PLOTLYENV || {};\n",
       "                    window.PLOTLYENV.BASE_URL='https://plot.ly';\n",
       "                    \n",
       "                if (document.getElementById(\"c9a8ab76-f405-4b4e-8c3d-60f8802354e2\")) {\n",
       "                    Plotly.newPlot(\n",
       "                        'c9a8ab76-f405-4b4e-8c3d-60f8802354e2',\n",
       "                        [{\"histfunc\": \"count\", \"histnorm\": \"\", \"marker\": {\"color\": \"rgba(255, 153, 51, 1.0)\", \"line\": {\"color\": \"#4D5663\", \"width\": 1.3}}, \"name\": \"A\", \"nbinsx\": 10, \"opacity\": 0.8, \"orientation\": \"v\", \"type\": \"histogram\", \"x\": [0.4180077677129555, -0.3128801845689577, -1.2818040073783439, -1.3499561265835542, 0.3039279478452639, 1.1863847742158518, 1.0835583705349823, -0.7651009824722295, -0.004639367372395647, -1.2901800153095841, 0.34194454457201795, 0.2430265819302035, -1.239200746086747, 0.6609179033616308, 1.2215743606359457, 0.22851490960072843, -0.14310895717634575, -0.7341660565469577, 0.36739376263270695, -1.2263587978946202, 1.1341530384801826, 0.28922077570122323, 1.4320291443559363, -0.029762809912246137, 0.38843416039229095, -1.1576502517879128, 1.247029680606232, -0.753455193611879, 0.8454105594040022, -0.48863872395864744, 2.0528279595553722, 1.4216295566716677, 0.3090330341207762, 0.6300780183123109, 0.10737093513874785, 0.905973922917701, -0.2632028533845714, 0.9603295207643638, 1.71454912190604, 0.30076145540589266, -1.158240647754955, -1.555770932461019, -0.5496394055924582, -0.3098464315731358, -0.9269172822170287, 1.4110184848076361, 1.0265506719696467, 0.47315227690793843, 2.673361746975534, -0.6268429927337782, 0.7952441983109597, 0.24673373697834614, 0.11800304997405606, -0.2717307656980959, -1.2949623636338092, 0.46002536031715685, -0.8360662796616206, -0.020453141860388522, 0.09672518557631296, -0.25749844264543464, -0.19748331705545816, -1.67256744411012, 0.16457940230626322, -0.6981315249889456, 0.986887605344953, -1.0208677299390276, 1.5248546268228698, -0.05730817773951274, -0.2809594183508312, 0.2800640292767441, -0.510505088700282, -0.22022306767997035, 2.561078078500293, 0.32638871800881, 0.4211229347119489, 0.4209516549400868, -0.41142404589273535, -1.2027248824404886, -1.0516948271493292, -1.0425706408560913, 0.8509036913952475, -0.5922630060724732, -0.17067372704042816, 0.3863237902458271, -0.3888948052253109, 1.4957478135781743, 0.5039314677195023, -0.5050249482312905, -0.586667783064311, -0.33795302496972407, -0.5985714633089745, 0.3291703972093818, 1.3898555468856857, 0.24688535145149937, -1.5197463024947038, -1.1415198737866825, 0.6905109009733212, -0.6834054293578632, 1.588126304796323, -0.5368967243521588], \"xaxis\": \"x\", \"yaxis\": \"y\"}, {\"line\": {\"color\": \"rgba(128, 128, 128, 1.0)\", \"dash\": \"solid\", \"shape\": \"linear\", \"width\": 1.3}, \"marker\": {\"size\": 2, \"symbol\": \"circle\"}, \"mode\": \"markers\", \"name\": \"A\", \"text\": \"\", \"type\": \"scatter\", \"x\": [-0.38851389542406467, 1.4555094701878195, -0.49250437347962495, 0.5127069535232905, 0.040541718463032075, 0.16373327279668246, 0.17257081418050907, 0.30546492891383126, 0.46958784039958695, -0.22966083824062747, -2.526885600303071, -0.4847405925891708, 0.45377893892101284, -0.8368013602100006, 0.42772046313745377, -1.738150320282506, -0.8297097197366343, 0.30096605858103315, -0.17828234826613287, -0.6104656125377197, -0.057847804501502786, 0.8075905382876867, -1.0556132374879243, -0.9976931987763373, 2.588386126266256, -0.7780244315000312, -0.4390279271257135, -0.3323260365131081, -0.5029687669751323, 0.9876315856388016, -0.8811506763207766, 1.1919465596099408, -1.3971373000747602, -1.3167293924560757, 0.08151482303535279, -2.396012948031223, -1.5454554866390564, 0.715911814485308, 0.11306587784706669, 0.6871377228556313, 0.1678675167159434, 0.35767472857090465, 1.6343324317472023, 0.7408556906103368, 0.5546661006435808, 1.1705085664132198, -0.1950920426807639, 0.8072746249080459, 0.7191339935489122, 0.2627823994645575, 0.2716123406664341, 0.06509604265191297, 0.24775972951110936, -0.031764637242011964, 0.7222793010970351, -1.0430619181025411, -0.6124268425291312, -0.9574044874482729, -0.8282953516308782, -0.15415791161250897, 0.07323383909711624, 2.0322204253233855, -2.709345784372258, 0.6746943139917259, 1.6003465621504065, -0.5546245562644994, 0.2361100996334074, 0.5135461009704804, 0.6040598602576654, 1.1972841291220075, 0.5364947168111209, 0.051253270889895015, 1.3340314363537538, -1.499837262081371, 1.4553991652504519, 1.847950398899375, 0.1504194495906708, -1.590313598465302, 0.21520617758582, 1.02603310475097, 0.6716755400605747, 1.2976699163750265, -1.3903035976441018, -1.5532971064033823, -0.19222439095544397, -0.8894040710742132, 2.232239911471498, -0.2188573687720621, -0.8279744043641107, -0.6654106718715332, -0.5045060182494511, -0.11565646918786261, -0.6563025933303193, -0.7169847878554301, -0.33206575350661677, -0.45730465975917006, -1.4019649160542775, 0.307032042787555, 1.2999536161020562, 0.6743916762583729], \"xaxis\": \"x2\", \"y\": [0.4180077677129555, -0.3128801845689577, -1.2818040073783439, -1.3499561265835542, 0.3039279478452639, 1.1863847742158518, 1.0835583705349823, -0.7651009824722295, -0.004639367372395647, -1.2901800153095841, 0.34194454457201795, 0.2430265819302035, -1.239200746086747, 0.6609179033616308, 1.2215743606359457, 0.22851490960072843, -0.14310895717634575, -0.7341660565469577, 0.36739376263270695, -1.2263587978946202, 1.1341530384801826, 0.28922077570122323, 1.4320291443559363, -0.029762809912246137, 0.38843416039229095, -1.1576502517879128, 1.247029680606232, -0.753455193611879, 0.8454105594040022, -0.48863872395864744, 2.0528279595553722, 1.4216295566716677, 0.3090330341207762, 0.6300780183123109, 0.10737093513874785, 0.905973922917701, -0.2632028533845714, 0.9603295207643638, 1.71454912190604, 0.30076145540589266, -1.158240647754955, -1.555770932461019, -0.5496394055924582, -0.3098464315731358, -0.9269172822170287, 1.4110184848076361, 1.0265506719696467, 0.47315227690793843, 2.673361746975534, -0.6268429927337782, 0.7952441983109597, 0.24673373697834614, 0.11800304997405606, -0.2717307656980959, -1.2949623636338092, 0.46002536031715685, -0.8360662796616206, -0.020453141860388522, 0.09672518557631296, -0.25749844264543464, -0.19748331705545816, -1.67256744411012, 0.16457940230626322, -0.6981315249889456, 0.986887605344953, -1.0208677299390276, 1.5248546268228698, -0.05730817773951274, -0.2809594183508312, 0.2800640292767441, -0.510505088700282, -0.22022306767997035, 2.561078078500293, 0.32638871800881, 0.4211229347119489, 0.4209516549400868, -0.41142404589273535, -1.2027248824404886, -1.0516948271493292, -1.0425706408560913, 0.8509036913952475, -0.5922630060724732, -0.17067372704042816, 0.3863237902458271, -0.3888948052253109, 1.4957478135781743, 0.5039314677195023, -0.5050249482312905, -0.586667783064311, -0.33795302496972407, -0.5985714633089745, 0.3291703972093818, 1.3898555468856857, 0.24688535145149937, -1.5197463024947038, -1.1415198737866825, 0.6905109009733212, -0.6834054293578632, 1.588126304796323, -0.5368967243521588], \"yaxis\": \"y2\"}, {\"line\": {\"color\": \"rgba(128, 128, 128, 1.0)\", \"dash\": \"solid\", \"shape\": \"linear\", \"width\": 1.3}, \"marker\": {\"size\": 2, \"symbol\": \"circle\"}, \"mode\": \"markers\", \"name\": \"A\", \"text\": \"\", \"type\": \"scatter\", \"x\": [-1.5548971198664823, 0.16076004176469136, 0.38365211920215275, 0.5690187441345403, -0.32387980228073726, -0.6879882203982293, 2.17228274716675, 0.18034727166922518, -0.5544694409729981, -1.7869676808151327, 1.5734761685349372, -0.3275938262407917, 0.6059354603861855, 0.3380638784211195, -0.7025282299628814, -1.7535061108292629, -0.2817342235864836, -0.9332507063514746, 0.34068730604246744, 0.3920694995444077, 1.7164967032968461, -0.5559258945821576, 0.6583770044983814, -0.81641359031972, -0.22728349353793822, -0.05868018453449199, 0.08252693763996004, 1.8549780059929735, 0.951272617955901, 1.616734192023336, 0.5715557002398042, 0.41577979284301253, 0.6609591257248846, -0.5034055320120396, 0.4048042238395531, 0.10291766268351217, 0.015453168506189956, 0.6143178089612366, 2.536098360814724, -1.583499304235178, -1.2995785729135914, 0.9604734337615023, 2.0372092307017446, 0.9013060677804324, 0.08400577433314985, -0.19928395298651444, 0.39361388456957386, 1.9517976016324357, -0.03875745399683904, 0.02537125023711632, -1.9367845642249184, -2.154023228066554, 1.0280095919767904, 1.4007570810843677, -0.6285150476022329, -0.6537667389604715, 2.3261114055947183, -2.827173989186571, 0.9893705271276441, 0.7675389611073868, 0.21945766880972742, -1.0019971109369443, -1.1047431244214116, 0.8295658153020609, -0.04571832559604567, -0.5423232623976562, 0.10153918282634145, 0.7290154762441521, -0.43804437057543066, 0.08973182263719404, 0.9809285807998175, -1.1003185112523015, -2.8061286461565245, -0.2590983357270895, -0.791915671111303, 3.01674581735022, -0.7018061227785953, 0.13439232590575362, 0.6841874322387901, 2.309545547532321, 0.82374583313213, 0.43282087923108364, 0.5479294835482278, 0.6407149207673306, -0.22189636567169257, 0.05646080496771162, -0.35031193224878754, 0.21838480584868908, 0.9724591532271197, 1.9696924218403984, 1.1532337295118351, 0.9026618450366959, 0.43087417541807854, -1.01579492058328, -0.7032899418786179, -0.7109388642256232, 0.04226715991717669, 0.06873957803031885, -0.3187605124781835, -0.6898535537880573], \"xaxis\": \"x3\", \"y\": [0.4180077677129555, -0.3128801845689577, -1.2818040073783439, -1.3499561265835542, 0.3039279478452639, 1.1863847742158518, 1.0835583705349823, -0.7651009824722295, -0.004639367372395647, -1.2901800153095841, 0.34194454457201795, 0.2430265819302035, -1.239200746086747, 0.6609179033616308, 1.2215743606359457, 0.22851490960072843, -0.14310895717634575, -0.7341660565469577, 0.36739376263270695, -1.2263587978946202, 1.1341530384801826, 0.28922077570122323, 1.4320291443559363, -0.029762809912246137, 0.38843416039229095, -1.1576502517879128, 1.247029680606232, -0.753455193611879, 0.8454105594040022, -0.48863872395864744, 2.0528279595553722, 1.4216295566716677, 0.3090330341207762, 0.6300780183123109, 0.10737093513874785, 0.905973922917701, -0.2632028533845714, 0.9603295207643638, 1.71454912190604, 0.30076145540589266, -1.158240647754955, -1.555770932461019, -0.5496394055924582, -0.3098464315731358, -0.9269172822170287, 1.4110184848076361, 1.0265506719696467, 0.47315227690793843, 2.673361746975534, -0.6268429927337782, 0.7952441983109597, 0.24673373697834614, 0.11800304997405606, -0.2717307656980959, -1.2949623636338092, 0.46002536031715685, -0.8360662796616206, -0.020453141860388522, 0.09672518557631296, -0.25749844264543464, -0.19748331705545816, -1.67256744411012, 0.16457940230626322, -0.6981315249889456, 0.986887605344953, -1.0208677299390276, 1.5248546268228698, -0.05730817773951274, -0.2809594183508312, 0.2800640292767441, -0.510505088700282, -0.22022306767997035, 2.561078078500293, 0.32638871800881, 0.4211229347119489, 0.4209516549400868, -0.41142404589273535, -1.2027248824404886, -1.0516948271493292, -1.0425706408560913, 0.8509036913952475, -0.5922630060724732, -0.17067372704042816, 0.3863237902458271, -0.3888948052253109, 1.4957478135781743, 0.5039314677195023, -0.5050249482312905, -0.586667783064311, -0.33795302496972407, -0.5985714633089745, 0.3291703972093818, 1.3898555468856857, 0.24688535145149937, -1.5197463024947038, -1.1415198737866825, 0.6905109009733212, -0.6834054293578632, 1.588126304796323, -0.5368967243521588], \"yaxis\": \"y3\"}, {\"line\": {\"color\": \"rgba(128, 128, 128, 1.0)\", \"dash\": \"solid\", \"shape\": \"linear\", \"width\": 1.3}, \"marker\": {\"size\": 2, \"symbol\": \"circle\"}, \"mode\": \"markers\", \"name\": \"A\", \"text\": \"\", \"type\": \"scatter\", \"x\": [1.9035873724567771, 0.9424767159878351, 0.7177576140550985, 0.02044278753700372, -1.1279815774088429, -1.7015773156819936, -0.9044139870557208, -1.6174588287651726, -1.1689027313310763, -0.6404651377826653, 0.3304314768869591, 0.3832002511845898, -1.1221992417270812, -0.6878436810546351, 1.4175359611936849, -0.6255067628898198, -0.07932381799453833, -1.0026217568107434, 0.3768846186175386, -0.47297881369821143, 1.3209042209707882, -0.9716227006726936, -1.3271319178685188, 0.24408944374847133, 0.8790061541851925, 0.0735750338232907, 0.0321923052397181, 0.654943738468808, -0.0034610527503854223, 2.2230079619714727, -1.3628441468126884, -0.6034584400011707, -0.22130026864043026, 0.9057975301407415, 1.1264820141748102, -1.3693850981008922, -0.6008605611432628, 0.7954553134069772, 0.6316290222616032, 1.0706196947586943, -0.011710012872178465, -1.706155832964387, -0.46664671066258434, 0.46459287282569633, 0.6085947859192774, -0.6248760000018144, -1.3225581075825943, 1.4216822522034809, 1.2299905107810967, 1.017811497550339, -0.27162596308459397, 0.5344229096515827, 1.2644276707445496, -0.4456595145923994, -0.34176318091132063, 0.9525998868815186, 1.6567790192769374, 0.5275861320878861, 0.03098245144479996, 0.3605531346965227, 0.7547386569858132, 0.45564431772276637, -1.0373106180973466, -0.8106646135481044, -1.0446175823543187, 0.11658607871768786, 0.3172298874444565, 1.6668483465017563, 0.0020469118835838925, -1.074679836754118, 0.06638055840001972, 0.30992379820670507, 1.8953476750016551, -0.042813449087720945, 2.031908121326955, -0.08998646566650483, -0.7676390551546229, 0.2845692651092083, 0.20859153017068754, -1.3262751190632773, -0.19024430392280736, 0.945622925389767, -0.12099717128340479, -0.6119348182338643, 1.373214122049092, 0.8010211229650782, -0.7583998431150829, 1.0946388590416698, 1.5109307097209796, -0.9747911239924799, -0.6052834275765676, -1.2190148605124953, 0.44542411807913146, -0.16883442574082722, -0.90405452975825, -0.01634173273998749, -0.7624608483203248, -0.6380440434789618, 0.012993249942215972, -1.5070538071389876], \"xaxis\": \"x4\", \"y\": [0.4180077677129555, -0.3128801845689577, -1.2818040073783439, -1.3499561265835542, 0.3039279478452639, 1.1863847742158518, 1.0835583705349823, -0.7651009824722295, -0.004639367372395647, -1.2901800153095841, 0.34194454457201795, 0.2430265819302035, -1.239200746086747, 0.6609179033616308, 1.2215743606359457, 0.22851490960072843, -0.14310895717634575, -0.7341660565469577, 0.36739376263270695, -1.2263587978946202, 1.1341530384801826, 0.28922077570122323, 1.4320291443559363, -0.029762809912246137, 0.38843416039229095, -1.1576502517879128, 1.247029680606232, -0.753455193611879, 0.8454105594040022, -0.48863872395864744, 2.0528279595553722, 1.4216295566716677, 0.3090330341207762, 0.6300780183123109, 0.10737093513874785, 0.905973922917701, -0.2632028533845714, 0.9603295207643638, 1.71454912190604, 0.30076145540589266, -1.158240647754955, -1.555770932461019, -0.5496394055924582, -0.3098464315731358, -0.9269172822170287, 1.4110184848076361, 1.0265506719696467, 0.47315227690793843, 2.673361746975534, -0.6268429927337782, 0.7952441983109597, 0.24673373697834614, 0.11800304997405606, -0.2717307656980959, -1.2949623636338092, 0.46002536031715685, -0.8360662796616206, -0.020453141860388522, 0.09672518557631296, -0.25749844264543464, -0.19748331705545816, -1.67256744411012, 0.16457940230626322, -0.6981315249889456, 0.986887605344953, -1.0208677299390276, 1.5248546268228698, -0.05730817773951274, -0.2809594183508312, 0.2800640292767441, -0.510505088700282, -0.22022306767997035, 2.561078078500293, 0.32638871800881, 0.4211229347119489, 0.4209516549400868, -0.41142404589273535, -1.2027248824404886, -1.0516948271493292, -1.0425706408560913, 0.8509036913952475, -0.5922630060724732, -0.17067372704042816, 0.3863237902458271, -0.3888948052253109, 1.4957478135781743, 0.5039314677195023, -0.5050249482312905, -0.586667783064311, -0.33795302496972407, -0.5985714633089745, 0.3291703972093818, 1.3898555468856857, 0.24688535145149937, -1.5197463024947038, -1.1415198737866825, 0.6905109009733212, -0.6834054293578632, 1.588126304796323, -0.5368967243521588], \"yaxis\": \"y4\"}, {\"line\": {\"color\": \"rgba(128, 128, 128, 1.0)\", \"dash\": \"solid\", \"shape\": \"linear\", \"width\": 1.3}, \"marker\": {\"size\": 2, \"symbol\": \"circle\"}, \"mode\": \"markers\", \"name\": \"B\", \"text\": \"\", \"type\": \"scatter\", \"x\": [0.4180077677129555, -0.3128801845689577, -1.2818040073783439, -1.3499561265835542, 0.3039279478452639, 1.1863847742158518, 1.0835583705349823, -0.7651009824722295, -0.004639367372395647, -1.2901800153095841, 0.34194454457201795, 0.2430265819302035, -1.239200746086747, 0.6609179033616308, 1.2215743606359457, 0.22851490960072843, -0.14310895717634575, -0.7341660565469577, 0.36739376263270695, -1.2263587978946202, 1.1341530384801826, 0.28922077570122323, 1.4320291443559363, -0.029762809912246137, 0.38843416039229095, -1.1576502517879128, 1.247029680606232, -0.753455193611879, 0.8454105594040022, -0.48863872395864744, 2.0528279595553722, 1.4216295566716677, 0.3090330341207762, 0.6300780183123109, 0.10737093513874785, 0.905973922917701, -0.2632028533845714, 0.9603295207643638, 1.71454912190604, 0.30076145540589266, -1.158240647754955, -1.555770932461019, -0.5496394055924582, -0.3098464315731358, -0.9269172822170287, 1.4110184848076361, 1.0265506719696467, 0.47315227690793843, 2.673361746975534, -0.6268429927337782, 0.7952441983109597, 0.24673373697834614, 0.11800304997405606, -0.2717307656980959, -1.2949623636338092, 0.46002536031715685, -0.8360662796616206, -0.020453141860388522, 0.09672518557631296, -0.25749844264543464, -0.19748331705545816, -1.67256744411012, 0.16457940230626322, -0.6981315249889456, 0.986887605344953, -1.0208677299390276, 1.5248546268228698, -0.05730817773951274, -0.2809594183508312, 0.2800640292767441, -0.510505088700282, -0.22022306767997035, 2.561078078500293, 0.32638871800881, 0.4211229347119489, 0.4209516549400868, -0.41142404589273535, -1.2027248824404886, -1.0516948271493292, -1.0425706408560913, 0.8509036913952475, -0.5922630060724732, -0.17067372704042816, 0.3863237902458271, -0.3888948052253109, 1.4957478135781743, 0.5039314677195023, -0.5050249482312905, -0.586667783064311, -0.33795302496972407, -0.5985714633089745, 0.3291703972093818, 1.3898555468856857, 0.24688535145149937, -1.5197463024947038, -1.1415198737866825, 0.6905109009733212, -0.6834054293578632, 1.588126304796323, -0.5368967243521588], \"xaxis\": \"x5\", \"y\": [-0.38851389542406467, 1.4555094701878195, -0.49250437347962495, 0.5127069535232905, 0.040541718463032075, 0.16373327279668246, 0.17257081418050907, 0.30546492891383126, 0.46958784039958695, -0.22966083824062747, -2.526885600303071, -0.4847405925891708, 0.45377893892101284, -0.8368013602100006, 0.42772046313745377, -1.738150320282506, -0.8297097197366343, 0.30096605858103315, -0.17828234826613287, -0.6104656125377197, -0.057847804501502786, 0.8075905382876867, -1.0556132374879243, -0.9976931987763373, 2.588386126266256, -0.7780244315000312, -0.4390279271257135, -0.3323260365131081, -0.5029687669751323, 0.9876315856388016, -0.8811506763207766, 1.1919465596099408, -1.3971373000747602, -1.3167293924560757, 0.08151482303535279, -2.396012948031223, -1.5454554866390564, 0.715911814485308, 0.11306587784706669, 0.6871377228556313, 0.1678675167159434, 0.35767472857090465, 1.6343324317472023, 0.7408556906103368, 0.5546661006435808, 1.1705085664132198, -0.1950920426807639, 0.8072746249080459, 0.7191339935489122, 0.2627823994645575, 0.2716123406664341, 0.06509604265191297, 0.24775972951110936, -0.031764637242011964, 0.7222793010970351, -1.0430619181025411, -0.6124268425291312, -0.9574044874482729, -0.8282953516308782, -0.15415791161250897, 0.07323383909711624, 2.0322204253233855, -2.709345784372258, 0.6746943139917259, 1.6003465621504065, -0.5546245562644994, 0.2361100996334074, 0.5135461009704804, 0.6040598602576654, 1.1972841291220075, 0.5364947168111209, 0.051253270889895015, 1.3340314363537538, -1.499837262081371, 1.4553991652504519, 1.847950398899375, 0.1504194495906708, -1.590313598465302, 0.21520617758582, 1.02603310475097, 0.6716755400605747, 1.2976699163750265, -1.3903035976441018, -1.5532971064033823, -0.19222439095544397, -0.8894040710742132, 2.232239911471498, -0.2188573687720621, -0.8279744043641107, -0.6654106718715332, -0.5045060182494511, -0.11565646918786261, -0.6563025933303193, -0.7169847878554301, -0.33206575350661677, -0.45730465975917006, -1.4019649160542775, 0.307032042787555, 1.2999536161020562, 0.6743916762583729], \"yaxis\": \"y5\"}, {\"histfunc\": \"count\", \"histnorm\": \"\", \"marker\": {\"color\": \"rgba(55, 128, 191, 1.0)\", \"line\": {\"color\": \"#4D5663\", \"width\": 1.3}}, \"name\": \"B\", \"nbinsx\": 10, \"opacity\": 0.8, \"orientation\": \"v\", \"type\": \"histogram\", \"x\": [-0.38851389542406467, 1.4555094701878195, -0.49250437347962495, 0.5127069535232905, 0.040541718463032075, 0.16373327279668246, 0.17257081418050907, 0.30546492891383126, 0.46958784039958695, -0.22966083824062747, -2.526885600303071, -0.4847405925891708, 0.45377893892101284, -0.8368013602100006, 0.42772046313745377, -1.738150320282506, -0.8297097197366343, 0.30096605858103315, -0.17828234826613287, -0.6104656125377197, -0.057847804501502786, 0.8075905382876867, -1.0556132374879243, -0.9976931987763373, 2.588386126266256, -0.7780244315000312, -0.4390279271257135, -0.3323260365131081, -0.5029687669751323, 0.9876315856388016, -0.8811506763207766, 1.1919465596099408, -1.3971373000747602, -1.3167293924560757, 0.08151482303535279, -2.396012948031223, -1.5454554866390564, 0.715911814485308, 0.11306587784706669, 0.6871377228556313, 0.1678675167159434, 0.35767472857090465, 1.6343324317472023, 0.7408556906103368, 0.5546661006435808, 1.1705085664132198, -0.1950920426807639, 0.8072746249080459, 0.7191339935489122, 0.2627823994645575, 0.2716123406664341, 0.06509604265191297, 0.24775972951110936, -0.031764637242011964, 0.7222793010970351, -1.0430619181025411, -0.6124268425291312, -0.9574044874482729, -0.8282953516308782, -0.15415791161250897, 0.07323383909711624, 2.0322204253233855, -2.709345784372258, 0.6746943139917259, 1.6003465621504065, -0.5546245562644994, 0.2361100996334074, 0.5135461009704804, 0.6040598602576654, 1.1972841291220075, 0.5364947168111209, 0.051253270889895015, 1.3340314363537538, -1.499837262081371, 1.4553991652504519, 1.847950398899375, 0.1504194495906708, -1.590313598465302, 0.21520617758582, 1.02603310475097, 0.6716755400605747, 1.2976699163750265, -1.3903035976441018, -1.5532971064033823, -0.19222439095544397, -0.8894040710742132, 2.232239911471498, -0.2188573687720621, -0.8279744043641107, -0.6654106718715332, -0.5045060182494511, -0.11565646918786261, -0.6563025933303193, -0.7169847878554301, -0.33206575350661677, -0.45730465975917006, -1.4019649160542775, 0.307032042787555, 1.2999536161020562, 0.6743916762583729], \"xaxis\": \"x6\", \"yaxis\": \"y6\"}, {\"line\": {\"color\": \"rgba(128, 128, 128, 1.0)\", \"dash\": \"solid\", \"shape\": \"linear\", \"width\": 1.3}, \"marker\": {\"size\": 2, \"symbol\": \"circle\"}, \"mode\": \"markers\", \"name\": \"B\", \"text\": \"\", \"type\": \"scatter\", \"x\": [-1.5548971198664823, 0.16076004176469136, 0.38365211920215275, 0.5690187441345403, -0.32387980228073726, -0.6879882203982293, 2.17228274716675, 0.18034727166922518, -0.5544694409729981, -1.7869676808151327, 1.5734761685349372, -0.3275938262407917, 0.6059354603861855, 0.3380638784211195, -0.7025282299628814, -1.7535061108292629, -0.2817342235864836, -0.9332507063514746, 0.34068730604246744, 0.3920694995444077, 1.7164967032968461, -0.5559258945821576, 0.6583770044983814, -0.81641359031972, -0.22728349353793822, -0.05868018453449199, 0.08252693763996004, 1.8549780059929735, 0.951272617955901, 1.616734192023336, 0.5715557002398042, 0.41577979284301253, 0.6609591257248846, -0.5034055320120396, 0.4048042238395531, 0.10291766268351217, 0.015453168506189956, 0.6143178089612366, 2.536098360814724, -1.583499304235178, -1.2995785729135914, 0.9604734337615023, 2.0372092307017446, 0.9013060677804324, 0.08400577433314985, -0.19928395298651444, 0.39361388456957386, 1.9517976016324357, -0.03875745399683904, 0.02537125023711632, -1.9367845642249184, -2.154023228066554, 1.0280095919767904, 1.4007570810843677, -0.6285150476022329, -0.6537667389604715, 2.3261114055947183, -2.827173989186571, 0.9893705271276441, 0.7675389611073868, 0.21945766880972742, -1.0019971109369443, -1.1047431244214116, 0.8295658153020609, -0.04571832559604567, -0.5423232623976562, 0.10153918282634145, 0.7290154762441521, -0.43804437057543066, 0.08973182263719404, 0.9809285807998175, -1.1003185112523015, -2.8061286461565245, -0.2590983357270895, -0.791915671111303, 3.01674581735022, -0.7018061227785953, 0.13439232590575362, 0.6841874322387901, 2.309545547532321, 0.82374583313213, 0.43282087923108364, 0.5479294835482278, 0.6407149207673306, -0.22189636567169257, 0.05646080496771162, -0.35031193224878754, 0.21838480584868908, 0.9724591532271197, 1.9696924218403984, 1.1532337295118351, 0.9026618450366959, 0.43087417541807854, -1.01579492058328, -0.7032899418786179, -0.7109388642256232, 0.04226715991717669, 0.06873957803031885, -0.3187605124781835, -0.6898535537880573], \"xaxis\": \"x7\", \"y\": [-0.38851389542406467, 1.4555094701878195, -0.49250437347962495, 0.5127069535232905, 0.040541718463032075, 0.16373327279668246, 0.17257081418050907, 0.30546492891383126, 0.46958784039958695, -0.22966083824062747, -2.526885600303071, -0.4847405925891708, 0.45377893892101284, -0.8368013602100006, 0.42772046313745377, -1.738150320282506, -0.8297097197366343, 0.30096605858103315, -0.17828234826613287, -0.6104656125377197, -0.057847804501502786, 0.8075905382876867, -1.0556132374879243, -0.9976931987763373, 2.588386126266256, -0.7780244315000312, -0.4390279271257135, -0.3323260365131081, -0.5029687669751323, 0.9876315856388016, -0.8811506763207766, 1.1919465596099408, -1.3971373000747602, -1.3167293924560757, 0.08151482303535279, -2.396012948031223, -1.5454554866390564, 0.715911814485308, 0.11306587784706669, 0.6871377228556313, 0.1678675167159434, 0.35767472857090465, 1.6343324317472023, 0.7408556906103368, 0.5546661006435808, 1.1705085664132198, -0.1950920426807639, 0.8072746249080459, 0.7191339935489122, 0.2627823994645575, 0.2716123406664341, 0.06509604265191297, 0.24775972951110936, -0.031764637242011964, 0.7222793010970351, -1.0430619181025411, -0.6124268425291312, -0.9574044874482729, -0.8282953516308782, -0.15415791161250897, 0.07323383909711624, 2.0322204253233855, -2.709345784372258, 0.6746943139917259, 1.6003465621504065, -0.5546245562644994, 0.2361100996334074, 0.5135461009704804, 0.6040598602576654, 1.1972841291220075, 0.5364947168111209, 0.051253270889895015, 1.3340314363537538, -1.499837262081371, 1.4553991652504519, 1.847950398899375, 0.1504194495906708, -1.590313598465302, 0.21520617758582, 1.02603310475097, 0.6716755400605747, 1.2976699163750265, -1.3903035976441018, -1.5532971064033823, -0.19222439095544397, -0.8894040710742132, 2.232239911471498, -0.2188573687720621, -0.8279744043641107, -0.6654106718715332, -0.5045060182494511, -0.11565646918786261, -0.6563025933303193, -0.7169847878554301, -0.33206575350661677, -0.45730465975917006, -1.4019649160542775, 0.307032042787555, 1.2999536161020562, 0.6743916762583729], \"yaxis\": \"y7\"}, {\"line\": {\"color\": \"rgba(128, 128, 128, 1.0)\", \"dash\": \"solid\", \"shape\": \"linear\", \"width\": 1.3}, \"marker\": {\"size\": 2, \"symbol\": \"circle\"}, \"mode\": \"markers\", \"name\": \"B\", \"text\": \"\", \"type\": \"scatter\", \"x\": [1.9035873724567771, 0.9424767159878351, 0.7177576140550985, 0.02044278753700372, -1.1279815774088429, -1.7015773156819936, -0.9044139870557208, -1.6174588287651726, -1.1689027313310763, -0.6404651377826653, 0.3304314768869591, 0.3832002511845898, -1.1221992417270812, -0.6878436810546351, 1.4175359611936849, -0.6255067628898198, -0.07932381799453833, -1.0026217568107434, 0.3768846186175386, -0.47297881369821143, 1.3209042209707882, -0.9716227006726936, -1.3271319178685188, 0.24408944374847133, 0.8790061541851925, 0.0735750338232907, 0.0321923052397181, 0.654943738468808, -0.0034610527503854223, 2.2230079619714727, -1.3628441468126884, -0.6034584400011707, -0.22130026864043026, 0.9057975301407415, 1.1264820141748102, -1.3693850981008922, -0.6008605611432628, 0.7954553134069772, 0.6316290222616032, 1.0706196947586943, -0.011710012872178465, -1.706155832964387, -0.46664671066258434, 0.46459287282569633, 0.6085947859192774, -0.6248760000018144, -1.3225581075825943, 1.4216822522034809, 1.2299905107810967, 1.017811497550339, -0.27162596308459397, 0.5344229096515827, 1.2644276707445496, -0.4456595145923994, -0.34176318091132063, 0.9525998868815186, 1.6567790192769374, 0.5275861320878861, 0.03098245144479996, 0.3605531346965227, 0.7547386569858132, 0.45564431772276637, -1.0373106180973466, -0.8106646135481044, -1.0446175823543187, 0.11658607871768786, 0.3172298874444565, 1.6668483465017563, 0.0020469118835838925, -1.074679836754118, 0.06638055840001972, 0.30992379820670507, 1.8953476750016551, -0.042813449087720945, 2.031908121326955, -0.08998646566650483, -0.7676390551546229, 0.2845692651092083, 0.20859153017068754, -1.3262751190632773, -0.19024430392280736, 0.945622925389767, -0.12099717128340479, -0.6119348182338643, 1.373214122049092, 0.8010211229650782, -0.7583998431150829, 1.0946388590416698, 1.5109307097209796, -0.9747911239924799, -0.6052834275765676, -1.2190148605124953, 0.44542411807913146, -0.16883442574082722, -0.90405452975825, -0.01634173273998749, -0.7624608483203248, -0.6380440434789618, 0.012993249942215972, -1.5070538071389876], \"xaxis\": \"x8\", \"y\": [-0.38851389542406467, 1.4555094701878195, -0.49250437347962495, 0.5127069535232905, 0.040541718463032075, 0.16373327279668246, 0.17257081418050907, 0.30546492891383126, 0.46958784039958695, -0.22966083824062747, -2.526885600303071, -0.4847405925891708, 0.45377893892101284, -0.8368013602100006, 0.42772046313745377, -1.738150320282506, -0.8297097197366343, 0.30096605858103315, -0.17828234826613287, -0.6104656125377197, -0.057847804501502786, 0.8075905382876867, -1.0556132374879243, -0.9976931987763373, 2.588386126266256, -0.7780244315000312, -0.4390279271257135, -0.3323260365131081, -0.5029687669751323, 0.9876315856388016, -0.8811506763207766, 1.1919465596099408, -1.3971373000747602, -1.3167293924560757, 0.08151482303535279, -2.396012948031223, -1.5454554866390564, 0.715911814485308, 0.11306587784706669, 0.6871377228556313, 0.1678675167159434, 0.35767472857090465, 1.6343324317472023, 0.7408556906103368, 0.5546661006435808, 1.1705085664132198, -0.1950920426807639, 0.8072746249080459, 0.7191339935489122, 0.2627823994645575, 0.2716123406664341, 0.06509604265191297, 0.24775972951110936, -0.031764637242011964, 0.7222793010970351, -1.0430619181025411, -0.6124268425291312, -0.9574044874482729, -0.8282953516308782, -0.15415791161250897, 0.07323383909711624, 2.0322204253233855, -2.709345784372258, 0.6746943139917259, 1.6003465621504065, -0.5546245562644994, 0.2361100996334074, 0.5135461009704804, 0.6040598602576654, 1.1972841291220075, 0.5364947168111209, 0.051253270889895015, 1.3340314363537538, -1.499837262081371, 1.4553991652504519, 1.847950398899375, 0.1504194495906708, -1.590313598465302, 0.21520617758582, 1.02603310475097, 0.6716755400605747, 1.2976699163750265, -1.3903035976441018, -1.5532971064033823, -0.19222439095544397, -0.8894040710742132, 2.232239911471498, -0.2188573687720621, -0.8279744043641107, -0.6654106718715332, -0.5045060182494511, -0.11565646918786261, -0.6563025933303193, -0.7169847878554301, -0.33206575350661677, -0.45730465975917006, -1.4019649160542775, 0.307032042787555, 1.2999536161020562, 0.6743916762583729], \"yaxis\": \"y8\"}, {\"line\": {\"color\": \"rgba(128, 128, 128, 1.0)\", \"dash\": \"solid\", \"shape\": \"linear\", \"width\": 1.3}, \"marker\": {\"size\": 2, \"symbol\": \"circle\"}, \"mode\": \"markers\", \"name\": \"C\", \"text\": \"\", \"type\": \"scatter\", \"x\": [0.4180077677129555, -0.3128801845689577, -1.2818040073783439, -1.3499561265835542, 0.3039279478452639, 1.1863847742158518, 1.0835583705349823, -0.7651009824722295, -0.004639367372395647, -1.2901800153095841, 0.34194454457201795, 0.2430265819302035, -1.239200746086747, 0.6609179033616308, 1.2215743606359457, 0.22851490960072843, -0.14310895717634575, -0.7341660565469577, 0.36739376263270695, -1.2263587978946202, 1.1341530384801826, 0.28922077570122323, 1.4320291443559363, -0.029762809912246137, 0.38843416039229095, -1.1576502517879128, 1.247029680606232, -0.753455193611879, 0.8454105594040022, -0.48863872395864744, 2.0528279595553722, 1.4216295566716677, 0.3090330341207762, 0.6300780183123109, 0.10737093513874785, 0.905973922917701, -0.2632028533845714, 0.9603295207643638, 1.71454912190604, 0.30076145540589266, -1.158240647754955, -1.555770932461019, -0.5496394055924582, -0.3098464315731358, -0.9269172822170287, 1.4110184848076361, 1.0265506719696467, 0.47315227690793843, 2.673361746975534, -0.6268429927337782, 0.7952441983109597, 0.24673373697834614, 0.11800304997405606, -0.2717307656980959, -1.2949623636338092, 0.46002536031715685, -0.8360662796616206, -0.020453141860388522, 0.09672518557631296, -0.25749844264543464, -0.19748331705545816, -1.67256744411012, 0.16457940230626322, -0.6981315249889456, 0.986887605344953, -1.0208677299390276, 1.5248546268228698, -0.05730817773951274, -0.2809594183508312, 0.2800640292767441, -0.510505088700282, -0.22022306767997035, 2.561078078500293, 0.32638871800881, 0.4211229347119489, 0.4209516549400868, -0.41142404589273535, -1.2027248824404886, -1.0516948271493292, -1.0425706408560913, 0.8509036913952475, -0.5922630060724732, -0.17067372704042816, 0.3863237902458271, -0.3888948052253109, 1.4957478135781743, 0.5039314677195023, -0.5050249482312905, -0.586667783064311, -0.33795302496972407, -0.5985714633089745, 0.3291703972093818, 1.3898555468856857, 0.24688535145149937, -1.5197463024947038, -1.1415198737866825, 0.6905109009733212, -0.6834054293578632, 1.588126304796323, -0.5368967243521588], \"xaxis\": \"x9\", \"y\": [-1.5548971198664823, 0.16076004176469136, 0.38365211920215275, 0.5690187441345403, -0.32387980228073726, -0.6879882203982293, 2.17228274716675, 0.18034727166922518, -0.5544694409729981, -1.7869676808151327, 1.5734761685349372, -0.3275938262407917, 0.6059354603861855, 0.3380638784211195, -0.7025282299628814, -1.7535061108292629, -0.2817342235864836, -0.9332507063514746, 0.34068730604246744, 0.3920694995444077, 1.7164967032968461, -0.5559258945821576, 0.6583770044983814, -0.81641359031972, -0.22728349353793822, -0.05868018453449199, 0.08252693763996004, 1.8549780059929735, 0.951272617955901, 1.616734192023336, 0.5715557002398042, 0.41577979284301253, 0.6609591257248846, -0.5034055320120396, 0.4048042238395531, 0.10291766268351217, 0.015453168506189956, 0.6143178089612366, 2.536098360814724, -1.583499304235178, -1.2995785729135914, 0.9604734337615023, 2.0372092307017446, 0.9013060677804324, 0.08400577433314985, -0.19928395298651444, 0.39361388456957386, 1.9517976016324357, -0.03875745399683904, 0.02537125023711632, -1.9367845642249184, -2.154023228066554, 1.0280095919767904, 1.4007570810843677, -0.6285150476022329, -0.6537667389604715, 2.3261114055947183, -2.827173989186571, 0.9893705271276441, 0.7675389611073868, 0.21945766880972742, -1.0019971109369443, -1.1047431244214116, 0.8295658153020609, -0.04571832559604567, -0.5423232623976562, 0.10153918282634145, 0.7290154762441521, -0.43804437057543066, 0.08973182263719404, 0.9809285807998175, -1.1003185112523015, -2.8061286461565245, -0.2590983357270895, -0.791915671111303, 3.01674581735022, -0.7018061227785953, 0.13439232590575362, 0.6841874322387901, 2.309545547532321, 0.82374583313213, 0.43282087923108364, 0.5479294835482278, 0.6407149207673306, -0.22189636567169257, 0.05646080496771162, -0.35031193224878754, 0.21838480584868908, 0.9724591532271197, 1.9696924218403984, 1.1532337295118351, 0.9026618450366959, 0.43087417541807854, -1.01579492058328, -0.7032899418786179, -0.7109388642256232, 0.04226715991717669, 0.06873957803031885, -0.3187605124781835, -0.6898535537880573], \"yaxis\": \"y9\"}, {\"line\": {\"color\": \"rgba(128, 128, 128, 1.0)\", \"dash\": \"solid\", \"shape\": \"linear\", \"width\": 1.3}, \"marker\": {\"size\": 2, \"symbol\": \"circle\"}, \"mode\": \"markers\", \"name\": \"C\", \"text\": \"\", \"type\": \"scatter\", \"x\": [-0.38851389542406467, 1.4555094701878195, -0.49250437347962495, 0.5127069535232905, 0.040541718463032075, 0.16373327279668246, 0.17257081418050907, 0.30546492891383126, 0.46958784039958695, -0.22966083824062747, -2.526885600303071, -0.4847405925891708, 0.45377893892101284, -0.8368013602100006, 0.42772046313745377, -1.738150320282506, -0.8297097197366343, 0.30096605858103315, -0.17828234826613287, -0.6104656125377197, -0.057847804501502786, 0.8075905382876867, -1.0556132374879243, -0.9976931987763373, 2.588386126266256, -0.7780244315000312, -0.4390279271257135, -0.3323260365131081, -0.5029687669751323, 0.9876315856388016, -0.8811506763207766, 1.1919465596099408, -1.3971373000747602, -1.3167293924560757, 0.08151482303535279, -2.396012948031223, -1.5454554866390564, 0.715911814485308, 0.11306587784706669, 0.6871377228556313, 0.1678675167159434, 0.35767472857090465, 1.6343324317472023, 0.7408556906103368, 0.5546661006435808, 1.1705085664132198, -0.1950920426807639, 0.8072746249080459, 0.7191339935489122, 0.2627823994645575, 0.2716123406664341, 0.06509604265191297, 0.24775972951110936, -0.031764637242011964, 0.7222793010970351, -1.0430619181025411, -0.6124268425291312, -0.9574044874482729, -0.8282953516308782, -0.15415791161250897, 0.07323383909711624, 2.0322204253233855, -2.709345784372258, 0.6746943139917259, 1.6003465621504065, -0.5546245562644994, 0.2361100996334074, 0.5135461009704804, 0.6040598602576654, 1.1972841291220075, 0.5364947168111209, 0.051253270889895015, 1.3340314363537538, -1.499837262081371, 1.4553991652504519, 1.847950398899375, 0.1504194495906708, -1.590313598465302, 0.21520617758582, 1.02603310475097, 0.6716755400605747, 1.2976699163750265, -1.3903035976441018, -1.5532971064033823, -0.19222439095544397, -0.8894040710742132, 2.232239911471498, -0.2188573687720621, -0.8279744043641107, -0.6654106718715332, -0.5045060182494511, -0.11565646918786261, -0.6563025933303193, -0.7169847878554301, -0.33206575350661677, -0.45730465975917006, -1.4019649160542775, 0.307032042787555, 1.2999536161020562, 0.6743916762583729], \"xaxis\": \"x10\", \"y\": [-1.5548971198664823, 0.16076004176469136, 0.38365211920215275, 0.5690187441345403, -0.32387980228073726, -0.6879882203982293, 2.17228274716675, 0.18034727166922518, -0.5544694409729981, -1.7869676808151327, 1.5734761685349372, -0.3275938262407917, 0.6059354603861855, 0.3380638784211195, -0.7025282299628814, -1.7535061108292629, -0.2817342235864836, -0.9332507063514746, 0.34068730604246744, 0.3920694995444077, 1.7164967032968461, -0.5559258945821576, 0.6583770044983814, -0.81641359031972, -0.22728349353793822, -0.05868018453449199, 0.08252693763996004, 1.8549780059929735, 0.951272617955901, 1.616734192023336, 0.5715557002398042, 0.41577979284301253, 0.6609591257248846, -0.5034055320120396, 0.4048042238395531, 0.10291766268351217, 0.015453168506189956, 0.6143178089612366, 2.536098360814724, -1.583499304235178, -1.2995785729135914, 0.9604734337615023, 2.0372092307017446, 0.9013060677804324, 0.08400577433314985, -0.19928395298651444, 0.39361388456957386, 1.9517976016324357, -0.03875745399683904, 0.02537125023711632, -1.9367845642249184, -2.154023228066554, 1.0280095919767904, 1.4007570810843677, -0.6285150476022329, -0.6537667389604715, 2.3261114055947183, -2.827173989186571, 0.9893705271276441, 0.7675389611073868, 0.21945766880972742, -1.0019971109369443, -1.1047431244214116, 0.8295658153020609, -0.04571832559604567, -0.5423232623976562, 0.10153918282634145, 0.7290154762441521, -0.43804437057543066, 0.08973182263719404, 0.9809285807998175, -1.1003185112523015, -2.8061286461565245, -0.2590983357270895, -0.791915671111303, 3.01674581735022, -0.7018061227785953, 0.13439232590575362, 0.6841874322387901, 2.309545547532321, 0.82374583313213, 0.43282087923108364, 0.5479294835482278, 0.6407149207673306, -0.22189636567169257, 0.05646080496771162, -0.35031193224878754, 0.21838480584868908, 0.9724591532271197, 1.9696924218403984, 1.1532337295118351, 0.9026618450366959, 0.43087417541807854, -1.01579492058328, -0.7032899418786179, -0.7109388642256232, 0.04226715991717669, 0.06873957803031885, -0.3187605124781835, -0.6898535537880573], \"yaxis\": \"y10\"}, {\"histfunc\": \"count\", \"histnorm\": \"\", \"marker\": {\"color\": \"rgba(50, 171, 96, 1.0)\", \"line\": {\"color\": \"#4D5663\", \"width\": 1.3}}, \"name\": \"C\", \"nbinsx\": 10, \"opacity\": 0.8, \"orientation\": \"v\", \"type\": \"histogram\", \"x\": [-1.5548971198664823, 0.16076004176469136, 0.38365211920215275, 0.5690187441345403, -0.32387980228073726, -0.6879882203982293, 2.17228274716675, 0.18034727166922518, -0.5544694409729981, -1.7869676808151327, 1.5734761685349372, -0.3275938262407917, 0.6059354603861855, 0.3380638784211195, -0.7025282299628814, -1.7535061108292629, -0.2817342235864836, -0.9332507063514746, 0.34068730604246744, 0.3920694995444077, 1.7164967032968461, -0.5559258945821576, 0.6583770044983814, -0.81641359031972, -0.22728349353793822, -0.05868018453449199, 0.08252693763996004, 1.8549780059929735, 0.951272617955901, 1.616734192023336, 0.5715557002398042, 0.41577979284301253, 0.6609591257248846, -0.5034055320120396, 0.4048042238395531, 0.10291766268351217, 0.015453168506189956, 0.6143178089612366, 2.536098360814724, -1.583499304235178, -1.2995785729135914, 0.9604734337615023, 2.0372092307017446, 0.9013060677804324, 0.08400577433314985, -0.19928395298651444, 0.39361388456957386, 1.9517976016324357, -0.03875745399683904, 0.02537125023711632, -1.9367845642249184, -2.154023228066554, 1.0280095919767904, 1.4007570810843677, -0.6285150476022329, -0.6537667389604715, 2.3261114055947183, -2.827173989186571, 0.9893705271276441, 0.7675389611073868, 0.21945766880972742, -1.0019971109369443, -1.1047431244214116, 0.8295658153020609, -0.04571832559604567, -0.5423232623976562, 0.10153918282634145, 0.7290154762441521, -0.43804437057543066, 0.08973182263719404, 0.9809285807998175, -1.1003185112523015, -2.8061286461565245, -0.2590983357270895, -0.791915671111303, 3.01674581735022, -0.7018061227785953, 0.13439232590575362, 0.6841874322387901, 2.309545547532321, 0.82374583313213, 0.43282087923108364, 0.5479294835482278, 0.6407149207673306, -0.22189636567169257, 0.05646080496771162, -0.35031193224878754, 0.21838480584868908, 0.9724591532271197, 1.9696924218403984, 1.1532337295118351, 0.9026618450366959, 0.43087417541807854, -1.01579492058328, -0.7032899418786179, -0.7109388642256232, 0.04226715991717669, 0.06873957803031885, -0.3187605124781835, -0.6898535537880573], \"xaxis\": \"x11\", \"yaxis\": \"y11\"}, {\"line\": {\"color\": \"rgba(128, 128, 128, 1.0)\", \"dash\": \"solid\", \"shape\": \"linear\", \"width\": 1.3}, \"marker\": {\"size\": 2, \"symbol\": \"circle\"}, \"mode\": \"markers\", \"name\": \"C\", \"text\": \"\", \"type\": \"scatter\", \"x\": [1.9035873724567771, 0.9424767159878351, 0.7177576140550985, 0.02044278753700372, -1.1279815774088429, -1.7015773156819936, -0.9044139870557208, -1.6174588287651726, -1.1689027313310763, -0.6404651377826653, 0.3304314768869591, 0.3832002511845898, -1.1221992417270812, -0.6878436810546351, 1.4175359611936849, -0.6255067628898198, -0.07932381799453833, -1.0026217568107434, 0.3768846186175386, -0.47297881369821143, 1.3209042209707882, -0.9716227006726936, -1.3271319178685188, 0.24408944374847133, 0.8790061541851925, 0.0735750338232907, 0.0321923052397181, 0.654943738468808, -0.0034610527503854223, 2.2230079619714727, -1.3628441468126884, -0.6034584400011707, -0.22130026864043026, 0.9057975301407415, 1.1264820141748102, -1.3693850981008922, -0.6008605611432628, 0.7954553134069772, 0.6316290222616032, 1.0706196947586943, -0.011710012872178465, -1.706155832964387, -0.46664671066258434, 0.46459287282569633, 0.6085947859192774, -0.6248760000018144, -1.3225581075825943, 1.4216822522034809, 1.2299905107810967, 1.017811497550339, -0.27162596308459397, 0.5344229096515827, 1.2644276707445496, -0.4456595145923994, -0.34176318091132063, 0.9525998868815186, 1.6567790192769374, 0.5275861320878861, 0.03098245144479996, 0.3605531346965227, 0.7547386569858132, 0.45564431772276637, -1.0373106180973466, -0.8106646135481044, -1.0446175823543187, 0.11658607871768786, 0.3172298874444565, 1.6668483465017563, 0.0020469118835838925, -1.074679836754118, 0.06638055840001972, 0.30992379820670507, 1.8953476750016551, -0.042813449087720945, 2.031908121326955, -0.08998646566650483, -0.7676390551546229, 0.2845692651092083, 0.20859153017068754, -1.3262751190632773, -0.19024430392280736, 0.945622925389767, -0.12099717128340479, -0.6119348182338643, 1.373214122049092, 0.8010211229650782, -0.7583998431150829, 1.0946388590416698, 1.5109307097209796, -0.9747911239924799, -0.6052834275765676, -1.2190148605124953, 0.44542411807913146, -0.16883442574082722, -0.90405452975825, -0.01634173273998749, -0.7624608483203248, -0.6380440434789618, 0.012993249942215972, -1.5070538071389876], \"xaxis\": \"x12\", \"y\": [-1.5548971198664823, 0.16076004176469136, 0.38365211920215275, 0.5690187441345403, -0.32387980228073726, -0.6879882203982293, 2.17228274716675, 0.18034727166922518, -0.5544694409729981, -1.7869676808151327, 1.5734761685349372, -0.3275938262407917, 0.6059354603861855, 0.3380638784211195, -0.7025282299628814, -1.7535061108292629, -0.2817342235864836, -0.9332507063514746, 0.34068730604246744, 0.3920694995444077, 1.7164967032968461, -0.5559258945821576, 0.6583770044983814, -0.81641359031972, -0.22728349353793822, -0.05868018453449199, 0.08252693763996004, 1.8549780059929735, 0.951272617955901, 1.616734192023336, 0.5715557002398042, 0.41577979284301253, 0.6609591257248846, -0.5034055320120396, 0.4048042238395531, 0.10291766268351217, 0.015453168506189956, 0.6143178089612366, 2.536098360814724, -1.583499304235178, -1.2995785729135914, 0.9604734337615023, 2.0372092307017446, 0.9013060677804324, 0.08400577433314985, -0.19928395298651444, 0.39361388456957386, 1.9517976016324357, -0.03875745399683904, 0.02537125023711632, -1.9367845642249184, -2.154023228066554, 1.0280095919767904, 1.4007570810843677, -0.6285150476022329, -0.6537667389604715, 2.3261114055947183, -2.827173989186571, 0.9893705271276441, 0.7675389611073868, 0.21945766880972742, -1.0019971109369443, -1.1047431244214116, 0.8295658153020609, -0.04571832559604567, -0.5423232623976562, 0.10153918282634145, 0.7290154762441521, -0.43804437057543066, 0.08973182263719404, 0.9809285807998175, -1.1003185112523015, -2.8061286461565245, -0.2590983357270895, -0.791915671111303, 3.01674581735022, -0.7018061227785953, 0.13439232590575362, 0.6841874322387901, 2.309545547532321, 0.82374583313213, 0.43282087923108364, 0.5479294835482278, 0.6407149207673306, -0.22189636567169257, 0.05646080496771162, -0.35031193224878754, 0.21838480584868908, 0.9724591532271197, 1.9696924218403984, 1.1532337295118351, 0.9026618450366959, 0.43087417541807854, -1.01579492058328, -0.7032899418786179, -0.7109388642256232, 0.04226715991717669, 0.06873957803031885, -0.3187605124781835, -0.6898535537880573], \"yaxis\": \"y12\"}, {\"line\": {\"color\": \"rgba(128, 128, 128, 1.0)\", \"dash\": \"solid\", \"shape\": \"linear\", \"width\": 1.3}, \"marker\": {\"size\": 2, \"symbol\": \"circle\"}, \"mode\": \"markers\", \"name\": \"D\", \"text\": \"\", \"type\": \"scatter\", \"x\": [0.4180077677129555, -0.3128801845689577, -1.2818040073783439, -1.3499561265835542, 0.3039279478452639, 1.1863847742158518, 1.0835583705349823, -0.7651009824722295, -0.004639367372395647, -1.2901800153095841, 0.34194454457201795, 0.2430265819302035, -1.239200746086747, 0.6609179033616308, 1.2215743606359457, 0.22851490960072843, -0.14310895717634575, -0.7341660565469577, 0.36739376263270695, -1.2263587978946202, 1.1341530384801826, 0.28922077570122323, 1.4320291443559363, -0.029762809912246137, 0.38843416039229095, -1.1576502517879128, 1.247029680606232, -0.753455193611879, 0.8454105594040022, -0.48863872395864744, 2.0528279595553722, 1.4216295566716677, 0.3090330341207762, 0.6300780183123109, 0.10737093513874785, 0.905973922917701, -0.2632028533845714, 0.9603295207643638, 1.71454912190604, 0.30076145540589266, -1.158240647754955, -1.555770932461019, -0.5496394055924582, -0.3098464315731358, -0.9269172822170287, 1.4110184848076361, 1.0265506719696467, 0.47315227690793843, 2.673361746975534, -0.6268429927337782, 0.7952441983109597, 0.24673373697834614, 0.11800304997405606, -0.2717307656980959, -1.2949623636338092, 0.46002536031715685, -0.8360662796616206, -0.020453141860388522, 0.09672518557631296, -0.25749844264543464, -0.19748331705545816, -1.67256744411012, 0.16457940230626322, -0.6981315249889456, 0.986887605344953, -1.0208677299390276, 1.5248546268228698, -0.05730817773951274, -0.2809594183508312, 0.2800640292767441, -0.510505088700282, -0.22022306767997035, 2.561078078500293, 0.32638871800881, 0.4211229347119489, 0.4209516549400868, -0.41142404589273535, -1.2027248824404886, -1.0516948271493292, -1.0425706408560913, 0.8509036913952475, -0.5922630060724732, -0.17067372704042816, 0.3863237902458271, -0.3888948052253109, 1.4957478135781743, 0.5039314677195023, -0.5050249482312905, -0.586667783064311, -0.33795302496972407, -0.5985714633089745, 0.3291703972093818, 1.3898555468856857, 0.24688535145149937, -1.5197463024947038, -1.1415198737866825, 0.6905109009733212, -0.6834054293578632, 1.588126304796323, -0.5368967243521588], \"xaxis\": \"x13\", \"y\": [1.9035873724567771, 0.9424767159878351, 0.7177576140550985, 0.02044278753700372, -1.1279815774088429, -1.7015773156819936, -0.9044139870557208, -1.6174588287651726, -1.1689027313310763, -0.6404651377826653, 0.3304314768869591, 0.3832002511845898, -1.1221992417270812, -0.6878436810546351, 1.4175359611936849, -0.6255067628898198, -0.07932381799453833, -1.0026217568107434, 0.3768846186175386, -0.47297881369821143, 1.3209042209707882, -0.9716227006726936, -1.3271319178685188, 0.24408944374847133, 0.8790061541851925, 0.0735750338232907, 0.0321923052397181, 0.654943738468808, -0.0034610527503854223, 2.2230079619714727, -1.3628441468126884, -0.6034584400011707, -0.22130026864043026, 0.9057975301407415, 1.1264820141748102, -1.3693850981008922, -0.6008605611432628, 0.7954553134069772, 0.6316290222616032, 1.0706196947586943, -0.011710012872178465, -1.706155832964387, -0.46664671066258434, 0.46459287282569633, 0.6085947859192774, -0.6248760000018144, -1.3225581075825943, 1.4216822522034809, 1.2299905107810967, 1.017811497550339, -0.27162596308459397, 0.5344229096515827, 1.2644276707445496, -0.4456595145923994, -0.34176318091132063, 0.9525998868815186, 1.6567790192769374, 0.5275861320878861, 0.03098245144479996, 0.3605531346965227, 0.7547386569858132, 0.45564431772276637, -1.0373106180973466, -0.8106646135481044, -1.0446175823543187, 0.11658607871768786, 0.3172298874444565, 1.6668483465017563, 0.0020469118835838925, -1.074679836754118, 0.06638055840001972, 0.30992379820670507, 1.8953476750016551, -0.042813449087720945, 2.031908121326955, -0.08998646566650483, -0.7676390551546229, 0.2845692651092083, 0.20859153017068754, -1.3262751190632773, -0.19024430392280736, 0.945622925389767, -0.12099717128340479, -0.6119348182338643, 1.373214122049092, 0.8010211229650782, -0.7583998431150829, 1.0946388590416698, 1.5109307097209796, -0.9747911239924799, -0.6052834275765676, -1.2190148605124953, 0.44542411807913146, -0.16883442574082722, -0.90405452975825, -0.01634173273998749, -0.7624608483203248, -0.6380440434789618, 0.012993249942215972, -1.5070538071389876], \"yaxis\": \"y13\"}, {\"line\": {\"color\": \"rgba(128, 128, 128, 1.0)\", \"dash\": \"solid\", \"shape\": \"linear\", \"width\": 1.3}, \"marker\": {\"size\": 2, \"symbol\": \"circle\"}, \"mode\": \"markers\", \"name\": \"D\", \"text\": \"\", \"type\": \"scatter\", \"x\": [-0.38851389542406467, 1.4555094701878195, -0.49250437347962495, 0.5127069535232905, 0.040541718463032075, 0.16373327279668246, 0.17257081418050907, 0.30546492891383126, 0.46958784039958695, -0.22966083824062747, -2.526885600303071, -0.4847405925891708, 0.45377893892101284, -0.8368013602100006, 0.42772046313745377, -1.738150320282506, -0.8297097197366343, 0.30096605858103315, -0.17828234826613287, -0.6104656125377197, -0.057847804501502786, 0.8075905382876867, -1.0556132374879243, -0.9976931987763373, 2.588386126266256, -0.7780244315000312, -0.4390279271257135, -0.3323260365131081, -0.5029687669751323, 0.9876315856388016, -0.8811506763207766, 1.1919465596099408, -1.3971373000747602, -1.3167293924560757, 0.08151482303535279, -2.396012948031223, -1.5454554866390564, 0.715911814485308, 0.11306587784706669, 0.6871377228556313, 0.1678675167159434, 0.35767472857090465, 1.6343324317472023, 0.7408556906103368, 0.5546661006435808, 1.1705085664132198, -0.1950920426807639, 0.8072746249080459, 0.7191339935489122, 0.2627823994645575, 0.2716123406664341, 0.06509604265191297, 0.24775972951110936, -0.031764637242011964, 0.7222793010970351, -1.0430619181025411, -0.6124268425291312, -0.9574044874482729, -0.8282953516308782, -0.15415791161250897, 0.07323383909711624, 2.0322204253233855, -2.709345784372258, 0.6746943139917259, 1.6003465621504065, -0.5546245562644994, 0.2361100996334074, 0.5135461009704804, 0.6040598602576654, 1.1972841291220075, 0.5364947168111209, 0.051253270889895015, 1.3340314363537538, -1.499837262081371, 1.4553991652504519, 1.847950398899375, 0.1504194495906708, -1.590313598465302, 0.21520617758582, 1.02603310475097, 0.6716755400605747, 1.2976699163750265, -1.3903035976441018, -1.5532971064033823, -0.19222439095544397, -0.8894040710742132, 2.232239911471498, -0.2188573687720621, -0.8279744043641107, -0.6654106718715332, -0.5045060182494511, -0.11565646918786261, -0.6563025933303193, -0.7169847878554301, -0.33206575350661677, -0.45730465975917006, -1.4019649160542775, 0.307032042787555, 1.2999536161020562, 0.6743916762583729], \"xaxis\": \"x14\", \"y\": [1.9035873724567771, 0.9424767159878351, 0.7177576140550985, 0.02044278753700372, -1.1279815774088429, -1.7015773156819936, -0.9044139870557208, -1.6174588287651726, -1.1689027313310763, -0.6404651377826653, 0.3304314768869591, 0.3832002511845898, -1.1221992417270812, -0.6878436810546351, 1.4175359611936849, -0.6255067628898198, -0.07932381799453833, -1.0026217568107434, 0.3768846186175386, -0.47297881369821143, 1.3209042209707882, -0.9716227006726936, -1.3271319178685188, 0.24408944374847133, 0.8790061541851925, 0.0735750338232907, 0.0321923052397181, 0.654943738468808, -0.0034610527503854223, 2.2230079619714727, -1.3628441468126884, -0.6034584400011707, -0.22130026864043026, 0.9057975301407415, 1.1264820141748102, -1.3693850981008922, -0.6008605611432628, 0.7954553134069772, 0.6316290222616032, 1.0706196947586943, -0.011710012872178465, -1.706155832964387, -0.46664671066258434, 0.46459287282569633, 0.6085947859192774, -0.6248760000018144, -1.3225581075825943, 1.4216822522034809, 1.2299905107810967, 1.017811497550339, -0.27162596308459397, 0.5344229096515827, 1.2644276707445496, -0.4456595145923994, -0.34176318091132063, 0.9525998868815186, 1.6567790192769374, 0.5275861320878861, 0.03098245144479996, 0.3605531346965227, 0.7547386569858132, 0.45564431772276637, -1.0373106180973466, -0.8106646135481044, -1.0446175823543187, 0.11658607871768786, 0.3172298874444565, 1.6668483465017563, 0.0020469118835838925, -1.074679836754118, 0.06638055840001972, 0.30992379820670507, 1.8953476750016551, -0.042813449087720945, 2.031908121326955, -0.08998646566650483, -0.7676390551546229, 0.2845692651092083, 0.20859153017068754, -1.3262751190632773, -0.19024430392280736, 0.945622925389767, -0.12099717128340479, -0.6119348182338643, 1.373214122049092, 0.8010211229650782, -0.7583998431150829, 1.0946388590416698, 1.5109307097209796, -0.9747911239924799, -0.6052834275765676, -1.2190148605124953, 0.44542411807913146, -0.16883442574082722, -0.90405452975825, -0.01634173273998749, -0.7624608483203248, -0.6380440434789618, 0.012993249942215972, -1.5070538071389876], \"yaxis\": \"y14\"}, {\"line\": {\"color\": \"rgba(128, 128, 128, 1.0)\", \"dash\": \"solid\", \"shape\": \"linear\", \"width\": 1.3}, \"marker\": {\"size\": 2, \"symbol\": \"circle\"}, \"mode\": \"markers\", \"name\": \"D\", \"text\": \"\", \"type\": \"scatter\", \"x\": [-1.5548971198664823, 0.16076004176469136, 0.38365211920215275, 0.5690187441345403, -0.32387980228073726, -0.6879882203982293, 2.17228274716675, 0.18034727166922518, -0.5544694409729981, -1.7869676808151327, 1.5734761685349372, -0.3275938262407917, 0.6059354603861855, 0.3380638784211195, -0.7025282299628814, -1.7535061108292629, -0.2817342235864836, -0.9332507063514746, 0.34068730604246744, 0.3920694995444077, 1.7164967032968461, -0.5559258945821576, 0.6583770044983814, -0.81641359031972, -0.22728349353793822, -0.05868018453449199, 0.08252693763996004, 1.8549780059929735, 0.951272617955901, 1.616734192023336, 0.5715557002398042, 0.41577979284301253, 0.6609591257248846, -0.5034055320120396, 0.4048042238395531, 0.10291766268351217, 0.015453168506189956, 0.6143178089612366, 2.536098360814724, -1.583499304235178, -1.2995785729135914, 0.9604734337615023, 2.0372092307017446, 0.9013060677804324, 0.08400577433314985, -0.19928395298651444, 0.39361388456957386, 1.9517976016324357, -0.03875745399683904, 0.02537125023711632, -1.9367845642249184, -2.154023228066554, 1.0280095919767904, 1.4007570810843677, -0.6285150476022329, -0.6537667389604715, 2.3261114055947183, -2.827173989186571, 0.9893705271276441, 0.7675389611073868, 0.21945766880972742, -1.0019971109369443, -1.1047431244214116, 0.8295658153020609, -0.04571832559604567, -0.5423232623976562, 0.10153918282634145, 0.7290154762441521, -0.43804437057543066, 0.08973182263719404, 0.9809285807998175, -1.1003185112523015, -2.8061286461565245, -0.2590983357270895, -0.791915671111303, 3.01674581735022, -0.7018061227785953, 0.13439232590575362, 0.6841874322387901, 2.309545547532321, 0.82374583313213, 0.43282087923108364, 0.5479294835482278, 0.6407149207673306, -0.22189636567169257, 0.05646080496771162, -0.35031193224878754, 0.21838480584868908, 0.9724591532271197, 1.9696924218403984, 1.1532337295118351, 0.9026618450366959, 0.43087417541807854, -1.01579492058328, -0.7032899418786179, -0.7109388642256232, 0.04226715991717669, 0.06873957803031885, -0.3187605124781835, -0.6898535537880573], \"xaxis\": \"x15\", \"y\": [1.9035873724567771, 0.9424767159878351, 0.7177576140550985, 0.02044278753700372, -1.1279815774088429, -1.7015773156819936, -0.9044139870557208, -1.6174588287651726, -1.1689027313310763, -0.6404651377826653, 0.3304314768869591, 0.3832002511845898, -1.1221992417270812, -0.6878436810546351, 1.4175359611936849, -0.6255067628898198, -0.07932381799453833, -1.0026217568107434, 0.3768846186175386, -0.47297881369821143, 1.3209042209707882, -0.9716227006726936, -1.3271319178685188, 0.24408944374847133, 0.8790061541851925, 0.0735750338232907, 0.0321923052397181, 0.654943738468808, -0.0034610527503854223, 2.2230079619714727, -1.3628441468126884, -0.6034584400011707, -0.22130026864043026, 0.9057975301407415, 1.1264820141748102, -1.3693850981008922, -0.6008605611432628, 0.7954553134069772, 0.6316290222616032, 1.0706196947586943, -0.011710012872178465, -1.706155832964387, -0.46664671066258434, 0.46459287282569633, 0.6085947859192774, -0.6248760000018144, -1.3225581075825943, 1.4216822522034809, 1.2299905107810967, 1.017811497550339, -0.27162596308459397, 0.5344229096515827, 1.2644276707445496, -0.4456595145923994, -0.34176318091132063, 0.9525998868815186, 1.6567790192769374, 0.5275861320878861, 0.03098245144479996, 0.3605531346965227, 0.7547386569858132, 0.45564431772276637, -1.0373106180973466, -0.8106646135481044, -1.0446175823543187, 0.11658607871768786, 0.3172298874444565, 1.6668483465017563, 0.0020469118835838925, -1.074679836754118, 0.06638055840001972, 0.30992379820670507, 1.8953476750016551, -0.042813449087720945, 2.031908121326955, -0.08998646566650483, -0.7676390551546229, 0.2845692651092083, 0.20859153017068754, -1.3262751190632773, -0.19024430392280736, 0.945622925389767, -0.12099717128340479, -0.6119348182338643, 1.373214122049092, 0.8010211229650782, -0.7583998431150829, 1.0946388590416698, 1.5109307097209796, -0.9747911239924799, -0.6052834275765676, -1.2190148605124953, 0.44542411807913146, -0.16883442574082722, -0.90405452975825, -0.01634173273998749, -0.7624608483203248, -0.6380440434789618, 0.012993249942215972, -1.5070538071389876], \"yaxis\": \"y15\"}, {\"histfunc\": \"count\", \"histnorm\": \"\", \"marker\": {\"color\": \"rgba(128, 0, 128, 1.0)\", \"line\": {\"color\": \"#4D5663\", \"width\": 1.3}}, \"name\": \"D\", \"nbinsx\": 10, \"opacity\": 0.8, \"orientation\": \"v\", \"type\": \"histogram\", \"x\": [1.9035873724567771, 0.9424767159878351, 0.7177576140550985, 0.02044278753700372, -1.1279815774088429, -1.7015773156819936, -0.9044139870557208, -1.6174588287651726, -1.1689027313310763, -0.6404651377826653, 0.3304314768869591, 0.3832002511845898, -1.1221992417270812, -0.6878436810546351, 1.4175359611936849, -0.6255067628898198, -0.07932381799453833, -1.0026217568107434, 0.3768846186175386, -0.47297881369821143, 1.3209042209707882, -0.9716227006726936, -1.3271319178685188, 0.24408944374847133, 0.8790061541851925, 0.0735750338232907, 0.0321923052397181, 0.654943738468808, -0.0034610527503854223, 2.2230079619714727, -1.3628441468126884, -0.6034584400011707, -0.22130026864043026, 0.9057975301407415, 1.1264820141748102, -1.3693850981008922, -0.6008605611432628, 0.7954553134069772, 0.6316290222616032, 1.0706196947586943, -0.011710012872178465, -1.706155832964387, -0.46664671066258434, 0.46459287282569633, 0.6085947859192774, -0.6248760000018144, -1.3225581075825943, 1.4216822522034809, 1.2299905107810967, 1.017811497550339, -0.27162596308459397, 0.5344229096515827, 1.2644276707445496, -0.4456595145923994, -0.34176318091132063, 0.9525998868815186, 1.6567790192769374, 0.5275861320878861, 0.03098245144479996, 0.3605531346965227, 0.7547386569858132, 0.45564431772276637, -1.0373106180973466, -0.8106646135481044, -1.0446175823543187, 0.11658607871768786, 0.3172298874444565, 1.6668483465017563, 0.0020469118835838925, -1.074679836754118, 0.06638055840001972, 0.30992379820670507, 1.8953476750016551, -0.042813449087720945, 2.031908121326955, -0.08998646566650483, -0.7676390551546229, 0.2845692651092083, 0.20859153017068754, -1.3262751190632773, -0.19024430392280736, 0.945622925389767, -0.12099717128340479, -0.6119348182338643, 1.373214122049092, 0.8010211229650782, -0.7583998431150829, 1.0946388590416698, 1.5109307097209796, -0.9747911239924799, -0.6052834275765676, -1.2190148605124953, 0.44542411807913146, -0.16883442574082722, -0.90405452975825, -0.01634173273998749, -0.7624608483203248, -0.6380440434789618, 0.012993249942215972, -1.5070538071389876], \"xaxis\": \"x16\", \"yaxis\": \"y16\"}],\n",
       "                        {\"bargap\": 0.02, \"legend\": {\"bgcolor\": \"#F5F6F9\", \"font\": {\"color\": \"#4D5663\"}}, \"paper_bgcolor\": \"#F5F6F9\", \"plot_bgcolor\": \"#F5F6F9\", \"showlegend\": false, \"template\": {\"data\": {\"bar\": [{\"error_x\": {\"color\": \"#2a3f5f\"}, \"error_y\": {\"color\": \"#2a3f5f\"}, \"marker\": {\"line\": {\"color\": \"#E5ECF6\", \"width\": 0.5}}, \"type\": \"bar\"}], \"barpolar\": [{\"marker\": {\"line\": {\"color\": \"#E5ECF6\", \"width\": 0.5}}, \"type\": \"barpolar\"}], \"carpet\": [{\"aaxis\": {\"endlinecolor\": \"#2a3f5f\", \"gridcolor\": \"white\", \"linecolor\": \"white\", \"minorgridcolor\": \"white\", \"startlinecolor\": \"#2a3f5f\"}, \"baxis\": {\"endlinecolor\": \"#2a3f5f\", \"gridcolor\": \"white\", \"linecolor\": \"white\", \"minorgridcolor\": \"white\", \"startlinecolor\": \"#2a3f5f\"}, \"type\": \"carpet\"}], \"choropleth\": [{\"colorbar\": {\"outlinewidth\": 0, \"ticks\": \"\"}, \"type\": \"choropleth\"}], \"contour\": [{\"colorbar\": {\"outlinewidth\": 0, \"ticks\": \"\"}, \"colorscale\": [[0.0, \"#0d0887\"], [0.1111111111111111, \"#46039f\"], [0.2222222222222222, \"#7201a8\"], [0.3333333333333333, \"#9c179e\"], [0.4444444444444444, \"#bd3786\"], [0.5555555555555556, \"#d8576b\"], [0.6666666666666666, \"#ed7953\"], [0.7777777777777778, \"#fb9f3a\"], [0.8888888888888888, \"#fdca26\"], [1.0, \"#f0f921\"]], \"type\": \"contour\"}], \"contourcarpet\": [{\"colorbar\": {\"outlinewidth\": 0, \"ticks\": \"\"}, \"type\": \"contourcarpet\"}], \"heatmap\": [{\"colorbar\": {\"outlinewidth\": 0, \"ticks\": \"\"}, \"colorscale\": [[0.0, \"#0d0887\"], [0.1111111111111111, \"#46039f\"], [0.2222222222222222, \"#7201a8\"], [0.3333333333333333, \"#9c179e\"], [0.4444444444444444, \"#bd3786\"], [0.5555555555555556, \"#d8576b\"], [0.6666666666666666, \"#ed7953\"], [0.7777777777777778, \"#fb9f3a\"], [0.8888888888888888, \"#fdca26\"], [1.0, \"#f0f921\"]], \"type\": \"heatmap\"}], \"heatmapgl\": [{\"colorbar\": {\"outlinewidth\": 0, \"ticks\": \"\"}, \"colorscale\": [[0.0, \"#0d0887\"], [0.1111111111111111, \"#46039f\"], [0.2222222222222222, \"#7201a8\"], [0.3333333333333333, \"#9c179e\"], [0.4444444444444444, \"#bd3786\"], [0.5555555555555556, \"#d8576b\"], [0.6666666666666666, \"#ed7953\"], [0.7777777777777778, \"#fb9f3a\"], [0.8888888888888888, \"#fdca26\"], [1.0, \"#f0f921\"]], \"type\": \"heatmapgl\"}], \"histogram\": [{\"marker\": {\"colorbar\": {\"outlinewidth\": 0, \"ticks\": \"\"}}, \"type\": \"histogram\"}], \"histogram2d\": [{\"colorbar\": {\"outlinewidth\": 0, \"ticks\": \"\"}, \"colorscale\": [[0.0, \"#0d0887\"], [0.1111111111111111, \"#46039f\"], [0.2222222222222222, \"#7201a8\"], [0.3333333333333333, \"#9c179e\"], [0.4444444444444444, \"#bd3786\"], [0.5555555555555556, \"#d8576b\"], [0.6666666666666666, \"#ed7953\"], [0.7777777777777778, \"#fb9f3a\"], [0.8888888888888888, \"#fdca26\"], [1.0, \"#f0f921\"]], \"type\": \"histogram2d\"}], \"histogram2dcontour\": [{\"colorbar\": {\"outlinewidth\": 0, \"ticks\": \"\"}, \"colorscale\": [[0.0, \"#0d0887\"], [0.1111111111111111, \"#46039f\"], [0.2222222222222222, \"#7201a8\"], [0.3333333333333333, \"#9c179e\"], [0.4444444444444444, \"#bd3786\"], [0.5555555555555556, \"#d8576b\"], [0.6666666666666666, \"#ed7953\"], [0.7777777777777778, \"#fb9f3a\"], [0.8888888888888888, \"#fdca26\"], [1.0, \"#f0f921\"]], \"type\": \"histogram2dcontour\"}], \"mesh3d\": [{\"colorbar\": {\"outlinewidth\": 0, \"ticks\": \"\"}, \"type\": \"mesh3d\"}], \"parcoords\": [{\"line\": {\"colorbar\": {\"outlinewidth\": 0, \"ticks\": \"\"}}, \"type\": \"parcoords\"}], \"pie\": [{\"automargin\": true, \"type\": \"pie\"}], \"scatter\": [{\"marker\": {\"colorbar\": {\"outlinewidth\": 0, \"ticks\": \"\"}}, \"type\": \"scatter\"}], \"scatter3d\": [{\"line\": {\"colorbar\": {\"outlinewidth\": 0, \"ticks\": \"\"}}, \"marker\": {\"colorbar\": {\"outlinewidth\": 0, \"ticks\": \"\"}}, \"type\": \"scatter3d\"}], \"scattercarpet\": [{\"marker\": {\"colorbar\": {\"outlinewidth\": 0, \"ticks\": \"\"}}, \"type\": \"scattercarpet\"}], \"scattergeo\": [{\"marker\": {\"colorbar\": {\"outlinewidth\": 0, \"ticks\": \"\"}}, \"type\": \"scattergeo\"}], \"scattergl\": [{\"marker\": {\"colorbar\": {\"outlinewidth\": 0, \"ticks\": \"\"}}, \"type\": \"scattergl\"}], \"scattermapbox\": [{\"marker\": {\"colorbar\": {\"outlinewidth\": 0, \"ticks\": \"\"}}, \"type\": \"scattermapbox\"}], \"scatterpolar\": [{\"marker\": {\"colorbar\": {\"outlinewidth\": 0, \"ticks\": \"\"}}, \"type\": \"scatterpolar\"}], \"scatterpolargl\": [{\"marker\": {\"colorbar\": {\"outlinewidth\": 0, \"ticks\": \"\"}}, \"type\": \"scatterpolargl\"}], \"scatterternary\": [{\"marker\": {\"colorbar\": {\"outlinewidth\": 0, \"ticks\": \"\"}}, \"type\": \"scatterternary\"}], \"surface\": [{\"colorbar\": {\"outlinewidth\": 0, \"ticks\": \"\"}, \"colorscale\": [[0.0, \"#0d0887\"], [0.1111111111111111, \"#46039f\"], [0.2222222222222222, \"#7201a8\"], [0.3333333333333333, \"#9c179e\"], [0.4444444444444444, \"#bd3786\"], [0.5555555555555556, \"#d8576b\"], [0.6666666666666666, \"#ed7953\"], [0.7777777777777778, \"#fb9f3a\"], [0.8888888888888888, \"#fdca26\"], [1.0, \"#f0f921\"]], \"type\": \"surface\"}], \"table\": [{\"cells\": {\"fill\": {\"color\": \"#EBF0F8\"}, \"line\": {\"color\": \"white\"}}, \"header\": {\"fill\": {\"color\": \"#C8D4E3\"}, \"line\": {\"color\": \"white\"}}, \"type\": \"table\"}]}, \"layout\": {\"annotationdefaults\": {\"arrowcolor\": \"#2a3f5f\", \"arrowhead\": 0, \"arrowwidth\": 1}, \"coloraxis\": {\"colorbar\": {\"outlinewidth\": 0, \"ticks\": \"\"}}, \"colorscale\": {\"diverging\": [[0, \"#8e0152\"], [0.1, \"#c51b7d\"], [0.2, \"#de77ae\"], [0.3, \"#f1b6da\"], [0.4, \"#fde0ef\"], [0.5, \"#f7f7f7\"], [0.6, \"#e6f5d0\"], [0.7, \"#b8e186\"], [0.8, \"#7fbc41\"], [0.9, \"#4d9221\"], [1, \"#276419\"]], \"sequential\": [[0.0, \"#0d0887\"], [0.1111111111111111, \"#46039f\"], [0.2222222222222222, \"#7201a8\"], [0.3333333333333333, \"#9c179e\"], [0.4444444444444444, \"#bd3786\"], [0.5555555555555556, \"#d8576b\"], [0.6666666666666666, \"#ed7953\"], [0.7777777777777778, \"#fb9f3a\"], [0.8888888888888888, \"#fdca26\"], [1.0, \"#f0f921\"]], \"sequentialminus\": [[0.0, \"#0d0887\"], [0.1111111111111111, \"#46039f\"], [0.2222222222222222, \"#7201a8\"], [0.3333333333333333, \"#9c179e\"], [0.4444444444444444, \"#bd3786\"], [0.5555555555555556, \"#d8576b\"], [0.6666666666666666, \"#ed7953\"], [0.7777777777777778, \"#fb9f3a\"], [0.8888888888888888, \"#fdca26\"], [1.0, \"#f0f921\"]]}, \"colorway\": [\"#636efa\", \"#EF553B\", \"#00cc96\", \"#ab63fa\", \"#FFA15A\", \"#19d3f3\", \"#FF6692\", \"#B6E880\", \"#FF97FF\", \"#FECB52\"], \"font\": {\"color\": \"#2a3f5f\"}, \"geo\": {\"bgcolor\": \"white\", \"lakecolor\": \"white\", \"landcolor\": \"#E5ECF6\", \"showlakes\": true, \"showland\": true, \"subunitcolor\": \"white\"}, \"hoverlabel\": {\"align\": \"left\"}, \"hovermode\": \"closest\", \"mapbox\": {\"style\": \"light\"}, \"paper_bgcolor\": \"white\", \"plot_bgcolor\": \"#E5ECF6\", \"polar\": {\"angularaxis\": {\"gridcolor\": \"white\", \"linecolor\": \"white\", \"ticks\": \"\"}, \"bgcolor\": \"#E5ECF6\", \"radialaxis\": {\"gridcolor\": \"white\", \"linecolor\": \"white\", \"ticks\": \"\"}}, \"scene\": {\"xaxis\": {\"backgroundcolor\": \"#E5ECF6\", \"gridcolor\": \"white\", \"gridwidth\": 2, \"linecolor\": \"white\", \"showbackground\": true, \"ticks\": \"\", \"zerolinecolor\": \"white\"}, \"yaxis\": {\"backgroundcolor\": \"#E5ECF6\", \"gridcolor\": \"white\", \"gridwidth\": 2, \"linecolor\": \"white\", \"showbackground\": true, \"ticks\": \"\", \"zerolinecolor\": \"white\"}, \"zaxis\": {\"backgroundcolor\": \"#E5ECF6\", \"gridcolor\": \"white\", \"gridwidth\": 2, \"linecolor\": \"white\", \"showbackground\": true, \"ticks\": \"\", \"zerolinecolor\": \"white\"}}, \"shapedefaults\": {\"line\": {\"color\": \"#2a3f5f\"}}, \"ternary\": {\"aaxis\": {\"gridcolor\": \"white\", \"linecolor\": \"white\", \"ticks\": \"\"}, \"baxis\": {\"gridcolor\": \"white\", \"linecolor\": \"white\", \"ticks\": \"\"}, \"bgcolor\": \"#E5ECF6\", \"caxis\": {\"gridcolor\": \"white\", \"linecolor\": \"white\", \"ticks\": \"\"}}, \"title\": {\"x\": 0.05}, \"xaxis\": {\"automargin\": true, \"gridcolor\": \"white\", \"linecolor\": \"white\", \"ticks\": \"\", \"title\": {\"standoff\": 15}, \"zerolinecolor\": \"white\", \"zerolinewidth\": 2}, \"yaxis\": {\"automargin\": true, \"gridcolor\": \"white\", \"linecolor\": \"white\", \"ticks\": \"\", \"title\": {\"standoff\": 15}, \"zerolinecolor\": \"white\", \"zerolinewidth\": 2}}}, \"title\": {\"font\": {\"color\": \"#4D5663\"}}, \"xaxis\": {\"anchor\": \"y\", \"domain\": [0.0, 0.2125], \"gridcolor\": \"#E1E5ED\", \"showgrid\": false, \"tickfont\": {\"color\": \"#4D5663\"}, \"title\": {\"font\": {\"color\": \"#4D5663\"}, \"text\": \"\"}, \"zerolinecolor\": \"#E1E5ED\"}, \"xaxis10\": {\"anchor\": \"y10\", \"domain\": [0.2625, 0.475], \"gridcolor\": \"#E1E5ED\", \"showgrid\": false, \"tickfont\": {\"color\": \"#4D5663\"}, \"title\": {\"font\": {\"color\": \"#4D5663\"}, \"text\": \"\"}, \"zerolinecolor\": \"#E1E5ED\"}, \"xaxis11\": {\"anchor\": \"y11\", \"domain\": [0.525, 0.7375], \"gridcolor\": \"#E1E5ED\", \"showgrid\": false, \"tickfont\": {\"color\": \"#4D5663\"}, \"title\": {\"font\": {\"color\": \"#4D5663\"}, \"text\": \"\"}, \"zerolinecolor\": \"#E1E5ED\"}, \"xaxis12\": {\"anchor\": \"y12\", \"domain\": [0.7875, 1.0], \"gridcolor\": \"#E1E5ED\", \"showgrid\": false, \"tickfont\": {\"color\": \"#4D5663\"}, \"title\": {\"font\": {\"color\": \"#4D5663\"}, \"text\": \"\"}, \"zerolinecolor\": \"#E1E5ED\"}, \"xaxis13\": {\"anchor\": \"y13\", \"domain\": [0.0, 0.2125], \"gridcolor\": \"#E1E5ED\", \"showgrid\": false, \"tickfont\": {\"color\": \"#4D5663\"}, \"title\": {\"font\": {\"color\": \"#4D5663\"}, \"text\": \"\"}, \"zerolinecolor\": \"#E1E5ED\"}, \"xaxis14\": {\"anchor\": \"y14\", \"domain\": [0.2625, 0.475], \"gridcolor\": \"#E1E5ED\", \"showgrid\": false, \"tickfont\": {\"color\": \"#4D5663\"}, \"title\": {\"font\": {\"color\": \"#4D5663\"}, \"text\": \"\"}, \"zerolinecolor\": \"#E1E5ED\"}, \"xaxis15\": {\"anchor\": \"y15\", \"domain\": [0.525, 0.7375], \"gridcolor\": \"#E1E5ED\", \"showgrid\": false, \"tickfont\": {\"color\": \"#4D5663\"}, \"title\": {\"font\": {\"color\": \"#4D5663\"}, \"text\": \"\"}, \"zerolinecolor\": \"#E1E5ED\"}, \"xaxis16\": {\"anchor\": \"y16\", \"domain\": [0.7875, 1.0], \"gridcolor\": \"#E1E5ED\", \"showgrid\": false, \"tickfont\": {\"color\": \"#4D5663\"}, \"title\": {\"font\": {\"color\": \"#4D5663\"}, \"text\": \"\"}, \"zerolinecolor\": \"#E1E5ED\"}, \"xaxis2\": {\"anchor\": \"y2\", \"domain\": [0.2625, 0.475], \"gridcolor\": \"#E1E5ED\", \"showgrid\": false, \"tickfont\": {\"color\": \"#4D5663\"}, \"title\": {\"font\": {\"color\": \"#4D5663\"}, \"text\": \"\"}, \"zerolinecolor\": \"#E1E5ED\"}, \"xaxis3\": {\"anchor\": \"y3\", \"domain\": [0.525, 0.7375], \"gridcolor\": \"#E1E5ED\", \"showgrid\": false, \"tickfont\": {\"color\": \"#4D5663\"}, \"title\": {\"font\": {\"color\": \"#4D5663\"}, \"text\": \"\"}, \"zerolinecolor\": \"#E1E5ED\"}, \"xaxis4\": {\"anchor\": \"y4\", \"domain\": [0.7875, 1.0], \"gridcolor\": \"#E1E5ED\", \"showgrid\": false, \"tickfont\": {\"color\": \"#4D5663\"}, \"title\": {\"font\": {\"color\": \"#4D5663\"}, \"text\": \"\"}, \"zerolinecolor\": \"#E1E5ED\"}, \"xaxis5\": {\"anchor\": \"y5\", \"domain\": [0.0, 0.2125], \"gridcolor\": \"#E1E5ED\", \"showgrid\": false, \"tickfont\": {\"color\": \"#4D5663\"}, \"title\": {\"font\": {\"color\": \"#4D5663\"}, \"text\": \"\"}, \"zerolinecolor\": \"#E1E5ED\"}, \"xaxis6\": {\"anchor\": \"y6\", \"domain\": [0.2625, 0.475], \"gridcolor\": \"#E1E5ED\", \"showgrid\": false, \"tickfont\": {\"color\": \"#4D5663\"}, \"title\": {\"font\": {\"color\": \"#4D5663\"}, \"text\": \"\"}, \"zerolinecolor\": \"#E1E5ED\"}, \"xaxis7\": {\"anchor\": \"y7\", \"domain\": [0.525, 0.7375], \"gridcolor\": \"#E1E5ED\", \"showgrid\": false, \"tickfont\": {\"color\": \"#4D5663\"}, \"title\": {\"font\": {\"color\": \"#4D5663\"}, \"text\": \"\"}, \"zerolinecolor\": \"#E1E5ED\"}, \"xaxis8\": {\"anchor\": \"y8\", \"domain\": [0.7875, 1.0], \"gridcolor\": \"#E1E5ED\", \"showgrid\": false, \"tickfont\": {\"color\": \"#4D5663\"}, \"title\": {\"font\": {\"color\": \"#4D5663\"}, \"text\": \"\"}, \"zerolinecolor\": \"#E1E5ED\"}, \"xaxis9\": {\"anchor\": \"y9\", \"domain\": [0.0, 0.2125], \"gridcolor\": \"#E1E5ED\", \"showgrid\": false, \"tickfont\": {\"color\": \"#4D5663\"}, \"title\": {\"font\": {\"color\": \"#4D5663\"}, \"text\": \"\"}, \"zerolinecolor\": \"#E1E5ED\"}, \"yaxis\": {\"anchor\": \"x\", \"domain\": [0.8025, 1.0], \"gridcolor\": \"#E1E5ED\", \"showgrid\": false, \"tickfont\": {\"color\": \"#4D5663\"}, \"title\": {\"font\": {\"color\": \"#4D5663\"}, \"text\": \"\"}, \"zerolinecolor\": \"#E1E5ED\"}, \"yaxis10\": {\"anchor\": \"x10\", \"domain\": [0.2675, 0.465], \"gridcolor\": \"#E1E5ED\", \"showgrid\": false, \"tickfont\": {\"color\": \"#4D5663\"}, \"title\": {\"font\": {\"color\": \"#4D5663\"}, \"text\": \"\"}, \"zerolinecolor\": \"#E1E5ED\"}, \"yaxis11\": {\"anchor\": \"x11\", \"domain\": [0.2675, 0.465], \"gridcolor\": \"#E1E5ED\", \"showgrid\": false, \"tickfont\": {\"color\": \"#4D5663\"}, \"title\": {\"font\": {\"color\": \"#4D5663\"}, \"text\": \"\"}, \"zerolinecolor\": \"#E1E5ED\"}, \"yaxis12\": {\"anchor\": \"x12\", \"domain\": [0.2675, 0.465], \"gridcolor\": \"#E1E5ED\", \"showgrid\": false, \"tickfont\": {\"color\": \"#4D5663\"}, \"title\": {\"font\": {\"color\": \"#4D5663\"}, \"text\": \"\"}, \"zerolinecolor\": \"#E1E5ED\"}, \"yaxis13\": {\"anchor\": \"x13\", \"domain\": [0.0, 0.1975], \"gridcolor\": \"#E1E5ED\", \"showgrid\": false, \"tickfont\": {\"color\": \"#4D5663\"}, \"title\": {\"font\": {\"color\": \"#4D5663\"}, \"text\": \"\"}, \"zerolinecolor\": \"#E1E5ED\"}, \"yaxis14\": {\"anchor\": \"x14\", \"domain\": [0.0, 0.1975], \"gridcolor\": \"#E1E5ED\", \"showgrid\": false, \"tickfont\": {\"color\": \"#4D5663\"}, \"title\": {\"font\": {\"color\": \"#4D5663\"}, \"text\": \"\"}, \"zerolinecolor\": \"#E1E5ED\"}, \"yaxis15\": {\"anchor\": \"x15\", \"domain\": [0.0, 0.1975], \"gridcolor\": \"#E1E5ED\", \"showgrid\": false, \"tickfont\": {\"color\": \"#4D5663\"}, \"title\": {\"font\": {\"color\": \"#4D5663\"}, \"text\": \"\"}, \"zerolinecolor\": \"#E1E5ED\"}, \"yaxis16\": {\"anchor\": \"x16\", \"domain\": [0.0, 0.1975], \"gridcolor\": \"#E1E5ED\", \"showgrid\": false, \"tickfont\": {\"color\": \"#4D5663\"}, \"title\": {\"font\": {\"color\": \"#4D5663\"}, \"text\": \"\"}, \"zerolinecolor\": \"#E1E5ED\"}, \"yaxis2\": {\"anchor\": \"x2\", \"domain\": [0.8025, 1.0], \"gridcolor\": \"#E1E5ED\", \"showgrid\": false, \"tickfont\": {\"color\": \"#4D5663\"}, \"title\": {\"font\": {\"color\": \"#4D5663\"}, \"text\": \"\"}, \"zerolinecolor\": \"#E1E5ED\"}, \"yaxis3\": {\"anchor\": \"x3\", \"domain\": [0.8025, 1.0], \"gridcolor\": \"#E1E5ED\", \"showgrid\": false, \"tickfont\": {\"color\": \"#4D5663\"}, \"title\": {\"font\": {\"color\": \"#4D5663\"}, \"text\": \"\"}, \"zerolinecolor\": \"#E1E5ED\"}, \"yaxis4\": {\"anchor\": \"x4\", \"domain\": [0.8025, 1.0], \"gridcolor\": \"#E1E5ED\", \"showgrid\": false, \"tickfont\": {\"color\": \"#4D5663\"}, \"title\": {\"font\": {\"color\": \"#4D5663\"}, \"text\": \"\"}, \"zerolinecolor\": \"#E1E5ED\"}, \"yaxis5\": {\"anchor\": \"x5\", \"domain\": [0.535, 0.7325], \"gridcolor\": \"#E1E5ED\", \"showgrid\": false, \"tickfont\": {\"color\": \"#4D5663\"}, \"title\": {\"font\": {\"color\": \"#4D5663\"}, \"text\": \"\"}, \"zerolinecolor\": \"#E1E5ED\"}, \"yaxis6\": {\"anchor\": \"x6\", \"domain\": [0.535, 0.7325], \"gridcolor\": \"#E1E5ED\", \"showgrid\": false, \"tickfont\": {\"color\": \"#4D5663\"}, \"title\": {\"font\": {\"color\": \"#4D5663\"}, \"text\": \"\"}, \"zerolinecolor\": \"#E1E5ED\"}, \"yaxis7\": {\"anchor\": \"x7\", \"domain\": [0.535, 0.7325], \"gridcolor\": \"#E1E5ED\", \"showgrid\": false, \"tickfont\": {\"color\": \"#4D5663\"}, \"title\": {\"font\": {\"color\": \"#4D5663\"}, \"text\": \"\"}, \"zerolinecolor\": \"#E1E5ED\"}, \"yaxis8\": {\"anchor\": \"x8\", \"domain\": [0.535, 0.7325], \"gridcolor\": \"#E1E5ED\", \"showgrid\": false, \"tickfont\": {\"color\": \"#4D5663\"}, \"title\": {\"font\": {\"color\": \"#4D5663\"}, \"text\": \"\"}, \"zerolinecolor\": \"#E1E5ED\"}, \"yaxis9\": {\"anchor\": \"x9\", \"domain\": [0.2675, 0.465], \"gridcolor\": \"#E1E5ED\", \"showgrid\": false, \"tickfont\": {\"color\": \"#4D5663\"}, \"title\": {\"font\": {\"color\": \"#4D5663\"}, \"text\": \"\"}, \"zerolinecolor\": \"#E1E5ED\"}},\n",
       "                        {\"showLink\": true, \"linkText\": \"Export to plot.ly\", \"plotlyServerURL\": \"https://plot.ly\", \"responsive\": true}\n",
       "                    ).then(function(){\n",
       "                            \n",
       "var gd = document.getElementById('c9a8ab76-f405-4b4e-8c3d-60f8802354e2');\n",
       "var x = new MutationObserver(function (mutations, observer) {{\n",
       "        var display = window.getComputedStyle(gd).display;\n",
       "        if (!display || display === 'none') {{\n",
       "            console.log([gd, 'removed!']);\n",
       "            Plotly.purge(gd);\n",
       "            observer.disconnect();\n",
       "        }}\n",
       "}});\n",
       "\n",
       "// Listen for the removal of the full notebook cells\n",
       "var notebookContainer = gd.closest('#notebook-container');\n",
       "if (notebookContainer) {{\n",
       "    x.observe(notebookContainer, {childList: true});\n",
       "}}\n",
       "\n",
       "// Listen for the clearing of the current output cell\n",
       "var outputEl = gd.closest('.output');\n",
       "if (outputEl) {{\n",
       "    x.observe(outputEl, {childList: true});\n",
       "}}\n",
       "\n",
       "                        })\n",
       "                };\n",
       "                });\n",
       "            </script>\n",
       "        </div>"
      ]
     },
     "metadata": {},
     "output_type": "display_data"
    }
   ],
   "source": [
    "df.scatter_matrix()"
   ]
  },
  {
   "cell_type": "markdown",
   "metadata": {},
   "source": [
    "# Great Job!"
   ]
  }
 ],
 "metadata": {
  "kernelspec": {
   "display_name": "Python 3",
   "language": "python",
   "name": "python3"
  },
  "language_info": {
   "codemirror_mode": {
    "name": "ipython",
    "version": 3
   },
   "file_extension": ".py",
   "mimetype": "text/x-python",
   "name": "python",
   "nbconvert_exporter": "python",
   "pygments_lexer": "ipython3",
   "version": "3.7.3"
  }
 },
 "nbformat": 4,
 "nbformat_minor": 4
}
